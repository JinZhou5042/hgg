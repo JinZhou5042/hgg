{
 "cells": [
  {
   "cell_type": "code",
   "execution_count": 1,
   "id": "9ed4d440",
   "metadata": {
    "editable": true,
    "slideshow": {
     "slide_type": ""
    },
    "tags": []
   },
   "outputs": [],
   "source": [
    "# import torch\n",
    "# import torch.nn as nn\n",
    "import pandas as pd\n",
    "import matplotlib.pyplot as plt\n",
    "from sklearn.model_selection import train_test_split\n",
    "from sklearn.preprocessing import StandardScaler\n",
    "# import dask\n",
    "# import dask.dataframe as ddf\n",
    "import numpy as np\n",
    "import awkward as ak\n",
    "from tqdm import tqdm\n",
    "import pickle\n",
    "import pandas as pd"
   ]
  },
  {
   "cell_type": "code",
   "execution_count": 2,
   "id": "3dbb41d4",
   "metadata": {},
   "outputs": [],
   "source": [
    "# device = (\n",
    "#     \"cuda\"\n",
    "#     if torch.cuda.is_available()\n",
    "#     else \"mps\"\n",
    "#     if torch.backends.mps.is_available()\n",
    "#     else \"cpu\"\n",
    "# )\n",
    "# print(f\"Using {device} device\")"
   ]
  },
  {
   "cell_type": "code",
   "execution_count": 2,
   "id": "143ce0ae",
   "metadata": {},
   "outputs": [],
   "source": [
    "with open('/project01/ndcms/cmoore24/skims/full_fatjet_skims/separate_vars/signal_vars.pkl', 'rb') as f:\n",
    "    signal = pickle.load(f)"
   ]
  },
  {
   "cell_type": "code",
   "execution_count": 3,
   "id": "ce36da6f",
   "metadata": {},
   "outputs": [],
   "source": [
    "hgg = signal['hgg']\n",
    "hbb = signal['hbb']"
   ]
  },
  {
   "cell_type": "code",
   "execution_count": 4,
   "id": "92cfd9fd",
   "metadata": {},
   "outputs": [],
   "source": [
    "# with open('/project01/ndcms/cmoore24/skims/full_fatjet_skims/separate_vars/qcd_vars.pkl', 'rb') as f:\n",
    "#     background = pickle.load(f)"
   ]
  },
  {
   "cell_type": "code",
   "execution_count": 5,
   "id": "169521e5-ecb9-4093-a513-3882910fa205",
   "metadata": {
    "editable": true,
    "slideshow": {
     "slide_type": ""
    },
    "tags": []
   },
   "outputs": [],
   "source": [
    "#qcd = pd.read_pickle('/project01/ndcms/cmoore24/skims/full_fatjet_skims/separate_vars/qcd_vars.pkl')\n",
    "qcd = pd.read_pickle('./combed_qcd.pkl')"
   ]
  },
  {
   "cell_type": "code",
   "execution_count": 6,
   "id": "2153048a-84db-4fdf-9d57-ad4853499e76",
   "metadata": {},
   "outputs": [],
   "source": [
    "vars = list(qcd['300to470'].keys())"
   ]
  },
  {
   "cell_type": "code",
   "execution_count": 7,
   "id": "de66637e-8855-45d1-b8db-475c0f2d7b29",
   "metadata": {},
   "outputs": [],
   "source": [
    "IL = 44.99"
   ]
  },
  {
   "cell_type": "code",
   "execution_count": 8,
   "id": "8fd33901-1046-4549-8b1b-075620a38616",
   "metadata": {},
   "outputs": [],
   "source": [
    "xsec = {}\n",
    "xsec['300to470'] = 6833\n",
    "xsec['470to600'] = 549.5\n",
    "xsec['600to800'] = 156.5\n",
    "xsec['800to1000'] = 26.22\n",
    "xsec['1000to1400'] = 7.475\n",
    "xsec['1400to1800'] = 0.6482\n",
    "xsec['1800to2400'] = 0.08742\n",
    "xsec['2400to3200'] = 0.005237\n",
    "xsec['3200toInf'] = 0.0001353"
   ]
  },
  {
   "cell_type": "code",
   "execution_count": 59,
   "id": "2d87dad1-c490-4826-94b8-b0a74fc90d54",
   "metadata": {},
   "outputs": [],
   "source": [
    "stitched_dict = {}\n",
    "for j in vars:\n",
    "    qcd_frac = {}\n",
    "    for i in qcd:\n",
    "        qcd_frac[i] = ((xsec[i]*1000)*IL)/len(qcd[i][j])\n",
    "    qcd_frac['tot'] = sum(qcd_frac.values())\n",
    "    sval = {}\n",
    "    for i in qcd:\n",
    "        sval[i] = qcd_frac[i]/qcd_frac['tot']\n",
    "    combed = {}\n",
    "    for i in qcd:\n",
    "        temp = qcd[i][j]\n",
    "        combed[i] = temp[np.random.rand(temp.shape[0]) < sval[i]]\n",
    "    stitched_var = np.concatenate([combed[x] for x in combed])\n",
    "    stitched_dict[j] = stitched_var"
   ]
  },
  {
   "cell_type": "code",
   "execution_count": 16,
   "id": "912392ba-3532-4eca-be6f-f79601db44c2",
   "metadata": {},
   "outputs": [
    {
     "data": {
      "image/png": "[encoded data removed]",
      "text/plain": [
       "<Figure size 640x480 with 1 Axes>"
      ]
     },
     "metadata": {},
     "output_type": "display_data"
    }
   ],
   "source": [
    "fig, ax = plt.subplots()\n",
    "plt.hist(qcd['FatJets.color_ring'], range=(1.5,5), bins=75, density=True, histtype='step', label='QCD',#weights=21*np.ones_like(tst)\n",
    "        )\n",
    "plt.hist(hgg['FatJets.color_ring'], range=(1.5,5), bins=75, density=True, histtype='step', label='Signal',#weights=21*np.ones_like(tst)\n",
    "        )\n",
    "plt.legend()\n",
    "#plt.yscale('log')\n",
    "#plt.xlim(100, 5000)\n",
    "plt.show()"
   ]
  },
  {
   "cell_type": "code",
   "execution_count": 83,
   "id": "b789c770-c187-4af4-9b4a-de7200708916",
   "metadata": {},
   "outputs": [
    {
     "data": {
      "image/png": "[encoded data removed]",
      "text/plain": [
       "<Figure size 640x480 with 1 Axes>"
      ]
     },
     "metadata": {},
     "output_type": "display_data"
    }
   ],
   "source": [
    "fig, ax = plt.subplots()\n",
    "plt.hist(hbb['FatJets.pt'], range=(0,5000), bins=75, #density=True, #weights=21*np.ones_like(tst)\n",
    "        )\n",
    "plt.yscale('log')\n",
    "#plt.xlim(100, 5000)\n",
    "plt.show()"
   ]
  },
  {
   "cell_type": "code",
   "execution_count": 84,
   "id": "10cf4f43-1ae8-4c05-bbbe-758fd74b9252",
   "metadata": {},
   "outputs": [],
   "source": [
    "with open('combed_qcd.pkl', 'wb') as f:\n",
    "    pickle.dump(stitched_dict, f)"
   ]
  },
  {
   "cell_type": "code",
   "execution_count": null,
   "id": "498468ec-41d1-49e3-b74a-731ae8a45bf5",
   "metadata": {},
   "outputs": [],
   "source": []
  }
 ],
 "metadata": {
  "kernelspec": {
   "display_name": "Python 3 (ipykernel)",
   "language": "python",
   "name": "python3"
  },
  "language_info": {
   "codemirror_mode": {
    "name": "ipython",
    "version": 3
   },
   "file_extension": ".py",
   "mimetype": "text/x-python",
   "name": "python",
   "nbconvert_exporter": "python",
   "pygments_lexer": "ipython3",
   "version": "3.10.13"
  }
 },
 "nbformat": 4,
 "nbformat_minor": 5
}
