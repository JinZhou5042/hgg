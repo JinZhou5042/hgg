{
 "cells": [
  {
   "cell_type": "code",
   "execution_count": 1,
   "id": "f7c9d6e8-8272-4e21-b5c3-5244cc11be56",
   "metadata": {},
   "outputs": [],
   "source": [
    "import awkward as ak\n",
    "import json\n",
    "import pandas as pd\n",
    "import numpy as np\n",
    "import pickle"
   ]
  },
  {
   "cell_type": "code",
   "execution_count": 2,
   "id": "321eafaf-a813-497e-9e57-2ea32c898b34",
   "metadata": {},
   "outputs": [],
   "source": [
    "with open('ecf_results_equal.json', 'r') as f:\n",
    "    metrics = json.load(f)"
   ]
  },
  {
   "cell_type": "code",
   "execution_count": 3,
   "id": "3b34fc0c-8314-44d2-a508-c8e97b7e2476",
   "metadata": {},
   "outputs": [],
   "source": [
    "metrics = pd.DataFrame(metrics)"
   ]
  },
  {
   "cell_type": "code",
   "execution_count": 4,
   "id": "7e9e895f-1acc-4667-983f-163f9a4e3a23",
   "metadata": {},
   "outputs": [],
   "source": [
    "metrics = metrics.loc[:, metrics.columns[(metrics.loc['roc_auc'] >= 0.7)]]\n",
    "# metrics = metrics.loc[:, metrics.columns[(metrics.loc['roc_auc'] <= 0.7)]]"
   ]
  },
  {
   "cell_type": "code",
   "execution_count": 129,
   "id": "382169f9-992b-441a-9acf-021abcbd2f2e",
   "metadata": {},
   "outputs": [],
   "source": [
    "metrics = metrics.loc[:, metrics.columns[(metrics.loc['sculpt_metric'] <= 0.01)]]\n",
    "# metrics = metrics.loc[:, metrics.columns[(metrics.loc['sculpt_metric'] >= 0.00001)]]"
   ]
  },
  {
   "cell_type": "code",
   "execution_count": 130,
   "id": "7291daf0-4366-4839-a405-5d110ba28925",
   "metadata": {
    "scrolled": true
   },
   "outputs": [
    {
     "data": {
      "text/plain": [
       "0.66704184"
      ]
     },
     "execution_count": 130,
     "metadata": {},
     "output_type": "execute_result"
    }
   ],
   "source": [
    "max(metrics.iloc[0, :].to_numpy(dtype='float32'))"
   ]
  },
  {
   "cell_type": "code",
   "execution_count": 131,
   "id": "8db4b12e-78d3-45fa-9928-9a8720ebafd8",
   "metadata": {},
   "outputs": [
    {
     "data": {
      "text/plain": [
       "5"
      ]
     },
     "execution_count": 131,
     "metadata": {},
     "output_type": "execute_result"
    }
   ],
   "source": [
    "len(metrics.iloc[1, :].to_numpy(dtype='float32'))"
   ]
  },
  {
   "cell_type": "code",
   "execution_count": 5,
   "id": "f489c501-db3f-4fa1-99cd-311161a56c92",
   "metadata": {},
   "outputs": [
    {
     "data": {
      "text/html": [
       "<div>\n",
       "<style scoped>\n",
       "    .dataframe tbody tr th:only-of-type {\n",
       "        vertical-align: middle;\n",
       "    }\n",
       "\n",
       "    .dataframe tbody tr th {\n",
       "        vertical-align: top;\n",
       "    }\n",
       "\n",
       "    .dataframe thead th {\n",
       "        text-align: right;\n",
       "    }\n",
       "</style>\n",
       "<table border=\"1\" class=\"dataframe\">\n",
       "  <thead>\n",
       "    <tr style=\"text-align: right;\">\n",
       "      <th></th>\n",
       "      <th>1e5^1.5/2e5^0.5**1.5</th>\n",
       "      <th>2e5^0.5/1e5^1.5**0.6666666666666666</th>\n",
       "      <th>2e5^1.0/3e5^0.5**1.3333333333333333</th>\n",
       "      <th>3e5^0.5/2e5^1.0**0.75</th>\n",
       "    </tr>\n",
       "  </thead>\n",
       "  <tbody>\n",
       "    <tr>\n",
       "      <th>roc_auc</th>\n",
       "      <td>0.703889</td>\n",
       "      <td>0.703889</td>\n",
       "      <td>0.701375</td>\n",
       "      <td>0.701375</td>\n",
       "    </tr>\n",
       "    <tr>\n",
       "      <th>sculpt_metric</th>\n",
       "      <td>0.274476</td>\n",
       "      <td>0.276359</td>\n",
       "      <td>0.239693</td>\n",
       "      <td>0.246770</td>\n",
       "    </tr>\n",
       "    <tr>\n",
       "      <th>s_sb</th>\n",
       "      <td>NaN</td>\n",
       "      <td>NaN</td>\n",
       "      <td>0.016809</td>\n",
       "      <td>0.013265</td>\n",
       "    </tr>\n",
       "  </tbody>\n",
       "</table>\n",
       "</div>"
      ],
      "text/plain": [
       "               1e5^1.5/2e5^0.5**1.5  2e5^0.5/1e5^1.5**0.6666666666666666  \\\n",
       "roc_auc                    0.703889                             0.703889   \n",
       "sculpt_metric              0.274476                             0.276359   \n",
       "s_sb                            NaN                                  NaN   \n",
       "\n",
       "               2e5^1.0/3e5^0.5**1.3333333333333333  3e5^0.5/2e5^1.0**0.75  \n",
       "roc_auc                                   0.701375               0.701375  \n",
       "sculpt_metric                             0.239693               0.246770  \n",
       "s_sb                                      0.016809               0.013265  "
      ]
     },
     "execution_count": 5,
     "metadata": {},
     "output_type": "execute_result"
    }
   ],
   "source": [
    "metrics"
   ]
  },
  {
   "cell_type": "code",
   "execution_count": null,
   "id": "c5cf1b46-57fa-457f-b79b-378465265ab3",
   "metadata": {},
   "outputs": [],
   "source": []
  },
  {
   "cell_type": "code",
   "execution_count": null,
   "id": "8d71efb8-a626-4fc3-b07e-7d4b8848c13d",
   "metadata": {},
   "outputs": [],
   "source": []
  },
  {
   "cell_type": "code",
   "execution_count": null,
   "id": "101e462e-14c5-40d8-8b64-f4ab861b8076",
   "metadata": {},
   "outputs": [],
   "source": []
  },
  {
   "cell_type": "code",
   "execution_count": null,
   "id": "b2e59859-c5d1-4fcf-8409-125247946a3b",
   "metadata": {},
   "outputs": [],
   "source": []
  },
  {
   "cell_type": "code",
   "execution_count": null,
   "id": "6f288d6e-9e62-40b1-a365-906457e3392f",
   "metadata": {},
   "outputs": [],
   "source": []
  },
  {
   "cell_type": "code",
   "execution_count": null,
   "id": "5a2709eb-d9e4-429d-bb88-6d69f05a5625",
   "metadata": {},
   "outputs": [],
   "source": []
  },
  {
   "cell_type": "code",
   "execution_count": null,
   "id": "e60d476b-e10b-4c97-a531-d2c84c29cebf",
   "metadata": {},
   "outputs": [],
   "source": []
  },
  {
   "cell_type": "code",
   "execution_count": null,
   "id": "b17e9795-c5f9-414b-89f8-eca4ef29bf93",
   "metadata": {},
   "outputs": [],
   "source": []
  },
  {
   "cell_type": "code",
   "execution_count": 355,
   "id": "7f3e5c08-77fb-4106-9f99-f7f98c6e4a05",
   "metadata": {},
   "outputs": [],
   "source": [
    "ratio_counts = {}\n",
    "ratio_counts['54'] = 0\n",
    "ratio_counts['53'] = 0\n",
    "ratio_counts['52'] = 0\n",
    "ratio_counts['43'] = 0\n",
    "ratio_counts['42'] = 0\n",
    "ratio_counts['32'] = 0\n",
    "\n",
    "for i in metrics.columns:\n",
    "\n",
    "    dash = i.find('/')\n",
    "    asterisk = i.find('*')\n",
    "    numerator = i[:dash]\n",
    "    denominator = i[dash+1:asterisk]\n",
    "    exponent = i[asterisk+2:]\n",
    "\n",
    "    if numerator[1] == 'e':\n",
    "        num = numerator[2]\n",
    "\n",
    "    elif numerator[1] == 'e':\n",
    "        num = numerator[3]\n",
    "\n",
    "    den = denominator[2]\n",
    "\n",
    "    ratio_counts[num+den] += 1"
   ]
  },
  {
   "cell_type": "code",
   "execution_count": 357,
   "id": "a17fa367-e3da-41cb-89b9-1db9974384d5",
   "metadata": {},
   "outputs": [],
   "source": [
    "# with open('counts/sculpt_001.pkl', 'wb') as f:\n",
    "#     pickle.dump(ratio_counts, f)"
   ]
  }
 ],
 "metadata": {
  "kernelspec": {
   "display_name": "Python 3 (ipykernel)",
   "language": "python",
   "name": "python3"
  },
  "language_info": {
   "codemirror_mode": {
    "name": "ipython",
    "version": 3
   },
   "file_extension": ".py",
   "mimetype": "text/x-python",
   "name": "python",
   "nbconvert_exporter": "python",
   "pygments_lexer": "ipython3",
   "version": "3.11.9"
  }
 },
 "nbformat": 4,
 "nbformat_minor": 5
}
