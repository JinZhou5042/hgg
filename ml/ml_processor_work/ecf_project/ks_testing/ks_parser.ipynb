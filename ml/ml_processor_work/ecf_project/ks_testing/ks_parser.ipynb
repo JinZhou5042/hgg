{
 "cells": [
  {
   "cell_type": "code",
   "execution_count": 20,
   "id": "f00e5377-e0a1-476c-9a93-e285939abf38",
   "metadata": {},
   "outputs": [],
   "source": [
    "import json\n",
    "import pandas as pd"
   ]
  },
  {
   "cell_type": "code",
   "execution_count": 21,
   "id": "32cdd6d2-52d8-4127-b4d3-4a8e899cd867",
   "metadata": {},
   "outputs": [],
   "source": [
    "with open('ks_tests.json', 'r') as f:\n",
    "    ks_results = json.load(f)"
   ]
  },
  {
   "cell_type": "code",
   "execution_count": 121,
   "id": "472f9ec2-3f34-4efe-a839-f74aa95fa17b",
   "metadata": {},
   "outputs": [],
   "source": [
    "ks_df = pd.DataFrame(ks_results, index=['ks_value'])"
   ]
  },
  {
   "cell_type": "code",
   "execution_count": 122,
   "id": "89957549-d145-4a52-a2e2-2bc2f6af0f8e",
   "metadata": {},
   "outputs": [],
   "source": [
    "# ks_df = ks_df.loc[:, ks_df.columns[(ks_df.loc['ks_value'] <= 1.86)]]\n",
    "ks_df = ks_df.loc[:, ks_df.columns[(ks_df.loc['ks_value'] >= 1.7)]]"
   ]
  },
  {
   "cell_type": "code",
   "execution_count": 123,
   "id": "9a4e4423-6f0c-45e9-840c-f9156b527cb0",
   "metadata": {
    "scrolled": true
   },
   "outputs": [],
   "source": [
    "ecf_list = ks_df.columns.to_list()"
   ]
  },
  {
   "cell_type": "code",
   "execution_count": 124,
   "id": "9d86d030-b789-4d3a-a1bc-cdb027473c3f",
   "metadata": {},
   "outputs": [],
   "source": [
    "small_exp = []\n",
    "for i in ecf_list[:]:\n",
    "    asterisk = i.find('*')\n",
    "    exponent = float(i[asterisk+2:])\n",
    "    if exponent <= 3:\n",
    "        small_exp.append(i)"
   ]
  },
  {
   "cell_type": "code",
   "execution_count": 125,
   "id": "ad969dee-ba82-490a-af83-6512843b11d7",
   "metadata": {
    "scrolled": true
   },
   "outputs": [
    {
     "data": {
      "text/plain": [
       "7542"
      ]
     },
     "execution_count": 125,
     "metadata": {},
     "output_type": "execute_result"
    }
   ],
   "source": [
    "len(small_exp)"
   ]
  },
  {
   "cell_type": "code",
   "execution_count": 127,
   "id": "5f12c085-10ce-44e3-aec9-58136a180f7c",
   "metadata": {},
   "outputs": [
    {
     "data": {
      "text/plain": [
       "['10e5^2.0/7e5^3.5**0.8163265306122449',\n",
       " '10e5^2.0/7e5^4.0**0.7142857142857143',\n",
       " '10e5^2.0/8e5^3.0**0.8333333333333334',\n",
       " '10e5^2.0/8e5^3.5**0.7142857142857143',\n",
       " '10e5^2.0/8e5^4.0**0.625',\n",
       " '10e5^2.0/9e5^2.5**0.8888888888888888',\n",
       " '10e5^2.0/9e5^3.0**0.7407407407407407',\n",
       " '10e5^2.5/3e5^3.0**2.7777777777777777',\n",
       " '10e5^2.5/3e5^3.5**2.380952380952381',\n",
       " '10e5^2.5/3e5^4.0**2.0833333333333335']"
      ]
     },
     "execution_count": 127,
     "metadata": {},
     "output_type": "execute_result"
    }
   ],
   "source": [
    "small_exp[-100:-90]"
   ]
  },
  {
   "cell_type": "code",
   "execution_count": null,
   "id": "2f6cba3a-49f5-438a-a60d-a6cc98dc0865",
   "metadata": {},
   "outputs": [],
   "source": []
  }
 ],
 "metadata": {
  "kernelspec": {
   "display_name": "Python 3 (ipykernel)",
   "language": "python",
   "name": "python3"
  },
  "language_info": {
   "codemirror_mode": {
    "name": "ipython",
    "version": 3
   },
   "file_extension": ".py",
   "mimetype": "text/x-python",
   "name": "python",
   "nbconvert_exporter": "python",
   "pygments_lexer": "ipython3",
   "version": "3.11.9"
  }
 },
 "nbformat": 4,
 "nbformat_minor": 5
}
