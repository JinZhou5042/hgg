{
 "cells": [
  {
   "cell_type": "code",
   "execution_count": 2,
   "id": "1af29516-5b78-4b4f-9f92-044e08cbb213",
   "metadata": {},
   "outputs": [],
   "source": [
    "import numpy as np\n",
    "import awkward as ak\n",
    "import hist\n",
    "import warnings\n",
    "import pickle\n",
    "from coffea.ml_tools.torch_wrapper import torch_wrapper\n",
    "import matplotlib.pyplot as plt\n",
    "import hist\n",
    "from sklearn.metrics import roc_curve, auc\n",
    "import math\n",
    "import os\n",
    "import uproot\n",
    "import json"
   ]
  },
  {
   "cell_type": "code",
   "execution_count": 3,
   "id": "9a5996f2-2e7f-48b6-83c3-fb2cfe3cc0aa",
   "metadata": {},
   "outputs": [],
   "source": [
    "warnings.filterwarnings('ignore', 'invalid value')\n",
    "warnings.filterwarnings('ignore', 'No format')"
   ]
  },
  {
   "cell_type": "code",
   "execution_count": 4,
   "id": "9cbd9d10-f02b-4a94-a9a1-58152b7c19d4",
   "metadata": {},
   "outputs": [],
   "source": [
    "hgg = ak.from_parquet('/scratch365/cmoore24/training/data/ecfs/hgg_ecfs.parquet')"
   ]
  },
  {
   "cell_type": "code",
   "execution_count": 5,
   "id": "1fee6344-5f72-4d02-9964-9fd6827061b9",
   "metadata": {},
   "outputs": [],
   "source": [
    "qcd = ak.firsts(ak.from_parquet('/scratch365/cmoore24/training/data/ecfs/qcd_ecfs.parquet'))"
   ]
  },
  {
   "cell_type": "code",
   "execution_count": 6,
   "id": "4a20c36d-8385-49bc-a175-4826f4007c4c",
   "metadata": {},
   "outputs": [],
   "source": [
    "hgg = hgg[ak.flatten(hgg.msoftdrop < 200)]\n",
    "hgg = hgg[ak.flatten(hgg.msoftdrop > 40)]\n",
    "hgg = hgg[ak.flatten(hgg.pt < 600)]\n",
    "hgg = hgg[ak.flatten(hgg.pt > 450)]"
   ]
  },
  {
   "cell_type": "code",
   "execution_count": 7,
   "id": "73e194ef-0ce0-4a43-8ac2-cc77632cf308",
   "metadata": {},
   "outputs": [],
   "source": [
    "qcd = qcd[qcd.msoftdrop < 200]\n",
    "qcd = qcd[qcd.msoftdrop > 40]\n",
    "qcd = qcd[qcd.pt < 600]\n",
    "qcd = qcd[qcd.pt > 450]"
   ]
  },
  {
   "cell_type": "code",
   "execution_count": 8,
   "id": "5223aca1-3b9a-4acf-9c63-c75e9a731d23",
   "metadata": {},
   "outputs": [],
   "source": [
    "mask = ak.ones_like(hgg[hgg.fields[0]], dtype='bool')\n",
    "mask = ak.fill_none(mask, True)\n",
    "for j in hgg.fields:\n",
    "    if hgg[j].fields == []:\n",
    "        mask = mask & (~ak.is_none(ak.nan_to_none(hgg[j])))\n",
    "    else:\n",
    "        for i in hgg[j].fields:\n",
    "            mask = mask & (~ak.is_none(ak.nan_to_none(hgg[j][i])))\n",
    "hgg = hgg[ak.flatten(mask)]"
   ]
  },
  {
   "cell_type": "code",
   "execution_count": 9,
   "id": "c1b51296-7b33-4da7-9e62-7a5d48c175cf",
   "metadata": {},
   "outputs": [],
   "source": [
    "mask = ak.ones_like(qcd[qcd.fields[0]], dtype='bool')\n",
    "mask = ak.fill_none(mask, True)\n",
    "for j in qcd.fields:\n",
    "    if qcd[j].fields == []:\n",
    "        mask = mask & (~ak.is_none(ak.nan_to_none(qcd[j])))\n",
    "    else:\n",
    "        for i in qcd[j].fields:\n",
    "            mask = mask & (~ak.is_none(ak.nan_to_none(qcd[j][i])))\n",
    "qcd = qcd[mask]"
   ]
  },
  {
   "cell_type": "code",
   "execution_count": 15,
   "id": "a3f51953-c252-43ab-b906-82eb13cd7c18",
   "metadata": {},
   "outputs": [],
   "source": [
    "with open('/scratch365/cmoore24/training/hgg/binary/ecfs_project/combo_training/trained_ratios.pkl', 'rb') as f:\n",
    "    items = pickle.load(f)"
   ]
  },
  {
   "cell_type": "code",
   "execution_count": 17,
   "id": "d25dbdcd-3668-4b18-9a5d-43d40a65b3c1",
   "metadata": {},
   "outputs": [],
   "source": [
    "def add_ratio(ratio, dataframe):\n",
    "    dash = ratio.find('/')\n",
    "    asterisk = ratio.find('*')\n",
    "    numerator = ratio[:dash]\n",
    "    denominator = ratio[dash+1:asterisk]\n",
    "    exponent = float(ratio[asterisk+2:])\n",
    "    num_ecf = dataframe[numerator]\n",
    "    den_ecf = dataframe[denominator]\n",
    "    ecf_ratio = (num_ecf)/(den_ecf**exponent)\n",
    "    return ecf_ratio"
   ]
  },
  {
   "cell_type": "code",
   "execution_count": 18,
   "id": "3f80464f-572d-4425-b073-5394cfaeb49f",
   "metadata": {},
   "outputs": [],
   "source": [
    "hgg_ratios = {}\n",
    "for i in items:\n",
    "    hgg_ratios[i] = add_ratio(i, hgg.ECFs)"
   ]
  },
  {
   "cell_type": "code",
   "execution_count": 19,
   "id": "f2ea13c7-a259-4014-9f28-c0faa145dc61",
   "metadata": {},
   "outputs": [],
   "source": [
    "qcd_ratios = {}\n",
    "for i in items:\n",
    "    qcd_ratios[i] = add_ratio(i, qcd.ECFs)"
   ]
  },
  {
   "cell_type": "code",
   "execution_count": 20,
   "id": "191199c9-b815-48c7-9c7f-24c24ba92897",
   "metadata": {},
   "outputs": [],
   "source": [
    "hgg_train = ak.zip({\n",
    "    'd2b1': hgg.d2b1,\n",
    "    'ECFs': hgg.ECFs,\n",
    "    'msoftdrop': hgg.msoftdrop,\n",
    "    'pt': hgg.pt,\n",
    "    'ratios': ak.Array(hgg_ratios),\n",
    "},\n",
    "       depth_limit=1\n",
    "      )"
   ]
  },
  {
   "cell_type": "code",
   "execution_count": 21,
   "id": "e481ce8b-bcfb-4b6f-929e-86068287090f",
   "metadata": {},
   "outputs": [],
   "source": [
    "qcd_train = ak.zip({\n",
    "    'd2b1': qcd.d2b1,\n",
    "    'ECFs': qcd.ECFs,\n",
    "    'msoftdrop': qcd.msoftdrop,\n",
    "    'pt': qcd.pt,\n",
    "    'ratios': ak.Array(qcd_ratios),\n",
    "},\n",
    "       depth_limit=1\n",
    "      )"
   ]
  },
  {
   "cell_type": "code",
   "execution_count": 22,
   "id": "e7598547-eb32-4172-bdcb-b2c79a2feb97",
   "metadata": {},
   "outputs": [],
   "source": [
    "model = f'/scratch365/cmoore24/training/hgg/binary/ecfs_project/combo_training/test_traced_model.pt'"
   ]
  },
  {
   "cell_type": "code",
   "execution_count": 23,
   "id": "ee2a7930-1453-4511-8897-8e0ca4e9a16b",
   "metadata": {},
   "outputs": [],
   "source": [
    "scaler = f'/scratch365/cmoore24/training/hgg/binary/ecfs_project/combo_training/test_scaler.pkl'\n",
    "with open(scaler, 'rb') as f:\n",
    "    scaler = pickle.load(f)"
   ]
  },
  {
   "cell_type": "code",
   "execution_count": 28,
   "id": "dd1c2c20-efd4-4ae9-a983-b55d68812ce3",
   "metadata": {},
   "outputs": [],
   "source": [
    "def imapper(array, ratio_list):\n",
    "    imap = {}\n",
    "    imap['vars'] = {}\n",
    "    for i in ratio_list:\n",
    "        imap['vars'][i] = array.ratios[i]\n",
    "    return imap"
   ]
  },
  {
   "cell_type": "code",
   "execution_count": 33,
   "id": "d47be238-a9e2-4a87-b28e-a40d42a21eae",
   "metadata": {},
   "outputs": [],
   "source": [
    "class EnergyCorrelatorFunctionTagger(torch_wrapper):\n",
    "    def prepare_awkward(self, events, scaler, imap):\n",
    "        fatjets = events\n",
    "\n",
    "        retmap = {\n",
    "            k: ak.concatenate([x[:, np.newaxis] for x in imap[k].values()], axis=1)\n",
    "            for k in imap.keys()\n",
    "        }\n",
    "        x = ak.values_astype(scaler.transform(retmap['vars']), \"float32\")\n",
    "        return (x,), {}"
   ]
  },
  {
   "cell_type": "code",
   "execution_count": 34,
   "id": "0c61abbe-5e0f-43c6-969d-10d746f8309b",
   "metadata": {},
   "outputs": [],
   "source": [
    "tagger = EnergyCorrelatorFunctionTagger(model)"
   ]
  },
  {
   "cell_type": "code",
   "execution_count": 35,
   "id": "695e01b2-b120-424a-a535-e649c41f3066",
   "metadata": {},
   "outputs": [],
   "source": [
    "hgg_imap = imapper(hgg_train, items)\n",
    "hgg_scores = tagger(hgg_train, scaler, hgg_imap)[:,0]"
   ]
  },
  {
   "cell_type": "code",
   "execution_count": 36,
   "id": "f3d885c6-4798-4387-9deb-faeb596b1fdf",
   "metadata": {},
   "outputs": [],
   "source": [
    "qcd_imap = imapper(qcd_train, items)\n",
    "qcd_scores = tagger(qcd_train, scaler, qcd_imap)[:,0]"
   ]
  },
  {
   "cell_type": "code",
   "execution_count": 37,
   "id": "31f9316c-e18d-42b8-b9fa-f03f9bd87cf3",
   "metadata": {},
   "outputs": [
    {
     "data": {
      "text/plain": [
       "4.3091745"
      ]
     },
     "execution_count": 37,
     "metadata": {},
     "output_type": "execute_result"
    }
   ],
   "source": [
    "up = max(ak.max(hgg_scores), ak.max(qcd_scores))\n",
    "up"
   ]
  },
  {
   "cell_type": "code",
   "execution_count": 38,
   "id": "a90f6759-e937-4267-bd85-18bc3fd00a8c",
   "metadata": {},
   "outputs": [
    {
     "data": {
      "text/plain": [
       "-503.62164"
      ]
     },
     "execution_count": 38,
     "metadata": {},
     "output_type": "execute_result"
    }
   ],
   "source": [
    "down = min(ak.min(hgg_scores), ak.min(qcd_scores))\n",
    "down"
   ]
  },
  {
   "cell_type": "code",
   "execution_count": 39,
   "id": "428a66a9-1ffb-449f-9ca4-ca42c1619424",
   "metadata": {},
   "outputs": [
    {
     "data": {
      "image/png": "[encoded data removed]",
      "text/plain": [
       "<Figure size 640x480 with 1 Axes>"
      ]
     },
     "metadata": {},
     "output_type": "display_data"
    }
   ],
   "source": [
    "pltrange = (down, up)\n",
    "plt.hist(hgg_scores, bins=40, histtype='step', label='Hgg', density=True, range=pltrange)\n",
    "plt.hist(qcd_scores, bins=40, histtype='step', label='QCD', density=True, range=pltrange)\n",
    "plt.title(f'Hgg vs QCD NN Output Scores')\n",
    "plt.legend()\n",
    "plt.show()"
   ]
  },
  {
   "cell_type": "code",
   "execution_count": 40,
   "id": "16c50b51-8c64-4faf-9fb9-cee83e16c06a",
   "metadata": {},
   "outputs": [],
   "source": [
    "mask = ~np.isnan(qcd_scores)\n",
    "qcd_scores = qcd_scores[mask]\n",
    "qcd_train = qcd_train[mask]"
   ]
  },
  {
   "cell_type": "code",
   "execution_count": 41,
   "id": "cd8eb863-521f-49e5-bc08-dfddaac0514a",
   "metadata": {},
   "outputs": [],
   "source": [
    "mask = ~np.isnan(hgg_scores)\n",
    "hgg_scores = hgg_scores[mask]\n",
    "hgg_train = hgg_train[mask]"
   ]
  },
  {
   "cell_type": "code",
   "execution_count": 42,
   "id": "d93a3ca7-24f0-4f38-ad6e-c5ce1842e2ac",
   "metadata": {},
   "outputs": [],
   "source": [
    "bkg_zeros = ak.zeros_like(qcd_scores)\n",
    "sig_ones = ak.ones_like(hgg_scores)\n",
    "combined = ak.concatenate([qcd_scores,hgg_scores])\n",
    "combined_truth = ak.concatenate([bkg_zeros, sig_ones])"
   ]
  },
  {
   "cell_type": "code",
   "execution_count": 43,
   "id": "65f6dde7-183d-4a5f-b8d1-5dc4c3b99445",
   "metadata": {},
   "outputs": [],
   "source": [
    "fpr, tpr, thresholds = roc_curve(combined_truth, combined)\n",
    "roc_auc = auc(fpr, tpr)"
   ]
  },
  {
   "cell_type": "code",
   "execution_count": 44,
   "id": "b88b013d-47bd-4e8a-bbdb-d5a52e6f7e27",
   "metadata": {},
   "outputs": [
    {
     "data": {
      "text/plain": [
       "(-504.0, 5.0)"
      ]
     },
     "execution_count": 44,
     "metadata": {},
     "output_type": "execute_result"
    }
   ],
   "source": [
    "hrange=(np.floor(ak.min(qcd_scores)), np.ceil(ak.max(qcd_scores)))\n",
    "hrange"
   ]
  },
  {
   "cell_type": "code",
   "execution_count": 45,
   "id": "1530118a-46c4-402c-8ce2-1480333afa33",
   "metadata": {},
   "outputs": [],
   "source": [
    "hgg_hist = np.histogram(hgg_scores, bins=20,\n",
    "                range=hrange\n",
    "                )\n",
    "qcd_hist = np.histogram(qcd_scores, bins=20, \n",
    "                 range=hrange\n",
    "                )"
   ]
  },
  {
   "cell_type": "code",
   "execution_count": 46,
   "id": "7974bcbb-7f53-4d36-8f5a-81384da27b5b",
   "metadata": {},
   "outputs": [],
   "source": [
    "sig_sums = []\n",
    "for i in range(len(hgg_hist[0])+1):\n",
    "    sig_sums.append(sum(hgg_hist[0][len(hgg_hist[0])-i:]))\n",
    "\n",
    "bkg_sums = []\n",
    "for i in range(len(qcd_hist[0])+1):\n",
    "    bkg_sums.append(sum(qcd_hist[0][len(qcd_hist[0])-i:]))"
   ]
  },
  {
   "cell_type": "code",
   "execution_count": 47,
   "id": "b1b7f52d-dca4-4d36-af3a-8f3dd43373e9",
   "metadata": {},
   "outputs": [],
   "source": [
    "sig_ratios = []\n",
    "for i in sig_sums:\n",
    "    sig_ratios.append(i/sig_sums[-1])\n",
    "bkg_ratios = []\n",
    "for i in bkg_sums:\n",
    "    bkg_ratios.append(i/bkg_sums[-1])"
   ]
  },
  {
   "cell_type": "code",
   "execution_count": 48,
   "id": "0fc33df7-4c05-46c5-a15a-78188c4bf28b",
   "metadata": {},
   "outputs": [],
   "source": [
    "wp_ratios = {}\n",
    "for i in range(len(hgg_hist[1])):\n",
    "    wp_ratios[str(hgg_hist[1][-i-1])] = [sig_ratios[i], bkg_ratios[i]]"
   ]
  },
  {
   "cell_type": "code",
   "execution_count": 49,
   "id": "f6e43992-4ea0-45ba-9d21-1eb43d6a19c3",
   "metadata": {},
   "outputs": [
    {
     "data": {
      "image/png": "[encoded data removed]",
      "text/plain": [
       "<Figure size 640x480 with 1 Axes>"
      ]
     },
     "metadata": {},
     "output_type": "display_data"
    }
   ],
   "source": [
    "plt.plot(fpr, tpr, lw=2, color=\"cyan\", label=\"auc = %.3f\" % (roc_auc))\n",
    "plt.plot(np.linspace(0,1,100), np.linspace(0,1,100), linestyle=\"--\", lw=2, color=\"k\", label=\"random chance\")\n",
    "plt.xlim([0, 1.0])\n",
    "#     ax.set_ylim([1e-5, 1.0])\n",
    "plt.xlabel(\"False positive rate\")\n",
    "plt.ylabel(\"True positive rate\")\n",
    "plt.title(f\"Hgg receiver operating curve\")\n",
    "plt.legend(loc=\"lower right\")\n",
    "plt.axvline(x=0.5, color='black')\n",
    "plt.axhline(y=0.5, color='black')\n",
    "for i in wp_ratios:\n",
    "    plt.plot(wp_ratios[i][1], wp_ratios[i][0], 'o', label=f'WP = {str(i)}')\n",
    "#plt.legend(bbox_to_anchor=(1,1))\n",
    "plt.show()"
   ]
  },
  {
   "cell_type": "code",
   "execution_count": 50,
   "id": "8dd84187-1e4e-469e-bd0d-23a72f157b5d",
   "metadata": {},
   "outputs": [],
   "source": [
    "def get_cut(qcd_scores, break_val):\n",
    "    hrange=(ak.min(qcd_scores), ak.max(qcd_scores))\n",
    "    proportion=1.0\n",
    "    i = 0\n",
    "    while proportion > 0.15:\n",
    "        qcd_hist = np.histogram(qcd_scores, bins=1000, \n",
    "                     range=hrange\n",
    "                    )\n",
    "        largest_bin_indices = np.argsort(qcd_hist[0])[-10:]\n",
    "        largest_bin_vals = qcd_hist[1][largest_bin_indices]\n",
    "        hrange = (largest_bin_vals[0], ak.max(qcd_scores))\n",
    "        proportion = sum(qcd_hist[0])/len(qcd_scores)\n",
    "        print(proportion)\n",
    "        i += 1\n",
    "        if i > break_val:\n",
    "            break\n",
    "    cumulative_distribution = np.cumsum(qcd_hist[0][min(largest_bin_indices):max(largest_bin_indices)])\n",
    "    total_count = cumulative_distribution[-1]\n",
    "    half_count = total_count / 2\n",
    "    median_bin_index = np.where(cumulative_distribution >= half_count)[0][0]\n",
    "    cut = qcd_hist[1][median_bin_index]\n",
    "    return cut"
   ]
  },
  {
   "cell_type": "code",
   "execution_count": 51,
   "id": "3c6f0bee-03c9-4a98-a730-c9271eb08ba5",
   "metadata": {},
   "outputs": [
    {
     "name": "stdout",
     "output_type": "stream",
     "text": [
      "1.0\n",
      "0.9618089033183452\n",
      "0.6523363649792933\n",
      "0.6388838534912082\n",
      "0.6127533238673035\n",
      "0.5917665112243286\n",
      "0.5717606302940605\n",
      "0.5622938237650162\n",
      "0.5458952551331154\n",
      "0.53546615692391\n",
      "0.5139942374339386\n",
      "0.5000305230532932\n",
      "0.48394650497059766\n",
      "0.46329288290937354\n",
      "0.43327823650380093\n",
      "0.41505620668813686\n",
      "0.40332743220969663\n",
      "0.40021314877215775\n",
      "0.38822434583970783\n",
      "0.37135558238684685\n",
      "0.36771984403884767\n",
      "0.2282896045936496\n",
      "0.22756730333251163\n",
      "0.22756730333251163\n",
      "0.22756730333251163\n",
      "0.22756730333251163\n",
      "0.22756730333251163\n",
      "0.22756730333251163\n",
      "0.22756730333251163\n",
      "0.22756730333251163\n",
      "0.22756730333251163\n",
      "0.22756730333251163\n",
      "0.22756730333251163\n",
      "0.22756730333251163\n",
      "0.22756730333251163\n",
      "0.22756730333251163\n",
      "0.22756730333251163\n",
      "0.22756730333251163\n",
      "0.22756730333251163\n",
      "0.22756730333251163\n",
      "0.22756730333251163\n",
      "0.22756730333251163\n",
      "0.22756730333251163\n",
      "0.22756730333251163\n",
      "0.22756730333251163\n",
      "0.22756730333251163\n",
      "0.22756730333251163\n",
      "0.22756730333251163\n",
      "0.22756730333251163\n",
      "0.22756730333251163\n",
      "0.22756730333251163\n",
      "0.22756730333251163\n",
      "0.22756730333251163\n",
      "0.22756730333251163\n",
      "0.22756730333251163\n",
      "0.22756730333251163\n",
      "0.22756730333251163\n",
      "0.22756730333251163\n",
      "0.22756730333251163\n",
      "0.22756730333251163\n",
      "0.22756730333251163\n",
      "0.22756730333251163\n",
      "0.22756730333251163\n",
      "0.22756730333251163\n",
      "0.22756730333251163\n",
      "0.22756730333251163\n",
      "0.22756730333251163\n",
      "0.22756730333251163\n",
      "0.22756730333251163\n",
      "0.22756730333251163\n",
      "0.22756730333251163\n",
      "0.22756730333251163\n",
      "0.22756730333251163\n",
      "0.22756730333251163\n",
      "0.22756730333251163\n",
      "0.22756730333251163\n",
      "0.22756730333251163\n",
      "0.22756730333251163\n",
      "0.22756730333251163\n",
      "0.22756730333251163\n",
      "0.22756730333251163\n",
      "0.22756730333251163\n",
      "0.22756730333251163\n",
      "0.22756730333251163\n",
      "0.22756730333251163\n",
      "0.22756730333251163\n",
      "0.22756730333251163\n",
      "0.22756730333251163\n",
      "0.22756730333251163\n",
      "0.22756730333251163\n",
      "0.22756730333251163\n",
      "0.22756730333251163\n",
      "0.22756730333251163\n",
      "0.22756730333251163\n",
      "0.22756730333251163\n",
      "0.22756730333251163\n",
      "0.22756730333251163\n",
      "0.22756730333251163\n",
      "0.22756730333251163\n",
      "0.22756730333251163\n",
      "0.22756730333251163\n"
     ]
    },
    {
     "data": {
      "text/plain": [
       "0.34495991468429565"
      ]
     },
     "execution_count": 51,
     "metadata": {},
     "output_type": "execute_result"
    }
   ],
   "source": [
    "cut = get_cut(qcd_scores, 100)\n",
    "cut"
   ]
  },
  {
   "cell_type": "code",
   "execution_count": 52,
   "id": "70b498cb-c69b-4b05-b5ec-2a8abe657389",
   "metadata": {},
   "outputs": [],
   "source": [
    "mask = ~((qcd_scores > cut))\n",
    "qcd_cut_msd = qcd_train.msoftdrop[mask]\n",
    "qcd_fail_hist = hist.Hist.new.Reg(40, 40, 200, name='msd', label='QCD MSD').Weight()\n",
    "qcd_fail_hist.fill(msd=qcd_cut_msd);"
   ]
  },
  {
   "cell_type": "code",
   "execution_count": 53,
   "id": "891cdea4-0b4d-4fc9-b47c-f6f5114b4711",
   "metadata": {},
   "outputs": [],
   "source": [
    "mask = ((qcd_scores > cut))\n",
    "qcd_cut_msd = qcd_train.msoftdrop[mask]\n",
    "qcd_pass_hist = hist.Hist.new.Reg(40, 40, 200, name='msd', label='QCD MSD').Weight()\n",
    "qcd_pass_hist.fill(msd=qcd_cut_msd);"
   ]
  },
  {
   "cell_type": "code",
   "execution_count": 54,
   "id": "7e75d305-8e64-4e32-86a2-eab0961b6013",
   "metadata": {},
   "outputs": [],
   "source": [
    "with open('../../jsons/subregion_event_totals.json', 'r') as f:\n",
    "    totals = json.load(f)\n",
    "with open('../../jsons/my_xsecs.json', 'r') as f:\n",
    "    xsecs = json.load(f)"
   ]
  },
  {
   "cell_type": "code",
   "execution_count": 55,
   "id": "2038d94a-a91f-499c-bd60-026e89fcbdd8",
   "metadata": {},
   "outputs": [],
   "source": [
    "scale = ((44.99*(xsecs['qcd']['qcd_470to600']*1000))/totals['qcd']['470to600'])\n",
    "qcd_pass_hist.view(flow=True)[:] *= scale\n",
    "qcd_fail_hist.view(flow=True)[:] *= scale"
   ]
  },
  {
   "cell_type": "code",
   "execution_count": 56,
   "id": "57ca4e58-b445-46d2-986a-179305eaf62e",
   "metadata": {},
   "outputs": [],
   "source": [
    "total_qcd_hist = qcd_pass_hist + qcd_fail_hist"
   ]
  },
  {
   "cell_type": "code",
   "execution_count": 57,
   "id": "92936384-f9f1-420f-8fb8-b058b13d2d90",
   "metadata": {},
   "outputs": [
    {
     "data": {
      "image/png": "[encoded data removed]",
      "text/plain": [
       "<Figure size 640x480 with 1 Axes>"
      ]
     },
     "metadata": {},
     "output_type": "display_data"
    }
   ],
   "source": [
    "qcd_pass_hist.plot1d(density=True, label='Passing')\n",
    "#qcd_fail_hist.plot1d(density=True, label='Failing')\n",
    "total_qcd_hist.plot1d(density=True, label='Total')\n",
    "plt.legend()\n",
    "plt.show()"
   ]
  },
  {
   "cell_type": "code",
   "execution_count": 58,
   "id": "6382f65c-a858-41c1-ba27-d0c38ae170c2",
   "metadata": {},
   "outputs": [
    {
     "data": {
      "text/plain": [
       "(557314.7086128457, 2629171.387035137)"
      ]
     },
     "execution_count": 58,
     "metadata": {},
     "output_type": "execute_result"
    }
   ],
   "source": [
    "sum(qcd_pass_hist.values()), sum(total_qcd_hist.values())"
   ]
  },
  {
   "cell_type": "code",
   "execution_count": 59,
   "id": "cec11dc8-6292-492c-bc65-6d8402dae871",
   "metadata": {},
   "outputs": [
    {
     "data": {
      "text/plain": [
       "0.21197351810576265"
      ]
     },
     "execution_count": 59,
     "metadata": {},
     "output_type": "execute_result"
    }
   ],
   "source": [
    "sum(qcd_pass_hist.values())/sum(total_qcd_hist.values())"
   ]
  },
  {
   "cell_type": "code",
   "execution_count": 60,
   "id": "4afce29d-8bc6-4973-bc03-153bb6395168",
   "metadata": {},
   "outputs": [],
   "source": [
    "sculpt_metric = sum(abs(total_qcd_hist.density() - qcd_pass_hist.density()))"
   ]
  },
  {
   "cell_type": "code",
   "execution_count": 61,
   "id": "6e6689bb-b14f-466e-b9dc-83524d14cad3",
   "metadata": {},
   "outputs": [
    {
     "data": {
      "text/plain": [
       "0.26817793375081184"
      ]
     },
     "execution_count": 61,
     "metadata": {},
     "output_type": "execute_result"
    }
   ],
   "source": [
    "sculpt_metric"
   ]
  },
  {
   "cell_type": "code",
   "execution_count": null,
   "id": "b92fe992-6ad3-4cd2-a6c4-19263f69723e",
   "metadata": {},
   "outputs": [],
   "source": []
  },
  {
   "cell_type": "code",
   "execution_count": null,
   "id": "e2eba134-4401-47a9-976c-ca0c400fa74b",
   "metadata": {},
   "outputs": [],
   "source": []
  }
 ],
 "metadata": {
  "kernelspec": {
   "display_name": "Python 3 (ipykernel)",
   "language": "python",
   "name": "python3"
  },
  "language_info": {
   "codemirror_mode": {
    "name": "ipython",
    "version": 3
   },
   "file_extension": ".py",
   "mimetype": "text/x-python",
   "name": "python",
   "nbconvert_exporter": "python",
   "pygments_lexer": "ipython3",
   "version": "3.11.9"
  }
 },
 "nbformat": 4,
 "nbformat_minor": 5
}
