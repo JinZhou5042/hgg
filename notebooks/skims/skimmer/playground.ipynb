{
 "cells": [
  {
   "cell_type": "code",
   "execution_count": 1,
   "id": "7a852bb0-5308-4724-80a5-4e80c6a4cda1",
   "metadata": {},
   "outputs": [
    {
     "name": "stderr",
     "output_type": "stream",
     "text": [
      "/tmp/ipykernel_1248725/4208829920.py:8: FutureWarning: In version 2024.7.0 (target date: 2024-06-30 11:59:59-05:00), this will be an error.\n",
      "To raise these warnings as errors (and get stack traces to find out where they're called), run\n",
      "    import warnings\n",
      "    warnings.filterwarnings(\"error\", module=\"coffea.*\")\n",
      "after the first `import coffea` or use `@pytest.mark.filterwarnings(\"error:::coffea.*\")` in pytest.\n",
      "Issue: coffea.nanoevents.methods.vector will be removed and replaced with scikit-hep vector. Nanoevents schemas internal to coffea will be migrated. Otherwise please consider using that package!.\n",
      "  import coffea.nanoevents.methods.vector as vector\n"
     ]
    }
   ],
   "source": [
    "from coffea.nanoevents import NanoEventsFactory, BaseSchema, PFNanoAODSchema\n",
    "import json\n",
    "import fastjet\n",
    "import numpy as np\n",
    "import awkward as ak\n",
    "from coffea import processor\n",
    "import hist\n",
    "import coffea.nanoevents.methods.vector as vector\n",
    "import warnings\n",
    "import matplotlib.pyplot as plt\n",
    "import math\n",
    "from variable_functions import *\n",
    "import os"
   ]
  },
  {
   "cell_type": "code",
   "execution_count": 2,
   "id": "67cf206a-b8c1-48fc-8af8-a100d1508db2",
   "metadata": {},
   "outputs": [],
   "source": [
    "warnings.filterwarnings(\"ignore\", module=\"coffea.*\")\n",
    "warnings.filterwarnings(\"ignore\", \"Found duplicate branch\")\n",
    "warnings.filterwarnings(\"ignore\", \"Missing cross-reference index for\")\n",
    "warnings.filterwarnings(\"ignore\", \"dcut\")\n",
    "warnings.filterwarnings(\"ignore\", \"Please ensure\")\n",
    "warnings.filterwarnings(\"ignore\", \"invalid value\")"
   ]
  },
  {
   "cell_type": "code",
   "execution_count": 87,
   "id": "638902a7-e450-40a1-b470-ba3d24efc2da",
   "metadata": {},
   "outputs": [],
   "source": [
    "files = os.listdir('/project01/ndcms/cmoore24/samples/hbb/')[:2]"
   ]
  },
  {
   "cell_type": "code",
   "execution_count": 88,
   "id": "9e527ca8-247f-4f9f-95b5-ac8c974ae800",
   "metadata": {},
   "outputs": [
    {
     "data": {
      "text/plain": [
       "['nano_mc2017_1-1.root', 'nano_mc2017_1-2.root']"
      ]
     },
     "execution_count": 88,
     "metadata": {},
     "output_type": "execute_result"
    }
   ],
   "source": [
    "files"
   ]
  },
  {
   "cell_type": "code",
   "execution_count": 89,
   "id": "1b85406c-d3a6-4a1e-aaee-74529e5bad11",
   "metadata": {},
   "outputs": [],
   "source": [
    "events = NanoEventsFactory.from_root(\n",
    "    [{'/project01/ndcms/cmoore24/samples/hbb/' + i: \"/Events\"} for i in files],\n",
    "    delayed=True,\n",
    "    schemaclass=PFNanoAODSchema,\n",
    "    metadata={\"dataset\": \"Hbb\"},\n",
    ").events()"
   ]
  },
  {
   "cell_type": "code",
   "execution_count": 90,
   "id": "ab608bfc-149b-4912-a0f4-28764a9d65a7",
   "metadata": {},
   "outputs": [],
   "source": [
    "events['PFCands', 'pt'] = (\n",
    "    events.PFCands.pt\n",
    "    * events.PFCands.puppiWeight\n",
    ")"
   ]
  },
  {
   "cell_type": "code",
   "execution_count": 91,
   "id": "52c56d64-e90e-400f-9b37-27f9df69a32b",
   "metadata": {},
   "outputs": [],
   "source": [
    "cut_to_fix_softdrop = (ak.num(events.FatJet.constituents.pf, axis=2) > 0)\n",
    "events = events[ak.all(cut_to_fix_softdrop, axis=1)]"
   ]
  },
  {
   "cell_type": "code",
   "execution_count": 92,
   "id": "f3658ac7-8de0-4b73-9c55-276ef952fc4f",
   "metadata": {},
   "outputs": [],
   "source": [
    "genhiggs = events.GenPart[\n",
    "    (events.GenPart.pdgId == 25)\n",
    "    & events.GenPart.hasFlags([\"fromHardProcess\", \"isLastCopy\"])\n",
    "]\n",
    "parents = events.FatJet.nearest(genhiggs, threshold=0.2)\n",
    "higgs_jets = ~ak.is_none(parents, axis=1)\n",
    "\n",
    "fatjetSelect = (\n",
    "            (events.FatJet.pt > 400)\n",
    "            #& (events.FatJet.num_subjets >= 3)\n",
    "            & (abs(events.FatJet.eta) < 2.4)\n",
    "            & (events.FatJet.msoftdrop > 40)\n",
    "            & (events.FatJet.msoftdrop < 200)\n",
    "            & (higgs_jets)\n",
    "        )\n",
    "\n",
    "events[\"goodjets\"] = events.FatJet[fatjetSelect]\n",
    "mask = ~ak.is_none(ak.firsts(events.goodjets))\n",
    "events = events[mask]\n",
    "# cut = (ak.num(uncut_events.FatJet.constituents.pf, axis=2) > 0)\n",
    "# events = uncut_events[ak.all(cut, axis=1)]"
   ]
  },
  {
   "cell_type": "code",
   "execution_count": 93,
   "id": "68726d6e-686b-4ad0-9bc8-66f1f44f80d2",
   "metadata": {},
   "outputs": [],
   "source": [
    "events = events.compute()"
   ]
  },
  {
   "cell_type": "code",
   "execution_count": 94,
   "id": "0cb70ee1-0368-4805-a200-f70adc141869",
   "metadata": {},
   "outputs": [
    {
     "data": {
      "text/html": [
       "<pre>[{LHEWeight: {originalXWGTUP: 0.472}, IsoTrack: [], LHEPart: [...], ...},\n",
       " {LHEWeight: {originalXWGTUP: 0.472}, IsoTrack: [], LHEPart: [...], ...},\n",
       " {LHEWeight: {originalXWGTUP: 0.472}, IsoTrack: [{...}, ...], ...},\n",
       " {LHEWeight: {originalXWGTUP: 0.472}, IsoTrack: [], LHEPart: [...], ...},\n",
       " {LHEWeight: {originalXWGTUP: 0.472}, IsoTrack: [], LHEPart: [...], ...},\n",
       " {LHEWeight: {originalXWGTUP: 0.472}, IsoTrack: [], LHEPart: [...], ...},\n",
       " {LHEWeight: {originalXWGTUP: 0.472}, IsoTrack: [], LHEPart: [...], ...},\n",
       " {LHEWeight: {originalXWGTUP: 0.472}, IsoTrack: [], LHEPart: [...], ...},\n",
       " {LHEWeight: {originalXWGTUP: 0.472}, IsoTrack: [], LHEPart: [...], ...},\n",
       " {LHEWeight: {originalXWGTUP: 0.472}, IsoTrack: [], LHEPart: [...], ...},\n",
       " ...,\n",
       " {LHEWeight: {originalXWGTUP: 0.472}, IsoTrack: [{...}], LHEPart: [...], ...},\n",
       " {LHEWeight: {originalXWGTUP: 0.472}, IsoTrack: [{...}], LHEPart: [...], ...},\n",
       " {LHEWeight: {originalXWGTUP: 0.472}, IsoTrack: [], LHEPart: [...], ...},\n",
       " {LHEWeight: {originalXWGTUP: 0.472}, IsoTrack: [], LHEPart: [...], ...},\n",
       " {LHEWeight: {originalXWGTUP: 0.472}, IsoTrack: [], LHEPart: [...], ...},\n",
       " {LHEWeight: {originalXWGTUP: 0.472}, IsoTrack: [], LHEPart: [...], ...},\n",
       " {LHEWeight: {originalXWGTUP: 0.472}, IsoTrack: [{...}], LHEPart: [...], ...},\n",
       " {LHEWeight: {originalXWGTUP: 0.472}, IsoTrack: [{...}], LHEPart: [...], ...},\n",
       " {LHEWeight: {originalXWGTUP: 0.472}, IsoTrack: [], LHEPart: [...], ...}]\n",
       "------------------------------------------------------------------------------\n",
       "type: 1495 * event</pre>"
      ],
      "text/plain": [
       "<NanoEventsArray [<event 1:                229:                228014>, ..., <event 1:                391:                390996>] type='...'>"
      ]
     },
     "execution_count": 94,
     "metadata": {},
     "output_type": "execute_result"
    }
   ],
   "source": [
    "events"
   ]
  },
  {
   "cell_type": "code",
   "execution_count": null,
   "id": "9f1ed057-1322-4c82-ae4f-00689d26a037",
   "metadata": {},
   "outputs": [],
   "source": []
  },
  {
   "cell_type": "code",
   "execution_count": null,
   "id": "e8f418ce-c3e6-47ff-99c6-cc785c23b279",
   "metadata": {},
   "outputs": [],
   "source": []
  },
  {
   "cell_type": "code",
   "execution_count": 61,
   "id": "746dd31a-6e80-48be-aec7-d2cc6a07c2a8",
   "metadata": {},
   "outputs": [],
   "source": [
    "events = NanoEventsFactory.from_root(\n",
    "    {'/project01/ndcms/cmoore24/samples/hbb/' + files[0]: \"/Events\"},\n",
    "    delayed=False,\n",
    "    schemaclass=PFNanoAODSchema,\n",
    "    metadata={\"dataset\": \"Hbb\"},\n",
    ").events()"
   ]
  },
  {
   "cell_type": "code",
   "execution_count": 62,
   "id": "f435bbdf-8012-40ce-8361-c21698af6ae2",
   "metadata": {},
   "outputs": [],
   "source": [
    "events['PFCands', 'pt'] = (\n",
    "    events.PFCands.pt\n",
    "    * events.PFCands.puppiWeight\n",
    ")"
   ]
  },
  {
   "cell_type": "code",
   "execution_count": 63,
   "id": "391f0d69-ce85-4c47-84d2-2125c9ecfc7f",
   "metadata": {},
   "outputs": [],
   "source": [
    "cut_to_fix_softdrop = (ak.num(events.FatJet.constituents.pf, axis=2) > 0)\n",
    "events = events[ak.all(cut_to_fix_softdrop, axis=1)]"
   ]
  },
  {
   "cell_type": "code",
   "execution_count": 64,
   "id": "982e9185-756b-4df0-9ece-de8a20ab513c",
   "metadata": {},
   "outputs": [],
   "source": [
    "genhiggs = events.GenPart[\n",
    "    (events.GenPart.pdgId == 25)\n",
    "    & events.GenPart.hasFlags([\"fromHardProcess\", \"isLastCopy\"])\n",
    "]\n",
    "parents = events.FatJet.nearest(genhiggs, threshold=0.2)\n",
    "higgs_jets = ~ak.is_none(parents, axis=1)"
   ]
  },
  {
   "cell_type": "code",
   "execution_count": 65,
   "id": "85a81eed-7746-4226-840e-e581d7c1e945",
   "metadata": {},
   "outputs": [],
   "source": [
    "fatjetSelect = (\n",
    "            (events.FatJet.pt > 400)\n",
    "            #& (events.FatJet.num_subjets >= 3)\n",
    "            & (abs(events.FatJet.eta) < 2.4)\n",
    "            & (events.FatJet.msoftdrop > 40)\n",
    "            & (events.FatJet.msoftdrop < 200)\n",
    "            & (higgs_jets)\n",
    "        )"
   ]
  },
  {
   "cell_type": "code",
   "execution_count": 66,
   "id": "b8964c27-cd33-4897-849a-057cd5b7f2f9",
   "metadata": {},
   "outputs": [],
   "source": [
    "events[\"goodjets\"] = events.FatJet[fatjetSelect]"
   ]
  },
  {
   "cell_type": "code",
   "execution_count": 67,
   "id": "ed01480e-690d-4fef-a901-70709ef7577d",
   "metadata": {},
   "outputs": [],
   "source": [
    "mask = ~ak.is_none(ak.firsts(events.goodjets))"
   ]
  },
  {
   "cell_type": "code",
   "execution_count": 68,
   "id": "fafbd08d-c451-4766-89f7-f74de0c43a16",
   "metadata": {},
   "outputs": [],
   "source": [
    "events = events[mask]"
   ]
  },
  {
   "cell_type": "code",
   "execution_count": null,
   "id": "491773fa-e065-459d-82cc-fc5aedfa1a8e",
   "metadata": {},
   "outputs": [],
   "source": []
  }
 ],
 "metadata": {
  "kernelspec": {
   "display_name": "Python 3 (ipykernel)",
   "language": "python",
   "name": "python3"
  },
  "language_info": {
   "codemirror_mode": {
    "name": "ipython",
    "version": 3
   },
   "file_extension": ".py",
   "mimetype": "text/x-python",
   "name": "python",
   "nbconvert_exporter": "python",
   "pygments_lexer": "ipython3",
   "version": "3.10.13"
  }
 },
 "nbformat": 4,
 "nbformat_minor": 5
}
