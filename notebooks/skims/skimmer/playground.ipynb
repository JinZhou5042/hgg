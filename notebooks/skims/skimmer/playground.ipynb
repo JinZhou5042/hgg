{
 "cells": [
  {
   "cell_type": "code",
   "execution_count": 2,
   "id": "7a852bb0-5308-4724-80a5-4e80c6a4cda1",
   "metadata": {},
   "outputs": [],
   "source": [
    "from coffea.nanoevents import NanoEventsFactory, BaseSchema, PFNanoAODSchema\n",
    "import json\n",
    "import fastjet\n",
    "import numpy as np\n",
    "import awkward as ak\n",
    "from coffea import processor\n",
    "import hist\n",
    "import coffea.nanoevents.methods.vector as vector\n",
    "import warnings\n",
    "import matplotlib.pyplot as plt\n",
    "import math\n",
    "from variable_functions import *"
   ]
  },
  {
   "cell_type": "code",
   "execution_count": 3,
   "id": "67cf206a-b8c1-48fc-8af8-a100d1508db2",
   "metadata": {},
   "outputs": [],
   "source": [
    "warnings.filterwarnings(\"ignore\", module=\"coffea.*\")\n",
    "warnings.filterwarnings(\"ignore\", \"Found duplicate branch\")\n",
    "warnings.filterwarnings(\"ignore\", \"Missing cross-reference index for\")\n",
    "warnings.filterwarnings(\"ignore\", \"dcut\")\n",
    "warnings.filterwarnings(\"ignore\", \"Please ensure\")\n",
    "warnings.filterwarnings(\"ignore\", \"invalid value\")"
   ]
  },
  {
   "cell_type": "code",
   "execution_count": 4,
   "id": "b4623a4f-39bf-45fc-bd8e-241678f5034e",
   "metadata": {},
   "outputs": [],
   "source": [
    "with open('../../../filelists/800to1000_files.txt', 'r') as f:\n",
    "    files = [line.strip() for line in f]"
   ]
  },
  {
   "cell_type": "code",
   "execution_count": 4,
   "id": "638902a7-e450-40a1-b470-ba3d24efc2da",
   "metadata": {},
   "outputs": [
    {
     "data": {
      "text/plain": [
       "'nano_mc2017_1-108.root'"
      ]
     },
     "execution_count": 4,
     "metadata": {},
     "output_type": "execute_result"
    }
   ],
   "source": [
    "files[10]"
   ]
  },
  {
   "cell_type": "code",
   "execution_count": 18,
   "id": "1b85406c-d3a6-4a1e-aaee-74529e5bad11",
   "metadata": {},
   "outputs": [],
   "source": [
    "events = NanoEventsFactory.from_root(\n",
    "    {'/project01/ndcms/cmoore24/qcd/800to1000/' + files[10]: \"/Events\"},\n",
    "    delayed=False,\n",
    "    schemaclass=PFNanoAODSchema,\n",
    "    metadata={\"dataset\": \"Hgg\"},\n",
    ").events()"
   ]
  },
  {
   "cell_type": "code",
   "execution_count": 19,
   "id": "52c56d64-e90e-400f-9b37-27f9df69a32b",
   "metadata": {},
   "outputs": [],
   "source": [
    "cut_to_fix_softdrop = (ak.num(events.FatJet.constituents.pf, axis=2) > 0)\n",
    "events = events[ak.all(cut_to_fix_softdrop, axis=1)]"
   ]
  },
  {
   "cell_type": "code",
   "execution_count": 22,
   "id": "f3658ac7-8de0-4b73-9c55-276ef952fc4f",
   "metadata": {},
   "outputs": [],
   "source": [
    "fatjetSelect = (\n",
    "            (events.FatJet.pt > 400)\n",
    "            & (events.FatJet.pt < 800)\n",
    "            #& (events.FatJet.num_subjets >= 3)\n",
    "            & (abs(events.FatJet.eta) < 2.5)\n",
    "            & (events.FatJet.msoftdrop > 90)\n",
    "            & (events.FatJet.msoftdrop < 150)\n",
    "        )\n",
    "# events = uncut_events[\n",
    "#     ak.any(fatjetSelect, axis=1)\n",
    "# ]\n",
    "\n",
    "events[\"goodjets\"] = events.FatJet[fatjetSelect]\n",
    "\n",
    "# cut = (ak.num(uncut_events.FatJet.constituents.pf, axis=2) > 0)\n",
    "# events = uncut_events[ak.all(cut, axis=1)]"
   ]
  },
  {
   "cell_type": "code",
   "execution_count": 25,
   "id": "01ed37d2-cbff-4357-9e4e-0ce360ae368b",
   "metadata": {},
   "outputs": [
    {
     "data": {
      "text/plain": [
       "(<Array [] type='0 * int64'>,)"
      ]
     },
     "execution_count": 25,
     "metadata": {},
     "output_type": "execute_result"
    }
   ],
   "source": [
    "ak.where(ak.flatten(events.goodjets.pt) > 800)"
   ]
  },
  {
   "cell_type": "code",
   "execution_count": 148,
   "id": "db79fb8d-061f-41fd-b5bf-743054cdab42",
   "metadata": {},
   "outputs": [],
   "source": [
    "events['FatJet', 'd2b1'] = ak.unflatten(\n",
    "     d2_calc(events.FatJet), counts=ak.num(events.FatJet)\n",
    ")"
   ]
  },
  {
   "cell_type": "code",
   "execution_count": 9,
   "id": "a05d468b-5660-47a5-bdc7-a4e724f2c72d",
   "metadata": {},
   "outputs": [
    {
     "data": {
      "text/plain": [
       "['area',\n",
       " 'btagCSVV2',\n",
       " 'btagDDBvLV2',\n",
       " 'btagDDCvBV2',\n",
       " 'btagDDCvLV2',\n",
       " 'btagDeepB',\n",
       " 'btagHbb',\n",
       " 'deepTagMD_H4qvsQCD',\n",
       " 'deepTagMD_HbbvsQCD',\n",
       " 'deepTagMD_TvsQCD',\n",
       " 'deepTagMD_WvsQCD',\n",
       " 'deepTagMD_ZHbbvsQCD',\n",
       " 'deepTagMD_ZHccvsQCD',\n",
       " 'deepTagMD_ZbbvsQCD',\n",
       " 'deepTagMD_ZvsQCD',\n",
       " 'deepTagMD_bbvsLight',\n",
       " 'deepTagMD_ccvsLight',\n",
       " 'deepTag_H',\n",
       " 'deepTag_QCD',\n",
       " 'deepTag_QCDothers',\n",
       " 'deepTag_TvsQCD',\n",
       " 'deepTag_WvsQCD',\n",
       " 'deepTag_ZvsQCD',\n",
       " 'eta',\n",
       " 'mass',\n",
       " 'msoftdrop',\n",
       " 'n2b1',\n",
       " 'n3b1',\n",
       " 'particleNetMD_QCD',\n",
       " 'particleNetMD_Xbb',\n",
       " 'particleNetMD_Xcc',\n",
       " 'particleNetMD_Xqq',\n",
       " 'particleNet_H4qvsQCD',\n",
       " 'particleNet_HbbvsQCD',\n",
       " 'particleNet_HccvsQCD',\n",
       " 'particleNet_QCD',\n",
       " 'particleNet_TvsQCD',\n",
       " 'particleNet_WvsQCD',\n",
       " 'particleNet_ZvsQCD',\n",
       " 'particleNet_mass',\n",
       " 'phi',\n",
       " 'pt',\n",
       " 'rawFactor',\n",
       " 'tau1',\n",
       " 'tau2',\n",
       " 'tau3',\n",
       " 'tau4',\n",
       " 'lsf3',\n",
       " 'jetId',\n",
       " 'subJetIdx1',\n",
       " 'subJetIdx2',\n",
       " 'electronIdx3SJ',\n",
       " 'muonIdx3SJ',\n",
       " 'nConstituents',\n",
       " 'DDX_tau1_flightDistance2dSig',\n",
       " 'DDX_tau1_trackEtaRel_0',\n",
       " 'DDX_tau1_trackEtaRel_1',\n",
       " 'DDX_tau1_trackEtaRel_2',\n",
       " 'DDX_tau1_trackSip3dSig_0',\n",
       " 'DDX_tau1_trackSip3dSig_1',\n",
       " 'DDX_tau1_vertexDeltaR',\n",
       " 'DDX_tau1_vertexEnergyRatio',\n",
       " 'DDX_tau1_vertexMass',\n",
       " 'DDX_tau2_flightDistance2dSig',\n",
       " 'DDX_tau2_trackEtaRel_0',\n",
       " 'DDX_tau2_trackEtaRel_1',\n",
       " 'DDX_tau2_trackEtaRel_3',\n",
       " 'DDX_tau2_trackSip3dSig_0',\n",
       " 'DDX_tau2_trackSip3dSig_1',\n",
       " 'DDX_tau2_vertexEnergyRatio',\n",
       " 'DDX_tau2_vertexMass',\n",
       " 'DDX_trackSip2dSigAboveBottom_0',\n",
       " 'DDX_trackSip2dSigAboveBottom_1',\n",
       " 'DDX_trackSip2dSigAboveCharm',\n",
       " 'DDX_trackSip3dSig_0',\n",
       " 'DDX_trackSip3dSig_1',\n",
       " 'DDX_trackSip3dSig_2',\n",
       " 'DDX_trackSip3dSig_3',\n",
       " 'DDX_z_ratio',\n",
       " 'Proba',\n",
       " 'btagDeepB_b',\n",
       " 'btagDeepB_bb',\n",
       " 'btagDeepL',\n",
       " 'DDX_jetNSecondaryVertices',\n",
       " 'DDX_jetNTracks',\n",
       " 'nBHadrons',\n",
       " 'nCHadrons',\n",
       " 'genJetAK8Idx',\n",
       " 'hadronFlavour',\n",
       " 'genJetAK8IdxG',\n",
       " 'subJetIdx1G',\n",
       " 'subJetIdx2G',\n",
       " 'electronIdx3SJG',\n",
       " 'muonIdx3SJG',\n",
       " 'subJetIdxG',\n",
       " 'pFCandsIdxG']"
      ]
     },
     "execution_count": 9,
     "metadata": {},
     "output_type": "execute_result"
    }
   ],
   "source": [
    "events.FatJet.fields"
   ]
  },
  {
   "cell_type": "code",
   "execution_count": 28,
   "id": "db1c3578-337c-478d-b762-fe1a446167c2",
   "metadata": {},
   "outputs": [],
   "source": [
    "import pandas as pd\n",
    "a = pd.read_parquet('/project01/ndcms/cmoore24/skims/fatjet_skims/hgg', engine='fastparquet')"
   ]
  },
  {
   "cell_type": "code",
   "execution_count": 29,
   "id": "66346319-30c1-4fbd-b24a-a523bdb3dac2",
   "metadata": {},
   "outputs": [
    {
     "data": {
      "text/plain": [
       "Index(['FatJets.area', 'FatJets.btagCSVV2', 'FatJets.btagDDBvLV2',\n",
       "       'FatJets.btagDDCvBV2', 'FatJets.btagDDCvLV2', 'FatJets.btagDeepB',\n",
       "       'FatJets.btagHbb', 'FatJets.deepTagMD_H4qvsQCD',\n",
       "       'FatJets.deepTagMD_HbbvsQCD', 'FatJets.deepTagMD_TvsQCD',\n",
       "       'FatJets.deepTagMD_WvsQCD', 'FatJets.deepTagMD_ZHbbvsQCD',\n",
       "       'FatJets.deepTagMD_ZHccvsQCD', 'FatJets.deepTagMD_ZbbvsQCD',\n",
       "       'FatJets.deepTagMD_ZvsQCD', 'FatJets.deepTagMD_bbvsLight',\n",
       "       'FatJets.deepTagMD_ccvsLight', 'FatJets.deepTag_H',\n",
       "       'FatJets.deepTag_QCD', 'FatJets.deepTag_QCDothers',\n",
       "       'FatJets.deepTag_TvsQCD', 'FatJets.deepTag_WvsQCD',\n",
       "       'FatJets.deepTag_ZvsQCD', 'FatJets.eta', 'FatJets.mass',\n",
       "       'FatJets.msoftdrop', 'FatJets.n2b1', 'FatJets.n3b1',\n",
       "       'FatJets.particleNetMD_QCD', 'FatJets.particleNetMD_Xbb',\n",
       "       'FatJets.particleNetMD_Xcc', 'FatJets.particleNetMD_Xqq',\n",
       "       'FatJets.particleNet_H4qvsQCD', 'FatJets.particleNet_HbbvsQCD',\n",
       "       'FatJets.particleNet_HccvsQCD', 'FatJets.particleNet_QCD',\n",
       "       'FatJets.particleNet_TvsQCD', 'FatJets.particleNet_WvsQCD',\n",
       "       'FatJets.particleNet_ZvsQCD', 'FatJets.particleNet_mass', 'FatJets.phi',\n",
       "       'FatJets.pt', 'FatJets.rawFactor', 'FatJets.tau1', 'FatJets.tau2',\n",
       "       'FatJets.tau3', 'FatJets.tau4', 'FatJets.lsf3', 'FatJets.jetId',\n",
       "       'FatJets.subJetIdx1', 'FatJets.subJetIdx2', 'FatJets.electronIdx3SJ',\n",
       "       'FatJets.muonIdx3SJ', 'FatJets.nConstituents',\n",
       "       'FatJets.DDX_tau1_flightDistance2dSig',\n",
       "       'FatJets.DDX_tau1_trackEtaRel_0', 'FatJets.DDX_tau1_trackEtaRel_1',\n",
       "       'FatJets.DDX_tau1_trackEtaRel_2', 'FatJets.DDX_tau1_trackSip3dSig_0',\n",
       "       'FatJets.DDX_tau1_trackSip3dSig_1', 'FatJets.DDX_tau1_vertexDeltaR',\n",
       "       'FatJets.DDX_tau1_vertexEnergyRatio', 'FatJets.DDX_tau1_vertexMass',\n",
       "       'FatJets.DDX_tau2_flightDistance2dSig',\n",
       "       'FatJets.DDX_tau2_trackEtaRel_0', 'FatJets.DDX_tau2_trackEtaRel_1',\n",
       "       'FatJets.DDX_tau2_trackEtaRel_3', 'FatJets.DDX_tau2_trackSip3dSig_0',\n",
       "       'FatJets.DDX_tau2_trackSip3dSig_1',\n",
       "       'FatJets.DDX_tau2_vertexEnergyRatio', 'FatJets.DDX_tau2_vertexMass',\n",
       "       'FatJets.DDX_trackSip2dSigAboveBottom_0',\n",
       "       'FatJets.DDX_trackSip2dSigAboveBottom_1',\n",
       "       'FatJets.DDX_trackSip2dSigAboveCharm', 'FatJets.DDX_trackSip3dSig_0',\n",
       "       'FatJets.DDX_trackSip3dSig_1', 'FatJets.DDX_trackSip3dSig_2',\n",
       "       'FatJets.DDX_trackSip3dSig_3', 'FatJets.DDX_z_ratio', 'FatJets.Proba',\n",
       "       'FatJets.btagDeepB_b', 'FatJets.btagDeepB_bb', 'FatJets.btagDeepL',\n",
       "       'FatJets.DDX_jetNSecondaryVertices', 'FatJets.DDX_jetNTracks',\n",
       "       'FatJets.nBHadrons', 'FatJets.nCHadrons', 'FatJets.genJetAK8Idx',\n",
       "       'FatJets.hadronFlavour', 'FatJets.genJetAK8IdxG', 'FatJets.subJetIdx1G',\n",
       "       'FatJets.subJetIdx2G', 'FatJets.electronIdx3SJG', 'FatJets.muonIdx3SJG',\n",
       "       'FatJets.subJetIdxG', 'FatJets.pFCandsIdxG', 'FatJets.num_subjets'],\n",
       "      dtype='object')"
      ]
     },
     "execution_count": 29,
     "metadata": {},
     "output_type": "execute_result"
    }
   ],
   "source": [
    "a.keys()"
   ]
  },
  {
   "cell_type": "code",
   "execution_count": null,
   "id": "8b711be1-88c8-444b-a83e-6bc0f31586c6",
   "metadata": {},
   "outputs": [],
   "source": []
  }
 ],
 "metadata": {
  "kernelspec": {
   "display_name": "Python 3 (ipykernel)",
   "language": "python",
   "name": "python3"
  },
  "language_info": {
   "codemirror_mode": {
    "name": "ipython",
    "version": 3
   },
   "file_extension": ".py",
   "mimetype": "text/x-python",
   "name": "python",
   "nbconvert_exporter": "python",
   "pygments_lexer": "ipython3",
   "version": "3.10.13"
  }
 },
 "nbformat": 4,
 "nbformat_minor": 5
}
