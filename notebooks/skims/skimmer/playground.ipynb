{
 "cells": [
  {
   "cell_type": "code",
   "execution_count": 1,
   "id": "7a852bb0-5308-4724-80a5-4e80c6a4cda1",
   "metadata": {},
   "outputs": [
    {
     "name": "stderr",
     "output_type": "stream",
     "text": [
      "/tmp/ipykernel_1298935/3549297373.py:8: FutureWarning: In version 2024.7.0 (target date: 2024-06-30 11:59:59-05:00), this will be an error.\n",
      "To raise these warnings as errors (and get stack traces to find out where they're called), run\n",
      "    import warnings\n",
      "    warnings.filterwarnings(\"error\", module=\"coffea.*\")\n",
      "after the first `import coffea` or use `@pytest.mark.filterwarnings(\"error:::coffea.*\")` in pytest.\n",
      "Issue: coffea.nanoevents.methods.vector will be removed and replaced with scikit-hep vector. Nanoevents schemas internal to coffea will be migrated. Otherwise please consider using that package!.\n",
      "  import coffea.nanoevents.methods.vector as vector\n"
     ]
    }
   ],
   "source": [
    "from coffea.nanoevents import NanoEventsFactory, BaseSchema, PFNanoAODSchema\n",
    "import json\n",
    "import fastjet\n",
    "import numpy as np\n",
    "import awkward as ak\n",
    "from coffea import processor\n",
    "import hist\n",
    "import coffea.nanoevents.methods.vector as vector\n",
    "import warnings\n",
    "import matplotlib.pyplot as plt\n",
    "import math\n",
    "from variable_functions import *\n",
    "import os\n",
    "import dask_awkward as dak\n",
    "import scipy"
   ]
  },
  {
   "cell_type": "code",
   "execution_count": 2,
   "id": "67cf206a-b8c1-48fc-8af8-a100d1508db2",
   "metadata": {},
   "outputs": [],
   "source": [
    "warnings.filterwarnings(\"ignore\", module=\"coffea.*\")\n",
    "warnings.filterwarnings(\"ignore\", \"Found duplicate branch\")\n",
    "warnings.filterwarnings(\"ignore\", \"Missing cross-reference index for\")\n",
    "warnings.filterwarnings(\"ignore\", \"dcut\")\n",
    "warnings.filterwarnings(\"ignore\", \"Please ensure\")\n",
    "warnings.filterwarnings(\"ignore\", \"invalid value\")"
   ]
  },
  {
   "cell_type": "code",
   "execution_count": 3,
   "id": "638902a7-e450-40a1-b470-ba3d24efc2da",
   "metadata": {},
   "outputs": [],
   "source": [
    "files = os.listdir('/project01/ndcms/cmoore24/samples/hbb/')[:1]"
   ]
  },
  {
   "cell_type": "code",
   "execution_count": 4,
   "id": "9e527ca8-247f-4f9f-95b5-ac8c974ae800",
   "metadata": {},
   "outputs": [
    {
     "data": {
      "text/plain": [
       "['nano_mc2017_1-1.root']"
      ]
     },
     "execution_count": 4,
     "metadata": {},
     "output_type": "execute_result"
    }
   ],
   "source": [
    "files"
   ]
  },
  {
   "cell_type": "code",
   "execution_count": 5,
   "id": "1b85406c-d3a6-4a1e-aaee-74529e5bad11",
   "metadata": {},
   "outputs": [],
   "source": [
    "events = NanoEventsFactory.from_root(\n",
    "    [{'/project01/ndcms/cmoore24/samples/hbb/' + i: \"/Events\"} for i in files],\n",
    "    delayed=True,\n",
    "    schemaclass=PFNanoAODSchema,\n",
    "    metadata={\"dataset\": \"Hbb\"},\n",
    ").events()"
   ]
  },
  {
   "cell_type": "code",
   "execution_count": 6,
   "id": "ab608bfc-149b-4912-a0f4-28764a9d65a7",
   "metadata": {},
   "outputs": [],
   "source": [
    "events['PFCands', 'pt'] = (\n",
    "    events.PFCands.pt\n",
    "    * events.PFCands.puppiWeight\n",
    ")"
   ]
  },
  {
   "cell_type": "code",
   "execution_count": 7,
   "id": "52c56d64-e90e-400f-9b37-27f9df69a32b",
   "metadata": {},
   "outputs": [],
   "source": [
    "cut_to_fix_softdrop = (ak.num(events.FatJet.constituents.pf, axis=2) > 0)\n",
    "events = events[ak.all(cut_to_fix_softdrop, axis=1)]"
   ]
  },
  {
   "cell_type": "code",
   "execution_count": 24,
   "id": "f3658ac7-8de0-4b73-9c55-276ef952fc4f",
   "metadata": {},
   "outputs": [],
   "source": [
    "genhiggs = events.GenPart[\n",
    "    (events.GenPart.pdgId == 25)\n",
    "    & events.GenPart.hasFlags([\"fromHardProcess\", \"isLastCopy\"])\n",
    "]\n",
    "parents = events.FatJet.nearest(genhiggs, threshold=0.2)\n",
    "higgs_jets = ~ak.is_none(parents, axis=1)\n",
    "\n",
    "fatjetSelect = (\n",
    "            (events.FatJet.pt > 400)\n",
    "            #& (events.FatJet.num_subjets >= 3)\n",
    "            & (abs(events.FatJet.eta) < 2.4)\n",
    "            & (events.FatJet.msoftdrop > 40)\n",
    "            & (events.FatJet.msoftdrop < 200)\n",
    "            & (higgs_jets)\n",
    "        )\n",
    "\n",
    "events[\"goodjets\"] = events.FatJet[fatjetSelect]\n",
    "mask = ~ak.is_none(ak.firsts(events.goodjets))\n",
    "events = events[mask]\n",
    "events['ecfs'] = dak.from_awkward(ak.Array([[{}]]), npartitions=1)\n",
    "for n in range(2,3):\n",
    "    for v in range(1, int(scipy.special.binom(n, 2))+1):\n",
    "        for b in range(5, 10, 5):\n",
    "            ecf_name = f'{v}e{n}^{b/10}'\n",
    "            events['ecfs', ecf_name] = make_ecf(events.goodjets, n=n, v=v, b=b/10)\n",
    "# cut = (ak.num(uncut_events.FatJet.constituents.pf, axis=2) > 0)\n",
    "# events = uncut_events[ak.all(cut, axis=1)]"
   ]
  },
  {
   "cell_type": "code",
   "execution_count": 26,
   "id": "e6678bc8-96ca-431a-83fe-33809ba01d60",
   "metadata": {},
   "outputs": [
    {
     "data": {
      "text/plain": [
       "1"
      ]
     },
     "execution_count": 26,
     "metadata": {},
     "output_type": "execute_result"
    }
   ],
   "source": [
    "events.goodjets.npartitions"
   ]
  },
  {
   "cell_type": "code",
   "execution_count": 35,
   "id": "799bb74c-746d-4eae-bece-dc35ae404ed0",
   "metadata": {},
   "outputs": [],
   "source": [
    "a = events.goodjets[[x for x in ak.fields(events.goodjets) if x == 'area']]"
   ]
  },
  {
   "cell_type": "code",
   "execution_count": 36,
   "id": "0fa83e10-8275-46c5-b8f6-108318cd9e66",
   "metadata": {},
   "outputs": [
    {
     "data": {
      "text/html": [
       "<pre>[[{area: 1.96}],\n",
       " [{area: 2.01}],\n",
       " [{area: 2.04}],\n",
       " [{area: 2}],\n",
       " [{area: 1.98}],\n",
       " [{area: 2.01}],\n",
       " [{area: 2.33}],\n",
       " [{area: 2.01}],\n",
       " [{area: 2}],\n",
       " [{area: 2}],\n",
       " ...,\n",
       " [{area: 1.97}],\n",
       " [{area: 2.05}],\n",
       " [{area: 2.01}],\n",
       " [{area: 2}],\n",
       " [{area: 2.01}],\n",
       " [{area: 2.09}],\n",
       " [{area: 1.97}],\n",
       " [{area: 1.98}],\n",
       " [{area: 2.03}]]\n",
       "-------------------------------------------------------------------------\n",
       "type: 261 * var * {\n",
       "    area: float32[parameters={&quot;__doc__&quot;: &quot;jet catchment area, for JECs&quot;}]\n",
       "}</pre>"
      ],
      "text/plain": [
       "<Array [[{area: 1.96}], [{...}], ..., [{...}]] type='261 * var * {area: flo...'>"
      ]
     },
     "execution_count": 36,
     "metadata": {},
     "output_type": "execute_result"
    }
   ],
   "source": [
    "a.compute()"
   ]
  },
  {
   "cell_type": "code",
   "execution_count": null,
   "id": "d1929878-9c20-4c90-8e99-e43cbd7711d1",
   "metadata": {},
   "outputs": [],
   "source": []
  },
  {
   "cell_type": "code",
   "execution_count": null,
   "id": "5af12915-09fe-452b-9ba8-118557269855",
   "metadata": {},
   "outputs": [],
   "source": []
  },
  {
   "cell_type": "code",
   "execution_count": null,
   "id": "5d0e6fa5-4424-4f84-bfa2-816ca826671e",
   "metadata": {},
   "outputs": [],
   "source": []
  },
  {
   "cell_type": "code",
   "execution_count": null,
   "id": "6e423063-94f0-4cad-9a60-0a737706b803",
   "metadata": {},
   "outputs": [],
   "source": []
  },
  {
   "cell_type": "code",
   "execution_count": null,
   "id": "d8d40c8b-a7af-4ec6-808a-44e6eca446d9",
   "metadata": {},
   "outputs": [],
   "source": []
  },
  {
   "cell_type": "code",
   "execution_count": null,
   "id": "df2b9190-12ca-404b-b88f-091bda9796d4",
   "metadata": {},
   "outputs": [],
   "source": []
  },
  {
   "cell_type": "code",
   "execution_count": null,
   "id": "ffdfee86-294a-4844-8722-fabbac04f543",
   "metadata": {},
   "outputs": [],
   "source": []
  },
  {
   "cell_type": "code",
   "execution_count": null,
   "id": "9021df54-d89e-4f2d-b669-96505f4ae10c",
   "metadata": {},
   "outputs": [],
   "source": []
  },
  {
   "cell_type": "code",
   "execution_count": 61,
   "id": "746dd31a-6e80-48be-aec7-d2cc6a07c2a8",
   "metadata": {},
   "outputs": [],
   "source": [
    "events = NanoEventsFactory.from_root(\n",
    "    {'/project01/ndcms/cmoore24/samples/hbb/' + files[0]: \"/Events\"},\n",
    "    delayed=False,\n",
    "    schemaclass=PFNanoAODSchema,\n",
    "    metadata={\"dataset\": \"Hbb\"},\n",
    ").events()"
   ]
  },
  {
   "cell_type": "code",
   "execution_count": 62,
   "id": "f435bbdf-8012-40ce-8361-c21698af6ae2",
   "metadata": {},
   "outputs": [],
   "source": [
    "events['PFCands', 'pt'] = (\n",
    "    events.PFCands.pt\n",
    "    * events.PFCands.puppiWeight\n",
    ")"
   ]
  },
  {
   "cell_type": "code",
   "execution_count": 63,
   "id": "391f0d69-ce85-4c47-84d2-2125c9ecfc7f",
   "metadata": {},
   "outputs": [],
   "source": [
    "cut_to_fix_softdrop = (ak.num(events.FatJet.constituents.pf, axis=2) > 0)\n",
    "events = events[ak.all(cut_to_fix_softdrop, axis=1)]"
   ]
  },
  {
   "cell_type": "code",
   "execution_count": 64,
   "id": "982e9185-756b-4df0-9ece-de8a20ab513c",
   "metadata": {},
   "outputs": [],
   "source": [
    "genhiggs = events.GenPart[\n",
    "    (events.GenPart.pdgId == 25)\n",
    "    & events.GenPart.hasFlags([\"fromHardProcess\", \"isLastCopy\"])\n",
    "]\n",
    "parents = events.FatJet.nearest(genhiggs, threshold=0.2)\n",
    "higgs_jets = ~ak.is_none(parents, axis=1)"
   ]
  },
  {
   "cell_type": "code",
   "execution_count": 65,
   "id": "85a81eed-7746-4226-840e-e581d7c1e945",
   "metadata": {},
   "outputs": [],
   "source": [
    "fatjetSelect = (\n",
    "            (events.FatJet.pt > 400)\n",
    "            #& (events.FatJet.num_subjets >= 3)\n",
    "            & (abs(events.FatJet.eta) < 2.4)\n",
    "            & (events.FatJet.msoftdrop > 40)\n",
    "            & (events.FatJet.msoftdrop < 200)\n",
    "            & (higgs_jets)\n",
    "        )"
   ]
  },
  {
   "cell_type": "code",
   "execution_count": 66,
   "id": "b8964c27-cd33-4897-849a-057cd5b7f2f9",
   "metadata": {},
   "outputs": [],
   "source": [
    "events[\"goodjets\"] = events.FatJet[fatjetSelect]"
   ]
  },
  {
   "cell_type": "code",
   "execution_count": 67,
   "id": "ed01480e-690d-4fef-a901-70709ef7577d",
   "metadata": {},
   "outputs": [],
   "source": [
    "mask = ~ak.is_none(ak.firsts(events.goodjets))"
   ]
  },
  {
   "cell_type": "code",
   "execution_count": 68,
   "id": "fafbd08d-c451-4766-89f7-f74de0c43a16",
   "metadata": {},
   "outputs": [],
   "source": [
    "events = events[mask]"
   ]
  },
  {
   "cell_type": "code",
   "execution_count": 10,
   "id": "491773fa-e065-459d-82cc-fc5aedfa1a8e",
   "metadata": {},
   "outputs": [],
   "source": [
    "a = os.listdir('/project01/ndcms/cmoore24/skims/test/hbb/')[:2]"
   ]
  },
  {
   "cell_type": "code",
   "execution_count": 12,
   "id": "53a2b6f4-ee8e-4c54-b7da-87d88acfa5bf",
   "metadata": {},
   "outputs": [
    {
     "data": {
      "text/plain": [
       "dask.awkward<from-parquet, npartitions=2>"
      ]
     },
     "execution_count": 12,
     "metadata": {},
     "output_type": "execute_result"
    }
   ],
   "source": [
    "dak.from_parquet(['/project01/ndcms/cmoore24/skims/test/hbb/' + i for i in a])"
   ]
  },
  {
   "cell_type": "code",
   "execution_count": null,
   "id": "2380761d-e45a-4414-bf1d-b45559cdacbb",
   "metadata": {},
   "outputs": [],
   "source": []
  }
 ],
 "metadata": {
  "kernelspec": {
   "display_name": "Python 3 (ipykernel)",
   "language": "python",
   "name": "python3"
  },
  "language_info": {
   "codemirror_mode": {
    "name": "ipython",
    "version": 3
   },
   "file_extension": ".py",
   "mimetype": "text/x-python",
   "name": "python",
   "nbconvert_exporter": "python",
   "pygments_lexer": "ipython3",
   "version": "3.11.9"
  }
 },
 "nbformat": 4,
 "nbformat_minor": 5
}
