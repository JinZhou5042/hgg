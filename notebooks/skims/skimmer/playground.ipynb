{
 "cells": [
  {
   "cell_type": "code",
   "execution_count": 1,
   "id": "7a852bb0-5308-4724-80a5-4e80c6a4cda1",
   "metadata": {},
   "outputs": [
    {
     "name": "stderr",
     "output_type": "stream",
     "text": [
      "/tmp/ipykernel_3153559/4208829920.py:8: FutureWarning: In version 2024.7.0 (target date: 2024-06-30 11:59:59-05:00), this will be an error.\n",
      "To raise these warnings as errors (and get stack traces to find out where they're called), run\n",
      "    import warnings\n",
      "    warnings.filterwarnings(\"error\", module=\"coffea.*\")\n",
      "after the first `import coffea` or use `@pytest.mark.filterwarnings(\"error:::coffea.*\")` in pytest.\n",
      "Issue: coffea.nanoevents.methods.vector will be removed and replaced with scikit-hep vector. Nanoevents schemas internal to coffea will be migrated. Otherwise please consider using that package!.\n",
      "  import coffea.nanoevents.methods.vector as vector\n"
     ]
    }
   ],
   "source": [
    "from coffea.nanoevents import NanoEventsFactory, BaseSchema, PFNanoAODSchema\n",
    "import json\n",
    "import fastjet\n",
    "import numpy as np\n",
    "import awkward as ak\n",
    "from coffea import processor\n",
    "import hist\n",
    "import coffea.nanoevents.methods.vector as vector\n",
    "import warnings\n",
    "import matplotlib.pyplot as plt\n",
    "import math\n",
    "from variable_functions import *\n",
    "import os"
   ]
  },
  {
   "cell_type": "code",
   "execution_count": 2,
   "id": "67cf206a-b8c1-48fc-8af8-a100d1508db2",
   "metadata": {},
   "outputs": [],
   "source": [
    "warnings.filterwarnings(\"ignore\", module=\"coffea.*\")\n",
    "warnings.filterwarnings(\"ignore\", \"Found duplicate branch\")\n",
    "warnings.filterwarnings(\"ignore\", \"Missing cross-reference index for\")\n",
    "warnings.filterwarnings(\"ignore\", \"dcut\")\n",
    "warnings.filterwarnings(\"ignore\", \"Please ensure\")\n",
    "warnings.filterwarnings(\"ignore\", \"invalid value\")"
   ]
  },
  {
   "cell_type": "code",
   "execution_count": 40,
   "id": "638902a7-e450-40a1-b470-ba3d24efc2da",
   "metadata": {},
   "outputs": [],
   "source": [
    "files = os.listdir('/project01/ndcms/cmoore24/samples/hbb/')"
   ]
  },
  {
   "cell_type": "code",
   "execution_count": 41,
   "id": "1b85406c-d3a6-4a1e-aaee-74529e5bad11",
   "metadata": {},
   "outputs": [],
   "source": [
    "events = NanoEventsFactory.from_root(\n",
    "    [{'/project01/ndcms/cmoore24/samples/hbb/' + i: \"/Events\"} for i in files],\n",
    "    delayed=True,\n",
    "    schemaclass=PFNanoAODSchema,\n",
    "    metadata={\"dataset\": \"Hbb\"},\n",
    ").events()"
   ]
  },
  {
   "cell_type": "code",
   "execution_count": 42,
   "id": "52c56d64-e90e-400f-9b37-27f9df69a32b",
   "metadata": {},
   "outputs": [],
   "source": [
    "cut_to_fix_softdrop = (ak.num(events.FatJet.constituents.pf, axis=2) > 0)\n",
    "events = events[ak.all(cut_to_fix_softdrop, axis=1)]"
   ]
  },
  {
   "cell_type": "code",
   "execution_count": 13,
   "id": "f3658ac7-8de0-4b73-9c55-276ef952fc4f",
   "metadata": {},
   "outputs": [],
   "source": [
    "fatjetSelect = (\n",
    "            (events.FatJet.pt > 400)\n",
    "            #& (events.FatJet.num_subjets >= 3)\n",
    "            & (abs(events.FatJet.eta) < 2.4)\n",
    "            & (events.FatJet.msoftdrop > 40)\n",
    "            & (events.FatJet.msoftdrop < 200)\n",
    "        )\n",
    "# events = uncut_events[\n",
    "#     ak.any(fatjetSelect, axis=1)\n",
    "# ]\n",
    "\n",
    "events[\"goodjets\"] = events.FatJet[fatjetSelect]\n",
    "\n",
    "# cut = (ak.num(uncut_events.FatJet.constituents.pf, axis=2) > 0)\n",
    "# events = uncut_events[ak.all(cut, axis=1)]"
   ]
  },
  {
   "cell_type": "code",
   "execution_count": 15,
   "id": "6269d837-99f8-4cae-a033-556d217637fb",
   "metadata": {},
   "outputs": [],
   "source": [
    "num_goodjets_events = events.goodjets.pt.compute()"
   ]
  },
  {
   "cell_type": "code",
   "execution_count": 18,
   "id": "e27738fb-34a1-47c4-8c77-58ec28c3736c",
   "metadata": {},
   "outputs": [
    {
     "data": {
      "text/plain": [
       "37216"
      ]
     },
     "execution_count": 18,
     "metadata": {},
     "output_type": "execute_result"
    }
   ],
   "source": [
    "len(ak.flatten(num_goodjets_events))"
   ]
  },
  {
   "cell_type": "code",
   "execution_count": 43,
   "id": "0e35975a-c90e-41d9-8898-aa44d7166f5b",
   "metadata": {},
   "outputs": [],
   "source": [
    "num_sub = ak.unflatten(num_subjets(events.FatJet, cluster_val=0.4), counts=ak.num(events.FatJet))\n",
    "events['FatJet', 'num_subjets'] = num_sub\n",
    "fatjetSelect = (\n",
    "            (events.FatJet.pt > 400)\n",
    "            & (events.FatJet.num_subjets >= 3)\n",
    "            & (abs(events.FatJet.eta) < 2.4)\n",
    "            & (events.FatJet.msoftdrop > 40)\n",
    "            & (events.FatJet.msoftdrop < 200)\n",
    "        )\n",
    "\n",
    "events[\"goodjets\"] = events.FatJet[fatjetSelect]"
   ]
  },
  {
   "cell_type": "code",
   "execution_count": 44,
   "id": "db72ca79-a498-4723-adc5-cfbac36002d5",
   "metadata": {},
   "outputs": [],
   "source": [
    "subcut_goodjets_events = events.goodjets.pt.compute()"
   ]
  },
  {
   "cell_type": "code",
   "execution_count": 46,
   "id": "b63a12d8-919e-4b16-aa9d-604f75f9639d",
   "metadata": {},
   "outputs": [
    {
     "data": {
      "text/plain": [
       "33945"
      ]
     },
     "execution_count": 46,
     "metadata": {},
     "output_type": "execute_result"
    }
   ],
   "source": [
    "len(ak.flatten(subcut_goodjets_events))"
   ]
  },
  {
   "cell_type": "code",
   "execution_count": 23,
   "id": "782d6d1e-8a1c-4ab4-bd8d-9a0cb10100bf",
   "metadata": {},
   "outputs": [
    {
     "data": {
      "text/plain": [
       "3271"
      ]
     },
     "execution_count": 23,
     "metadata": {},
     "output_type": "execute_result"
    }
   ],
   "source": [
    "(37216 - 33945)"
   ]
  },
  {
   "cell_type": "code",
   "execution_count": 49,
   "id": "1456b54a-4ca5-4b84-93f6-14133a89acd4",
   "metadata": {},
   "outputs": [
    {
     "data": {
      "text/plain": [
       "0.08789230438521066"
      ]
     },
     "execution_count": 49,
     "metadata": {},
     "output_type": "execute_result"
    }
   ],
   "source": [
    "3271/37216"
   ]
  },
  {
   "cell_type": "code",
   "execution_count": 45,
   "id": "c15c421e-ef46-4706-8471-73f56d5338eb",
   "metadata": {},
   "outputs": [
    {
     "data": {
      "text/plain": [
       "497000"
      ]
     },
     "execution_count": 45,
     "metadata": {},
     "output_type": "execute_result"
    }
   ],
   "source": [
    "len(subcut_goodjets_events)"
   ]
  },
  {
   "cell_type": "code",
   "execution_count": 48,
   "id": "ccb39550-9ed6-4568-ba6f-41b86993f6cd",
   "metadata": {},
   "outputs": [
    {
     "data": {
      "text/plain": [
       "0.07488128772635816"
      ]
     },
     "execution_count": 48,
     "metadata": {},
     "output_type": "execute_result"
    }
   ],
   "source": [
    "1-(497000-37216)/497000"
   ]
  },
  {
   "cell_type": "code",
   "execution_count": 50,
   "id": "3fcabc88-260b-46aa-873d-fa28c8b50fab",
   "metadata": {},
   "outputs": [
    {
     "data": {
      "text/plain": [
       "0.0682997987927565"
      ]
     },
     "execution_count": 50,
     "metadata": {},
     "output_type": "execute_result"
    }
   ],
   "source": [
    "1-(497000-33945)/497000"
   ]
  },
  {
   "cell_type": "code",
   "execution_count": 61,
   "id": "49d58586-b284-4e73-adfe-19f5ceed2011",
   "metadata": {},
   "outputs": [
    {
     "data": {
      "text/plain": [
       "0.9121076956147887"
      ]
     },
     "execution_count": 61,
     "metadata": {},
     "output_type": "execute_result"
    }
   ],
   "source": [
    "(0.0682997987927565)/(0.07488128772635816)"
   ]
  },
  {
   "cell_type": "code",
   "execution_count": 26,
   "id": "4be7b6bb-4280-478a-bceb-82130b209bf2",
   "metadata": {},
   "outputs": [],
   "source": [
    "files = os.listdir('/project01/ndcms/cmoore24/samples/hgg/')"
   ]
  },
  {
   "cell_type": "code",
   "execution_count": 27,
   "id": "890184b8-1d0e-4eaf-98a1-d467916e9af8",
   "metadata": {},
   "outputs": [],
   "source": [
    "events = NanoEventsFactory.from_root(\n",
    "    [{'/project01/ndcms/cmoore24/samples/hgg/' + i: \"/Events\"} for i in files],\n",
    "    delayed=True,\n",
    "    schemaclass=PFNanoAODSchema,\n",
    "    metadata={\"dataset\": \"Hgg\"},\n",
    ").events()"
   ]
  },
  {
   "cell_type": "code",
   "execution_count": 28,
   "id": "947e00ee-d468-4d41-91ec-6e56287774dd",
   "metadata": {},
   "outputs": [],
   "source": [
    "cut_to_fix_softdrop = (ak.num(events.FatJet.constituents.pf, axis=2) > 0)\n",
    "events = events[ak.all(cut_to_fix_softdrop, axis=1)]"
   ]
  },
  {
   "cell_type": "code",
   "execution_count": 29,
   "id": "0a116459-385f-4c5b-a292-9d3aa50194a1",
   "metadata": {},
   "outputs": [],
   "source": [
    "# num_sub = ak.unflatten(num_subjets(events.FatJet, cluster_val=0.4), counts=ak.num(events.FatJet))\n",
    "# events['FatJet', 'num_subjets'] = num_sub\n",
    "fatjetSelect = (\n",
    "            (events.FatJet.pt > 400)\n",
    "            #& (events.FatJet.num_subjets >= 3)\n",
    "            & (abs(events.FatJet.eta) < 2.4)\n",
    "            & (events.FatJet.msoftdrop > 40)\n",
    "            & (events.FatJet.msoftdrop < 200)\n",
    "        )\n",
    "\n",
    "events[\"goodjets\"] = events.FatJet[fatjetSelect]"
   ]
  },
  {
   "cell_type": "code",
   "execution_count": 30,
   "id": "b55a39d0-33a0-4d13-9afe-193ad0692dac",
   "metadata": {},
   "outputs": [],
   "source": [
    "num_goodjets_events = events.goodjets.pt.compute()"
   ]
  },
  {
   "cell_type": "code",
   "execution_count": 31,
   "id": "68165ed5-ce06-42c2-9851-bc5b122935a1",
   "metadata": {},
   "outputs": [
    {
     "data": {
      "text/plain": [
       "211906"
      ]
     },
     "execution_count": 31,
     "metadata": {},
     "output_type": "execute_result"
    }
   ],
   "source": [
    "len(ak.flatten(num_goodjets_events))"
   ]
  },
  {
   "cell_type": "code",
   "execution_count": 32,
   "id": "a06a00a5-faf0-4738-80e2-fea8dc57640d",
   "metadata": {},
   "outputs": [],
   "source": [
    "num_sub = ak.unflatten(num_subjets(events.FatJet, cluster_val=0.4), counts=ak.num(events.FatJet))\n",
    "events['FatJet', 'num_subjets'] = num_sub\n",
    "fatjetSelect = (\n",
    "            (events.FatJet.pt > 400)\n",
    "            #& (events.FatJet.pt < 800)\n",
    "            & (events.FatJet.num_subjets >= 3)\n",
    "            & (abs(events.FatJet.eta) < 2.4)\n",
    "            & (events.FatJet.msoftdrop > 40)\n",
    "            & (events.FatJet.msoftdrop < 200)\n",
    "        )\n",
    "\n",
    "events[\"goodjets\"] = events.FatJet[fatjetSelect]"
   ]
  },
  {
   "cell_type": "code",
   "execution_count": 33,
   "id": "bca508f0-a0d7-49a1-8ca4-59e2d358086a",
   "metadata": {},
   "outputs": [],
   "source": [
    "subcut_goodjets_events = events.goodjets.pt.compute()"
   ]
  },
  {
   "cell_type": "code",
   "execution_count": 34,
   "id": "e10c1cf7-20cf-49fc-b507-27f30c723042",
   "metadata": {},
   "outputs": [
    {
     "data": {
      "text/plain": [
       "199657"
      ]
     },
     "execution_count": 34,
     "metadata": {},
     "output_type": "execute_result"
    }
   ],
   "source": [
    "len(ak.flatten(subcut_goodjets_events))"
   ]
  },
  {
   "cell_type": "code",
   "execution_count": 36,
   "id": "7e0feaf1-efc8-4289-9db2-d87dd5c9adb2",
   "metadata": {},
   "outputs": [
    {
     "data": {
      "text/plain": [
       "0.057803931932083094"
      ]
     },
     "execution_count": 36,
     "metadata": {},
     "output_type": "execute_result"
    }
   ],
   "source": [
    "(211906-199657)/211906"
   ]
  },
  {
   "cell_type": "code",
   "execution_count": 37,
   "id": "b227fcb3-848f-4a0e-9624-660c847d3604",
   "metadata": {},
   "outputs": [
    {
     "data": {
      "text/plain": [
       "2392373"
      ]
     },
     "execution_count": 37,
     "metadata": {},
     "output_type": "execute_result"
    }
   ],
   "source": [
    "len(subcut_goodjets_events)"
   ]
  },
  {
   "cell_type": "code",
   "execution_count": 51,
   "id": "a24e7c29-7b33-43be-bab2-4675c89aa3f1",
   "metadata": {},
   "outputs": [
    {
     "data": {
      "text/plain": [
       "0.0885756527096736"
      ]
     },
     "execution_count": 51,
     "metadata": {},
     "output_type": "execute_result"
    }
   ],
   "source": [
    "1-(2392373-211906)/2392373"
   ]
  },
  {
   "cell_type": "code",
   "execution_count": 52,
   "id": "7d8787a4-f995-4903-9a5e-6764c5bb9924",
   "metadata": {},
   "outputs": [
    {
     "data": {
      "text/plain": [
       "0.0834556317096038"
      ]
     },
     "execution_count": 52,
     "metadata": {},
     "output_type": "execute_result"
    }
   ],
   "source": [
    "1-(2392373-199657)/2392373"
   ]
  },
  {
   "cell_type": "code",
   "execution_count": 25,
   "id": "01ed37d2-cbff-4357-9e4e-0ce360ae368b",
   "metadata": {},
   "outputs": [
    {
     "data": {
      "text/plain": [
       "(<Array [] type='0 * int64'>,)"
      ]
     },
     "execution_count": 25,
     "metadata": {},
     "output_type": "execute_result"
    }
   ],
   "source": [
    "ak.where(ak.flatten(events.goodjets.pt) > 800)"
   ]
  },
  {
   "cell_type": "code",
   "execution_count": 148,
   "id": "db79fb8d-061f-41fd-b5bf-743054cdab42",
   "metadata": {},
   "outputs": [],
   "source": [
    "events['FatJet', 'd2b1'] = ak.unflatten(\n",
    "     d2_calc(events.FatJet), counts=ak.num(events.FatJet)\n",
    ")"
   ]
  },
  {
   "cell_type": "code",
   "execution_count": 25,
   "id": "a05d468b-5660-47a5-bdc7-a4e724f2c72d",
   "metadata": {},
   "outputs": [],
   "source": [
    "#events.FatJet.fields"
   ]
  },
  {
   "cell_type": "code",
   "execution_count": 28,
   "id": "db1c3578-337c-478d-b762-fe1a446167c2",
   "metadata": {},
   "outputs": [],
   "source": [
    "import pandas as pd\n",
    "a = pd.read_parquet('/project01/ndcms/cmoore24/skims/fatjet_skims/hgg', engine='fastparquet')"
   ]
  },
  {
   "cell_type": "code",
   "execution_count": 24,
   "id": "66346319-30c1-4fbd-b24a-a523bdb3dac2",
   "metadata": {},
   "outputs": [],
   "source": [
    "#a.keys()"
   ]
  },
  {
   "cell_type": "code",
   "execution_count": 62,
   "id": "8b711be1-88c8-444b-a83e-6bc0f31586c6",
   "metadata": {},
   "outputs": [],
   "source": [
    "files = os.listdir('/project01/ndcms/cmoore24/samples/qcd/800to1000')"
   ]
  },
  {
   "cell_type": "code",
   "execution_count": 66,
   "id": "9d7e959f-7d07-437c-939e-d5bbb81b65c7",
   "metadata": {},
   "outputs": [],
   "source": [
    "events = NanoEventsFactory.from_root(\n",
    "    {'/project01/ndcms/cmoore24/samples/qcd/800to1000/' + files[0]: \"/Events\"},\n",
    "    delayed=True,\n",
    "    schemaclass=PFNanoAODSchema,\n",
    "    metadata={\"dataset\": \"QCD_800to1000\"},\n",
    ").events()"
   ]
  },
  {
   "cell_type": "code",
   "execution_count": 67,
   "id": "fea81040-7c34-4087-b76e-219c0e50380b",
   "metadata": {},
   "outputs": [],
   "source": [
    "cut_to_fix_softdrop = (ak.num(events.FatJet.constituents.pf, axis=2) > 0)\n",
    "events = events[ak.all(cut_to_fix_softdrop, axis=1)]"
   ]
  },
  {
   "cell_type": "code",
   "execution_count": 68,
   "id": "43913363-362e-4f22-b8ef-1cc2f60ea238",
   "metadata": {},
   "outputs": [],
   "source": [
    "# num_sub = ak.unflatten(num_subjets(events.FatJet, cluster_val=0.4), counts=ak.num(events.FatJet))\n",
    "# events['FatJet', 'num_subjets'] = num_sub\n",
    "fatjetSelect = (\n",
    "            (events.FatJet.pt > 400)\n",
    "            #& (events.FatJet.num_subjets >= 3)\n",
    "            & (abs(events.FatJet.eta) < 2.4)\n",
    "            & (events.FatJet.msoftdrop > 40)\n",
    "            & (events.FatJet.msoftdrop < 200)\n",
    "        )\n",
    "\n",
    "events[\"goodjets\"] = events.FatJet[fatjetSelect]"
   ]
  },
  {
   "cell_type": "code",
   "execution_count": 69,
   "id": "46ca94c3-6efa-44ce-8e2a-3d9a5a2ebef4",
   "metadata": {},
   "outputs": [],
   "source": [
    "num_goodjets_events = events.goodjets.pt.compute()"
   ]
  },
  {
   "cell_type": "code",
   "execution_count": 70,
   "id": "4e464864-f636-4c0f-a3b9-bed5a45cad92",
   "metadata": {},
   "outputs": [
    {
     "data": {
      "text/plain": [
       "11363"
      ]
     },
     "execution_count": 70,
     "metadata": {},
     "output_type": "execute_result"
    }
   ],
   "source": [
    "len(ak.flatten(num_goodjets_events))"
   ]
  },
  {
   "cell_type": "code",
   "execution_count": 71,
   "id": "a6379d39-461d-45bf-87c7-f92ea0267395",
   "metadata": {},
   "outputs": [],
   "source": [
    "num_sub = ak.unflatten(num_subjets(events.FatJet, cluster_val=0.4), counts=ak.num(events.FatJet))\n",
    "events['FatJet', 'num_subjets'] = num_sub\n",
    "fatjetSelect = (\n",
    "            (events.FatJet.pt > 400)\n",
    "            #& (events.FatJet.pt < 800)\n",
    "            & (events.FatJet.num_subjets >= 3)\n",
    "            & (abs(events.FatJet.eta) < 2.4)\n",
    "            & (events.FatJet.msoftdrop > 40)\n",
    "            & (events.FatJet.msoftdrop < 200)\n",
    "        )\n",
    "\n",
    "events[\"goodjets\"] = events.FatJet[fatjetSelect]"
   ]
  },
  {
   "cell_type": "code",
   "execution_count": 72,
   "id": "f5fda5f4-202b-4210-8163-16ea925d2868",
   "metadata": {},
   "outputs": [],
   "source": [
    "subcut_goodjets_events = events.goodjets.pt.compute()"
   ]
  },
  {
   "cell_type": "code",
   "execution_count": 73,
   "id": "b41a3187-2c0c-4764-962e-d41a772f67db",
   "metadata": {},
   "outputs": [
    {
     "data": {
      "text/plain": [
       "10369"
      ]
     },
     "execution_count": 73,
     "metadata": {},
     "output_type": "execute_result"
    }
   ],
   "source": [
    "len(ak.flatten(subcut_goodjets_events))"
   ]
  },
  {
   "cell_type": "code",
   "execution_count": 74,
   "id": "519c6aa4-f014-4794-9d09-b871d197ce3b",
   "metadata": {},
   "outputs": [
    {
     "data": {
      "text/plain": [
       "19000"
      ]
     },
     "execution_count": 74,
     "metadata": {},
     "output_type": "execute_result"
    }
   ],
   "source": [
    "len(subcut_goodjets_events)"
   ]
  },
  {
   "cell_type": "code",
   "execution_count": 75,
   "id": "c18a170e-d7be-4941-a6e0-cf403be31d8e",
   "metadata": {},
   "outputs": [
    {
     "data": {
      "text/plain": [
       "0.5980526315789474"
      ]
     },
     "execution_count": 75,
     "metadata": {},
     "output_type": "execute_result"
    }
   ],
   "source": [
    "1-(19000-11363)/19000"
   ]
  },
  {
   "cell_type": "code",
   "execution_count": 76,
   "id": "634a8d37-ecf7-426f-b3a9-35a11277f268",
   "metadata": {},
   "outputs": [
    {
     "data": {
      "text/plain": [
       "0.5457368421052631"
      ]
     },
     "execution_count": 76,
     "metadata": {},
     "output_type": "execute_result"
    }
   ],
   "source": [
    "1-(19000-10369)/19000"
   ]
  },
  {
   "cell_type": "code",
   "execution_count": 77,
   "id": "2eedd369-c920-418d-91cd-ba0f9bedf88a",
   "metadata": {},
   "outputs": [
    {
     "data": {
      "text/plain": [
       "0.9125231012936723"
      ]
     },
     "execution_count": 77,
     "metadata": {},
     "output_type": "execute_result"
    }
   ],
   "source": [
    "0.5457368421052631/0.5980526315789474"
   ]
  },
  {
   "cell_type": "code",
   "execution_count": 78,
   "id": "94b65e62-2c4a-4e8a-bce3-3b3a11e19482",
   "metadata": {},
   "outputs": [],
   "source": [
    "files = os.listdir('/project01/ndcms/cmoore24/samples/wqq/800toInf')"
   ]
  },
  {
   "cell_type": "code",
   "execution_count": 79,
   "id": "102951d8-7788-41ab-9bd3-4cfc719f7264",
   "metadata": {},
   "outputs": [],
   "source": [
    "events = NanoEventsFactory.from_root(\n",
    "    {'/project01/ndcms/cmoore24/samples/wqq/800toInf/' + files[0]: \"/Events\"},\n",
    "    delayed=True,\n",
    "    schemaclass=PFNanoAODSchema,\n",
    "    metadata={\"dataset\": \"Wqq_800toInf\"},\n",
    ").events()"
   ]
  },
  {
   "cell_type": "code",
   "execution_count": 80,
   "id": "6c3f9046-69ca-4cd6-be12-ea8a471f4a62",
   "metadata": {},
   "outputs": [],
   "source": [
    "cut_to_fix_softdrop = (ak.num(events.FatJet.constituents.pf, axis=2) > 0)\n",
    "events = events[ak.all(cut_to_fix_softdrop, axis=1)]"
   ]
  },
  {
   "cell_type": "code",
   "execution_count": 81,
   "id": "bd038b77-27be-406b-aff9-1b11d75dd766",
   "metadata": {},
   "outputs": [],
   "source": [
    "# num_sub = ak.unflatten(num_subjets(events.FatJet, cluster_val=0.4), counts=ak.num(events.FatJet))\n",
    "# events['FatJet', 'num_subjets'] = num_sub\n",
    "fatjetSelect = (\n",
    "            (events.FatJet.pt > 400)\n",
    "            #& (events.FatJet.num_subjets >= 3)\n",
    "            & (abs(events.FatJet.eta) < 2.4)\n",
    "            & (events.FatJet.msoftdrop > 40)\n",
    "            & (events.FatJet.msoftdrop < 200)\n",
    "        )\n",
    "\n",
    "events[\"goodjets\"] = events.FatJet[fatjetSelect]"
   ]
  },
  {
   "cell_type": "code",
   "execution_count": 82,
   "id": "a744e1e3-44c4-4028-bbf1-a7871df99891",
   "metadata": {},
   "outputs": [],
   "source": [
    "num_goodjets_events = events.goodjets.pt.compute()"
   ]
  },
  {
   "cell_type": "code",
   "execution_count": 83,
   "id": "ca96c6ef-58e7-4f6a-b901-72f7b6246107",
   "metadata": {},
   "outputs": [
    {
     "data": {
      "text/plain": [
       "14697"
      ]
     },
     "execution_count": 83,
     "metadata": {},
     "output_type": "execute_result"
    }
   ],
   "source": [
    "len(ak.flatten(num_goodjets_events))"
   ]
  },
  {
   "cell_type": "code",
   "execution_count": 84,
   "id": "f80e6cf1-c3ca-4c02-b69f-18e413e93608",
   "metadata": {},
   "outputs": [],
   "source": [
    "num_sub = ak.unflatten(num_subjets(events.FatJet, cluster_val=0.4), counts=ak.num(events.FatJet))\n",
    "events['FatJet', 'num_subjets'] = num_sub\n",
    "fatjetSelect = (\n",
    "            (events.FatJet.pt > 400)\n",
    "            #& (events.FatJet.pt < 800)\n",
    "            & (events.FatJet.num_subjets >= 3)\n",
    "            & (abs(events.FatJet.eta) < 2.4)\n",
    "            & (events.FatJet.msoftdrop > 40)\n",
    "            & (events.FatJet.msoftdrop < 200)\n",
    "        )\n",
    "\n",
    "events[\"goodjets\"] = events.FatJet[fatjetSelect]"
   ]
  },
  {
   "cell_type": "code",
   "execution_count": 85,
   "id": "4630571f-7b61-4b76-b335-5843b5acd429",
   "metadata": {},
   "outputs": [],
   "source": [
    "subcut_goodjets_events = events.goodjets.pt.compute()"
   ]
  },
  {
   "cell_type": "code",
   "execution_count": 86,
   "id": "7eb09d3e-e311-41df-8315-5eab6e969a7f",
   "metadata": {},
   "outputs": [
    {
     "data": {
      "text/plain": [
       "13238"
      ]
     },
     "execution_count": 86,
     "metadata": {},
     "output_type": "execute_result"
    }
   ],
   "source": [
    "len(ak.flatten(subcut_goodjets_events))"
   ]
  },
  {
   "cell_type": "code",
   "execution_count": 87,
   "id": "599d5c67-0672-448c-bbec-f3ed96224af9",
   "metadata": {},
   "outputs": [
    {
     "data": {
      "text/plain": [
       "27083"
      ]
     },
     "execution_count": 87,
     "metadata": {},
     "output_type": "execute_result"
    }
   ],
   "source": [
    "len(subcut_goodjets_events)"
   ]
  },
  {
   "cell_type": "code",
   "execution_count": 88,
   "id": "28618a8e-fb2d-4219-bae9-90a76eac5008",
   "metadata": {},
   "outputs": [
    {
     "data": {
      "text/plain": [
       "0.5426651404940368"
      ]
     },
     "execution_count": 88,
     "metadata": {},
     "output_type": "execute_result"
    }
   ],
   "source": [
    "1-(27083-14697)/27083"
   ]
  },
  {
   "cell_type": "code",
   "execution_count": 89,
   "id": "b14ac4fe-25b5-4cb2-b48d-b0f8677d13d5",
   "metadata": {},
   "outputs": [
    {
     "data": {
      "text/plain": [
       "0.48879370823025514"
      ]
     },
     "execution_count": 89,
     "metadata": {},
     "output_type": "execute_result"
    }
   ],
   "source": [
    "1-(27083-13238)/27083"
   ]
  },
  {
   "cell_type": "code",
   "execution_count": 90,
   "id": "90629fcd-84c4-4188-bb7b-b4f1bdbc2b5b",
   "metadata": {},
   "outputs": [
    {
     "data": {
      "text/plain": [
       "0.9007280397360006"
      ]
     },
     "execution_count": 90,
     "metadata": {},
     "output_type": "execute_result"
    }
   ],
   "source": [
    "0.48879370823025514/0.5426651404940368"
   ]
  },
  {
   "cell_type": "code",
   "execution_count": null,
   "id": "dcb96632-af40-4cf7-99d5-a514ca2a2ea6",
   "metadata": {},
   "outputs": [],
   "source": []
  }
 ],
 "metadata": {
  "kernelspec": {
   "display_name": "Python 3 (ipykernel)",
   "language": "python",
   "name": "python3"
  },
  "language_info": {
   "codemirror_mode": {
    "name": "ipython",
    "version": 3
   },
   "file_extension": ".py",
   "mimetype": "text/x-python",
   "name": "python",
   "nbconvert_exporter": "python",
   "pygments_lexer": "ipython3",
   "version": "3.10.13"
  }
 },
 "nbformat": 4,
 "nbformat_minor": 5
}
