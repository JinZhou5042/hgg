{
 "cells": [
  {
   "cell_type": "code",
   "execution_count": 1,
   "id": "b4a51aab-05b7-4e99-9de6-cf24f16815a2",
   "metadata": {},
   "outputs": [],
   "source": [
    "import json\n",
    "import dask\n",
    "import dask_awkward as dak\n",
    "import awkward as ak\n",
    "import matplotlib.pyplot\n",
    "from coffea import dataset_tools\n",
    "from coffea.nanoevents import NanoEventsFactory, PFNanoAODSchema\n",
    "import pickle\n",
    "import os\n",
    "import warnings"
   ]
  },
  {
   "cell_type": "code",
   "execution_count": 2,
   "id": "a397f652-012d-4cfe-b5ff-dc6065b5e04c",
   "metadata": {},
   "outputs": [],
   "source": [
    "warnings.filterwarnings(\"ignore\", module=\"coffea.*\")\n",
    "warnings.filterwarnings(\"ignore\", \"Found duplicate branch\")\n",
    "warnings.filterwarnings(\"ignore\", \"Missing cross-reference index for\")\n",
    "warnings.filterwarnings(\"ignore\", \"dcut\")\n",
    "warnings.filterwarnings(\"ignore\", \"Please ensure\")\n",
    "warnings.filterwarnings(\"ignore\", \"invalid value\")"
   ]
  },
  {
   "cell_type": "code",
   "execution_count": 10,
   "id": "f8eb0ba3-e760-4c75-ad9f-573004256467",
   "metadata": {},
   "outputs": [],
   "source": [
    "samples_path = '/project01/ndcms/cmoore24/samples'\n",
    "filelist = {}\n",
    "categories = os.listdir(samples_path)\n",
    "for i in categories:\n",
    "    if '.root' in os.listdir(f'{samples_path}/{i}')[0]:\n",
    "        files = os.listdir(f'{samples_path}/{i}')\n",
    "        filelist[i] = [f'{samples_path}/{i}/{file}' for file in files]\n",
    "    else:\n",
    "        sub_cats = os.listdir(f'{samples_path}/{i}')\n",
    "        for j in sub_cats:\n",
    "            if '.root' in os.listdir(f'{samples_path}/{i}/{j}')[0]:\n",
    "                files = os.listdir(f'{samples_path}/{i}/{j}')\n",
    "                filelist[f'{i}_{j}'] = [f'{samples_path}/{i}/{j}/{file}' for file in files]"
   ]
  },
  {
   "cell_type": "code",
   "execution_count": 14,
   "id": "f94308ee-ec6e-44ee-91ee-49cb9a1988b0",
   "metadata": {},
   "outputs": [],
   "source": [
    "dict = {}\n",
    "for i in filelist:\n",
    "    dict[i] = {}\n",
    "    dict[i]['files'] = {}\n",
    "    for j in filelist[i]:\n",
    "        dict[i]['files'][j] = {'object_path': 'Events'}"
   ]
  },
  {
   "cell_type": "code",
   "execution_count": 17,
   "id": "02c49c35-8236-4c12-87ae-c1020966c70c",
   "metadata": {
    "scrolled": true
   },
   "outputs": [],
   "source": [
    "with open('input_datasets.json', 'w') as fin:\n",
    "    json.dump(dict, fin)"
   ]
  },
  {
   "cell_type": "code",
   "execution_count": 26,
   "id": "3199dd65-73e9-4a3a-9af7-9f3ff5ba11d5",
   "metadata": {},
   "outputs": [],
   "source": [
    "@dask.delayed\n",
    "def sampler(samples):\n",
    "    samples_ready, samples = dataset_tools.preprocess(\n",
    "        samples,\n",
    "        step_size=50_000,\n",
    "        skip_bad_files=True,\n",
    "        recalculate_steps=True,\n",
    "        save_form=False,\n",
    "    )\n",
    "    return samples_ready"
   ]
  },
  {
   "cell_type": "code",
   "execution_count": 27,
   "id": "714b08a0-2404-485e-b6ba-49bd4f4069de",
   "metadata": {},
   "outputs": [],
   "source": [
    "sampler_dict = {}\n",
    "for i in dict:\n",
    "    sampler_dict[i] = sampler(dict[i])"
   ]
  },
  {
   "cell_type": "code",
   "execution_count": 36,
   "id": "2cfe652a-351a-4446-8754-7d37df47b116",
   "metadata": {},
   "outputs": [],
   "source": [
    "with open('samples_ready.json', 'r') as f:\n",
    "    b = json.load(f)"
   ]
  },
  {
   "cell_type": "code",
   "execution_count": 35,
   "id": "fdbede5d-f2fb-44b7-b855-e67c5bcbddd4",
   "metadata": {
    "scrolled": true
   },
   "outputs": [
    {
     "data": {
      "text/plain": [
       "{'files': {'files': {'/project01/ndcms/cmoore24/samples/diboson/zz/nano_mc2017_1-1.root': {'object_path': 'Events',\n",
       "    'steps': [[0, 4000]],\n",
       "    'num_entries': 4000,\n",
       "    'uuid': 'd349d218-40be-11ed-9b3e-a284e4a9beef'},\n",
       "   '/project01/ndcms/cmoore24/samples/diboson/zz/nano_mc2017_1.root': {'object_path': 'Events',\n",
       "    'steps': [[0, 47858],\n",
       "     [47858, 95716],\n",
       "     [95716, 143574],\n",
       "     [143574, 191432],\n",
       "     [191432, 239290],\n",
       "     [239290, 287148],\n",
       "     [287148, 335000]],\n",
       "    'num_entries': 335000,\n",
       "    'uuid': '89bb73a8-4038-11ed-ab1b-f8cfe183beef'},\n",
       "   '/project01/ndcms/cmoore24/samples/diboson/zz/nano_mc2017_2.root': {'object_path': 'Events',\n",
       "    'steps': [[0, 47715],\n",
       "     [47715, 95430],\n",
       "     [95430, 143145],\n",
       "     [143145, 190860],\n",
       "     [190860, 238575],\n",
       "     [238575, 286290],\n",
       "     [286290, 334000]],\n",
       "    'num_entries': 334000,\n",
       "    'uuid': '7418166c-4058-11ed-892d-17bde183beef'},\n",
       "   '/project01/ndcms/cmoore24/samples/diboson/zz/nano_mc2017_3.root': {'object_path': 'Events',\n",
       "    'steps': [[0, 47429],\n",
       "     [47429, 94858],\n",
       "     [94858, 142287],\n",
       "     [142287, 189716],\n",
       "     [189716, 237145],\n",
       "     [237145, 284574],\n",
       "     [284574, 332000]],\n",
       "    'num_entries': 332000,\n",
       "    'uuid': '742b07c2-4058-11ed-abe7-17bde183beef'},\n",
       "   '/project01/ndcms/cmoore24/samples/diboson/zz/nano_mc2017_4.root': {'object_path': 'Events',\n",
       "    'steps': [[0, 47858],\n",
       "     [47858, 95716],\n",
       "     [95716, 143574],\n",
       "     [143574, 191432],\n",
       "     [191432, 239290],\n",
       "     [239290, 287148],\n",
       "     [287148, 335000]],\n",
       "    'num_entries': 335000,\n",
       "    'uuid': 'ceb2e964-4074-11ed-8b83-f8cfe183beef'},\n",
       "   '/project01/ndcms/cmoore24/samples/diboson/zz/nano_mc2017_5.root': {'object_path': 'Events',\n",
       "    'steps': [[0, 47858],\n",
       "     [47858, 95716],\n",
       "     [95716, 143574],\n",
       "     [143574, 191432],\n",
       "     [191432, 239290],\n",
       "     [239290, 287148],\n",
       "     [287148, 335000]],\n",
       "    'num_entries': 335000,\n",
       "    'uuid': '831915e8-4077-11ed-9e8c-f8cfe183beef'},\n",
       "   '/project01/ndcms/cmoore24/samples/diboson/zz/nano_mc2017_6.root': {'object_path': 'Events',\n",
       "    'steps': [[0, 47858],\n",
       "     [47858, 95716],\n",
       "     [95716, 143574],\n",
       "     [143574, 191432],\n",
       "     [191432, 239290],\n",
       "     [239290, 287148],\n",
       "     [287148, 335000]],\n",
       "    'num_entries': 335000,\n",
       "    'uuid': 'a31fe15c-3e22-11ed-90a3-39bde183beef'},\n",
       "   '/project01/ndcms/cmoore24/samples/diboson/zz/nano_mc2017_7.root': {'object_path': 'Events',\n",
       "    'steps': [[0, 47858],\n",
       "     [47858, 95716],\n",
       "     [95716, 143574],\n",
       "     [143574, 191432],\n",
       "     [191432, 239290],\n",
       "     [239290, 287148],\n",
       "     [287148, 335000]],\n",
       "    'num_entries': 335000,\n",
       "    'uuid': 'ac386266-3e5c-11ed-b5c1-39bde183beef'},\n",
       "   '/project01/ndcms/cmoore24/samples/diboson/zz/nano_mc2017_8.root': {'object_path': 'Events',\n",
       "    'steps': [[0, 47858],\n",
       "     [47858, 95716],\n",
       "     [95716, 143574],\n",
       "     [143574, 191432],\n",
       "     [191432, 239290],\n",
       "     [239290, 287148],\n",
       "     [287148, 335000]],\n",
       "    'num_entries': 335000,\n",
       "    'uuid': 'e6602188-3fcc-11ed-9049-f8cfe183beef'},\n",
       "   '/project01/ndcms/cmoore24/samples/diboson/zz/nano_mc2017_9.root': {'object_path': 'Events',\n",
       "    'steps': [[0, 26000]],\n",
       "    'num_entries': 26000,\n",
       "    'uuid': 'e30cb474-3fcc-11ed-a32d-f8cfe183beef'}},\n",
       "  'metadata': None,\n",
       "  'form': None}}"
      ]
     },
     "execution_count": 35,
     "metadata": {},
     "output_type": "execute_result"
    }
   ],
   "source": [
    "a['diboson_zz']"
   ]
  },
  {
   "cell_type": "code",
   "execution_count": 37,
   "id": "4defdb3a-cd4f-4510-9243-7c50e53dd0c0",
   "metadata": {
    "scrolled": true
   },
   "outputs": [
    {
     "data": {
      "text/plain": [
       "{'files': {'/project01/ndcms/cmoore24/samples/diboson/zz/nano_mc2017_1-1.root': {'object_path': 'Events',\n",
       "   'steps': [[0, 4000]],\n",
       "   'num_entries': 4000,\n",
       "   'uuid': 'd349d218-40be-11ed-9b3e-a284e4a9beef'},\n",
       "  '/project01/ndcms/cmoore24/samples/diboson/zz/nano_mc2017_1.root': {'object_path': 'Events',\n",
       "   'steps': [[0, 47858],\n",
       "    [47858, 95716],\n",
       "    [95716, 143574],\n",
       "    [143574, 191432],\n",
       "    [191432, 239290],\n",
       "    [239290, 287148],\n",
       "    [287148, 335000]],\n",
       "   'num_entries': 335000,\n",
       "   'uuid': '89bb73a8-4038-11ed-ab1b-f8cfe183beef'},\n",
       "  '/project01/ndcms/cmoore24/samples/diboson/zz/nano_mc2017_2.root': {'object_path': 'Events',\n",
       "   'steps': [[0, 47715],\n",
       "    [47715, 95430],\n",
       "    [95430, 143145],\n",
       "    [143145, 190860],\n",
       "    [190860, 238575],\n",
       "    [238575, 286290],\n",
       "    [286290, 334000]],\n",
       "   'num_entries': 334000,\n",
       "   'uuid': '7418166c-4058-11ed-892d-17bde183beef'},\n",
       "  '/project01/ndcms/cmoore24/samples/diboson/zz/nano_mc2017_3.root': {'object_path': 'Events',\n",
       "   'steps': [[0, 47429],\n",
       "    [47429, 94858],\n",
       "    [94858, 142287],\n",
       "    [142287, 189716],\n",
       "    [189716, 237145],\n",
       "    [237145, 284574],\n",
       "    [284574, 332000]],\n",
       "   'num_entries': 332000,\n",
       "   'uuid': '742b07c2-4058-11ed-abe7-17bde183beef'},\n",
       "  '/project01/ndcms/cmoore24/samples/diboson/zz/nano_mc2017_4.root': {'object_path': 'Events',\n",
       "   'steps': [[0, 47858],\n",
       "    [47858, 95716],\n",
       "    [95716, 143574],\n",
       "    [143574, 191432],\n",
       "    [191432, 239290],\n",
       "    [239290, 287148],\n",
       "    [287148, 335000]],\n",
       "   'num_entries': 335000,\n",
       "   'uuid': 'ceb2e964-4074-11ed-8b83-f8cfe183beef'},\n",
       "  '/project01/ndcms/cmoore24/samples/diboson/zz/nano_mc2017_5.root': {'object_path': 'Events',\n",
       "   'steps': [[0, 47858],\n",
       "    [47858, 95716],\n",
       "    [95716, 143574],\n",
       "    [143574, 191432],\n",
       "    [191432, 239290],\n",
       "    [239290, 287148],\n",
       "    [287148, 335000]],\n",
       "   'num_entries': 335000,\n",
       "   'uuid': '831915e8-4077-11ed-9e8c-f8cfe183beef'},\n",
       "  '/project01/ndcms/cmoore24/samples/diboson/zz/nano_mc2017_6.root': {'object_path': 'Events',\n",
       "   'steps': [[0, 47858],\n",
       "    [47858, 95716],\n",
       "    [95716, 143574],\n",
       "    [143574, 191432],\n",
       "    [191432, 239290],\n",
       "    [239290, 287148],\n",
       "    [287148, 335000]],\n",
       "   'num_entries': 335000,\n",
       "   'uuid': 'a31fe15c-3e22-11ed-90a3-39bde183beef'},\n",
       "  '/project01/ndcms/cmoore24/samples/diboson/zz/nano_mc2017_7.root': {'object_path': 'Events',\n",
       "   'steps': [[0, 47858],\n",
       "    [47858, 95716],\n",
       "    [95716, 143574],\n",
       "    [143574, 191432],\n",
       "    [191432, 239290],\n",
       "    [239290, 287148],\n",
       "    [287148, 335000]],\n",
       "   'num_entries': 335000,\n",
       "   'uuid': 'ac386266-3e5c-11ed-b5c1-39bde183beef'},\n",
       "  '/project01/ndcms/cmoore24/samples/diboson/zz/nano_mc2017_8.root': {'object_path': 'Events',\n",
       "   'steps': [[0, 47858],\n",
       "    [47858, 95716],\n",
       "    [95716, 143574],\n",
       "    [143574, 191432],\n",
       "    [191432, 239290],\n",
       "    [239290, 287148],\n",
       "    [287148, 335000]],\n",
       "   'num_entries': 335000,\n",
       "   'uuid': 'e6602188-3fcc-11ed-9049-f8cfe183beef'},\n",
       "  '/project01/ndcms/cmoore24/samples/diboson/zz/nano_mc2017_9.root': {'object_path': 'Events',\n",
       "   'steps': [[0, 26000]],\n",
       "   'num_entries': 26000,\n",
       "   'uuid': 'e30cb474-3fcc-11ed-a32d-f8cfe183beef'}},\n",
       " 'form': None,\n",
       " 'metadata': None}"
      ]
     },
     "execution_count": 37,
     "metadata": {},
     "output_type": "execute_result"
    }
   ],
   "source": [
    "b['diboson_zz']"
   ]
  },
  {
   "cell_type": "code",
   "execution_count": null,
   "id": "f805a10c-e999-4e65-9ac7-9e9a1a43eaf2",
   "metadata": {},
   "outputs": [],
   "source": []
  }
 ],
 "metadata": {
  "kernelspec": {
   "display_name": "Python 3 (ipykernel)",
   "language": "python",
   "name": "python3"
  },
  "language_info": {
   "codemirror_mode": {
    "name": "ipython",
    "version": 3
   },
   "file_extension": ".py",
   "mimetype": "text/x-python",
   "name": "python",
   "nbconvert_exporter": "python",
   "pygments_lexer": "ipython3",
   "version": "3.10.13"
  }
 },
 "nbformat": 4,
 "nbformat_minor": 5
}
