{
 "cells": [
  {
   "cell_type": "code",
   "execution_count": 1,
   "id": "e7ff6549-8126-4f43-9dc8-fd34d44ff22b",
   "metadata": {},
   "outputs": [
    {
     "name": "stderr",
     "output_type": "stream",
     "text": [
      "/afs/crc.nd.edu/user/c/cmoore24/Public/hgg/notebooks/skims/skimmer/variable_functions.py:3: FutureWarning: In version 2024.7.0 (target date: 2024-06-30 11:59:59-05:00), this will be an error.\n",
      "To raise these warnings as errors (and get stack traces to find out where they're called), run\n",
      "    import warnings\n",
      "    warnings.filterwarnings(\"error\", module=\"coffea.*\")\n",
      "after the first `import coffea` or use `@pytest.mark.filterwarnings(\"error:::coffea.*\")` in pytest.\n",
      "Issue: coffea.nanoevents.methods.vector will be removed and replaced with scikit-hep vector. Nanoevents schemas internal to coffea will be migrated. Otherwise please consider using that package!.\n",
      "  import coffea.nanoevents.methods.vector as vector\n"
     ]
    }
   ],
   "source": [
    "import json\n",
    "import dask\n",
    "import dask_awkward as dak\n",
    "import awkward as ak\n",
    "import matplotlib.pyplot\n",
    "from coffea import dataset_tools\n",
    "from coffea.nanoevents import NanoEventsFactory, PFNanoAODSchema\n",
    "import pickle\n",
    "import pyarrow\n",
    "import os\n",
    "import warnings\n",
    "from variable_functions import *"
   ]
  },
  {
   "cell_type": "code",
   "execution_count": 2,
   "id": "82358a0c-9cf4-4037-bb79-3a7382972529",
   "metadata": {},
   "outputs": [],
   "source": [
    "warnings.filterwarnings(\"ignore\", module=\"coffea.*\")\n",
    "warnings.filterwarnings(\"ignore\", \"Found duplicate branch\")\n",
    "warnings.filterwarnings(\"ignore\", \"Missing cross-reference index for\")\n",
    "warnings.filterwarnings(\"ignore\", \"dcut\")\n",
    "warnings.filterwarnings(\"ignore\", \"Please ensure\")\n",
    "warnings.filterwarnings(\"ignore\", \"invalid value\")"
   ]
  },
  {
   "cell_type": "code",
   "execution_count": 3,
   "id": "9deef6d6-120a-46c5-9e14-80531acd0ead",
   "metadata": {},
   "outputs": [],
   "source": [
    "samples = os.listdir('/project01/ndcms/cmoore24/samples/')"
   ]
  },
  {
   "cell_type": "code",
   "execution_count": 4,
   "id": "45d95fe9-41dd-42ef-9ddf-d86436fa3fc2",
   "metadata": {},
   "outputs": [],
   "source": [
    "path = '/project01/ndcms/cmoore24/samples'\n",
    "json_dict = {}"
   ]
  },
  {
   "cell_type": "code",
   "execution_count": 6,
   "id": "2232944d-cdd1-4d31-9771-d0a23e184cdf",
   "metadata": {},
   "outputs": [],
   "source": [
    "for i in samples:\n",
    "    if '.root' not in os.listdir(f'{path}/{i}')[0]:\n",
    "        subset = os.listdir(f'{path}/{i}')\n",
    "        for j in subset:\n",
    "            json_dict[str(i) + '_' + str(j)] = {}\n",
    "            json_dict[str(i) + '_' + str(j)]['files'] = {}\n",
    "            files = os.listdir(f'{path}/{i}/{j}')\n",
    "            for k in files:\n",
    "                json_dict[str(i) + '_' + str(j)]['files'][f'{path}/{i}/{j}/{k}'] = {'object_path': 'Events'}\n",
    "    else:\n",
    "        json_dict[i] = {}\n",
    "        json_dict[i]['files'] = {}\n",
    "        files = os.listdir(f'{path}/{i}')\n",
    "        for k in files:\n",
    "            json_dict[i]['files'][f'{path}/{i}/{k}'] = {'object_path': 'Events'}"
   ]
  },
  {
   "cell_type": "code",
   "execution_count": 8,
   "id": "10125197-f720-4dfd-a7c4-409df2007a78",
   "metadata": {},
   "outputs": [],
   "source": [
    "with open('output_datasets2.json', 'w') as f:\n",
    "    json.dump(json_dict, f)"
   ]
  },
  {
   "cell_type": "code",
   "execution_count": 28,
   "id": "fff8e562-06c0-43c0-a7f1-38e4de63da82",
   "metadata": {},
   "outputs": [],
   "source": [
    "with open('output_datasets2.json', 'r') as f:\n",
    "    samples2 = json.load(f)"
   ]
  },
  {
   "cell_type": "code",
   "execution_count": 31,
   "id": "97d13461-cab3-43f2-baa5-73685947f5fa",
   "metadata": {},
   "outputs": [],
   "source": [
    "@dask.delayed\n",
    "def sampler(samples):\n",
    "    samples_ready, samples = dataset_tools.preprocess(\n",
    "        samples,\n",
    "        step_size=50_000,\n",
    "        skip_bad_files=True,\n",
    "        recalculate_steps=True,\n",
    "        save_form=False,\n",
    "    )\n",
    "    return samples_ready, samples"
   ]
  },
  {
   "cell_type": "code",
   "execution_count": 35,
   "id": "8c73b986-7597-45be-a021-4b5756b842ac",
   "metadata": {},
   "outputs": [
    {
     "data": {
      "text/plain": [
       "<function __main__.sampler(samples)>"
      ]
     },
     "execution_count": 35,
     "metadata": {},
     "output_type": "execute_result"
    }
   ],
   "source": [
    "sampler.compute()"
   ]
  },
  {
   "cell_type": "code",
   "execution_count": 15,
   "id": "2e22c626-56a4-4008-b59c-efec2506a9ad",
   "metadata": {},
   "outputs": [],
   "source": [
    "with open('samples_ready.json', 'r') as f:\n",
    "    test = json.load(f)"
   ]
  },
  {
   "cell_type": "code",
   "execution_count": 16,
   "id": "dfc40675-ea77-465c-be77-d9b37de2692b",
   "metadata": {},
   "outputs": [],
   "source": [
    "test2 = test['qcd_470to600']"
   ]
  },
  {
   "cell_type": "code",
   "execution_count": 20,
   "id": "c1f0463f-1aa4-4e92-8817-a692a974e283",
   "metadata": {
    "scrolled": true
   },
   "outputs": [],
   "source": [
    "files = test2['files']"
   ]
  },
  {
   "cell_type": "code",
   "execution_count": 1,
   "id": "ad5393fe-0a0e-4b10-aaa0-27cea89190e4",
   "metadata": {},
   "outputs": [
    {
     "data": {
      "text/plain": [
       "112.75"
      ]
     },
     "execution_count": 1,
     "metadata": {},
     "output_type": "execute_result"
    }
   ],
   "source": [
    "451/4"
   ]
  },
  {
   "cell_type": "code",
   "execution_count": 2,
   "id": "6ca2e8cc-ca84-4687-a935-f14e349158a1",
   "metadata": {},
   "outputs": [
    {
     "data": {
      "text/plain": [
       "226"
      ]
     },
     "execution_count": 2,
     "metadata": {},
     "output_type": "execute_result"
    }
   ],
   "source": [
    "113*2"
   ]
  },
  {
   "cell_type": "code",
   "execution_count": 3,
   "id": "ab33007c-0b0f-43ee-8616-b2973f7cec58",
   "metadata": {},
   "outputs": [
    {
     "data": {
      "text/plain": [
       "339"
      ]
     },
     "execution_count": 3,
     "metadata": {},
     "output_type": "execute_result"
    }
   ],
   "source": [
    "113*3"
   ]
  },
  {
   "cell_type": "code",
   "execution_count": null,
   "id": "c4a31de0-a5ff-441f-93d2-3c117e19348d",
   "metadata": {},
   "outputs": [],
   "source": []
  }
 ],
 "metadata": {
  "kernelspec": {
   "display_name": "Python 3 (ipykernel)",
   "language": "python",
   "name": "python3"
  },
  "language_info": {
   "codemirror_mode": {
    "name": "ipython",
    "version": 3
   },
   "file_extension": ".py",
   "mimetype": "text/x-python",
   "name": "python",
   "nbconvert_exporter": "python",
   "pygments_lexer": "ipython3",
   "version": "3.10.13"
  }
 },
 "nbformat": 4,
 "nbformat_minor": 5
}
