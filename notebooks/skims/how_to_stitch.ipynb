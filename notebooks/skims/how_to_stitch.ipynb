{
 "cells": [
  {
   "cell_type": "code",
   "execution_count": 1,
   "id": "de7acea2-4d9c-434e-a31c-38a6ca630236",
   "metadata": {},
   "outputs": [],
   "source": [
    "import pandas as pd\n",
    "import numpy as np\n",
    "import matplotlib.pyplot as plt \n",
    "import awkward as ak\n",
    "import os\n",
    "import time"
   ]
  },
  {
   "cell_type": "code",
   "execution_count": 27,
   "id": "96d6b9bd-4459-4def-9562-ea643926e10f",
   "metadata": {},
   "outputs": [],
   "source": [
    "files = 100"
   ]
  },
  {
   "cell_type": "code",
   "execution_count": 28,
   "id": "e9cbf81b-d54b-477a-9a2a-5596b0ddb6b5",
   "metadata": {},
   "outputs": [
    {
     "name": "stdout",
     "output_type": "stream",
     "text": [
      "0.9880015770594279 minutes\n"
     ]
    }
   ],
   "source": [
    "path = \"/project01/ndcms/cmoore24/skims/stitch_test_skims/300to470/\"\n",
    "super_start = time.time()\n",
    "filelist = os.listdir(path)[:files]\n",
    "q347 = pd.concat((pd.read_parquet(f\"{path}{f}\", engine='fastparquet') for f in filelist)).reset_index(drop=True)\n",
    "stop = time.time()\n",
    "lasted = (stop-super_start)/60\n",
    "print(f\"{lasted} minutes\")"
   ]
  },
  {
   "cell_type": "code",
   "execution_count": 29,
   "id": "6bcbd996-f53e-46c9-9800-21b246751e10",
   "metadata": {},
   "outputs": [
    {
     "name": "stdout",
     "output_type": "stream",
     "text": [
      "1.0746875524520874 minutes\n"
     ]
    }
   ],
   "source": [
    "path = \"/project01/ndcms/cmoore24/skims/stitch_test_skims/470to600/\"\n",
    "start = time.time()\n",
    "filelist = os.listdir(path)[:files]\n",
    "q476 = pd.concat((pd.read_parquet(f\"{path}{f}\", engine='fastparquet') for f in filelist)).reset_index(drop=True)\n",
    "stop = time.time()\n",
    "lasted = (stop-start)/60\n",
    "print(f\"{lasted} minutes\")"
   ]
  },
  {
   "cell_type": "code",
   "execution_count": 30,
   "id": "20785f2f-b2be-47d1-945a-20196d8b8b6f",
   "metadata": {},
   "outputs": [
    {
     "name": "stdout",
     "output_type": "stream",
     "text": [
      "0.7770177006721497 minutes\n"
     ]
    }
   ],
   "source": [
    "path = \"/project01/ndcms/cmoore24/skims/stitch_test_skims/600to800/\"\n",
    "start = time.time()\n",
    "filelist = os.listdir(path)[:files]\n",
    "q68 = pd.concat((pd.read_parquet(f\"{path}{f}\", engine='fastparquet') for f in filelist)).reset_index(drop=True)\n",
    "stop = time.time()\n",
    "lasted = (stop-start)/60\n",
    "print(f\"{lasted} minutes\")"
   ]
  },
  {
   "cell_type": "code",
   "execution_count": 31,
   "id": "fe0fa7cf-0f1f-42b8-98fa-da41473c3166",
   "metadata": {},
   "outputs": [
    {
     "name": "stdout",
     "output_type": "stream",
     "text": [
      "1.6457932750384012 minutes\n"
     ]
    }
   ],
   "source": [
    "path = \"/project01/ndcms/cmoore24/skims/stitch_test_skims/800to1000/\"\n",
    "start = time.time()\n",
    "filelist = os.listdir(path)[:files]\n",
    "q810 = pd.concat((pd.read_parquet(f\"{path}{f}\", engine='fastparquet') for f in filelist)).reset_index(drop=True)\n",
    "stop = time.time()\n",
    "lasted = (stop-start)/60\n",
    "print(f\"{lasted} minutes\")"
   ]
  },
  {
   "cell_type": "code",
   "execution_count": 32,
   "id": "575b2cc5-e97e-4201-a41b-d44e6f87339b",
   "metadata": {},
   "outputs": [
    {
     "name": "stdout",
     "output_type": "stream",
     "text": [
      "2.297912124792735 minutes\n"
     ]
    }
   ],
   "source": [
    "path = \"/project01/ndcms/cmoore24/skims/stitch_test_skims/1000to1400/\"\n",
    "start = time.time()\n",
    "filelist = os.listdir(path)[:files]\n",
    "q1014 = pd.concat((pd.read_parquet(f\"{path}{f}\", engine='fastparquet') for f in filelist)).reset_index(drop=True)\n",
    "stop = time.time()\n",
    "lasted = (stop-start)/60\n",
    "print(f\"{lasted} minutes\")"
   ]
  },
  {
   "cell_type": "code",
   "execution_count": 33,
   "id": "897bd0aa-2890-492b-ae5d-648dd989b07f",
   "metadata": {},
   "outputs": [
    {
     "name": "stdout",
     "output_type": "stream",
     "text": [
      "3.0835047443707784 minutes\n"
     ]
    }
   ],
   "source": [
    "path = \"/project01/ndcms/cmoore24/skims/stitch_test_skims/1400to1800/\"\n",
    "start = time.time()\n",
    "filelist = os.listdir(path)[:files]\n",
    "q1418 = pd.concat((pd.read_parquet(f\"{path}{f}\", engine='fastparquet') for f in filelist)).reset_index(drop=True)\n",
    "stop = time.time()\n",
    "lasted = (stop-start)/60\n",
    "print(f\"{lasted} minutes\")"
   ]
  },
  {
   "cell_type": "code",
   "execution_count": 34,
   "id": "80fa6594-bffd-4919-bc71-d4bb6021f040",
   "metadata": {},
   "outputs": [
    {
     "name": "stdout",
     "output_type": "stream",
     "text": [
      "1.4155014395713805 minutes\n"
     ]
    }
   ],
   "source": [
    "path = \"/project01/ndcms/cmoore24/skims/stitch_test_skims/1800to2400/\"\n",
    "start = time.time()\n",
    "filelist = os.listdir(path)[:files]\n",
    "q1824 = pd.concat((pd.read_parquet(f\"{path}{f}\", engine='fastparquet') for f in filelist)).reset_index(drop=True)\n",
    "stop = time.time()\n",
    "lasted = (stop-start)/60\n",
    "print(f\"{lasted} minutes\")"
   ]
  },
  {
   "cell_type": "code",
   "execution_count": 35,
   "id": "c97f31a8-4552-4e7d-aa25-63d95e70c170",
   "metadata": {},
   "outputs": [
    {
     "name": "stdout",
     "output_type": "stream",
     "text": [
      "2.927675398190816 minutes\n"
     ]
    }
   ],
   "source": [
    "path = \"/project01/ndcms/cmoore24/skims/stitch_test_skims/2400to3200/\"\n",
    "start = time.time()\n",
    "filelist = os.listdir(path)[:files]\n",
    "q2432 = pd.concat((pd.read_parquet(f\"{path}{f}\", engine='fastparquet') for f in filelist)).reset_index(drop=True)\n",
    "stop = time.time()\n",
    "lasted = (stop-start)/60\n",
    "print(f\"{lasted} minutes\")"
   ]
  },
  {
   "cell_type": "code",
   "execution_count": 36,
   "id": "68a0df90-bf07-4f9d-94d1-ec8c6b02c357",
   "metadata": {},
   "outputs": [
    {
     "name": "stdout",
     "output_type": "stream",
     "text": [
      "0.2482503294944763 minutes\n"
     ]
    }
   ],
   "source": [
    "path = \"/project01/ndcms/cmoore24/skims/stitch_test_skims/3200toInf/\"\n",
    "start = time.time()\n",
    "filelist = os.listdir(path)[:files]\n",
    "q32inf = pd.concat((pd.read_parquet(f\"{path}{f}\", engine='fastparquet') for f in filelist)).reset_index(drop=True)\n",
    "super_stop = time.time()\n",
    "lasted = (super_stop-start)/60\n",
    "print(f\"{lasted} minutes\")"
   ]
  },
  {
   "cell_type": "code",
   "execution_count": 37,
   "id": "fed47002-3555-4233-b563-34dc1b2e9c55",
   "metadata": {},
   "outputs": [
    {
     "name": "stdout",
     "output_type": "stream",
     "text": [
      "14.459212243556976 minutes\n"
     ]
    }
   ],
   "source": [
    "super_lasted = (super_stop - super_start)/60\n",
    "print(f\"{super_lasted} minutes\")"
   ]
  },
  {
   "cell_type": "code",
   "execution_count": 38,
   "id": "15257a24-7473-4fb4-917a-c7d2afef2b09",
   "metadata": {},
   "outputs": [],
   "source": [
    "pt_347 = np.asarray(q347['FatJets.pt'].values.tolist())\n",
    "pt_476 = np.asarray(q476['FatJets.pt'].values.tolist())\n",
    "pt_68 = np.asarray(q68['FatJets.pt'].values.tolist())\n",
    "pt_810 = np.asarray(q810['FatJets.pt'].values.tolist())\n",
    "pt_1014 = np.asarray(q1014['FatJets.pt'].values.tolist())\n",
    "pt_1418 = np.asarray(q1418['FatJets.pt'].values.tolist())\n",
    "pt_1824 = np.asarray(q1824['FatJets.pt'].values.tolist())\n",
    "pt_2432 = np.asarray(q2432['FatJets.pt'].values.tolist())\n",
    "pt_32inf = np.asarray(q32inf['FatJets.pt'].values.tolist())"
   ]
  },
  {
   "cell_type": "code",
   "execution_count": 39,
   "id": "888f795f-8a85-4e46-bc13-0567d46bfabf",
   "metadata": {},
   "outputs": [],
   "source": [
    "IL = 44.99\n",
    "xs_300to470 = 6833\n",
    "xs_470to600 = 549.5\n",
    "xs_600to800 = 156.5\n",
    "xs_800to1000 = 26.22\n",
    "xs_1000to1400 = 7.475\n",
    "xs_1400to1800 = 0.6482\n",
    "xs_1800to2400 = 0.08742\n",
    "xs_2400to3200 = 0.005237\n",
    "xs_3200toInf = 0.0001353\n",
    "tot = 6833 + 549.5 + 156.5 + 26.22 + 7.475 + 0.6482 + 0.08742 + 0.005237 + 0.0001353"
   ]
  },
  {
   "cell_type": "code",
   "execution_count": 40,
   "id": "2c8a24a5-8121-4349-b845-c62997c8e2a4",
   "metadata": {},
   "outputs": [],
   "source": [
    "val_347 = 6833/tot\n",
    "val_476 = 549.5/tot\n",
    "val_68 = 156.5/tot\n",
    "val_810 = 26.22/tot\n",
    "val_1014 = 7.475/tot\n",
    "val_1418 = 0.6482/tot\n",
    "val_1824 = 0.08742/tot\n",
    "val_2432 = 0.005237/tot\n",
    "val_32inf = 0.0001353/tot"
   ]
  },
  {
   "cell_type": "code",
   "execution_count": 41,
   "id": "c6b77c8e-8e0f-4ca8-99ab-be02be2ddc22",
   "metadata": {},
   "outputs": [],
   "source": [
    "pt_347_combed = pt_347[np.random.rand(pt_347.shape[0]) < val_347]\n",
    "pt_476_combed = pt_476[np.random.rand(pt_476.shape[0]) < val_476]\n",
    "pt_68_combed = pt_68[np.random.rand(pt_68.shape[0]) < val_68]\n",
    "pt_810_combed = pt_810[np.random.rand(pt_810.shape[0]) < val_810]\n",
    "pt_1014_combed = pt_1014[np.random.rand(pt_1014.shape[0]) < val_1014]\n",
    "pt_1418_combed = pt_1418[np.random.rand(pt_1418.shape[0]) < val_1418]\n",
    "pt_1824_combed = pt_1824[np.random.rand(pt_1824.shape[0]) < val_1824]\n",
    "pt_2432_combed = pt_2432[np.random.rand(pt_2432.shape[0]) < val_2432]\n",
    "pt_32inf_combed = pt_32inf[np.random.rand(pt_32inf.shape[0]) < val_32inf]"
   ]
  },
  {
   "cell_type": "code",
   "execution_count": 42,
   "id": "afdca7d3-c459-4816-9b2b-90d9f46b8e70",
   "metadata": {},
   "outputs": [],
   "source": [
    "tst = np.concatenate((pt_347_combed,\n",
    "                pt_476_combed,\n",
    "                pt_68_combed,\n",
    "                pt_810_combed,\n",
    "                pt_1014_combed,\n",
    "                pt_1418_combed,\n",
    "                pt_1824_combed,\n",
    "                pt_2432_combed,\n",
    "                pt_32inf_combed\n",
    "               )\n",
    "              )"
   ]
  },
  {
   "cell_type": "code",
   "execution_count": 44,
   "id": "9d910072-3446-409c-aa61-17d9e02fe847",
   "metadata": {},
   "outputs": [
    {
     "data": {
      "image/png": "[encoded data removed]",
      "text/plain": [
       "<Figure size 640x480 with 1 Axes>"
      ]
     },
     "metadata": {},
     "output_type": "display_data"
    }
   ],
   "source": [
    "plt.hist(tst, range=(170,5000), bins=100)\n",
    "plt.yscale('log')\n",
    "plt.xlim(150, 5000)\n",
    "plt.show()"
   ]
  },
  {
   "cell_type": "code",
   "execution_count": null,
   "id": "e08a100c-bbb8-4e20-a24b-6ee77943b12a",
   "metadata": {},
   "outputs": [],
   "source": []
  }
 ],
 "metadata": {
  "kernelspec": {
   "display_name": "Python 3 (ipykernel)",
   "language": "python",
   "name": "python3"
  },
  "language_info": {
   "codemirror_mode": {
    "name": "ipython",
    "version": 3
   },
   "file_extension": ".py",
   "mimetype": "text/x-python",
   "name": "python",
   "nbconvert_exporter": "python",
   "pygments_lexer": "ipython3",
   "version": "3.10.13"
  }
 },
 "nbformat": 4,
 "nbformat_minor": 5
}
