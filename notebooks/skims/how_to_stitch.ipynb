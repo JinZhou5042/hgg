{
 "cells": [
  {
   "cell_type": "code",
   "execution_count": 32,
   "id": "de7acea2-4d9c-434e-a31c-38a6ca630236",
   "metadata": {},
   "outputs": [],
   "source": [
    "import pandas as pd\n",
    "import numpy as np\n",
    "import matplotlib.pyplot as plt \n",
    "import awkward as ak\n",
    "import os\n",
    "import time\n",
    "import dask \n",
    "import dask.dataframe as ddf\n",
    "import warnings\n",
    "import pickle"
   ]
  },
  {
   "cell_type": "code",
   "execution_count": 33,
   "id": "a68f4fef-a60c-47f2-9f13-e7addcb5a181",
   "metadata": {},
   "outputs": [],
   "source": [
    "warnings.filterwarnings('ignore', 'The fastparquet')"
   ]
  },
  {
   "cell_type": "code",
   "execution_count": 34,
   "id": "68a0df90-bf07-4f9d-94d1-ec8c6b02c357",
   "metadata": {},
   "outputs": [],
   "source": [
    "# path = \"/project01/ndcms/cmoore24/skims/stitch_test_skims/3200toInf/\"\n",
    "# start = time.time()\n",
    "# print(len(os.listdir(path)))\n",
    "# filelist = os.listdir(path)[:files]\n",
    "# q32inf = pd.concat((pd.read_parquet(f\"{path}{f}\", engine='fastparquet') for f in filelist)).reset_index(drop=True)\n",
    "# super_stop = time.time()\n",
    "# lasted = (super_stop-start)/60\n",
    "# print(f\"{lasted} minutes\")"
   ]
  },
  {
   "cell_type": "code",
   "execution_count": 35,
   "id": "129162ba-9265-4f3c-9be1-84c6fe59f977",
   "metadata": {},
   "outputs": [],
   "source": [
    "with open('./qcd_pt.pkl', 'rb') as f:\n",
    "    output = pickle.load(f)"
   ]
  },
  {
   "cell_type": "code",
   "execution_count": 36,
   "id": "15257a24-7473-4fb4-917a-c7d2afef2b09",
   "metadata": {},
   "outputs": [],
   "source": [
    "pt_347 = np.asarray(output['q347']['FatJets.n2b1'].values.tolist())\n",
    "pt_476 = np.asarray(output['q476']['FatJets.n2b1'].values.tolist())\n",
    "pt_68 = np.asarray(output['q68']['FatJets.n2b1'].values.tolist())\n",
    "pt_810 = np.asarray(output['q810']['FatJets.n2b1'].values.tolist())\n",
    "pt_1014 = np.asarray(output['q1014']['FatJets.n2b1'].values.tolist())\n",
    "pt_1418 = np.asarray(output['q1418']['FatJets.n2b1'].values.tolist())\n",
    "pt_1824 = np.asarray(output['q1824']['FatJets.n2b1'].values.tolist())\n",
    "pt_2432 = np.asarray(output['q2432']['FatJets.n2b1'].values.tolist())\n",
    "pt_32inf = np.asarray(output['q32inf']['FatJets.n2b1'].values.tolist())"
   ]
  },
  {
   "cell_type": "code",
   "execution_count": 37,
   "id": "d484bbb6-2016-4f68-981d-5ed753806150",
   "metadata": {},
   "outputs": [],
   "source": [
    "l347 = len(pt_347)\n",
    "l476 = len(pt_476)\n",
    "l68 = len(pt_68)\n",
    "l810 = len(pt_810)\n",
    "l1014 = len(pt_1014)\n",
    "l1418 = len(pt_1418)\n",
    "l1824 = len(pt_1824)\n",
    "l2432 = len(pt_2432)\n",
    "l32inf = len(pt_32inf)\n",
    "ltot = l347 + l476 + l68 + l810 + l1014 + l1418 + l1824 + l2432 + l32inf"
   ]
  },
  {
   "cell_type": "code",
   "execution_count": 38,
   "id": "888f795f-8a85-4e46-bc13-0567d46bfabf",
   "metadata": {},
   "outputs": [],
   "source": [
    "IL = 44.99\n",
    "xs_300to470 = 6833\n",
    "xs_470to600 = 549.5\n",
    "xs_600to800 = 156.5\n",
    "xs_800to1000 = 26.22\n",
    "xs_1000to1400 = 7.475\n",
    "xs_1400to1800 = 0.6482\n",
    "xs_1800to2400 = 0.08742\n",
    "xs_2400to3200 = 0.005237\n",
    "xs_3200toInf = 0.0001353\n",
    "tot = 6833 + 549.5 + 156.5 + 26.22 + 7.475 + 0.6482 + 0.08742 + 0.005237 + 0.0001353"
   ]
  },
  {
   "cell_type": "code",
   "execution_count": 39,
   "id": "2c8a24a5-8121-4349-b845-c62997c8e2a4",
   "metadata": {},
   "outputs": [],
   "source": [
    "val_347 = 6833/tot\n",
    "val_476 = 549.5/tot\n",
    "val_68 = 156.5/tot\n",
    "val_810 = 26.22/tot\n",
    "val_1014 = 7.475/tot\n",
    "val_1418 = 0.6482/tot\n",
    "val_1824 = 0.08742/tot\n",
    "val_2432 = 0.005237/tot\n",
    "val_32inf = 0.0001353/tot"
   ]
  },
  {
   "cell_type": "code",
   "execution_count": 40,
   "id": "35ae48b2-a135-47a9-9aa5-8c29b6450ffb",
   "metadata": {},
   "outputs": [],
   "source": [
    "s347 = ((xs_300to470*1000)*IL)/l347\n",
    "s476 = ((xs_470to600*1000)*IL)/l476\n",
    "s68 = ((xs_600to800*1000)*IL)/l68\n",
    "s810 = ((xs_800to1000*1000)*IL)/l810\n",
    "s1014 = ((xs_1000to1400*1000)*IL)/l1014\n",
    "s1418 = ((xs_1400to1800*1000)*IL)/l1418\n",
    "s1824 = ((xs_1800to2400*1000)*IL)/l1824\n",
    "s2432 = ((xs_2400to3200*1000)*IL)/l2432\n",
    "s32inf = ((xs_3200toInf*1000)*IL)/l32inf"
   ]
  },
  {
   "cell_type": "code",
   "execution_count": 41,
   "id": "5187a325-71fa-4827-a602-1b6768707f7f",
   "metadata": {},
   "outputs": [],
   "source": [
    "stot = s347 + s476 + s68 + s810 + s1014 + s1418 + s2432 + s32inf"
   ]
  },
  {
   "cell_type": "code",
   "execution_count": 42,
   "id": "338d7532-5a45-4aed-a0d9-a3bc48f1c702",
   "metadata": {},
   "outputs": [],
   "source": [
    "sval_347 = s347/stot\n",
    "sval_476 = s476/stot\n",
    "sval_68 = s68/stot\n",
    "sval_810 = s810/stot\n",
    "sval_1014 = s1014/stot\n",
    "sval_1418 = s1418/stot\n",
    "sval_1824 = s1824/stot\n",
    "sval_2432 = s2432/stot\n",
    "sval_32inf = s32inf/stot"
   ]
  },
  {
   "cell_type": "code",
   "execution_count": 43,
   "id": "c6b77c8e-8e0f-4ca8-99ab-be02be2ddc22",
   "metadata": {},
   "outputs": [],
   "source": [
    "pt_347_combed = pt_347[np.random.rand(pt_347.shape[0]) < sval_347]\n",
    "pt_476_combed = pt_476[np.random.rand(pt_476.shape[0]) < sval_476]\n",
    "pt_68_combed = pt_68[np.random.rand(pt_68.shape[0]) < sval_68]\n",
    "pt_810_combed = pt_810[np.random.rand(pt_810.shape[0]) < sval_810]\n",
    "pt_1014_combed = pt_1014[np.random.rand(pt_1014.shape[0]) < sval_1014]\n",
    "pt_1418_combed = pt_1418[np.random.rand(pt_1418.shape[0]) < sval_1418]\n",
    "pt_1824_combed = pt_1824[np.random.rand(pt_1824.shape[0]) < sval_1824]\n",
    "pt_2432_combed = pt_2432[np.random.rand(pt_2432.shape[0]) < sval_2432]\n",
    "pt_32inf_combed = pt_32inf[np.random.rand(pt_32inf.shape[0]) < sval_32inf]"
   ]
  },
  {
   "cell_type": "code",
   "execution_count": 44,
   "id": "afdca7d3-c459-4816-9b2b-90d9f46b8e70",
   "metadata": {},
   "outputs": [],
   "source": [
    "tst = np.concatenate((pt_347_combed,\n",
    "                pt_476_combed,\n",
    "                pt_68_combed,\n",
    "                pt_810_combed,\n",
    "                pt_1014_combed,\n",
    "                pt_1418_combed,\n",
    "                pt_1824_combed,\n",
    "                pt_2432_combed,\n",
    "                pt_32inf_combed\n",
    "               )\n",
    "              )"
   ]
  },
  {
   "cell_type": "code",
   "execution_count": 26,
   "id": "854a3a27-57bc-4010-9460-8e00ab8a8dfb",
   "metadata": {},
   "outputs": [],
   "source": [
    "with open('../qcd_check/qcd_pt.pkl', 'rb') as f:\n",
    "    qcd = pickle.load(f)"
   ]
  },
  {
   "cell_type": "code",
   "execution_count": 27,
   "id": "6c142c78-52d8-4816-ba5e-0394f236f9a2",
   "metadata": {},
   "outputs": [],
   "source": [
    "#QCD scale factors\n",
    "scales300to470 = (((xs_300to470*1000)*IL)/(qcd[0]['QCD_Pt_300to470_TuneCP5_13TeV_pythia8']['QCD_Pt_300to470']['entries']))\n",
    "scales470to600 = (((xs_470to600*1000)*IL)/(qcd[0]['QCD_Pt_470to600_TuneCP5_13TeV_pythia8']['QCD_Pt_470to600']['entries']))\n",
    "scales600to800 = (((xs_600to800*1000)*IL)/(qcd[0]['QCD_Pt_600to800_TuneCP5_13TeV_pythia8']['QCD_Pt_600to800']['entries']))\n",
    "scales800to1000 = (((xs_800to1000*1000)*IL)/(qcd[0]['QCD_Pt_800to1000_TuneCP5_13TeV_pythia8']['QCD_Pt_800to1000']['entries']))\n",
    "scales1000to1400 = (((xs_1000to1400*1000)*IL)/(qcd[0]['QCD_Pt_1000to1400_TuneCP5_13TeV_pythia8']['QCD_Pt_1000to1400']['entries']))\n",
    "scales1400to1800 = (((xs_1400to1800*1000)*IL)/(qcd[0]['QCD_Pt_1400to1800_TuneCP5_13TeV_pythia8']['QCD_Pt_1400to1800']['entries']))\n",
    "scales1800to2400 = (((xs_1800to2400*1000)*IL)/(qcd[0]['QCD_Pt_1800to2400_TuneCP5_13TeV_pythia8']['QCD_Pt_1800to2400']['entries']))\n",
    "scales2400to3200 = (((xs_2400to3200*1000)*IL)/(qcd[0]['QCD_Pt_2400to3200_TuneCP5_13TeV_pythia8']['QCD_Pt_2400to3200']['entries']))\n",
    "scales3200toInf = (((xs_3200toInf*1000)*IL)/(qcd[0]['QCD_Pt_3200toInf_TuneCP5_13TeV_pythia8']['QCD_Pt_3200toInf']['entries']))"
   ]
  },
  {
   "cell_type": "code",
   "execution_count": 28,
   "id": "01eb6014-77f1-400b-a5e8-3b4e26fc4787",
   "metadata": {},
   "outputs": [
    {
     "data": {
      "text/plain": [
       "(15.3708335, 1.2251960055505997, 0.35204675, 0.0587586072922893)"
      ]
     },
     "execution_count": 28,
     "metadata": {},
     "output_type": "execute_result"
    }
   ],
   "source": [
    "scales300to470, scales470to600, scales600to800, scales800to1000"
   ]
  },
  {
   "cell_type": "code",
   "execution_count": 29,
   "id": "543652cf-6df6-4e26-9bcf-ba89f78fd11d",
   "metadata": {},
   "outputs": [],
   "source": [
    "qcd[0]['QCD_Pt_300to470_TuneCP5_13TeV_pythia8']['QCD_Pt_300to470']['Jet_n2'].view(flow=True)[:] *= scales300to470\n",
    "qcd[0]['QCD_Pt_470to600_TuneCP5_13TeV_pythia8']['QCD_Pt_470to600']['Jet_n2'].view(flow=True)[:] *= scales470to600\n",
    "qcd[0]['QCD_Pt_600to800_TuneCP5_13TeV_pythia8']['QCD_Pt_600to800']['Jet_n2'].view(flow=True)[:] *= scales600to800\n",
    "qcd[0]['QCD_Pt_800to1000_TuneCP5_13TeV_pythia8']['QCD_Pt_800to1000']['Jet_n2'].view(flow=True)[:] *= scales800to1000\n",
    "qcd[0]['QCD_Pt_1000to1400_TuneCP5_13TeV_pythia8']['QCD_Pt_1000to1400']['Jet_n2'].view(flow=True)[:] *= scales1000to1400\n",
    "qcd[0]['QCD_Pt_1400to1800_TuneCP5_13TeV_pythia8']['QCD_Pt_1400to1800']['Jet_n2'].view(flow=True)[:] *= scales1400to1800\n",
    "qcd[0]['QCD_Pt_1800to2400_TuneCP5_13TeV_pythia8']['QCD_Pt_1800to2400']['Jet_n2'].view(flow=True)[:] *= scales1800to2400\n",
    "qcd[0]['QCD_Pt_2400to3200_TuneCP5_13TeV_pythia8']['QCD_Pt_2400to3200']['Jet_n2'].view(flow=True)[:] *= scales2400to3200\n",
    "qcd[0]['QCD_Pt_3200toInf_TuneCP5_13TeV_pythia8']['QCD_Pt_3200toInf']['Jet_n2'].view(flow=True)[:] *= scales3200toInf"
   ]
  },
  {
   "cell_type": "code",
   "execution_count": 30,
   "id": "020964fa-6703-40f9-83f2-3cd1ada3ddb1",
   "metadata": {},
   "outputs": [],
   "source": [
    "qcd_pt = (qcd[0]['QCD_Pt_300to470_TuneCP5_13TeV_pythia8']['QCD_Pt_300to470']['Jet_n2']+\n",
    "        qcd[0]['QCD_Pt_470to600_TuneCP5_13TeV_pythia8']['QCD_Pt_470to600']['Jet_n2']+\n",
    "        qcd[0]['QCD_Pt_600to800_TuneCP5_13TeV_pythia8']['QCD_Pt_600to800']['Jet_n2']+\n",
    "        qcd[0]['QCD_Pt_800to1000_TuneCP5_13TeV_pythia8']['QCD_Pt_800to1000']['Jet_n2']+\n",
    "        qcd[0]['QCD_Pt_1000to1400_TuneCP5_13TeV_pythia8']['QCD_Pt_1000to1400']['Jet_n2']+\n",
    "        qcd[0]['QCD_Pt_1400to1800_TuneCP5_13TeV_pythia8']['QCD_Pt_1400to1800']['Jet_n2']+\n",
    "        qcd[0]['QCD_Pt_1800to2400_TuneCP5_13TeV_pythia8']['QCD_Pt_1800to2400']['Jet_n2']+\n",
    "        qcd[0]['QCD_Pt_2400to3200_TuneCP5_13TeV_pythia8']['QCD_Pt_2400to3200']['Jet_n2']+\n",
    "        qcd[0]['QCD_Pt_3200toInf_TuneCP5_13TeV_pythia8']['QCD_Pt_3200toInf']['Jet_n2'])"
   ]
  },
  {
   "cell_type": "code",
   "execution_count": 48,
   "id": "9d910072-3446-409c-aa61-17d9e02fe847",
   "metadata": {},
   "outputs": [
    {
     "data": {
      "image/png": "[encoded data removed]",
      "text/plain": [
       "<Figure size 640x480 with 1 Axes>"
      ]
     },
     "metadata": {},
     "output_type": "display_data"
    }
   ],
   "source": [
    "fig, ax = plt.subplots()\n",
    "qcd_pt.plot(ax=ax)\n",
    "plt.hist(tst, range=(0,0.5), bins=75, #weights=17*np.ones_like(tst)\n",
    "        )\n",
    "# plt.yscale('log')\n",
    "# plt.xlim(100, 5000)\n",
    "plt.show()"
   ]
  },
  {
   "cell_type": "code",
   "execution_count": null,
   "id": "835bba1c-eae2-4c6c-beb4-1fb8b559ea42",
   "metadata": {},
   "outputs": [],
   "source": []
  }
 ],
 "metadata": {
  "kernelspec": {
   "display_name": "Python 3 (ipykernel)",
   "language": "python",
   "name": "python3"
  },
  "language_info": {
   "codemirror_mode": {
    "name": "ipython",
    "version": 3
   },
   "file_extension": ".py",
   "mimetype": "text/x-python",
   "name": "python",
   "nbconvert_exporter": "python",
   "pygments_lexer": "ipython3",
   "version": "3.10.13"
  }
 },
 "nbformat": 4,
 "nbformat_minor": 5
}
