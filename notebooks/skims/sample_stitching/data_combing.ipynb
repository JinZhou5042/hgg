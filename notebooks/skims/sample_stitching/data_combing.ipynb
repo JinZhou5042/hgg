{
 "cells": [
  {
   "cell_type": "code",
   "execution_count": 1,
   "id": "9ed4d440",
   "metadata": {
    "editable": true,
    "slideshow": {
     "slide_type": ""
    },
    "tags": []
   },
   "outputs": [],
   "source": [
    "import pandas as pd\n",
    "import matplotlib.pyplot as plt\n",
    "import numpy as np\n",
    "import awkward as ak\n",
    "import pickle\n",
    "import pandas as pd\n",
    "import os"
   ]
  },
  {
   "cell_type": "code",
   "execution_count": 2,
   "id": "75df47c4-2fe6-46f5-9c9a-687da2b7a160",
   "metadata": {},
   "outputs": [],
   "source": [
    "hbb = pd.read_parquet('parquet/hbb.parquet', engine='fastparquet')\n",
    "hgg = pd.read_parquet('parquet/hgg.parquet', engine='fastparquet')"
   ]
  },
  {
   "cell_type": "code",
   "execution_count": 3,
   "id": "a004b11d-c686-4995-8858-51b823d208b8",
   "metadata": {},
   "outputs": [],
   "source": [
    "qcd = {}\n",
    "files = os.listdir('parquet')\n",
    "for i in files:\n",
    "    if 'to' in i:\n",
    "        qcd[i.strip('.parquet')] = pd.read_parquet(f'parquet/{i}', engine='fastparquet')"
   ]
  },
  {
   "cell_type": "code",
   "execution_count": 6,
   "id": "2153048a-84db-4fdf-9d57-ad4853499e76",
   "metadata": {},
   "outputs": [],
   "source": [
    "vars = list(qcd['300to470'].keys())"
   ]
  },
  {
   "cell_type": "code",
   "execution_count": 7,
   "id": "de66637e-8855-45d1-b8db-475c0f2d7b29",
   "metadata": {},
   "outputs": [],
   "source": [
    "IL = 44.99"
   ]
  },
  {
   "cell_type": "code",
   "execution_count": 8,
   "id": "8fd33901-1046-4549-8b1b-075620a38616",
   "metadata": {},
   "outputs": [],
   "source": [
    "xsec = {}\n",
    "xsec['300to470'] = 6833\n",
    "xsec['470to600'] = 549.5\n",
    "xsec['600to800'] = 156.5\n",
    "xsec['800to1000'] = 26.22\n",
    "xsec['1000to1400'] = 7.475\n",
    "xsec['1400to1800'] = 0.6482\n",
    "xsec['1800to2400'] = 0.08742\n",
    "xsec['2400to3200'] = 0.005237\n",
    "xsec['3200toInf'] = 0.0001353"
   ]
  },
  {
   "cell_type": "code",
   "execution_count": 9,
   "id": "2d87dad1-c490-4826-94b8-b0a74fc90d54",
   "metadata": {},
   "outputs": [],
   "source": [
    "stitched_dict = {}\n",
    "for j in vars:\n",
    "    qcd_frac = {}\n",
    "    for i in qcd:\n",
    "        qcd_frac[i] = ((xsec[i]*1000)*IL)/len(qcd[i][j])\n",
    "    qcd_frac['tot'] = sum(qcd_frac.values())\n",
    "    sval = {}\n",
    "    for i in qcd:\n",
    "        sval[i] = qcd_frac[i]/qcd_frac['tot']\n",
    "    combed = {}\n",
    "    for i in qcd:\n",
    "        temp = qcd[i][j]\n",
    "        combed[i] = temp[np.random.rand(temp.shape[0]) < sval[i]]\n",
    "    stitched_var = np.concatenate([combed[x] for x in combed])\n",
    "    stitched_dict[j] = stitched_var"
   ]
  },
  {
   "cell_type": "code",
   "execution_count": 10,
   "id": "912392ba-3532-4eca-be6f-f79601db44c2",
   "metadata": {},
   "outputs": [
    {
     "data": {
      "image/png": "[encoded data removed]",
      "text/plain": [
       "<Figure size 640x480 with 1 Axes>"
      ]
     },
     "metadata": {},
     "output_type": "display_data"
    }
   ],
   "source": [
    "fig, ax = plt.subplots()\n",
    "plt.hist(stitched_dict['FatJets.color_ring'], range=(.5,5), bins=75, density=True, histtype='step', label='QCD',#weights=21*np.ones_like(tst)\n",
    "        )\n",
    "plt.hist(hgg['FatJets.color_ring'], range=(.5,5), bins=75, density=True, histtype='step', label='Signal',#weights=21*np.ones_like(tst)\n",
    "        )\n",
    "plt.legend()\n",
    "#plt.yscale('log')\n",
    "#plt.xlim(100, 5000)\n",
    "plt.show()"
   ]
  },
  {
   "cell_type": "code",
   "execution_count": 16,
   "id": "b789c770-c187-4af4-9b4a-de7200708916",
   "metadata": {},
   "outputs": [
    {
     "data": {
      "image/png": "[encoded data removed]",
      "text/plain": [
       "<Figure size 640x480 with 1 Axes>"
      ]
     },
     "metadata": {},
     "output_type": "display_data"
    }
   ],
   "source": [
    "fig, ax = plt.subplots()\n",
    "plt.hist(stitched_dict['FatJets.pt'], range=(400,900), bins=75, #density=True, #weights=21*np.ones_like(tst)\n",
    "        )\n",
    "plt.yscale('log')\n",
    "#plt.xlim(100, 5000)\n",
    "plt.show()"
   ]
  },
  {
   "cell_type": "code",
   "execution_count": 17,
   "id": "af5c9c43-8a92-4d04-a9dc-53133637f959",
   "metadata": {},
   "outputs": [],
   "source": [
    "hgg = hgg.reset_index(drop=True)"
   ]
  },
  {
   "cell_type": "code",
   "execution_count": 18,
   "id": "3ad71535-c8c7-4d30-80ce-a10bcd083e96",
   "metadata": {},
   "outputs": [],
   "source": [
    "hbb = hbb.reset_index(drop=True)"
   ]
  },
  {
   "cell_type": "code",
   "execution_count": 19,
   "id": "4a54115d-ed4a-40e6-b654-af2f283a75bb",
   "metadata": {},
   "outputs": [],
   "source": [
    "sizes = []\n",
    "for i in stitched_dict:\n",
    "    sizes.append(len(stitched_dict[i]))\n",
    "\n",
    "losses = [(x - min(sizes)) for x in sizes]\n",
    "for i in stitched_dict:\n",
    "    stitched_dict[i] = stitched_dict[i][:min(sizes)]"
   ]
  },
  {
   "cell_type": "code",
   "execution_count": 20,
   "id": "9de38574-c631-42cb-998a-41e5522d53b8",
   "metadata": {},
   "outputs": [],
   "source": [
    "qcd = pd.DataFrame.from_dict(stitched_dict)"
   ]
  },
  {
   "cell_type": "code",
   "execution_count": 24,
   "id": "bb8bbe96-8e41-43ce-a36f-aa61f06e48c4",
   "metadata": {},
   "outputs": [],
   "source": [
    "hgg.to_parquet('parquet/combed/hgg.parquet')\n",
    "hbb.to_parquet('parquet/combed/hbb.parquet')\n",
    "qcd.to_parquet('parquet/combed/qcd.parquet')"
   ]
  },
  {
   "cell_type": "code",
   "execution_count": 26,
   "id": "123d00c3-d858-45c1-87c2-537f25f03d91",
   "metadata": {},
   "outputs": [
    {
     "data": {
      "text/plain": [
       "['FatJets.area',\n",
       " 'FatJets.eta',\n",
       " 'FatJets.mass',\n",
       " 'FatJets.msoftdrop',\n",
       " 'FatJets.n2b1',\n",
       " 'FatJets.n3b1',\n",
       " 'FatJets.phi',\n",
       " 'FatJets.pt',\n",
       " 'FatJets.nConstituents',\n",
       " 'FatJets.color_ring',\n",
       " 'FatJets.d2b1',\n",
       " 'FatJets.u1',\n",
       " 'FatJets.u2',\n",
       " 'FatJets.u3',\n",
       " 'FatJets.d3',\n",
       " 'FatJets.m2',\n",
       " 'FatJets.m3',\n",
       " 'FatJets.n4']"
      ]
     },
     "execution_count": 26,
     "metadata": {},
     "output_type": "execute_result"
    }
   ],
   "source": [
    "vars"
   ]
  },
  {
   "cell_type": "code",
   "execution_count": 260,
   "id": "e747e43f-ba0c-4349-a217-165dda4fdfab",
   "metadata": {},
   "outputs": [
    {
     "name": "stdout",
     "output_type": "stream",
     "text": [
      "FatJets.phi\n",
      "-3.1416015625\n",
      "3.1416015625\n"
     ]
    }
   ],
   "source": [
    "var = vars[6]\n",
    "print(var)\n",
    "a = ak.min(hgg[var])\n",
    "b = ak.min(hbb[var])\n",
    "c = ak.min(qcd[var])\n",
    "print(min(a, b, c))\n",
    "\n",
    "a = ak.max(hgg[var])\n",
    "b = ak.max(hbb[var])\n",
    "c = ak.max(qcd[var])\n",
    "print(max(a, b, c))"
   ]
  },
  {
   "cell_type": "code",
   "execution_count": 261,
   "id": "42ba87e2-5d10-4897-8538-01c7fb426dd9",
   "metadata": {},
   "outputs": [
    {
     "data": {
      "image/png": "[encoded data removed]",
      "text/plain": [
       "<Figure size 640x480 with 1 Axes>"
      ]
     },
     "metadata": {},
     "output_type": "display_data"
    }
   ],
   "source": [
    "fig, ax = plt.subplots()\n",
    "range = (-3.15,3.15)\n",
    "bins = 50\n",
    "plt.hist(qcd[var], range=range, bins=bins, density=True, histtype='step', label='QCD')\n",
    "plt.hist(hgg[var], range=range, bins=bins, density=True, histtype='step', label='Hgg')\n",
    "plt.hist(hbb[var], range=range, bins=bins, density=True, histtype='step', label='Hbb')\n",
    "plt.legend()\n",
    "plt.title(f'{var}')\n",
    "#plt.yscale('log')\n",
    "#plt.savefig(f'parquet/combed/var_plots/{var[8:]}.png', format='png')\n",
    "plt.show()\n",
    "plt.close()"
   ]
  },
  {
   "cell_type": "code",
   "execution_count": null,
   "id": "09142b93-cd8b-4e49-9532-2e9dbada5d12",
   "metadata": {},
   "outputs": [],
   "source": []
  }
 ],
 "metadata": {
  "kernelspec": {
   "display_name": "Python 3 (ipykernel)",
   "language": "python",
   "name": "python3"
  },
  "language_info": {
   "codemirror_mode": {
    "name": "ipython",
    "version": 3
   },
   "file_extension": ".py",
   "mimetype": "text/x-python",
   "name": "python",
   "nbconvert_exporter": "python",
   "pygments_lexer": "ipython3",
   "version": "3.10.13"
  }
 },
 "nbformat": 4,
 "nbformat_minor": 5
}
