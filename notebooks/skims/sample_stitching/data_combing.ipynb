{
 "cells": [
  {
   "cell_type": "code",
   "execution_count": 2,
   "id": "9ed4d440",
   "metadata": {
    "editable": true,
    "slideshow": {
     "slide_type": ""
    },
    "tags": []
   },
   "outputs": [],
   "source": [
    "import pandas as pd\n",
    "import matplotlib.pyplot as plt\n",
    "import numpy as np\n",
    "import awkward as ak\n",
    "import pickle\n",
    "import pandas as pd\n",
    "import os"
   ]
  },
  {
   "cell_type": "code",
   "execution_count": 3,
   "id": "75df47c4-2fe6-46f5-9c9a-687da2b7a160",
   "metadata": {},
   "outputs": [],
   "source": [
    "hbb = pd.read_parquet('parquet/no_subcut/hbb.parquet', engine='fastparquet')\n",
    "hgg = pd.read_parquet('parquet/no_subcut/hgg.parquet', engine='fastparquet')"
   ]
  },
  {
   "cell_type": "code",
   "execution_count": 5,
   "id": "a004b11d-c686-4995-8858-51b823d208b8",
   "metadata": {},
   "outputs": [],
   "source": [
    "qcd = {}\n",
    "files = os.listdir('parquet/no_subcut/')\n",
    "for i in files:\n",
    "    if 'qcd' in i:\n",
    "        qcd[i.rstrip('.parquet')] = pd.read_parquet(f'parquet/no_subcut/{i}', engine='fastparquet')"
   ]
  },
  {
   "cell_type": "code",
   "execution_count": 6,
   "id": "9ab4df32-eadd-4e7f-91da-cb8e6d3546b6",
   "metadata": {},
   "outputs": [
    {
     "data": {
      "text/plain": [
       "dict_keys(['qcd_300to470', 'qcd_470to600', 'qcd_600to800', 'qcd_800to1000', 'qcd_1000to1400', 'qcd_1400to1800', 'qcd_1800to2400', 'qcd_2400to3200', 'qcd_3200toInf'])"
      ]
     },
     "execution_count": 6,
     "metadata": {},
     "output_type": "execute_result"
    }
   ],
   "source": [
    "qcd.keys()"
   ]
  },
  {
   "cell_type": "code",
   "execution_count": 7,
   "id": "2153048a-84db-4fdf-9d57-ad4853499e76",
   "metadata": {},
   "outputs": [],
   "source": [
    "vars = list(qcd['qcd_300to470'].keys())"
   ]
  },
  {
   "cell_type": "code",
   "execution_count": 7,
   "id": "de66637e-8855-45d1-b8db-475c0f2d7b29",
   "metadata": {},
   "outputs": [],
   "source": [
    "IL = 44.99"
   ]
  },
  {
   "cell_type": "code",
   "execution_count": 9,
   "id": "8fd33901-1046-4549-8b1b-075620a38616",
   "metadata": {},
   "outputs": [],
   "source": [
    "xsec = {}\n",
    "xsec['qcd_300to470'] = 6833\n",
    "xsec['qcd_470to600'] = 549.5\n",
    "xsec['qcd_600to800'] = 156.5\n",
    "xsec['qcd_800to1000'] = 26.22\n",
    "xsec['qcd_1000to1400'] = 7.475\n",
    "xsec['qcd_1400to1800'] = 0.6482\n",
    "xsec['qcd_1800to2400'] = 0.08742\n",
    "xsec['qcd_2400to3200'] = 0.005237\n",
    "xsec['qcd_3200toInf'] = 0.0001353"
   ]
  },
  {
   "cell_type": "code",
   "execution_count": 10,
   "id": "2d87dad1-c490-4826-94b8-b0a74fc90d54",
   "metadata": {},
   "outputs": [],
   "source": [
    "qcd_stitched_dict = {}\n",
    "for j in vars:\n",
    "    qcd_frac = {}\n",
    "    for i in qcd:\n",
    "        qcd_frac[i] = ((xsec[i]*1000)*IL)/len(qcd[i][j])\n",
    "    qcd_frac['tot'] = sum(qcd_frac.values())\n",
    "    sval = {}\n",
    "    for i in qcd:\n",
    "        sval[i] = qcd_frac[i]/qcd_frac['tot']\n",
    "    combed = {}\n",
    "    for i in qcd:\n",
    "        temp = qcd[i][j]\n",
    "        combed[i] = temp[np.random.rand(temp.shape[0]) < sval[i]]\n",
    "    stitched_var = np.concatenate([combed[x] for x in combed])\n",
    "    qcd_stitched_dict[j] = stitched_var"
   ]
  },
  {
   "cell_type": "code",
   "execution_count": 11,
   "id": "912392ba-3532-4eca-be6f-f79601db44c2",
   "metadata": {},
   "outputs": [
    {
     "data": {
      "image/png": "[encoded data removed]",
      "text/plain": [
       "<Figure size 640x480 with 1 Axes>"
      ]
     },
     "metadata": {},
     "output_type": "display_data"
    }
   ],
   "source": [
    "fig, ax = plt.subplots()\n",
    "plt.hist(qcd_stitched_dict['FatJets.color_ring'], range=(.5,5), bins=75, density=True, histtype='step', label='QCD',#weights=21*np.ones_like(tst)\n",
    "        )\n",
    "plt.hist(hgg['FatJets.color_ring'], range=(.5,5), bins=75, density=True, histtype='step', label='Signal',#weights=21*np.ones_like(tst)\n",
    "        )\n",
    "plt.legend()\n",
    "#plt.yscale('log')\n",
    "#plt.xlim(100, 5000)\n",
    "plt.show()"
   ]
  },
  {
   "cell_type": "code",
   "execution_count": 12,
   "id": "b789c770-c187-4af4-9b4a-de7200708916",
   "metadata": {},
   "outputs": [
    {
     "data": {
      "image/png": "[encoded data removed]",
      "text/plain": [
       "<Figure size 640x480 with 1 Axes>"
      ]
     },
     "metadata": {},
     "output_type": "display_data"
    }
   ],
   "source": [
    "fig, ax = plt.subplots()\n",
    "plt.hist(qcd_stitched_dict['FatJets.pt'], range=(400,1200), bins=75, #density=True, #weights=21*np.ones_like(tst)\n",
    "        )\n",
    "plt.yscale('log')\n",
    "#plt.xlim(100, 5000)\n",
    "plt.show()"
   ]
  },
  {
   "cell_type": "code",
   "execution_count": 13,
   "id": "af5c9c43-8a92-4d04-a9dc-53133637f959",
   "metadata": {},
   "outputs": [],
   "source": [
    "hgg = hgg.reset_index(drop=True)"
   ]
  },
  {
   "cell_type": "code",
   "execution_count": 14,
   "id": "c1a77602-68f0-41a1-abd2-d7c6d011d5be",
   "metadata": {
    "scrolled": true
   },
   "outputs": [],
   "source": [
    "temp = hgg.to_dict('list')"
   ]
  },
  {
   "cell_type": "code",
   "execution_count": 15,
   "id": "f18ea7dd-123e-41a4-9c14-153b4868dc77",
   "metadata": {
    "scrolled": true
   },
   "outputs": [],
   "source": [
    "temp_dict = {}\n",
    "for i in temp:\n",
    "    temp_dict[i] = np.array(temp[i])"
   ]
  },
  {
   "cell_type": "code",
   "execution_count": 16,
   "id": "cd83e200-d78d-4c4d-9cab-9d29e4ebf26d",
   "metadata": {},
   "outputs": [],
   "source": [
    "nan_dict = {}\n",
    "for i in temp_dict:\n",
    "    nan_mask = ~np.isnan(temp_dict[i])\n",
    "    nan_dict[i] = nan_mask\n",
    "nanless = {}\n",
    "for i in qcd_stitched_dict:\n",
    "    nanless[i] = temp_dict[i][nan_dict[i]]\n",
    "sizes = []\n",
    "for i in nanless:\n",
    "    sizes.append(len(nanless[i]))\n",
    "\n",
    "losses = [(x - min(sizes)) for x in sizes]\n",
    "for i in nanless:\n",
    "    nanless[i] = nanless[i][:min(sizes)]"
   ]
  },
  {
   "cell_type": "code",
   "execution_count": 17,
   "id": "015929f9-3915-4536-b61a-e3de3a5165e9",
   "metadata": {},
   "outputs": [],
   "source": [
    "hgg = pd.DataFrame.from_dict(nanless)"
   ]
  },
  {
   "cell_type": "code",
   "execution_count": 18,
   "id": "3ad71535-c8c7-4d30-80ce-a10bcd083e96",
   "metadata": {},
   "outputs": [],
   "source": [
    "hbb = hbb.reset_index(drop=True)"
   ]
  },
  {
   "cell_type": "code",
   "execution_count": 19,
   "id": "233010d3-9df0-4294-a7b0-8f206d979a4f",
   "metadata": {},
   "outputs": [],
   "source": [
    "temp = hbb.to_dict('list')"
   ]
  },
  {
   "cell_type": "code",
   "execution_count": 20,
   "id": "9dcf432b-9666-4386-b220-d84bbeaaac7a",
   "metadata": {},
   "outputs": [],
   "source": [
    "temp_dict = {}\n",
    "for i in temp:\n",
    "    temp_dict[i] = np.array(temp[i])"
   ]
  },
  {
   "cell_type": "code",
   "execution_count": 21,
   "id": "0a992b9b-5189-446f-af87-c2758e70685e",
   "metadata": {},
   "outputs": [],
   "source": [
    "nan_dict = {}\n",
    "for i in temp_dict:\n",
    "    nan_mask = ~np.isnan(temp_dict[i])\n",
    "    nan_dict[i] = nan_mask\n",
    "nanless = {}\n",
    "for i in qcd_stitched_dict:\n",
    "    nanless[i] = temp_dict[i][nan_dict[i]]\n",
    "sizes = []\n",
    "for i in nanless:\n",
    "    sizes.append(len(nanless[i]))\n",
    "\n",
    "losses = [(x - min(sizes)) for x in sizes]\n",
    "for i in nanless:\n",
    "    nanless[i] = nanless[i][:min(sizes)]"
   ]
  },
  {
   "cell_type": "code",
   "execution_count": 22,
   "id": "8de686b3-1191-4540-899a-82eb6e5e7498",
   "metadata": {},
   "outputs": [],
   "source": [
    "hbb = pd.DataFrame.from_dict(nanless)"
   ]
  },
  {
   "cell_type": "code",
   "execution_count": 23,
   "id": "100ca91a-79e5-40e3-83b7-418deade54eb",
   "metadata": {},
   "outputs": [],
   "source": [
    "nan_dict = {}\n",
    "for i in qcd_stitched_dict:\n",
    "    nan_mask = ~np.isnan(qcd_stitched_dict[i])\n",
    "    nan_dict[i] = nan_mask\n",
    "nanless = {}\n",
    "for i in qcd_stitched_dict:\n",
    "    nanless[i] = qcd_stitched_dict[i][nan_dict[i]]\n",
    "sizes = []\n",
    "for i in nanless:\n",
    "    sizes.append(len(nanless[i]))\n",
    "\n",
    "losses = [(x - min(sizes)) for x in sizes]\n",
    "for i in nanless:\n",
    "    nanless[i] = nanless[i][:min(sizes)]"
   ]
  },
  {
   "cell_type": "code",
   "execution_count": 24,
   "id": "9de38574-c631-42cb-998a-41e5522d53b8",
   "metadata": {},
   "outputs": [],
   "source": [
    "qcd = pd.DataFrame.from_dict(nanless)"
   ]
  },
  {
   "cell_type": "code",
   "execution_count": 25,
   "id": "bb8bbe96-8e41-43ce-a36f-aa61f06e48c4",
   "metadata": {},
   "outputs": [],
   "source": [
    "hgg.to_parquet('parquet/no_subcut/combed/hgg.parquet')\n",
    "hbb.to_parquet('parquet/no_subcut/combed/hbb.parquet')\n",
    "qcd.to_parquet('parquet/no_subcut/combed/qcd.parquet')"
   ]
  },
  {
   "cell_type": "code",
   "execution_count": 26,
   "id": "bdfe27b1-fcc9-4c2d-890b-c008d16c719e",
   "metadata": {},
   "outputs": [],
   "source": [
    "ttboosted = {}\n",
    "files = os.listdir('parquet/no_subcut')\n",
    "for i in files:\n",
    "    if 'ttboosted' in i:\n",
    "        ttboosted[i.rstrip('.parquet')] = pd.read_parquet(f'parquet/no_subcut/{i}', engine='fastparquet')"
   ]
  },
  {
   "cell_type": "code",
   "execution_count": 27,
   "id": "cf266f38-fe1e-4a10-82ce-3d371b4a4195",
   "metadata": {},
   "outputs": [],
   "source": [
    "vars = list(ttboosted['ttboosted_700to1000'].keys())"
   ]
  },
  {
   "cell_type": "code",
   "execution_count": 28,
   "id": "963fc920-8ecf-4170-8121-50ddd17ddde5",
   "metadata": {},
   "outputs": [],
   "source": [
    "xsec = {}\n",
    "xsec['ttboosted_700to1000'] = 64.35\n",
    "xsec['ttboosted_1000toInf'] = 16.44"
   ]
  },
  {
   "cell_type": "code",
   "execution_count": 29,
   "id": "9fc399db-3b0a-4efe-bb86-c7f9619aa6ac",
   "metadata": {},
   "outputs": [],
   "source": [
    "ttboosted_stitched_dict = {}\n",
    "for j in vars:\n",
    "    ttboosted_frac = {}\n",
    "    for i in ttboosted:\n",
    "        ttboosted_frac[i] = ((xsec[i]*1000)*IL)/len(ttboosted[i][j])\n",
    "    ttboosted_frac['tot'] = sum(ttboosted_frac.values())\n",
    "    sval = {}\n",
    "    for i in ttboosted:\n",
    "        sval[i] = ttboosted_frac[i]/ttboosted_frac['tot']\n",
    "    combed = {}\n",
    "    for i in ttboosted:\n",
    "        temp = ttboosted[i][j]\n",
    "        combed[i] = temp[np.random.rand(temp.shape[0]) < sval[i]]\n",
    "    stitched_var = np.concatenate([combed[x] for x in combed])\n",
    "    ttboosted_stitched_dict[j] = stitched_var"
   ]
  },
  {
   "cell_type": "code",
   "execution_count": 30,
   "id": "b34142f7-ad28-4b33-a132-4f84de902128",
   "metadata": {},
   "outputs": [
    {
     "data": {
      "image/png": "[encoded data removed]",
      "text/plain": [
       "<Figure size 640x480 with 1 Axes>"
      ]
     },
     "metadata": {},
     "output_type": "display_data"
    }
   ],
   "source": [
    "fig, ax = plt.subplots()\n",
    "plt.hist(ttboosted_stitched_dict['FatJets.pt'], range=(400,1500), bins=75, #density=True, #weights=21*np.ones_like(tst)\n",
    "        )\n",
    "plt.yscale('log')\n",
    "#plt.xlim(100, 5000)\n",
    "plt.show()"
   ]
  },
  {
   "cell_type": "code",
   "execution_count": 31,
   "id": "fe265242-9d34-4e8d-9da7-04a30b770086",
   "metadata": {},
   "outputs": [],
   "source": [
    "nan_dict = {}\n",
    "for i in ttboosted_stitched_dict:\n",
    "    nan_mask = ~np.isnan(ttboosted_stitched_dict[i])\n",
    "    nan_dict[i] = nan_mask\n",
    "nanless = {}\n",
    "for i in ttboosted_stitched_dict:\n",
    "    nanless[i] = ttboosted_stitched_dict[i][nan_dict[i]]\n",
    "sizes = []\n",
    "for i in nanless:\n",
    "    sizes.append(len(nanless[i]))\n",
    "\n",
    "losses = [(x - min(sizes)) for x in sizes]\n",
    "for i in nanless:\n",
    "    nanless[i] = nanless[i][:min(sizes)]"
   ]
  },
  {
   "cell_type": "code",
   "execution_count": 32,
   "id": "1ce50a75-8f6e-488d-aa10-4bdfa9596baf",
   "metadata": {},
   "outputs": [],
   "source": [
    "ttboosted = pd.DataFrame.from_dict(nanless)"
   ]
  },
  {
   "cell_type": "code",
   "execution_count": 34,
   "id": "f7de43de-ff6e-4f58-b377-3390ad58a63d",
   "metadata": {},
   "outputs": [],
   "source": [
    "ttboosted.to_parquet('parquet/no_subcut/combed/ttboosted.parquet')"
   ]
  },
  {
   "cell_type": "code",
   "execution_count": 3,
   "id": "8cc2ecf7-85a2-4f99-b60d-ad2c2884e9ae",
   "metadata": {},
   "outputs": [],
   "source": [
    "wqq = {}\n",
    "files = os.listdir('parquet/no_subcut')\n",
    "for i in files:\n",
    "    if 'wqq' in i:\n",
    "        wqq[i.rstrip('.parquet')] = pd.read_parquet(f'parquet/no_subcut/{i}', engine='fastparquet')"
   ]
  },
  {
   "cell_type": "code",
   "execution_count": 4,
   "id": "4efe17e2-24ff-4059-81dc-084cd526eef8",
   "metadata": {},
   "outputs": [],
   "source": [
    "vars = list(wqq['wqq_600to800'].keys())"
   ]
  },
  {
   "cell_type": "code",
   "execution_count": 5,
   "id": "8651602d-563d-4e50-b4b8-996d3213c4ad",
   "metadata": {},
   "outputs": [],
   "source": [
    "xsec = {}\n",
    "xsec['wqq_200to400'] = 2574\n",
    "xsec['wqq_400to600'] = 276.2\n",
    "xsec['wqq_600to800'] = 58.9\n",
    "xsec['wqq_800toInf'] = 28.93"
   ]
  },
  {
   "cell_type": "code",
   "execution_count": 8,
   "id": "23e3d20b-05c1-49d0-9bcd-55e5ca981b08",
   "metadata": {},
   "outputs": [
    {
     "data": {
      "text/plain": [
       "<matplotlib.legend.Legend at 0x7f4c7a0ba260>"
      ]
     },
     "execution_count": 8,
     "metadata": {},
     "output_type": "execute_result"
    },
    {
     "data": {
      "image/png": "[encoded data removed]",
      "text/plain": [
       "<Figure size 640x480 with 1 Axes>"
      ]
     },
     "metadata": {},
     "output_type": "display_data"
    }
   ],
   "source": [
    "import hist\n",
    "h = hist.Hist.new.Reg(75, 40, 200).StrCat(list(wqq), name=\"name\").Double()\n",
    "for name, samp in wqq.items():\n",
    "    h.fill(samp[\"FatJets.msoftdrop\"], name, weight=xsec[name]*1000*IL/len(samp))\n",
    "\n",
    "fig, ax = plt.subplots()\n",
    "h.plot1d(ax=ax, overlay=\"name\")\n",
    "ax.set_yscale(\"log\")\n",
    "ax.legend()"
   ]
  },
  {
   "cell_type": "code",
   "execution_count": 46,
   "id": "af96f372-3b10-42cd-8554-e89bb97f5158",
   "metadata": {},
   "outputs": [],
   "source": [
    "del wqq['wqq_200to400']"
   ]
  },
  {
   "cell_type": "code",
   "execution_count": 47,
   "id": "1ca1b472-7583-4774-b729-6661f82c905b",
   "metadata": {},
   "outputs": [],
   "source": [
    "del wqq['wqq_400to600']"
   ]
  },
  {
   "cell_type": "code",
   "execution_count": 48,
   "id": "1e27589b-dae1-4fd7-b07f-36d5cb467950",
   "metadata": {},
   "outputs": [],
   "source": [
    "wqq_stitched_dict = {}\n",
    "for j in vars:\n",
    "    wqq_frac = {}\n",
    "    for i in wqq:\n",
    "        wqq_frac[i] = ((xsec[i]*1000)*IL)/len(wqq[i][j])\n",
    "    wqq_frac['tot'] = sum(wqq_frac.values())\n",
    "    sval = {}\n",
    "    for i in wqq:\n",
    "        sval[i] = wqq_frac[i]/wqq_frac['tot']\n",
    "    combed = {}\n",
    "    for i in wqq:\n",
    "        temp = wqq[i][j]\n",
    "        combed[i] = temp[np.random.rand(temp.shape[0]) < sval[i]]\n",
    "    stitched_var = np.concatenate([combed[x] for x in combed])\n",
    "    wqq_stitched_dict[j] = stitched_var"
   ]
  },
  {
   "cell_type": "code",
   "execution_count": 49,
   "id": "49891971-953a-433a-8d75-182647f7923c",
   "metadata": {},
   "outputs": [
    {
     "data": {
      "image/png": "[encoded data removed]",
      "text/plain": [
       "<Figure size 640x480 with 1 Axes>"
      ]
     },
     "metadata": {},
     "output_type": "display_data"
    }
   ],
   "source": [
    "fig, ax = plt.subplots()\n",
    "plt.hist(wqq_stitched_dict['FatJets.pt'], range=(400,1500), bins=75, #density=True, #weights=21*np.ones_like(tst)\n",
    "        )\n",
    "plt.yscale('log')\n",
    "#plt.xlim(100, 5000)\n",
    "plt.show()"
   ]
  },
  {
   "cell_type": "code",
   "execution_count": 50,
   "id": "51186d57-629a-4e99-9154-741a7bac8f4a",
   "metadata": {},
   "outputs": [],
   "source": [
    "nan_dict = {}\n",
    "for i in wqq_stitched_dict:\n",
    "    nan_mask = ~np.isnan(wqq_stitched_dict[i])\n",
    "    nan_dict[i] = nan_mask\n",
    "nanless = {}\n",
    "for i in wqq_stitched_dict:\n",
    "    nanless[i] = wqq_stitched_dict[i][nan_dict[i]]\n",
    "sizes = []\n",
    "for i in nanless:\n",
    "    sizes.append(len(nanless[i]))\n",
    "\n",
    "losses = [(x - min(sizes)) for x in sizes]\n",
    "for i in nanless:\n",
    "    nanless[i] = nanless[i][:min(sizes)]"
   ]
  },
  {
   "cell_type": "code",
   "execution_count": 51,
   "id": "bceb55e4-5bb4-4789-903c-815108b6bd52",
   "metadata": {},
   "outputs": [],
   "source": [
    "wqq = pd.DataFrame.from_dict(nanless)"
   ]
  },
  {
   "cell_type": "code",
   "execution_count": 52,
   "id": "ee1fd399-30a5-498f-a77a-03f4496d7132",
   "metadata": {},
   "outputs": [],
   "source": [
    "wqq.to_parquet('parquet/no_subcut/combed/wqq.parquet')"
   ]
  },
  {
   "cell_type": "code",
   "execution_count": 9,
   "id": "2ccbba71-0d9a-4f2a-af55-ef00f274ad56",
   "metadata": {},
   "outputs": [],
   "source": [
    "zqq = {}\n",
    "files = os.listdir('parquet/no_subcut')\n",
    "for i in files:\n",
    "    if 'zqq' in i:\n",
    "        zqq[i.rstrip('.parquet')] = pd.read_parquet(f'parquet/no_subcut/{i}', engine='fastparquet')"
   ]
  },
  {
   "cell_type": "code",
   "execution_count": 10,
   "id": "2ae2fba3-b375-4bac-a664-033b97009930",
   "metadata": {},
   "outputs": [],
   "source": [
    "vars = list(zqq['zqq_600to800'].keys())"
   ]
  },
  {
   "cell_type": "code",
   "execution_count": 11,
   "id": "a42c13ba-a7df-488b-8664-984edc5282f4",
   "metadata": {},
   "outputs": [],
   "source": [
    "xsec = {}\n",
    "xsec['zqq_200to400'] = 1006\n",
    "xsec['zqq_400to600'] = 114.3\n",
    "xsec['zqq_600to800'] = 25.19\n",
    "xsec['zqq_800toInf'] = 12.9"
   ]
  },
  {
   "cell_type": "code",
   "execution_count": 12,
   "id": "9e54d43f-8c83-42e8-96d8-0ab92aaf1afd",
   "metadata": {},
   "outputs": [],
   "source": [
    "del zqq['zqq_200to400']\n",
    "del zqq['zqq_400to600']"
   ]
  },
  {
   "cell_type": "code",
   "execution_count": 13,
   "id": "94beb726-fd28-400d-af71-be86bd2cdb14",
   "metadata": {},
   "outputs": [],
   "source": [
    "zqq_stitched_dict = {}\n",
    "for j in vars:\n",
    "    zqq_frac = {}\n",
    "    for i in zqq:\n",
    "        zqq_frac[i] = ((xsec[i]*1000)*IL)/len(zqq[i][j])\n",
    "    zqq_frac['tot'] = sum(zqq_frac.values())\n",
    "    sval = {}\n",
    "    for i in zqq:\n",
    "        sval[i] = zqq_frac[i]/zqq_frac['tot']\n",
    "    combed = {}\n",
    "    for i in zqq:\n",
    "        temp = zqq[i][j]\n",
    "        combed[i] = temp[np.random.rand(temp.shape[0]) < sval[i]]\n",
    "    stitched_var = np.concatenate([combed[x] for x in combed])\n",
    "    zqq_stitched_dict[j] = stitched_var"
   ]
  },
  {
   "cell_type": "code",
   "execution_count": 14,
   "id": "38555854-80ec-40ef-b16a-5c16730ec6f6",
   "metadata": {},
   "outputs": [
    {
     "data": {
      "image/png": "[encoded data removed]",
      "text/plain": [
       "<Figure size 640x480 with 1 Axes>"
      ]
     },
     "metadata": {},
     "output_type": "display_data"
    }
   ],
   "source": [
    "fig, ax = plt.subplots()\n",
    "plt.hist(zqq_stitched_dict['FatJets.pt'], range=(400,1500), bins=75, #density=True, #weights=21*np.ones_like(tst)\n",
    "        )\n",
    "plt.yscale('log')\n",
    "#plt.xlim(100, 5000)\n",
    "plt.show()"
   ]
  },
  {
   "cell_type": "code",
   "execution_count": 15,
   "id": "47034922-7999-4314-8746-8a5e4160c67b",
   "metadata": {},
   "outputs": [],
   "source": [
    "nan_dict = {}\n",
    "for i in zqq_stitched_dict:\n",
    "    nan_mask = ~np.isnan(zqq_stitched_dict[i])\n",
    "    nan_dict[i] = nan_mask\n",
    "nanless = {}\n",
    "for i in zqq_stitched_dict:\n",
    "    nanless[i] = zqq_stitched_dict[i][nan_dict[i]]\n",
    "sizes = []\n",
    "for i in nanless:\n",
    "    sizes.append(len(nanless[i]))\n",
    "\n",
    "losses = [(x - min(sizes)) for x in sizes]\n",
    "for i in nanless:\n",
    "    nanless[i] = nanless[i][:min(sizes)]"
   ]
  },
  {
   "cell_type": "code",
   "execution_count": 16,
   "id": "406102f9-89a9-425a-b26c-ab4618336528",
   "metadata": {},
   "outputs": [],
   "source": [
    "zqq = pd.DataFrame.from_dict(nanless)"
   ]
  },
  {
   "cell_type": "code",
   "execution_count": 17,
   "id": "801e4b2f-e880-4ce8-8945-06203d93d79f",
   "metadata": {},
   "outputs": [],
   "source": [
    "zqq.to_parquet('parquet/no_subcut/combed/zqq.parquet')"
   ]
  },
  {
   "cell_type": "code",
   "execution_count": 72,
   "id": "2e90d97a-97f1-41e3-ac24-a865fd5bad71",
   "metadata": {},
   "outputs": [],
   "source": [
    "singletop = pd.read_parquet('parquet/no_subcut/singletop.parquet', engine='fastparquet')"
   ]
  },
  {
   "cell_type": "code",
   "execution_count": 73,
   "id": "585f0d97-ad7d-4c82-a85a-6fa5f1392187",
   "metadata": {},
   "outputs": [],
   "source": [
    "singletop = singletop.reset_index(drop=True)"
   ]
  },
  {
   "cell_type": "code",
   "execution_count": 74,
   "id": "2be161cd-6da8-4f95-b2ff-33efc317a042",
   "metadata": {},
   "outputs": [],
   "source": [
    "temp = singletop.to_dict('list')"
   ]
  },
  {
   "cell_type": "code",
   "execution_count": 75,
   "id": "2b4b2625-ad88-4118-9fb4-8ca09ebbf6e8",
   "metadata": {},
   "outputs": [],
   "source": [
    "temp_dict = {}\n",
    "for i in temp:\n",
    "    temp_dict[i] = np.array(temp[i])"
   ]
  },
  {
   "cell_type": "code",
   "execution_count": 76,
   "id": "e8ae7418-fcf6-4c1b-ae98-ff8ac9e3024c",
   "metadata": {},
   "outputs": [],
   "source": [
    "nan_dict = {}\n",
    "for i in temp_dict:\n",
    "    nan_mask = ~np.isnan(temp_dict[i])\n",
    "    nan_dict[i] = nan_mask\n",
    "nanless = {}\n",
    "for i in qcd_stitched_dict:\n",
    "    nanless[i] = temp_dict[i][nan_dict[i]]\n",
    "sizes = []\n",
    "for i in nanless:\n",
    "    sizes.append(len(nanless[i]))\n",
    "\n",
    "losses = [(x - min(sizes)) for x in sizes]\n",
    "for i in nanless:\n",
    "    nanless[i] = nanless[i][:min(sizes)]"
   ]
  },
  {
   "cell_type": "code",
   "execution_count": 77,
   "id": "fca458ee-cebc-420c-9668-98e921d2ec8b",
   "metadata": {},
   "outputs": [],
   "source": [
    "singletop = pd.DataFrame.from_dict(nanless)"
   ]
  },
  {
   "cell_type": "code",
   "execution_count": 78,
   "id": "3c5cc24f-c410-4d30-be37-d71d09b9282a",
   "metadata": {},
   "outputs": [],
   "source": [
    "singletop.to_parquet('parquet/no_subcut/combed/singletop.parquet')"
   ]
  },
  {
   "cell_type": "code",
   "execution_count": 79,
   "id": "a16c1cd2-be66-4294-9ab8-251a8b2a21a4",
   "metadata": {},
   "outputs": [],
   "source": [
    "ww = pd.read_parquet('parquet/no_subcut/ww.parquet', engine='fastparquet')"
   ]
  },
  {
   "cell_type": "code",
   "execution_count": 80,
   "id": "a8de2206-d8ec-4246-bd6e-bd62e78463e4",
   "metadata": {},
   "outputs": [],
   "source": [
    "ww = ww.reset_index(drop=True)"
   ]
  },
  {
   "cell_type": "code",
   "execution_count": 81,
   "id": "2322ea8e-f352-47fd-b1a6-ba9268550d6c",
   "metadata": {},
   "outputs": [],
   "source": [
    "temp = ww.to_dict('list')"
   ]
  },
  {
   "cell_type": "code",
   "execution_count": 82,
   "id": "7423db14-6c0a-4532-a98d-4c61f398a269",
   "metadata": {},
   "outputs": [],
   "source": [
    "temp_dict = {}\n",
    "for i in temp:\n",
    "    temp_dict[i] = np.array(temp[i])"
   ]
  },
  {
   "cell_type": "code",
   "execution_count": 83,
   "id": "062f44b2-665c-45e3-810c-15f2eb57380e",
   "metadata": {},
   "outputs": [],
   "source": [
    "nan_dict = {}\n",
    "for i in temp_dict:\n",
    "    nan_mask = ~np.isnan(temp_dict[i])\n",
    "    nan_dict[i] = nan_mask\n",
    "nanless = {}\n",
    "for i in qcd_stitched_dict:\n",
    "    nanless[i] = temp_dict[i][nan_dict[i]]\n",
    "sizes = []\n",
    "for i in nanless:\n",
    "    sizes.append(len(nanless[i]))\n",
    "\n",
    "losses = [(x - min(sizes)) for x in sizes]\n",
    "for i in nanless:\n",
    "    nanless[i] = nanless[i][:min(sizes)]"
   ]
  },
  {
   "cell_type": "code",
   "execution_count": 84,
   "id": "9384d13c-7861-4736-aab5-6057f61233d6",
   "metadata": {},
   "outputs": [],
   "source": [
    "ww = pd.DataFrame.from_dict(nanless)"
   ]
  },
  {
   "cell_type": "code",
   "execution_count": 85,
   "id": "30de2929-1c8e-4182-b562-909fd6cb8848",
   "metadata": {},
   "outputs": [],
   "source": [
    "ww.to_parquet('parquet/no_subcut/combed/ww.parquet')"
   ]
  },
  {
   "cell_type": "code",
   "execution_count": 86,
   "id": "0f7f1823-a9ee-4ec4-bdcb-7f27a6ee6021",
   "metadata": {},
   "outputs": [],
   "source": [
    "wz = pd.read_parquet('parquet/no_subcut/wz.parquet', engine='fastparquet')"
   ]
  },
  {
   "cell_type": "code",
   "execution_count": 87,
   "id": "6d291a56-80c8-4295-b8e3-15d2e8a9cd09",
   "metadata": {},
   "outputs": [],
   "source": [
    "wz = wz.reset_index(drop=True)"
   ]
  },
  {
   "cell_type": "code",
   "execution_count": 88,
   "id": "4e96b5fb-cbb9-4c3b-bbbe-37b252cfa09a",
   "metadata": {},
   "outputs": [],
   "source": [
    "temp = wz.to_dict('list')"
   ]
  },
  {
   "cell_type": "code",
   "execution_count": 89,
   "id": "0b2d6048-664a-4247-b88b-5b19a37928d8",
   "metadata": {},
   "outputs": [],
   "source": [
    "temp_dict = {}\n",
    "for i in temp:\n",
    "    temp_dict[i] = np.array(temp[i])"
   ]
  },
  {
   "cell_type": "code",
   "execution_count": 90,
   "id": "51fcadbb-215b-4d81-b980-071d38d14a8f",
   "metadata": {},
   "outputs": [],
   "source": [
    "nan_dict = {}\n",
    "for i in temp_dict:\n",
    "    nan_mask = ~np.isnan(temp_dict[i])\n",
    "    nan_dict[i] = nan_mask\n",
    "nanless = {}\n",
    "for i in qcd_stitched_dict:\n",
    "    nanless[i] = temp_dict[i][nan_dict[i]]\n",
    "sizes = []\n",
    "for i in nanless:\n",
    "    sizes.append(len(nanless[i]))\n",
    "\n",
    "losses = [(x - min(sizes)) for x in sizes]\n",
    "for i in nanless:\n",
    "    nanless[i] = nanless[i][:min(sizes)]"
   ]
  },
  {
   "cell_type": "code",
   "execution_count": 91,
   "id": "215515b2-049f-4012-a581-f38d347c699c",
   "metadata": {},
   "outputs": [],
   "source": [
    "wz = pd.DataFrame.from_dict(nanless)"
   ]
  },
  {
   "cell_type": "code",
   "execution_count": 92,
   "id": "3661b8c7-740c-44ba-81a4-7ef8cc7e8ebf",
   "metadata": {},
   "outputs": [],
   "source": [
    "wz.to_parquet('parquet/no_subcut/combed/wz.parquet')"
   ]
  },
  {
   "cell_type": "code",
   "execution_count": 93,
   "id": "7111be24-b3f4-4289-b1b4-e54041db7cc8",
   "metadata": {},
   "outputs": [],
   "source": [
    "zz = pd.read_parquet('parquet/no_subcut/zz.parquet', engine='fastparquet')"
   ]
  },
  {
   "cell_type": "code",
   "execution_count": 94,
   "id": "29aa156b-7508-4d80-86a4-925adc994cad",
   "metadata": {},
   "outputs": [],
   "source": [
    "zz = zz.reset_index(drop=True)"
   ]
  },
  {
   "cell_type": "code",
   "execution_count": 95,
   "id": "9dc97b92-f77f-43f4-976c-87119f633326",
   "metadata": {},
   "outputs": [],
   "source": [
    "temp = zz.to_dict('list')"
   ]
  },
  {
   "cell_type": "code",
   "execution_count": 96,
   "id": "ceca70c5-374c-4da5-ae3b-57cb085b709a",
   "metadata": {},
   "outputs": [],
   "source": [
    "temp_dict = {}\n",
    "for i in temp:\n",
    "    temp_dict[i] = np.array(temp[i])"
   ]
  },
  {
   "cell_type": "code",
   "execution_count": 97,
   "id": "75472b54-7d78-4d1b-ad11-f1d5e9ebffc4",
   "metadata": {},
   "outputs": [],
   "source": [
    "nan_dict = {}\n",
    "for i in temp_dict:\n",
    "    nan_mask = ~np.isnan(temp_dict[i])\n",
    "    nan_dict[i] = nan_mask\n",
    "nanless = {}\n",
    "for i in qcd_stitched_dict:\n",
    "    nanless[i] = temp_dict[i][nan_dict[i]]\n",
    "sizes = []\n",
    "for i in nanless:\n",
    "    sizes.append(len(nanless[i]))\n",
    "\n",
    "losses = [(x - min(sizes)) for x in sizes]\n",
    "for i in nanless:\n",
    "    nanless[i] = nanless[i][:min(sizes)]"
   ]
  },
  {
   "cell_type": "code",
   "execution_count": 98,
   "id": "f818af4e-eaeb-47f1-9056-e291134451ff",
   "metadata": {},
   "outputs": [],
   "source": [
    "zz = pd.DataFrame.from_dict(nanless)"
   ]
  },
  {
   "cell_type": "code",
   "execution_count": 99,
   "id": "c47b09f4-9c45-44fc-a9a2-77e9c0f940f7",
   "metadata": {},
   "outputs": [],
   "source": [
    "zz.to_parquet('parquet/no_subcut/combed/zz.parquet')"
   ]
  },
  {
   "cell_type": "code",
   "execution_count": null,
   "id": "83c47cbe-9da9-419a-8833-ed84897ba231",
   "metadata": {},
   "outputs": [],
   "source": []
  }
 ],
 "metadata": {
  "kernelspec": {
   "display_name": "Python 3 (ipykernel)",
   "language": "python",
   "name": "python3"
  },
  "language_info": {
   "codemirror_mode": {
    "name": "ipython",
    "version": 3
   },
   "file_extension": ".py",
   "mimetype": "text/x-python",
   "name": "python",
   "nbconvert_exporter": "python",
   "pygments_lexer": "ipython3",
   "version": "3.10.13"
  }
 },
 "nbformat": 4,
 "nbformat_minor": 5
}
