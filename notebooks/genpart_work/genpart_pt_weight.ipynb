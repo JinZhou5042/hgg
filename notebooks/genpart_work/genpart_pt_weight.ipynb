{
 "cells": [
  {
   "cell_type": "code",
   "execution_count": 1,
   "id": "02ea7206-4643-411e-b9fd-f699b20adf41",
   "metadata": {},
   "outputs": [
    {
     "name": "stderr",
     "output_type": "stream",
     "text": [
      "/tmp/ipykernel_1036804/1518451047.py:8: FutureWarning: In version 2024.7.0 (target date: 2024-06-30 11:59:59-05:00), this will be an error.\n",
      "To raise these warnings as errors (and get stack traces to find out where they're called), run\n",
      "    import warnings\n",
      "    warnings.filterwarnings(\"error\", module=\"coffea.*\")\n",
      "after the first `import coffea` or use `@pytest.mark.filterwarnings(\"error:::coffea.*\")` in pytest.\n",
      "Issue: coffea.nanoevents.methods.vector will be removed and replaced with scikit-hep vector. Nanoevents schemas internal to coffea will be migrated. Otherwise please consider using that package!.\n",
      "  import coffea.nanoevents.methods.vector as vector\n"
     ]
    }
   ],
   "source": [
    "from coffea.nanoevents import NanoEventsFactory, BaseSchema, PFNanoAODSchema\n",
    "import json\n",
    "import fastjet\n",
    "import numpy as np\n",
    "import awkward as ak\n",
    "from coffea import processor\n",
    "import hist\n",
    "import coffea.nanoevents.methods.vector as vector\n",
    "import warnings\n",
    "import matplotlib.pyplot as plt\n",
    "import math"
   ]
  },
  {
   "cell_type": "code",
   "execution_count": 2,
   "id": "22292989-cbed-4bf2-b25a-d6b3e3eadd6a",
   "metadata": {},
   "outputs": [],
   "source": [
    "warnings.filterwarnings(\"ignore\", module=\"coffea.*\")\n",
    "warnings.filterwarnings(\"ignore\", \"Found duplicate branch\")\n",
    "warnings.filterwarnings(\"ignore\", \"Missing cross-reference index for\")\n",
    "warnings.filterwarnings(\"ignore\", \"dcut\")\n",
    "warnings.filterwarnings(\"ignore\", \"Please ensure\")\n",
    "warnings.filterwarnings(\"ignore\", \"invalid value\")"
   ]
  },
  {
   "cell_type": "code",
   "execution_count": 3,
   "id": "e12647c4-7942-4267-b48d-17f68a83e4e9",
   "metadata": {},
   "outputs": [],
   "source": [
    "with open('../../filelists/hgg_files.txt', 'r') as f:\n",
    "    hgg_files = [line.strip() for line in f]"
   ]
  },
  {
   "cell_type": "code",
   "execution_count": 4,
   "id": "019a171a-868a-4272-91c8-7e17b3c784dd",
   "metadata": {},
   "outputs": [],
   "source": [
    "hgg = NanoEventsFactory.from_root(\n",
    "    {'/project01/ndcms/cmoore24/signal/hgg/' + hgg_files[0]: \"/Events\"},\n",
    "    delayed=False,\n",
    "    schemaclass=PFNanoAODSchema,\n",
    "    metadata={\"dataset\": \"Hgg\"},\n",
    ").events()"
   ]
  },
  {
   "cell_type": "code",
   "execution_count": 5,
   "id": "5869a3a1-90f3-4e33-873d-a094c7b00651",
   "metadata": {},
   "outputs": [],
   "source": [
    "fatjet = hgg.FatJet"
   ]
  },
  {
   "cell_type": "code",
   "execution_count": 6,
   "id": "88f84430-4c10-4fe6-aee2-c12aa644a72c",
   "metadata": {},
   "outputs": [],
   "source": [
    "pf = ak.flatten(fatjet.constituents.pf, axis=1)"
   ]
  },
  {
   "cell_type": "code",
   "execution_count": 7,
   "id": "e2a2d010-aff5-4526-9ee8-9b674da11ec2",
   "metadata": {},
   "outputs": [],
   "source": [
    "jetdef = fastjet.JetDefinition(fastjet.antikt_algorithm, 0.2)"
   ]
  },
  {
   "cell_type": "code",
   "execution_count": 8,
   "id": "f1a8cf0a-4e12-49d2-9aee-7d15a9a65d53",
   "metadata": {},
   "outputs": [
    {
     "name": "stdout",
     "output_type": "stream",
     "text": [
      "#--------------------------------------------------------------------------\n",
      "#                         FastJet release 3.4.1\n",
      "#                 M. Cacciari, G.P. Salam and G. Soyez                  \n",
      "#     A software package for jet finding and analysis at colliders      \n",
      "#                           http://fastjet.fr                           \n",
      "#\t                                                                      \n",
      "# Please cite EPJC72(2012)1896 [arXiv:1111.6097] if you use this package\n",
      "# for scientific work and optionally PLB641(2006)57 [hep-ph/0512210].   \n",
      "#                                                                       \n",
      "# FastJet is provided without warranty under the GNU GPL v2 or higher.  \n",
      "# It uses T. Chan's closest pair algorithm, S. Fortune's Voronoi code,\n",
      "# CGAL and 3rd party plugin jet algorithms. See COPYING file for details.\n",
      "#--------------------------------------------------------------------------\n"
     ]
    }
   ],
   "source": [
    "cluster = fastjet.ClusterSequence(pf, jetdef)"
   ]
  },
  {
   "cell_type": "code",
   "execution_count": 9,
   "id": "72c72e38-9368-48c0-99e8-5f025f5debbd",
   "metadata": {},
   "outputs": [],
   "source": [
    "subjets = cluster.inclusive_jets()"
   ]
  },
  {
   "cell_type": "code",
   "execution_count": 189,
   "id": "e3994029-224f-483e-9f78-a8abbff5b46f",
   "metadata": {},
   "outputs": [],
   "source": [
    "vec = ak.zip(\n",
    "    {\n",
    "        \"x\": subjets.px,\n",
    "        \"y\": subjets.py,\n",
    "        \"z\": subjets.pz,\n",
    "        \"t\": subjets.E,\n",
    "    },\n",
    "    with_name=\"LorentzVector\",\n",
    "    behavior=vector.behavior,\n",
    ")"
   ]
  },
  {
   "cell_type": "code",
   "execution_count": 221,
   "id": "53ae4495-bbd2-4589-96ac-352e0e194629",
   "metadata": {},
   "outputs": [],
   "source": [
    "vec = ak.pad_none(vec, 3)"
   ]
  },
  {
   "cell_type": "code",
   "execution_count": 222,
   "id": "1c13cc2f-2039-4338-8c77-c60578e55ca8",
   "metadata": {},
   "outputs": [],
   "source": [
    "vec[\"idx\"] = ak.local_index(vec)"
   ]
  },
  {
   "cell_type": "code",
   "execution_count": 223,
   "id": "beaa3431-030b-4bf1-af9a-7adf8fbd2e7f",
   "metadata": {},
   "outputs": [],
   "source": [
    "i, j = ak.unzip(ak.combinations(vec, 2))"
   ]
  },
  {
   "cell_type": "code",
   "execution_count": 224,
   "id": "00c0fa15-9500-4ea2-b3c2-2cdb7ec72f0f",
   "metadata": {},
   "outputs": [],
   "source": [
    "best = ak.argmax(abs((i + j).pt), axis=1, keepdims=True)"
   ]
  },
  {
   "cell_type": "code",
   "execution_count": 225,
   "id": "f01a1032-64d9-4874-b78d-bbdd45a6b67e",
   "metadata": {},
   "outputs": [],
   "source": [
    "order_check = ak.concatenate([i[best].pt, j[best].pt], axis=1)"
   ]
  },
  {
   "cell_type": "code",
   "execution_count": 226,
   "id": "54bef7eb-9b6e-470c-b716-f383835d1c74",
   "metadata": {},
   "outputs": [],
   "source": [
    "leading = ak.argmax(order_check, axis=1, keepdims=True)"
   ]
  },
  {
   "cell_type": "code",
   "execution_count": 227,
   "id": "0a081440-cc3c-4618-875c-bb674864c210",
   "metadata": {},
   "outputs": [],
   "source": [
    "subleading = ak.argmin(order_check, axis=1, keepdims=True)"
   ]
  },
  {
   "cell_type": "code",
   "execution_count": 228,
   "id": "5ba68b5b-1969-4fb5-b48b-1aa0558bd33e",
   "metadata": {},
   "outputs": [],
   "source": [
    "leading_particles = ak.concatenate([i[best], j[best]], axis=1)"
   ]
  },
  {
   "cell_type": "code",
   "execution_count": 229,
   "id": "26530752-cbc3-4167-befd-5f75771d3b4a",
   "metadata": {},
   "outputs": [],
   "source": [
    "cut = ((vec.idx != ak.firsts(leading_particles.idx)) & \n",
    "       (vec.idx != ak.firsts(ak.sort(leading_particles.idx, ascending=False)))\n",
    "      )"
   ]
  },
  {
   "cell_type": "code",
   "execution_count": 230,
   "id": "63019748-c66e-41d6-a2c2-6e66cb003036",
   "metadata": {},
   "outputs": [],
   "source": [
    "everything_else = vec[cut]"
   ]
  },
  {
   "cell_type": "code",
   "execution_count": 231,
   "id": "b2998f94-e812-4536-8085-d7f81799c88f",
   "metadata": {},
   "outputs": [],
   "source": [
    "total_soft_pt = ak.sum(everything_else.pt, axis=1)"
   ]
  },
  {
   "cell_type": "code",
   "execution_count": 232,
   "id": "0c529c50-fbd8-4d51-b086-f48223a93c86",
   "metadata": {},
   "outputs": [],
   "source": [
    "everything_else['momentum_fraction'] = (everything_else.pt)/total_soft_pt"
   ]
  },
  {
   "cell_type": "code",
   "execution_count": 233,
   "id": "ff13a2d8-c4b3-4954-bd3b-4bb4454e94a9",
   "metadata": {},
   "outputs": [],
   "source": [
    "everything_else['weighted_eta'] = everything_else.eta * everything_else.momentum_fraction"
   ]
  },
  {
   "cell_type": "code",
   "execution_count": 234,
   "id": "21c28f7b-a81a-490e-9fa6-2ee76d9a0b0e",
   "metadata": {},
   "outputs": [],
   "source": [
    "everything_else['weighted_phi'] = everything_else.phi * everything_else.momentum_fraction"
   ]
  },
  {
   "cell_type": "code",
   "execution_count": 235,
   "id": "c4238bb2-8a41-4abc-8977-78e34891fda0",
   "metadata": {},
   "outputs": [],
   "source": [
    "weighted_average_eta = ak.sum(everything_else.weighted_eta, axis=1)/ak.num(everything_else, axis=1)"
   ]
  },
  {
   "cell_type": "code",
   "execution_count": 236,
   "id": "8c93e836-e763-4387-b56e-401e5ccc7e49",
   "metadata": {},
   "outputs": [],
   "source": [
    "average_eta = ak.sum(everything_else.eta, axis=1)/ak.num(everything_else, axis=1)"
   ]
  },
  {
   "cell_type": "code",
   "execution_count": 237,
   "id": "17b41f54-f5a0-4864-826e-9bf48aa5da11",
   "metadata": {},
   "outputs": [],
   "source": [
    "weighted_average_phi = ak.sum(everything_else.weighted_phi, axis=1)/ak.num(everything_else, axis=1)"
   ]
  },
  {
   "cell_type": "code",
   "execution_count": 238,
   "id": "0bea72dd-690b-4273-84b2-70e8522fe7cc",
   "metadata": {},
   "outputs": [],
   "source": [
    "average_phi = ak.sum(everything_else.phi, axis=1)/ak.num(everything_else, axis=1)"
   ]
  },
  {
   "cell_type": "code",
   "execution_count": 239,
   "id": "c53b1015-feeb-45b0-af5e-a29952ba8093",
   "metadata": {},
   "outputs": [],
   "source": [
    "leg1 = leading_particles[leading]\n",
    "leg2 = leading_particles[subleading]"
   ]
  },
  {
   "cell_type": "code",
   "execution_count": 256,
   "id": "e18c5cca-1256-4d48-aa13-22e2be447555",
   "metadata": {},
   "outputs": [],
   "source": [
    "a13 = ak.flatten((((leg1.eta - average_eta)**2) + \n",
    "       ((leg1.phi - average_phi)**2)\n",
    "      ))\n",
    "a23 = ak.flatten((((leg2.eta - average_eta)**2) + \n",
    "       ((leg2.phi - average_phi)**2)\n",
    "      ))\n",
    "a12 = ak.flatten(leg1.delta_r2(leg2))"
   ]
  },
  {
   "cell_type": "code",
   "execution_count": 241,
   "id": "8ab11aa7-b24b-4850-9133-bc12a697cdb5",
   "metadata": {},
   "outputs": [],
   "source": [
    "color_ring = (a13 + a23) / (a12)"
   ]
  },
  {
   "cell_type": "code",
   "execution_count": 264,
   "id": "f3047ccd-1c2b-4e02-bff9-30ddc3f4d372",
   "metadata": {},
   "outputs": [
    {
     "data": {
      "text/html": [
       "<pre>[{x: 14.5, y: -29.6, z: 18.8, t: 38.1, idx: 14},\n",
       " {x: 104, y: -153, z: 233, t: 297, idx: 15}]\n",
       "------------------------------------------------\n",
       "type: 2 * ?LorentzVector[\n",
       "    x: float64,\n",
       "    y: float64,\n",
       "    z: float64,\n",
       "    t: float64,\n",
       "    idx: int64\n",
       "]</pre>"
      ],
      "text/plain": [
       "<LorentzVectorArray [{x: 14.5, y: -29.6, z: 18.8, ...}, ...] type='2 * ?Lor...'>"
      ]
     },
     "execution_count": 264,
     "metadata": {},
     "output_type": "execute_result"
    }
   ],
   "source": [
    "leading_particles[0]"
   ]
  },
  {
   "cell_type": "code",
   "execution_count": 267,
   "id": "67a2bd24-53da-4892-90d4-679ad4a589a6",
   "metadata": {},
   "outputs": [
    {
     "data": {
      "text/html": [
       "<pre>[{x: 104, y: -153, z: 233, t: 297, idx: 15}]\n",
       "--------------------------------------------\n",
       "type: 1 * ?LorentzVector[\n",
       "    x: float64,\n",
       "    y: float64,\n",
       "    z: float64,\n",
       "    t: float64,\n",
       "    idx: int64\n",
       "]</pre>"
      ],
      "text/plain": [
       "<LorentzVectorArray [{x: 104, y: -153, z: 233, t: 297, ...}] type='1 * ?Lor...'>"
      ]
     },
     "execution_count": 267,
     "metadata": {},
     "output_type": "execute_result"
    }
   ],
   "source": [
    "leg1[0]"
   ]
  },
  {
   "cell_type": "code",
   "execution_count": null,
   "id": "ac568fdd-70ec-4c82-aa90-384c36ab28fd",
   "metadata": {},
   "outputs": [],
   "source": []
  }
 ],
 "metadata": {
  "kernelspec": {
   "display_name": "Python 3 (ipykernel)",
   "language": "python",
   "name": "python3"
  },
  "language_info": {
   "codemirror_mode": {
    "name": "ipython",
    "version": 3
   },
   "file_extension": ".py",
   "mimetype": "text/x-python",
   "name": "python",
   "nbconvert_exporter": "python",
   "pygments_lexer": "ipython3",
   "version": "3.10.13"
  }
 },
 "nbformat": 4,
 "nbformat_minor": 5
}
