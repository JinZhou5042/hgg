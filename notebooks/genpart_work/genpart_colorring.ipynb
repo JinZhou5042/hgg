{
 "cells": [
  {
   "cell_type": "code",
   "execution_count": 1,
   "id": "ee4859e2-cefc-4011-ac20-a4929aa1c4b9",
   "metadata": {},
   "outputs": [
    {
     "name": "stderr",
     "output_type": "stream",
     "text": [
      "/tmp/ipykernel_2476392/1518451047.py:8: FutureWarning: In version 2024.7.0 (target date: 2024-06-30 11:59:59-05:00), this will be an error.\n",
      "To raise these warnings as errors (and get stack traces to find out where they're called), run\n",
      "    import warnings\n",
      "    warnings.filterwarnings(\"error\", module=\"coffea.*\")\n",
      "after the first `import coffea` or use `@pytest.mark.filterwarnings(\"error:::coffea.*\")` in pytest.\n",
      "Issue: coffea.nanoevents.methods.vector will be removed and replaced with scikit-hep vector. Nanoevents schemas internal to coffea will be migrated. Otherwise please consider using that package!.\n",
      "  import coffea.nanoevents.methods.vector as vector\n"
     ]
    }
   ],
   "source": [
    "from coffea.nanoevents import NanoEventsFactory, BaseSchema, PFNanoAODSchema\n",
    "import json\n",
    "import fastjet\n",
    "import numpy as np\n",
    "import awkward as ak\n",
    "from coffea import processor\n",
    "import hist\n",
    "import coffea.nanoevents.methods.vector as vector\n",
    "import warnings\n",
    "import matplotlib.pyplot as plt\n",
    "import math"
   ]
  },
  {
   "cell_type": "code",
   "execution_count": 2,
   "id": "bbd4bc1e-f2ec-4ef7-90a2-45539f2cd924",
   "metadata": {},
   "outputs": [],
   "source": [
    "warnings.filterwarnings(\"error\", module=\"coffea.*\")\n",
    "warnings.filterwarnings(\"ignore\", \"Found duplicate branch\")\n",
    "warnings.filterwarnings(\"ignore\", \"Missing cross-reference index for\")\n",
    "warnings.filterwarnings(\"ignore\", \"dcut\")\n",
    "warnings.filterwarnings(\"ignore\", \"Please ensure\")\n",
    "warnings.filterwarnings(\"ignore\", \"invalid value\")"
   ]
  },
  {
   "cell_type": "code",
   "execution_count": 223,
   "id": "c3795b1a-faf0-485d-b01e-c715e1afadce",
   "metadata": {},
   "outputs": [],
   "source": [
    "with open('../../filelists/hbb_files.txt', 'r') as f:\n",
    "    hbb_files = [line.strip() for line in f]"
   ]
  },
  {
   "cell_type": "code",
   "execution_count": 224,
   "id": "9ccac15b-e6f8-4c9d-843b-cc0e50c70554",
   "metadata": {},
   "outputs": [],
   "source": [
    "hbb = NanoEventsFactory.from_root(\n",
    "    {'/project01/ndcms/cmoore24/signal/hbb/' + hbb_files[0]: \"/Events\"},\n",
    "    delayed=False,\n",
    "    schemaclass=PFNanoAODSchema,\n",
    "    metadata={\"dataset\": \"Hbb\"},\n",
    ").events()"
   ]
  },
  {
   "cell_type": "code",
   "execution_count": 535,
   "id": "0626b25e-c453-430c-8d2d-f373cc2783c1",
   "metadata": {},
   "outputs": [],
   "source": [
    "def color_ring(fatjet, cluster_val):\n",
    "    pf = ak.flatten(fatjet.constituents.pf, axis=1)\n",
    "    jetdef = fastjet.JetDefinition(fastjet.antikt_algorithm, cluster_val)\n",
    "    cluster = fastjet.ClusterSequence(pf, jetdef)\n",
    "    subjets = cluster.exclusive_jets(n_jets=3)\n",
    "    vec = ak.zip(\n",
    "        {\n",
    "            \"x\": subjets.px,\n",
    "            \"y\": subjets.py,\n",
    "            \"z\": subjets.pz,\n",
    "            \"t\": subjets.E,\n",
    "        },\n",
    "        with_name=\"LorentzVector\",\n",
    "        behavior=vector.behavior,\n",
    "    )\n",
    "    vec = ak.pad_none(vec, 3)\n",
    "    vec[\"norm3\"] = np.sqrt(vec.dot(vec))\n",
    "    vec[\"idx\"] = ak.local_index(vec)\n",
    "    i, j, k = ak.unzip(ak.combinations(vec, 3))\n",
    "    #best = ak.argmin(abs((i + j + k).mass - 125), axis=1, keepdims=True)\n",
    "    best = ak.argmax(abs((i + j + k).mass), axis=1, keepdims=True)\n",
    "    order_check = ak.concatenate([i[best].mass, j[best].mass, k[best].mass], axis=1)\n",
    "    largest = ak.argmax(order_check, axis=1, keepdims=True)\n",
    "    smallest = ak.argmin(order_check, axis=1, keepdims=True)\n",
    "    leading_particles = ak.concatenate([i[best], j[best], k[best]], axis=1)\n",
    "    leg1 = leading_particles[largest]\n",
    "    leg3 = leading_particles[smallest]\n",
    "    leg2 = leading_particles[\n",
    "        (leading_particles.idx != ak.flatten(leg1.idx))\n",
    "        & (leading_particles.idx != ak.flatten(leg3.idx))\n",
    "    ]\n",
    "    leg1 = ak.firsts(leg1)\n",
    "    leg2 = ak.firsts(leg2)\n",
    "    leg3 = ak.firsts(leg3)\n",
    "    a12 = np.arccos(leg1.dot(leg2) / (leg1.norm3 * leg2.norm3))\n",
    "    a13 = np.arccos(leg1.dot(leg3) / (leg1.norm3 * leg3.norm3))\n",
    "    a23 = np.arccos(leg2.dot(leg3) / (leg2.norm3 * leg3.norm3))\n",
    "    color_ring = (a13**2 + a23**2) / (a12**2)\n",
    "    return color_ring"
   ]
  },
  {
   "cell_type": "code",
   "execution_count": 536,
   "id": "6b66f471-def8-4de2-9e95-3f295f05fad4",
   "metadata": {},
   "outputs": [],
   "source": [
    "genpart = hbb.GenPart"
   ]
  },
  {
   "cell_type": "code",
   "execution_count": 537,
   "id": "6a46b500-7ddc-4f64-98a2-166bdecfe38a",
   "metadata": {},
   "outputs": [],
   "source": [
    "eventnum = np.linspace(0,8999, 9000, dtype='int')\n",
    "genpart['event'] = eventnum"
   ]
  },
  {
   "cell_type": "code",
   "execution_count": 538,
   "id": "5f11f740-b49b-477f-bf16-c8f63534f7d5",
   "metadata": {},
   "outputs": [],
   "source": [
    "index = (genpart.pdgId == 25) & (genpart.hasFlags(['isLastCopy']))\n",
    "assert ak.all(ak.num(genpart[index],axis=1)==1)\n",
    "higgses = ak.flatten(genpart[index], axis=1)\n",
    "assert ak.all(abs(higgses.children.pdgId) == 5)"
   ]
  },
  {
   "cell_type": "code",
   "execution_count": 539,
   "id": "be29818b-9233-4db2-9c3f-41331acf6ad8",
   "metadata": {},
   "outputs": [],
   "source": [
    "parents = hbb.FatJet.nearest(higgses, threshold=0.4)\n",
    "higgs_jets = ~ak.is_none(parents, axis=1)\n",
    "higgs_fatjet = hbb.FatJet[higgs_jets]"
   ]
  },
  {
   "cell_type": "code",
   "execution_count": 540,
   "id": "e3de20c1-8583-4c3e-b526-2c38c9d1f515",
   "metadata": {},
   "outputs": [],
   "source": [
    "uf_cr = ak.unflatten(\n",
    "     color_ring(higgs_fatjet, cluster_val=0.2), counts=ak.num(higgs_fatjet)\n",
    ")"
   ]
  },
  {
   "cell_type": "code",
   "execution_count": 568,
   "id": "563b7224-7d8b-438e-970f-55edfb8cde7f",
   "metadata": {},
   "outputs": [],
   "source": [
    "higgs = higgses[(higgses.pt>300) & (abs(higgses.phi)<1) & (abs(higgses.eta)<2.5)][10]\n",
    "phi0 = higgs.phi\n",
    "cr_index = higgs.event\n",
    "xy = np.array([higgs.children.eta, higgs.children.phi])\n",
    "midpoint_eta = (xy[0,0] + xy[0,1])/2\n",
    "midpoint_phi = (xy[1,0] + xy[1,1])/2\n",
    "radius = math.sqrt((xy[0,1] - xy[0,0])**2 + (xy[1,1] - xy[1,0])**2)/2"
   ]
  },
  {
   "cell_type": "code",
   "execution_count": 569,
   "id": "043cafa6-7bb5-4b33-9a91-285f2a11f631",
   "metadata": {},
   "outputs": [
    {
     "name": "stdout",
     "output_type": "stream",
     "text": [
      "116\n"
     ]
    },
    {
     "data": {
      "text/html": [
       "<pre>[8.97]\n",
       "------------------\n",
       "type: 1 * ?float64</pre>"
      ],
      "text/plain": [
       "<Array [8.97] type='1 * ?float64'>"
      ]
     },
     "execution_count": 569,
     "metadata": {},
     "output_type": "execute_result"
    }
   ],
   "source": [
    "print(cr_index)\n",
    "uf_cr[cr_index]"
   ]
  },
  {
   "cell_type": "code",
   "execution_count": 570,
   "id": "8f4b04ee-8d99-4d6d-9e1b-b9ce1d91e920",
   "metadata": {},
   "outputs": [],
   "source": [
    "pt = higgs.children.children.pt\n",
    "biggest_2 = ak.argmax(pt, axis=1)\n",
    "use = ak.argmax(ak.Array([pt[0, biggest_2[0]], pt[1, biggest_2[1]]]))\n",
    "idx = biggest_2[use]\n",
    "largest_eta = higgs.children[use].children[idx].eta\n",
    "largest_phi = higgs.children[use].children[idx].phi\n",
    "largest_pt = higgs.children[use].children[idx].pt"
   ]
  },
  {
   "cell_type": "code",
   "execution_count": 571,
   "id": "f67dc3d8-2964-40c8-97a1-10f41e2e6cf0",
   "metadata": {},
   "outputs": [
    {
     "data": {
      "text/plain": [
       "Text(0.5, 1.0, 'Higgs to BB Jet, PT=336')"
      ]
     },
     "execution_count": 571,
     "metadata": {},
     "output_type": "execute_result"
    },
    {
     "data": {
      "image/png": "[encoded data removed]",
      "text/plain": [
       "<Figure size 640x480 with 1 Axes>"
      ]
     },
     "metadata": {},
     "output_type": "display_data"
    }
   ],
   "source": [
    "fig,ax = plt.subplots()\n",
    "#ax.add_patch(plt.Circle((higgs.eta, higgs.phi), 0.8, facecolor=\"none\", edgecolor=\"k\", label=f\"H pT={higgs.pt}\"))\n",
    "ax.add_patch(plt.Circle((midpoint_eta, midpoint_phi), radius, facecolor='none', edgecolor='r', label='Color Ring'))\n",
    "ax.scatter(higgs.children.eta, higgs.children.phi, \n",
    "           #s=higgs.children.pt, \n",
    "           label=\"B Quarks\")\n",
    "#ax.scatter(higgs.children[0].children.eta, higgs.children[0].children.phi, s=higgs.children[0].children.pt, marker=\"x\", label=\"Child 0 children\")\n",
    "#ax.scatter(higgs.children[1].children.eta, higgs.children[1].children.phi, s=higgs.children[1].children.pt, marker=\"x\", label=\"Child 1 children\")\n",
    "ax.scatter(largest_eta, largest_phi, \n",
    "           #s=largest_pt, \n",
    "           marker=\"o\", color='b', label='Identified Soft Emission')\n",
    "ax.scatter(midpoint_eta, midpoint_phi, label='Color Ring = 0.5', color='k')\n",
    "lgnd = ax.legend(bbox_to_anchor=(1,1), title='Color Ring Value = ' + str(uf_cr[cr_index]))\n",
    "lgnd.legend_handles[1]._sizes = [30]\n",
    "lgnd.legend_handles[2]._sizes = [30]\n",
    "#lgnd.legend_handles[4]._sizes = [30]\n",
    "#lgnd.legend_handles[5]._sizes = [30]\n",
    "plt.xlabel('eta')\n",
    "plt.ylabel('phi')\n",
    "plt.title('Higgs to BB Jet, PT=336')"
   ]
  },
  {
   "cell_type": "code",
   "execution_count": null,
   "id": "a8f07668-c6d7-4fdb-b17e-83f84c0054a8",
   "metadata": {},
   "outputs": [],
   "source": []
  },
  {
   "cell_type": "code",
   "execution_count": null,
   "id": "a0307dda-d9dd-4a20-ba34-d7c5aa2bed20",
   "metadata": {},
   "outputs": [],
   "source": []
  },
  {
   "cell_type": "code",
   "execution_count": null,
   "id": "6228bd12-7aa6-44c2-bc41-7be021cffb67",
   "metadata": {},
   "outputs": [],
   "source": []
  },
  {
   "cell_type": "code",
   "execution_count": null,
   "id": "f64f80c1-ac0e-4850-a40a-1753474f7bb5",
   "metadata": {},
   "outputs": [],
   "source": []
  }
 ],
 "metadata": {
  "kernelspec": {
   "display_name": "Python 3 (ipykernel)",
   "language": "python",
   "name": "python3"
  },
  "language_info": {
   "codemirror_mode": {
    "name": "ipython",
    "version": 3
   },
   "file_extension": ".py",
   "mimetype": "text/x-python",
   "name": "python",
   "nbconvert_exporter": "python",
   "pygments_lexer": "ipython3",
   "version": "3.10.13"
  }
 },
 "nbformat": 4,
 "nbformat_minor": 5
}
