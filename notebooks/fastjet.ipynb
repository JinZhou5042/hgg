{
 "cells": [
  {
   "cell_type": "code",
   "execution_count": 1,
   "id": "45fb203c-38d5-4832-b1de-cc0b84daf97c",
   "metadata": {},
   "outputs": [
    {
     "name": "stderr",
     "output_type": "stream",
     "text": [
      "/tmp/ipykernel_2519566/3958481321.py:8: FutureWarning: In version 2024.7.0 (target date: 2024-06-30 11:59:59-05:00), this will be an error.\n",
      "To raise these warnings as errors (and get stack traces to find out where they're called), run\n",
      "    import warnings\n",
      "    warnings.filterwarnings(\"error\", module=\"coffea.*\")\n",
      "after the first `import coffea` or use `@pytest.mark.filterwarnings(\"error:::coffea.*\")` in pytest.\n",
      "Issue: coffea.nanoevents.methods.vector will be removed and replaced with scikit-hep vector. Nanoevents schemas internal to coffea will be migrated. Otherwise please consider using that package!.\n",
      "  import coffea.nanoevents.methods.vector as vector\n"
     ]
    }
   ],
   "source": [
    "from coffea.nanoevents import NanoEventsFactory, BaseSchema, PFNanoAODSchema\n",
    "import json\n",
    "import fastjet\n",
    "import numpy as np\n",
    "import awkward as ak\n",
    "from coffea import processor\n",
    "import hist\n",
    "import coffea.nanoevents.methods.vector as vector\n",
    "import warnings\n",
    "import hist.dask as dhist\n",
    "import dask\n",
    "import pickle\n",
    "import os\n",
    "import dask_awkward as dak"
   ]
  },
  {
   "cell_type": "code",
   "execution_count": 2,
   "id": "7489b888-51a3-4d73-ab41-6a3506a70f23",
   "metadata": {},
   "outputs": [],
   "source": [
    "warnings.filterwarnings(\"ignore\", \"Found duplicate branch\")\n",
    "warnings.filterwarnings(\"ignore\", \"Missing cross-reference index for\")\n",
    "warnings.filterwarnings(\"ignore\", \"dcut\")\n",
    "warnings.filterwarnings(\"ignore\", \"Please ensure\")"
   ]
  },
  {
   "cell_type": "code",
   "execution_count": 15,
   "id": "5fbfaf58-cdf0-4cf9-977b-d6c77d4fc1fe",
   "metadata": {},
   "outputs": [],
   "source": [
    "with open('../filelists/q347_files.txt', 'r') as f:\n",
    "#with open('../filelists/hbb_files.txt', 'r') as f:\n",
    "    q347_files = [line.strip() for line in f]\n",
    "qcd = NanoEventsFactory.from_root(\n",
    "    {'/project01/ndcms/cmoore24/qcd/300to470/' + q347_files[1]: \"/Events\"},\n",
    "    #delayed=False,\n",
    "    schemaclass=PFNanoAODSchema,\n",
    "    metadata={\"dataset\": \"bkg\"},\n",
    ").events()"
   ]
  },
  {
   "cell_type": "code",
   "execution_count": 4,
   "id": "9dd76e4a-f6f3-4829-a57e-33e60219e9a5",
   "metadata": {},
   "outputs": [],
   "source": [
    "with open('../filelists/hgg_files.txt', 'r') as f:\n",
    "    hgg_files = [line.strip() for line in f]\n",
    "hgg = NanoEventsFactory.from_root(\n",
    "    {'/project01/ndcms/cmoore24/signal/hgg/' + hgg_files[0]: \"/Events\"},\n",
    "    #delayed=False,\n",
    "    schemaclass=PFNanoAODSchema,\n",
    "    metadata={\"dataset\": \"Hgg\"},\n",
    ").events()"
   ]
  },
  {
   "cell_type": "code",
   "execution_count": 35,
   "id": "8236539b-a646-40c6-a544-a6e40149eb82",
   "metadata": {},
   "outputs": [],
   "source": [
    "genhiggs = hgg.GenPart[\n",
    "    (hgg.GenPart.pdgId == 25)\n",
    "    & hgg.GenPart.hasFlags([\"fromHardProcess\", \"isLastCopy\"])\n",
    "]\n",
    "parents = hgg.FatJet.nearest(genhiggs, threshold=0.2)\n",
    "higgs_jets = ~ak.is_none(parents, axis=1)\n",
    "\n",
    "cut = (\n",
    "    (hgg.FatJet.pt > 200)\n",
    "    & (hgg.FatJet.pt < 2500)\n",
    "    & (hgg.FatJet.mass > 50)\n",
    "    & (hgg.FatJet.mass < 200)\n",
    "    & (abs(hgg.FatJet.eta) < 2.5)\n",
    "    & (higgs_jets)  \n",
    ")"
   ]
  },
  {
   "cell_type": "code",
   "execution_count": 36,
   "id": "61bc6c69-30c8-43f9-804a-05975df519c0",
   "metadata": {},
   "outputs": [],
   "source": [
    "hgg_fatjet = hgg.FatJet[cut]"
   ]
  },
  {
   "cell_type": "code",
   "execution_count": 37,
   "id": "54a1da9d-1e39-4ca3-aaec-7fa32cd4fe02",
   "metadata": {},
   "outputs": [],
   "source": [
    "pf = ak.flatten(hgg_fatjet.constituents.pf, axis=1)"
   ]
  },
  {
   "cell_type": "code",
   "execution_count": 38,
   "id": "89bbf9f2-8434-4cca-8cd6-e0eb6dc3da55",
   "metadata": {},
   "outputs": [],
   "source": [
    "jetdef = fastjet.JetDefinition(fastjet.cambridge_algorithm, 0.2)"
   ]
  },
  {
   "cell_type": "code",
   "execution_count": 39,
   "id": "9426d976-b7d3-411a-95c0-912685728172",
   "metadata": {},
   "outputs": [],
   "source": [
    "cluster = fastjet.ClusterSequence(pf, jetdef)"
   ]
  },
  {
   "cell_type": "code",
   "execution_count": 40,
   "id": "a6437cb0-1442-43c7-8b14-b452b92c29ee",
   "metadata": {},
   "outputs": [],
   "source": [
    "#cluster.__dir__()"
   ]
  },
  {
   "cell_type": "code",
   "execution_count": 41,
   "id": "558b80a1-e346-458c-937a-6adc6184f6fe",
   "metadata": {},
   "outputs": [],
   "source": [
    "hgg_exclusive = cluster.exclusive_jets(n_jets=3).compute()"
   ]
  },
  {
   "cell_type": "code",
   "execution_count": 42,
   "id": "d1f7cdcc-f682-4137-aa38-c04e82ada8dc",
   "metadata": {},
   "outputs": [
    {
     "data": {
      "text/plain": [
       "True"
      ]
     },
     "execution_count": 42,
     "metadata": {},
     "output_type": "execute_result"
    }
   ],
   "source": [
    "ak.all(ak.num(hgg_exclusive) == 3)"
   ]
  },
  {
   "cell_type": "code",
   "execution_count": 43,
   "id": "9ea108e0-6c7e-4738-8845-701ea146cc51",
   "metadata": {},
   "outputs": [],
   "source": [
    "cut = (\n",
    "    (qcd.FatJet.pt > 200)\n",
    "    & (qcd.FatJet.pt < 2500)\n",
    "    & (qcd.FatJet.mass > 50)\n",
    "    & (qcd.FatJet.mass < 200)\n",
    "    & (abs(qcd.FatJet.eta) < 2.5) \n",
    ")"
   ]
  },
  {
   "cell_type": "code",
   "execution_count": 44,
   "id": "a6b633e7-7607-4ec5-adce-068d70079fe4",
   "metadata": {},
   "outputs": [],
   "source": [
    "fatjet = qcd.FatJet[cut]"
   ]
  },
  {
   "cell_type": "code",
   "execution_count": 45,
   "id": "df8a9e81-1626-467a-b7e5-82dfd9d28095",
   "metadata": {},
   "outputs": [],
   "source": [
    "pf = ak.flatten(fatjet.constituents.pf, axis=1)"
   ]
  },
  {
   "cell_type": "code",
   "execution_count": 46,
   "id": "08d493aa-38d9-45cf-8137-13d98a94d51f",
   "metadata": {},
   "outputs": [],
   "source": [
    "jetdef = fastjet.JetDefinition(fastjet.cambridge_algorithm, 0.2)"
   ]
  },
  {
   "cell_type": "code",
   "execution_count": 47,
   "id": "53b031bd-8737-4c5b-a7d3-b5da5bbeb172",
   "metadata": {},
   "outputs": [],
   "source": [
    "cluster = fastjet.ClusterSequence(pf, jetdef)"
   ]
  },
  {
   "cell_type": "code",
   "execution_count": 48,
   "id": "61899aef-e168-4259-9663-0255fd977580",
   "metadata": {},
   "outputs": [],
   "source": [
    "qcd_exclusive = cluster.exclusive_jets(n_jets=3).compute()"
   ]
  },
  {
   "cell_type": "code",
   "execution_count": 49,
   "id": "d076a4d7-0d5d-45e0-b2c8-e28f17f758e3",
   "metadata": {},
   "outputs": [
    {
     "data": {
      "text/plain": [
       "True"
      ]
     },
     "execution_count": 49,
     "metadata": {},
     "output_type": "execute_result"
    }
   ],
   "source": [
    "ak.all(ak.num(qcd_exclusive) == 3)"
   ]
  },
  {
   "cell_type": "code",
   "execution_count": 34,
   "id": "d769160b-40dd-47f9-8fdd-baa4bb3b8b86",
   "metadata": {},
   "outputs": [],
   "source": [
    "def color_ring(fatjet, cluster_val):\n",
    "    pf = ak.flatten(fatjet.constituents.pf, axis=1)\n",
    "    jetdef = fastjet.JetDefinition(fastjet.cambridge_algorithm, cluster_val)\n",
    "    cluster = fastjet.ClusterSequence(pf, jetdef)\n",
    "    subjets = cluster.exclusive_jets(n_jets=3)\n",
    "    vec = ak.zip(\n",
    "        {\n",
    "            \"x\": subjets.px,\n",
    "            \"y\": subjets.py,\n",
    "            \"z\": subjets.pz,\n",
    "            \"t\": subjets.E,\n",
    "        },\n",
    "        with_name=\"LorentzVector\",\n",
    "        behavior=vector.behavior,\n",
    "    )\n",
    "    vec = ak.pad_none(vec, 3)\n",
    "    vec[\"norm3\"] = np.sqrt(vec.dot(vec))\n",
    "    vec[\"idx\"] = ak.local_index(vec)\n",
    "    i, j, k = ak.unzip(ak.combinations(vec, 3))\n",
    "    #best = ak.argmin(abs((i + j + k).mass - 125), axis=1, keepdims=True)\n",
    "    best = ak.argmax(abs((i + j + k).mass), axis=1, keepdims=True)\n",
    "    order_check = ak.concatenate([i[best].mass, j[best].mass, k[best].mass], axis=1)\n",
    "    largest = ak.argmax(order_check, axis=1, keepdims=True)\n",
    "    smallest = ak.argmin(order_check, axis=1, keepdims=True)\n",
    "    leading_particles = ak.concatenate([i[best], j[best], k[best]], axis=1)\n",
    "    leg1 = leading_particles[largest]\n",
    "    leg3 = leading_particles[smallest]\n",
    "    leg2 = leading_particles[\n",
    "        (leading_particles.idx != ak.flatten(leg1.idx))\n",
    "        & (leading_particles.idx != ak.flatten(leg3.idx))\n",
    "    ]\n",
    "    leg1 = ak.firsts(leg1)\n",
    "    leg2 = ak.firsts(leg2)\n",
    "    leg3 = ak.firsts(leg3)\n",
    "    a12 = np.arccos(leg1.dot(leg2) / (leg1.norm3 * leg2.norm3))\n",
    "    a13 = np.arccos(leg1.dot(leg3) / (leg1.norm3 * leg3.norm3))\n",
    "    a23 = np.arccos(leg2.dot(leg3) / (leg2.norm3 * leg3.norm3))\n",
    "    color_ring = (a13**2 + a23**2) / (a12**2)\n",
    "    return color_ring"
   ]
  },
  {
   "cell_type": "code",
   "execution_count": 56,
   "id": "c83caa6f-a13a-4e36-8351-0a61299bcbbf",
   "metadata": {},
   "outputs": [],
   "source": [
    "uf_cr = ak.unflatten(\n",
    "     color_ring(hgg_fatjet, cluster_val=0.2), counts=ak.num(hgg_fatjet)\n",
    ").compute()"
   ]
  },
  {
   "cell_type": "code",
   "execution_count": 57,
   "id": "9014401f-214c-4c4d-8c50-32733d5ee05d",
   "metadata": {},
   "outputs": [
    {
     "data": {
      "text/html": [
       "<pre>[[2.28],\n",
       " [],\n",
       " [31.9],\n",
       " [2.03],\n",
       " [],\n",
       " [7.57],\n",
       " [0.992],\n",
       " [1],\n",
       " [],\n",
       " [12.1],\n",
       " ...,\n",
       " [],\n",
       " [9.18],\n",
       " [],\n",
       " [1.69],\n",
       " [4.54],\n",
       " [10],\n",
       " [],\n",
       " [1.25],\n",
       " []]\n",
       "---------------------------\n",
       "type: 3000 * var * ?float64</pre>"
      ],
      "text/plain": [
       "<Array [[2.28], [], [31.9], ..., [], [1.25], []] type='3000 * var * ?float64'>"
      ]
     },
     "execution_count": 57,
     "metadata": {},
     "output_type": "execute_result"
    }
   ],
   "source": [
    "uf_cr"
   ]
  },
  {
   "cell_type": "code",
   "execution_count": null,
   "id": "0716d1ae-eb13-4da0-aa29-d19945aa815a",
   "metadata": {},
   "outputs": [],
   "source": []
  }
 ],
 "metadata": {
  "kernelspec": {
   "display_name": "Python 3 (ipykernel)",
   "language": "python",
   "name": "python3"
  },
  "language_info": {
   "codemirror_mode": {
    "name": "ipython",
    "version": 3
   },
   "file_extension": ".py",
   "mimetype": "text/x-python",
   "name": "python",
   "nbconvert_exporter": "python",
   "pygments_lexer": "ipython3",
   "version": "3.10.13"
  }
 },
 "nbformat": 4,
 "nbformat_minor": 5
}
