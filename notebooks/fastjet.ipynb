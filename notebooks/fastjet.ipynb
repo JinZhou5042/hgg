{
 "cells": [
  {
   "cell_type": "code",
   "execution_count": 2,
   "id": "45fb203c-38d5-4832-b1de-cc0b84daf97c",
   "metadata": {},
   "outputs": [
    {
     "name": "stderr",
     "output_type": "stream",
     "text": [
      "/tmp/ipykernel_3087258/3958481321.py:8: FutureWarning: In version 2024.7.0 (target date: 2024-06-30 11:59:59-05:00), this will be an error.\n",
      "To raise these warnings as errors (and get stack traces to find out where they're called), run\n",
      "    import warnings\n",
      "    warnings.filterwarnings(\"error\", module=\"coffea.*\")\n",
      "after the first `import coffea` or use `@pytest.mark.filterwarnings(\"error:::coffea.*\")` in pytest.\n",
      "Issue: coffea.nanoevents.methods.vector will be removed and replaced with scikit-hep vector. Nanoevents schemas internal to coffea will be migrated. Otherwise please consider using that package!.\n",
      "  import coffea.nanoevents.methods.vector as vector\n"
     ]
    }
   ],
   "source": [
    "from coffea.nanoevents import NanoEventsFactory, BaseSchema, PFNanoAODSchema\n",
    "import json\n",
    "import fastjet\n",
    "import numpy as np\n",
    "import awkward as ak\n",
    "from coffea import processor\n",
    "import hist\n",
    "import coffea.nanoevents.methods.vector as vector\n",
    "import warnings\n",
    "import hist.dask as dhist\n",
    "import dask\n",
    "import pickle\n",
    "import os\n",
    "import dask_awkward as dak"
   ]
  },
  {
   "cell_type": "code",
   "execution_count": 3,
   "id": "7489b888-51a3-4d73-ab41-6a3506a70f23",
   "metadata": {},
   "outputs": [],
   "source": [
    "warnings.filterwarnings(\"ignore\", \"Found duplicate branch\")\n",
    "warnings.filterwarnings(\"ignore\", \"Missing cross-reference index for\")\n",
    "warnings.filterwarnings(\"ignore\", \"dcut\")\n",
    "warnings.filterwarnings(\"ignore\", \"Please ensure\")"
   ]
  },
  {
   "cell_type": "code",
   "execution_count": 4,
   "id": "5fbfaf58-cdf0-4cf9-977b-d6c77d4fc1fe",
   "metadata": {},
   "outputs": [],
   "source": [
    "with open('../filelists/300to470_files.txt', 'r') as f:\n",
    "#with open('../filelists/hbb_files.txt', 'r') as f:\n",
    "    q347_files = [line.strip() for line in f]\n",
    "qcd = NanoEventsFactory.from_root(\n",
    "    {'/project01/ndcms/cmoore24/qcd/300to470/' + q347_files[1]: \"/Events\"},\n",
    "    #delayed=False,\n",
    "    schemaclass=PFNanoAODSchema,\n",
    "    metadata={\"dataset\": \"bkg\"},\n",
    ").events()"
   ]
  },
  {
   "cell_type": "code",
   "execution_count": 5,
   "id": "9dd76e4a-f6f3-4829-a57e-33e60219e9a5",
   "metadata": {},
   "outputs": [],
   "source": [
    "with open('../filelists/hgg_files.txt', 'r') as f:\n",
    "    hgg_files = [line.strip() for line in f]\n",
    "hgg = NanoEventsFactory.from_root(\n",
    "    {'/project01/ndcms/cmoore24/signal/hgg/' + hgg_files[0]: \"/Events\"},\n",
    "    #delayed=False,\n",
    "    schemaclass=PFNanoAODSchema,\n",
    "    metadata={\"dataset\": \"Hgg\"},\n",
    ").events()"
   ]
  },
  {
   "cell_type": "code",
   "execution_count": 6,
   "id": "8236539b-a646-40c6-a544-a6e40149eb82",
   "metadata": {},
   "outputs": [],
   "source": [
    "genhiggs = hgg.GenPart[\n",
    "    (hgg.GenPart.pdgId == 25)\n",
    "    & hgg.GenPart.hasFlags([\"fromHardProcess\", \"isLastCopy\"])\n",
    "]\n",
    "parents = hgg.FatJet.nearest(genhiggs, threshold=0.2)\n",
    "higgs_jets = ~ak.is_none(parents, axis=1)\n",
    "\n",
    "cut = (\n",
    "    (hgg.FatJet.pt > 200)\n",
    "    & (hgg.FatJet.pt < 2500)\n",
    "    & (hgg.FatJet.mass > 50)\n",
    "    & (hgg.FatJet.mass < 200)\n",
    "    & (abs(hgg.FatJet.eta) < 2.5)\n",
    "    & (higgs_jets)  \n",
    ")"
   ]
  },
  {
   "cell_type": "code",
   "execution_count": 7,
   "id": "61bc6c69-30c8-43f9-804a-05975df519c0",
   "metadata": {},
   "outputs": [],
   "source": [
    "hgg_fatjet = hgg.FatJet[cut]"
   ]
  },
  {
   "cell_type": "code",
   "execution_count": 8,
   "id": "54a1da9d-1e39-4ca3-aaec-7fa32cd4fe02",
   "metadata": {},
   "outputs": [],
   "source": [
    "pf = ak.flatten(hgg_fatjet.constituents.pf, axis=1)"
   ]
  },
  {
   "cell_type": "code",
   "execution_count": 9,
   "id": "89bbf9f2-8434-4cca-8cd6-e0eb6dc3da55",
   "metadata": {},
   "outputs": [],
   "source": [
    "jetdef = fastjet.JetDefinition(fastjet.cambridge_algorithm, 0.2)"
   ]
  },
  {
   "cell_type": "code",
   "execution_count": 10,
   "id": "9426d976-b7d3-411a-95c0-912685728172",
   "metadata": {},
   "outputs": [],
   "source": [
    "cluster = fastjet.ClusterSequence(pf, jetdef)"
   ]
  },
  {
   "cell_type": "code",
   "execution_count": 11,
   "id": "a6437cb0-1442-43c7-8b14-b452b92c29ee",
   "metadata": {},
   "outputs": [],
   "source": [
    "#cluster.__dir__()"
   ]
  },
  {
   "cell_type": "code",
   "execution_count": 12,
   "id": "558b80a1-e346-458c-937a-6adc6184f6fe",
   "metadata": {},
   "outputs": [
    {
     "name": "stdout",
     "output_type": "stream",
     "text": [
      "#--------------------------------------------------------------------------\n",
      "#                         FastJet release 3.4.1\n",
      "#                 M. Cacciari, G.P. Salam and G. Soyez                  \n",
      "#     A software package for jet finding and analysis at colliders      \n",
      "#                           http://fastjet.fr                           \n",
      "#\t                                                                      \n",
      "# Please cite EPJC72(2012)1896 [arXiv:1111.6097] if you use this package\n",
      "# for scientific work and optionally PLB641(2006)57 [hep-ph/0512210].   \n",
      "#                                                                       \n",
      "# FastJet is provided without warranty under the GNU GPL v2 or higher.  \n",
      "# It uses T. Chan's closest pair algorithm, S. Fortune's Voronoi code,\n",
      "# CGAL and 3rd party plugin jet algorithms. See COPYING file for details.\n",
      "#--------------------------------------------------------------------------\n"
     ]
    },
    {
     "name": "stderr",
     "output_type": "stream",
     "text": [
      "RuntimeWarning: invalid value encountered in sqrt\n",
      "RuntimeWarning: invalid value encountered in arccos\n"
     ]
    }
   ],
   "source": [
    "hgg_exclusive = cluster.exclusive_jets(n_jets=3).compute()"
   ]
  },
  {
   "cell_type": "code",
   "execution_count": 13,
   "id": "d1f7cdcc-f682-4137-aa38-c04e82ada8dc",
   "metadata": {},
   "outputs": [
    {
     "data": {
      "text/plain": [
       "True"
      ]
     },
     "execution_count": 13,
     "metadata": {},
     "output_type": "execute_result"
    }
   ],
   "source": [
    "ak.all(ak.num(hgg_exclusive) == 3)"
   ]
  },
  {
   "cell_type": "code",
   "execution_count": 14,
   "id": "9ea108e0-6c7e-4738-8845-701ea146cc51",
   "metadata": {},
   "outputs": [],
   "source": [
    "cut = (\n",
    "    (qcd.FatJet.pt > 200)\n",
    "    & (qcd.FatJet.pt < 2500)\n",
    "    & (qcd.FatJet.mass > 50)\n",
    "    & (qcd.FatJet.mass < 200)\n",
    "    & (abs(qcd.FatJet.eta) < 2.5) \n",
    ")"
   ]
  },
  {
   "cell_type": "code",
   "execution_count": 15,
   "id": "a6b633e7-7607-4ec5-adce-068d70079fe4",
   "metadata": {},
   "outputs": [],
   "source": [
    "fatjet = qcd.FatJet[cut]"
   ]
  },
  {
   "cell_type": "code",
   "execution_count": 16,
   "id": "df8a9e81-1626-467a-b7e5-82dfd9d28095",
   "metadata": {},
   "outputs": [],
   "source": [
    "pf = ak.flatten(fatjet.constituents.pf, axis=1)"
   ]
  },
  {
   "cell_type": "code",
   "execution_count": 17,
   "id": "08d493aa-38d9-45cf-8137-13d98a94d51f",
   "metadata": {},
   "outputs": [],
   "source": [
    "jetdef = fastjet.JetDefinition(fastjet.cambridge_algorithm, 0.2)"
   ]
  },
  {
   "cell_type": "code",
   "execution_count": 18,
   "id": "53b031bd-8737-4c5b-a7d3-b5da5bbeb172",
   "metadata": {},
   "outputs": [],
   "source": [
    "cluster = fastjet.ClusterSequence(pf, jetdef)"
   ]
  },
  {
   "cell_type": "code",
   "execution_count": 19,
   "id": "61899aef-e168-4259-9663-0255fd977580",
   "metadata": {},
   "outputs": [],
   "source": [
    "qcd_exclusive = cluster.exclusive_jets(n_jets=3).compute()"
   ]
  },
  {
   "cell_type": "code",
   "execution_count": 20,
   "id": "d076a4d7-0d5d-45e0-b2c8-e28f17f758e3",
   "metadata": {},
   "outputs": [
    {
     "data": {
      "text/plain": [
       "True"
      ]
     },
     "execution_count": 20,
     "metadata": {},
     "output_type": "execute_result"
    }
   ],
   "source": [
    "ak.all(ak.num(qcd_exclusive) == 3)"
   ]
  },
  {
   "cell_type": "code",
   "execution_count": 21,
   "id": "d769160b-40dd-47f9-8fdd-baa4bb3b8b86",
   "metadata": {},
   "outputs": [],
   "source": [
    "def color_ring(fatjet, cluster_val):\n",
    "    pf = ak.flatten(fatjet.constituents.pf, axis=1)\n",
    "    jetdef = fastjet.JetDefinition(fastjet.cambridge_algorithm, cluster_val)\n",
    "    cluster = fastjet.ClusterSequence(pf, jetdef)\n",
    "    subjets = cluster.exclusive_jets(n_jets=3)\n",
    "    vec = ak.zip(\n",
    "        {\n",
    "            \"x\": subjets.px,\n",
    "            \"y\": subjets.py,\n",
    "            \"z\": subjets.pz,\n",
    "            \"t\": subjets.E,\n",
    "        },\n",
    "        with_name=\"LorentzVector\",\n",
    "        behavior=vector.behavior,\n",
    "    )\n",
    "    vec = ak.pad_none(vec, 3)\n",
    "    vec[\"norm3\"] = np.sqrt(vec.dot(vec))\n",
    "    vec[\"idx\"] = ak.local_index(vec)\n",
    "    i, j, k = ak.unzip(ak.combinations(vec, 3))\n",
    "    #best = ak.argmin(abs((i + j + k).mass - 125), axis=1, keepdims=True)\n",
    "    best = ak.argmax(abs((i + j + k).mass), axis=1, keepdims=True)\n",
    "    order_check = ak.concatenate([i[best].mass, j[best].mass, k[best].mass], axis=1)\n",
    "    largest = ak.argmax(order_check, axis=1, keepdims=True)\n",
    "    smallest = ak.argmin(order_check, axis=1, keepdims=True)\n",
    "    leading_particles = ak.concatenate([i[best], j[best], k[best]], axis=1)\n",
    "    leg1 = leading_particles[largest]\n",
    "    leg3 = leading_particles[smallest]\n",
    "    leg2 = leading_particles[\n",
    "        (leading_particles.idx != ak.flatten(leg1.idx))\n",
    "        & (leading_particles.idx != ak.flatten(leg3.idx))\n",
    "    ]\n",
    "    leg1 = ak.firsts(leg1)\n",
    "    leg2 = ak.firsts(leg2)\n",
    "    leg3 = ak.firsts(leg3)\n",
    "    a12 = np.arccos(leg1.dot(leg2) / (leg1.norm3 * leg2.norm3))\n",
    "    a13 = np.arccos(leg1.dot(leg3) / (leg1.norm3 * leg3.norm3))\n",
    "    a23 = np.arccos(leg2.dot(leg3) / (leg2.norm3 * leg3.norm3))\n",
    "    color_ring = (a13**2 + a23**2) / (a12**2)\n",
    "    return color_ring"
   ]
  },
  {
   "cell_type": "code",
   "execution_count": 22,
   "id": "c83caa6f-a13a-4e36-8351-0a61299bcbbf",
   "metadata": {},
   "outputs": [],
   "source": [
    "uf_cr = ak.unflatten(\n",
    "     color_ring(hgg_fatjet, cluster_val=0.2), counts=ak.num(hgg_fatjet)\n",
    ").compute()"
   ]
  },
  {
   "cell_type": "code",
   "execution_count": 23,
   "id": "9014401f-214c-4c4d-8c50-32733d5ee05d",
   "metadata": {},
   "outputs": [
    {
     "data": {
      "text/html": [
       "<pre>[[2.28],\n",
       " [],\n",
       " [31.9],\n",
       " [2.03],\n",
       " [],\n",
       " [7.57],\n",
       " [0.992],\n",
       " [1],\n",
       " [],\n",
       " [12.1],\n",
       " ...,\n",
       " [],\n",
       " [9.18],\n",
       " [],\n",
       " [1.69],\n",
       " [4.54],\n",
       " [10],\n",
       " [],\n",
       " [1.25],\n",
       " []]\n",
       "---------------------------\n",
       "type: 3000 * var * ?float64</pre>"
      ],
      "text/plain": [
       "<Array [[2.28], [], [31.9], ..., [], [1.25], []] type='3000 * var * ?float64'>"
      ]
     },
     "execution_count": 23,
     "metadata": {},
     "output_type": "execute_result"
    }
   ],
   "source": [
    "uf_cr"
   ]
  },
  {
   "cell_type": "code",
   "execution_count": 24,
   "id": "7f239d1e-fcf9-4d06-bc21-83005bdd3d38",
   "metadata": {},
   "outputs": [],
   "source": [
    "subjets = qcd_exclusive"
   ]
  },
  {
   "cell_type": "code",
   "execution_count": 25,
   "id": "0716d1ae-eb13-4da0-aa29-d19945aa815a",
   "metadata": {},
   "outputs": [],
   "source": [
    "vec = ak.zip(\n",
    "    {\n",
    "        \"x\": subjets.px,\n",
    "        \"y\": subjets.py,\n",
    "        \"z\": subjets.pz,\n",
    "        \"t\": subjets.E,\n",
    "    },\n",
    "    with_name=\"LorentzVector\",\n",
    "    behavior=vector.behavior,\n",
    ")"
   ]
  },
  {
   "cell_type": "code",
   "execution_count": 26,
   "id": "ead51020-a691-4831-bdaa-d6f856717163",
   "metadata": {},
   "outputs": [],
   "source": [
    "vec = ak.pad_none(vec, 3)"
   ]
  },
  {
   "cell_type": "code",
   "execution_count": 27,
   "id": "9f5394f5-ae99-4e66-9fcc-38588b41da7d",
   "metadata": {},
   "outputs": [],
   "source": [
    "vec[\"norm3\"] = np.sqrt(vec.dot(vec))"
   ]
  },
  {
   "cell_type": "code",
   "execution_count": 28,
   "id": "585aace2-2f57-4bc0-8c1c-65102b9134cd",
   "metadata": {},
   "outputs": [],
   "source": [
    "vec[\"idx\"] = ak.local_index(vec)"
   ]
  },
  {
   "cell_type": "code",
   "execution_count": 29,
   "id": "c4de5748-a8e4-4ce0-aae5-ac1d60676237",
   "metadata": {},
   "outputs": [],
   "source": [
    "i, j, k = ak.unzip(ak.combinations(vec, 3))"
   ]
  },
  {
   "cell_type": "code",
   "execution_count": 30,
   "id": "2ef991e3-d9b4-49d5-96c1-0f5991be776c",
   "metadata": {},
   "outputs": [],
   "source": [
    "best = ak.argmax(abs((i + j + k).mass), axis=1, keepdims=True)"
   ]
  },
  {
   "cell_type": "code",
   "execution_count": 31,
   "id": "3789127b-c312-42ec-8066-8445318444e6",
   "metadata": {},
   "outputs": [],
   "source": [
    "order_check = ak.concatenate([i[best].mass, j[best].mass, k[best].mass], axis=1)"
   ]
  },
  {
   "cell_type": "code",
   "execution_count": 32,
   "id": "09ac0bb5-ccb9-489d-9d3a-c9f5bb3425f9",
   "metadata": {},
   "outputs": [],
   "source": [
    "largest = ak.argmax(order_check, axis=1, keepdims=True)"
   ]
  },
  {
   "cell_type": "code",
   "execution_count": 33,
   "id": "1d787347-5f95-4e3e-b48e-5284a5a79bd8",
   "metadata": {},
   "outputs": [],
   "source": [
    "smallest = ak.argmin(order_check, axis=1, keepdims=True)"
   ]
  },
  {
   "cell_type": "code",
   "execution_count": 34,
   "id": "a2446cfa-9949-4abd-8380-716f083fbf8d",
   "metadata": {},
   "outputs": [],
   "source": [
    "leading_particles = ak.concatenate([i[best], j[best], k[best]], axis=1)"
   ]
  },
  {
   "cell_type": "code",
   "execution_count": 35,
   "id": "c3c47fcb-d775-407b-b460-8eb6e9e37543",
   "metadata": {},
   "outputs": [],
   "source": [
    "leg1 = leading_particles[largest]"
   ]
  },
  {
   "cell_type": "code",
   "execution_count": 36,
   "id": "0b41faae-81b6-4a00-affc-f6aa4c395c1a",
   "metadata": {},
   "outputs": [],
   "source": [
    "leg3 = leading_particles[smallest]"
   ]
  },
  {
   "cell_type": "code",
   "execution_count": 37,
   "id": "dc269a9a-e775-47f9-8d1c-f76e2e93635f",
   "metadata": {},
   "outputs": [],
   "source": [
    "leg2 = leading_particles[\n",
    "    (leading_particles.idx != ak.flatten(leg1.idx))\n",
    "    & (leading_particles.idx != ak.flatten(leg3.idx))\n",
    "]"
   ]
  },
  {
   "cell_type": "code",
   "execution_count": 38,
   "id": "42b81935-c04b-4e79-810c-045615feef36",
   "metadata": {},
   "outputs": [],
   "source": [
    "leg1 = ak.firsts(leg1)\n",
    "leg2 = ak.firsts(leg2)\n",
    "leg3 = ak.firsts(leg3)"
   ]
  },
  {
   "cell_type": "code",
   "execution_count": 39,
   "id": "97dc4654-2929-4a9a-b91e-3b0a592cdf57",
   "metadata": {},
   "outputs": [],
   "source": [
    "a12 = leg1.delta_r2(leg2)"
   ]
  },
  {
   "cell_type": "code",
   "execution_count": 40,
   "id": "bd721f81-2430-45d9-9382-730787dd1784",
   "metadata": {},
   "outputs": [],
   "source": [
    "a13 = leg1.delta_r2(leg3)"
   ]
  },
  {
   "cell_type": "code",
   "execution_count": 41,
   "id": "b49e64c4-1769-4af4-9894-e34a59e4fbd7",
   "metadata": {},
   "outputs": [],
   "source": [
    "a23 = leg2.delta_r2(leg3)"
   ]
  },
  {
   "cell_type": "code",
   "execution_count": 42,
   "id": "eb40bb5d-e805-469a-8639-5c352745287c",
   "metadata": {},
   "outputs": [],
   "source": [
    "color_ring = (a13 + a23) / (a12)"
   ]
  },
  {
   "cell_type": "code",
   "execution_count": 46,
   "id": "1615e14e-291a-49de-bdd1-c402ad7261c7",
   "metadata": {},
   "outputs": [
    {
     "data": {
      "text/html": [
       "<pre>[1.09,\n",
       " -0.491,\n",
       " -1.91,\n",
       " -2.37,\n",
       " 0.0916,\n",
       " -0.892,\n",
       " 0.679,\n",
       " -2.33,\n",
       " 0.928,\n",
       " -2.15,\n",
       " ...,\n",
       " -0.207,\n",
       " -0.0343,\n",
       " 0.787,\n",
       " -2.3,\n",
       " -1.24,\n",
       " 0.814,\n",
       " -1.05,\n",
       " -1.98,\n",
       " -1.57]\n",
       "----------------------\n",
       "type: 29369 * ?float64</pre>"
      ],
      "text/plain": [
       "<Array [1.09, -0.491, -1.91, ..., -1.05, -1.98, -1.57] type='29369 * ?float64'>"
      ]
     },
     "execution_count": 46,
     "metadata": {},
     "output_type": "execute_result"
    }
   ],
   "source": [
    "leg1.eta"
   ]
  },
  {
   "cell_type": "code",
   "execution_count": 73,
   "id": "e36df6e8-a312-4392-9557-7ed3f3953737",
   "metadata": {},
   "outputs": [
    {
     "data": {
      "text/plain": [
       "2.8514720276930046"
      ]
     },
     "execution_count": 73,
     "metadata": {},
     "output_type": "execute_result"
    }
   ],
   "source": [
    "i=4\n",
    "leg1.pt[i]"
   ]
  },
  {
   "cell_type": "code",
   "execution_count": 74,
   "id": "3f4e98c8-d384-4775-959b-fafa1ca4b195",
   "metadata": {},
   "outputs": [
    {
     "data": {
      "text/plain": [
       "2.4940191514786236"
      ]
     },
     "execution_count": 74,
     "metadata": {},
     "output_type": "execute_result"
    }
   ],
   "source": [
    "leg2.pt[i]"
   ]
  },
  {
   "cell_type": "code",
   "execution_count": 75,
   "id": "699e241a-b2a8-44ce-bed3-9e83cefda149",
   "metadata": {},
   "outputs": [
    {
     "data": {
      "text/plain": [
       "3.584603171977805"
      ]
     },
     "execution_count": 75,
     "metadata": {},
     "output_type": "execute_result"
    }
   ],
   "source": [
    "leg3.pt[i]"
   ]
  },
  {
   "cell_type": "code",
   "execution_count": null,
   "id": "4b30a846-9640-426e-b5c0-c3fc25c65297",
   "metadata": {},
   "outputs": [],
   "source": []
  },
  {
   "cell_type": "code",
   "execution_count": null,
   "id": "accfec98-9af6-4cbf-bc21-baf9b93900d3",
   "metadata": {},
   "outputs": [],
   "source": []
  }
 ],
 "metadata": {
  "kernelspec": {
   "display_name": "Python 3 (ipykernel)",
   "language": "python",
   "name": "python3"
  },
  "language_info": {
   "codemirror_mode": {
    "name": "ipython",
    "version": 3
   },
   "file_extension": ".py",
   "mimetype": "text/x-python",
   "name": "python",
   "nbconvert_exporter": "python",
   "pygments_lexer": "ipython3",
   "version": "3.10.13"
  }
 },
 "nbformat": 4,
 "nbformat_minor": 5
}
