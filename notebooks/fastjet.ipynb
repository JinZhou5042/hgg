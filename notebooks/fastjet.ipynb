{
 "cells": [
  {
   "cell_type": "code",
   "execution_count": 3,
   "id": "45fb203c-38d5-4832-b1de-cc0b84daf97c",
   "metadata": {},
   "outputs": [],
   "source": [
    "from coffea.nanoevents import NanoEventsFactory, BaseSchema, PFNanoAODSchema\n",
    "import json\n",
    "import fastjet\n",
    "import numpy as np\n",
    "import awkward as ak\n",
    "from coffea import processor\n",
    "import hist\n",
    "import coffea.nanoevents.methods.vector as vector\n",
    "import warnings\n",
    "import hist.dask as dhist\n",
    "import dask\n",
    "import pickle\n",
    "import os\n",
    "import dask_awkward as dak\n",
    "import vector as sci_vector"
   ]
  },
  {
   "cell_type": "code",
   "execution_count": 4,
   "id": "7489b888-51a3-4d73-ab41-6a3506a70f23",
   "metadata": {},
   "outputs": [],
   "source": [
    "warnings.filterwarnings(\"ignore\", \"Found duplicate branch\")\n",
    "warnings.filterwarnings(\"ignore\", \"Missing cross-reference index for\")\n",
    "warnings.filterwarnings(\"ignore\", \"dcut\")\n",
    "warnings.filterwarnings(\"ignore\", \"Please ensure\")"
   ]
  },
  {
   "cell_type": "code",
   "execution_count": 5,
   "id": "773d27c4-dc22-43f9-93f3-de8d4d5d2cb1",
   "metadata": {},
   "outputs": [
    {
     "name": "stdout",
     "output_type": "stream",
     "text": [
      "2024.1.1\n",
      "2.5.2\n",
      "2024.1.1\n"
     ]
    }
   ],
   "source": [
    "import coffea\n",
    "print(coffea.__version__)\n",
    "print(ak.__version__)\n",
    "print(dak.__version__)"
   ]
  },
  {
   "cell_type": "code",
   "execution_count": 330,
   "id": "5fbfaf58-cdf0-4cf9-977b-d6c77d4fc1fe",
   "metadata": {},
   "outputs": [],
   "source": [
    "with open('../filelists/q347_files.txt', 'r') as f:\n",
    "#with open('../filelists/hbb_files.txt', 'r') as f:\n",
    "    q347_files = [line.strip() for line in f]\n",
    "hbb = NanoEventsFactory.from_root(\n",
    "    {'/project01/ndcms/cmoore24/qcd/300to470/' + q347_files[1]: \"/Events\"},\n",
    "    #delayed=False,\n",
    "    schemaclass=PFNanoAODSchema,\n",
    "    metadata={\"dataset\": \"bkg\"},\n",
    ").events()"
   ]
  },
  {
   "cell_type": "code",
   "execution_count": 15,
   "id": "9dd76e4a-f6f3-4829-a57e-33e60219e9a5",
   "metadata": {},
   "outputs": [],
   "source": [
    "with open('../filelists/hgg_files.txt', 'r') as f:\n",
    "    hgg_files = [line.strip() for line in f]\n",
    "hgg = NanoEventsFactory.from_root(\n",
    "    {'/project01/ndcms/cmoore24/signal/hgg/' + hgg_files[0]: \"/Events\"},\n",
    "    #delayed=False,\n",
    "    schemaclass=PFNanoAODSchema,\n",
    "    metadata={\"dataset\": \"Hgg\"},\n",
    ").events()"
   ]
  },
  {
   "cell_type": "code",
   "execution_count": 6,
   "id": "526181ee-0269-4b23-9d09-18ce703a8cf5",
   "metadata": {},
   "outputs": [],
   "source": [
    "fatjet = hbb.FatJet\n",
    "cut = ((fatjet.pt > 300) & (fatjet.msoftdrop > 110) & \n",
    "       (fatjet.msoftdrop < 140) & (abs(fatjet.eta) < 2.4)) #& (fatjet.btagDDBvLV2 > 0.89)\n",
    "boosted_fatjet = hbb.FatJet[cut]\n",
    "#slimmed = ak.mask(hbb.FatJet, cut)"
   ]
  },
  {
   "cell_type": "code",
   "execution_count": 7,
   "id": "a95c1c98-44c0-42a9-a961-bb621386cf51",
   "metadata": {},
   "outputs": [],
   "source": [
    "def num_subjets(fatjet):\n",
    "    pf = ak.flatten(fatjet.constituents.pf, axis=1)\n",
    "    jetdef = fastjet.JetDefinition(fastjet.cambridge_algorithm, 0.4)\n",
    "    cluster = fastjet.ClusterSequence(pf, jetdef)\n",
    "    subjets = cluster.inclusive_jets()\n",
    "    num = ak.num(subjets, axis=1)\n",
    "    return num"
   ]
  },
  {
   "cell_type": "code",
   "execution_count": 8,
   "id": "50a241e6-c47d-4222-aa5a-34af3864879e",
   "metadata": {},
   "outputs": [],
   "source": [
    "num_sub = ak.unflatten(num_subjets(boosted_fatjet), counts=ak.num(boosted_fatjet))"
   ]
  },
  {
   "cell_type": "code",
   "execution_count": 9,
   "id": "72402e49-a0f4-48de-b271-bd4e1ca27513",
   "metadata": {},
   "outputs": [],
   "source": [
    "boosted_fatjet['num_subjets'] = num_sub"
   ]
  },
  {
   "cell_type": "code",
   "execution_count": 10,
   "id": "d8400786-321e-4a25-aba1-9b60ad603fd1",
   "metadata": {},
   "outputs": [
    {
     "name": "stdout",
     "output_type": "stream",
     "text": [
      "#--------------------------------------------------------------------------\n",
      "#                         FastJet release 3.4.1\n",
      "#                 M. Cacciari, G.P. Salam and G. Soyez                  \n",
      "#     A software package for jet finding and analysis at colliders      \n",
      "#                           http://fastjet.fr                           \n",
      "#\t                                                                      \n",
      "# Please cite EPJC72(2012)1896 [arXiv:1111.6097] if you use this package\n",
      "# for scientific work and optionally PLB641(2006)57 [hep-ph/0512210].   \n",
      "#                                                                       \n",
      "# FastJet is provided without warranty under the GNU GPL v2 or higher.  \n",
      "# It uses T. Chan's closest pair algorithm, S. Fortune's Voronoi code,\n",
      "# CGAL and 3rd party plugin jet algorithms. See COPYING file for details.\n",
      "#--------------------------------------------------------------------------\n"
     ]
    },
    {
     "data": {
      "text/plain": [
       "(<Array [21, 43, 53, 145, 159, ..., 1706, 1768, 1785, 1804] type='60 * int64'>,)"
      ]
     },
     "execution_count": 10,
     "metadata": {},
     "output_type": "execute_result"
    }
   ],
   "source": [
    "ak.where(ak.flatten(boosted_fatjet.num_subjets.compute()) <= 2)"
   ]
  },
  {
   "cell_type": "code",
   "execution_count": 11,
   "id": "6fd0d463-60b9-42e8-8cb4-f5c90718d91c",
   "metadata": {},
   "outputs": [],
   "source": [
    "sub_cut = (boosted_fatjet.num_subjets >= 3)"
   ]
  },
  {
   "cell_type": "code",
   "execution_count": 12,
   "id": "91abdd7c-b982-492d-905e-ff604d53de64",
   "metadata": {},
   "outputs": [],
   "source": [
    "a = num_sub.compute()"
   ]
  },
  {
   "cell_type": "code",
   "execution_count": 421,
   "id": "ecae7777-d6ab-4546-a960-c987501c4b11",
   "metadata": {},
   "outputs": [],
   "source": [
    "a = hgg.compute()"
   ]
  },
  {
   "cell_type": "code",
   "execution_count": 346,
   "id": "cca28968-76bd-43af-b067-414e5c4a9105",
   "metadata": {},
   "outputs": [],
   "source": [
    "b = hbb.compute()"
   ]
  },
  {
   "cell_type": "code",
   "execution_count": 438,
   "id": "c70c331a-5722-436b-98ee-1ba430dca136",
   "metadata": {},
   "outputs": [],
   "source": [
    "genelectron = b.GenPart[\n",
    "    (abs(b.GenPart.pdgId) == 11)\n",
    "    & b.GenPart.hasFlags([\"isPrompt\"])]"
   ]
  },
  {
   "cell_type": "code",
   "execution_count": 439,
   "id": "b2db04a7-0a2b-4522-aa59-709888cf207d",
   "metadata": {},
   "outputs": [],
   "source": [
    "prompt = b.Electron.nearest(genelectron, threshold=0.2)"
   ]
  },
  {
   "cell_type": "code",
   "execution_count": 440,
   "id": "a8267365-e9cc-4770-a4fd-54401f86bee0",
   "metadata": {},
   "outputs": [],
   "source": [
    "prompt_electron = ~ak.is_none(prompt, axis=1)"
   ]
  },
  {
   "cell_type": "code",
   "execution_count": 459,
   "id": "1037337c-d7d0-49c2-8cc4-8cb6bbe3bc48",
   "metadata": {},
   "outputs": [],
   "source": [
    "cut = (ak.fill_none(prompt.pt, 0, axis=1) < 20)"
   ]
  },
  {
   "cell_type": "code",
   "execution_count": 462,
   "id": "63b74897-63ac-4d18-b0a3-b4e192ccc6f5",
   "metadata": {},
   "outputs": [
    {
     "data": {
      "text/html": [
       "<pre>[[199, 9.45],\n",
       " [15.8, 11.6],\n",
       " [],\n",
       " [],\n",
       " [],\n",
       " [],\n",
       " [],\n",
       " [6.63, 5.91],\n",
       " [],\n",
       " [282],\n",
       " ...,\n",
       " [247],\n",
       " [],\n",
       " [5.9],\n",
       " [],\n",
       " [7.36],\n",
       " [136, 29.5, 14, 9.93, 12.2],\n",
       " [],\n",
       " [103],\n",
       " []]\n",
       "------------------------------------------------------------\n",
       "type: 25000 * var * float32[parameters={&quot;__doc__&quot;: &quot;p_{T}&quot;}]</pre>"
      ],
      "text/plain": [
       "<Array [[199, 9.45], [15.8, ...], ..., []] type='25000 * var * float32[para...'>"
      ]
     },
     "execution_count": 462,
     "metadata": {},
     "output_type": "execute_result"
    }
   ],
   "source": [
    "b.Electron[cut].pt"
   ]
  },
  {
   "cell_type": "code",
   "execution_count": null,
   "id": "54a1da9d-1e39-4ca3-aaec-7fa32cd4fe02",
   "metadata": {},
   "outputs": [],
   "source": []
  },
  {
   "cell_type": "code",
   "execution_count": null,
   "id": "89bbf9f2-8434-4cca-8cd6-e0eb6dc3da55",
   "metadata": {},
   "outputs": [],
   "source": []
  }
 ],
 "metadata": {
  "kernelspec": {
   "display_name": "Python 3 (ipykernel)",
   "language": "python",
   "name": "python3"
  },
  "language_info": {
   "codemirror_mode": {
    "name": "ipython",
    "version": 3
   },
   "file_extension": ".py",
   "mimetype": "text/x-python",
   "name": "python",
   "nbconvert_exporter": "python",
   "pygments_lexer": "ipython3",
   "version": "3.9.18"
  }
 },
 "nbformat": 4,
 "nbformat_minor": 5
}
