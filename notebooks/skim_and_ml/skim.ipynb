{
 "cells": [
  {
   "cell_type": "code",
   "execution_count": 1,
   "id": "b4a51aab-05b7-4e99-9de6-cf24f16815a2",
   "metadata": {},
   "outputs": [],
   "source": [
    "import json\n",
    "import dask\n",
    "import dask_awkward as dak\n",
    "import awkward as ak\n",
    "import matplotlib.pyplot\n",
    "from coffea import dataset_tools\n",
    "from coffea.nanoevents import NanoEventsFactory\n",
    "import pickle\n",
    "import pyarrow\n",
    "import os"
   ]
  },
  {
   "cell_type": "code",
   "execution_count": 2,
   "id": "8a95564e-4f81-40a5-aa6d-29ce79117ba8",
   "metadata": {},
   "outputs": [],
   "source": [
    "with open('../../filelists/hgg_files.txt', 'r') as f:\n",
    "    hgg_files = [line.strip() for line in f]"
   ]
  },
  {
   "cell_type": "code",
   "execution_count": 38,
   "id": "ad649d3a-bd73-4405-b33e-add455bf6b00",
   "metadata": {},
   "outputs": [
    {
     "data": {
      "text/plain": [
       "'/project01/ndcms/cmoore24/signal/hgg/HJ_MINLO_Pt-200ToInf_0.root'"
      ]
     },
     "execution_count": 38,
     "metadata": {},
     "output_type": "execute_result"
    }
   ],
   "source": [
    "hgg_files[0]\n",
    "entry = '/project01/ndcms/cmoore24/signal/hgg/' + hgg_files[0]\n",
    "entry"
   ]
  },
  {
   "cell_type": "code",
   "execution_count": 39,
   "id": "260ef06a-4195-421c-94d6-539a1f5ab429",
   "metadata": {},
   "outputs": [],
   "source": [
    "samples = {}\n",
    "samples['Hgg'] = {}\n",
    "samples['Hgg']['files'] = {}\n",
    "samples['Hgg']['files'][entry] = {'object_path': 'Events'}"
   ]
  },
  {
   "cell_type": "code",
   "execution_count": 5,
   "id": "3939084b-bbb7-4cca-9ff9-cb856c254124",
   "metadata": {},
   "outputs": [
    {
     "data": {
      "text/plain": [
       "{'Hgg': {'files': {'/project01/ndcms/cmoore24/signal/hgg/HJ_MINLO_Pt-200ToInf_0.root': {'object_path': 'Events'}}}}"
      ]
     },
     "execution_count": 5,
     "metadata": {},
     "output_type": "execute_result"
    }
   ],
   "source": [
    "samples"
   ]
  },
  {
   "cell_type": "code",
   "execution_count": 6,
   "id": "c07b04d5-17e2-4249-aa74-42987cfac300",
   "metadata": {},
   "outputs": [],
   "source": [
    "samples_ready, samples = dataset_tools.preprocess(\n",
    "    samples,\n",
    "    step_size=50_000,\n",
    "    skip_bad_files=True,\n",
    "    recalculate_steps=True,\n",
    "    save_form=False,\n",
    ")"
   ]
  },
  {
   "cell_type": "code",
   "execution_count": 7,
   "id": "ba554beb-7a45-4fab-b5a3-97793abfee5a",
   "metadata": {},
   "outputs": [],
   "source": [
    "def repartition(samples, factor):\n",
    "    # FIXME: not actually copying\n",
    "    out = {}\n",
    "    for name, sample in samples.items():\n",
    "        out[name] = dict(sample)\n",
    "        out[name][\"files\"] = dict(out[name][\"files\"])\n",
    "        for fname, file in out[name][\"files\"].items():\n",
    "            steps = file[\"steps\"]\n",
    "            if not steps:\n",
    "                continue\n",
    "            offsets = [start for start, _ in steps]\n",
    "            offsets = offsets[::factor] + steps[-1][1:]\n",
    "            file[\"steps\"] = [\n",
    "                [start, stop]\n",
    "                for start, stop in zip(offsets, offsets[1:])\n",
    "            ]\n",
    "    return out"
   ]
  },
  {
   "cell_type": "code",
   "execution_count": 8,
   "id": "380cf6df-7eb4-4bd0-b3cb-1fd5bc473cb6",
   "metadata": {},
   "outputs": [],
   "source": [
    "def analysis(events):\n",
    "    dataset = events.metadata[\"dataset\"]\n",
    "    photonSelect = (\n",
    "        (events.FatJet.pt > 18)\n",
    "        & (abs(events.FatJet.eta) < 1.5)\n",
    "        #& (events.Photon.isScEtaEE | events.Photon.isScEtaEB)\n",
    "        #& (events.Photon.cutBased >= 1)\n",
    "    )\n",
    "    events = events[\n",
    "        ak.any(photonSelect, axis=1)\n",
    "    ]\n",
    "    skim = ak.zip(\n",
    "        {\n",
    "            \"Jets\": events.Jet,\n",
    "            # \"MET\": events.MET,\n",
    "            # \"Photon\": events.Photon,\n",
    "        },\n",
    "        depth_limit=1,\n",
    "    )\n",
    "    \n",
    "    skim_task = dak.to_parquet(\n",
    "        skim,\n",
    "        f\"./{dataset}\",\n",
    "        compute=False,\n",
    "    )\n",
    "    return skim_task"
   ]
  },
  {
   "cell_type": "code",
   "execution_count": 9,
   "id": "4447bdae-3318-4e1e-acbf-0c9d5ab67955",
   "metadata": {},
   "outputs": [
    {
     "name": "stderr",
     "output_type": "stream",
     "text": [
      "/afs/crc.nd.edu/user/c/cmoore24/miniconda3/envs/coffea2024/lib/python3.10/site-packages/coffea/nanoevents/methods/candidate.py:11: FutureWarning: In version 2024.7.0 (target date: 2024-06-30 11:59:59-05:00), this will be an error.\n",
      "To raise these warnings as errors (and get stack traces to find out where they're called), run\n",
      "    import warnings\n",
      "    warnings.filterwarnings(\"error\", module=\"coffea.*\")\n",
      "after the first `import coffea` or use `@pytest.mark.filterwarnings(\"error:::coffea.*\")` in pytest.\n",
      "Issue: coffea.nanoevents.methods.vector will be removed and replaced with scikit-hep vector. Nanoevents schemas internal to coffea will be migrated. Otherwise please consider using that package!.\n",
      "  from coffea.nanoevents.methods import vector\n"
     ]
    }
   ],
   "source": [
    "tasks = dataset_tools.apply_to_fileset(\n",
    "    analysis,\n",
    "    dataset_tools.slice_files(samples_ready, slice(None, 5)),\n",
    "    uproot_options={\"allow_read_errors_with_report\": True},\n",
    ")"
   ]
  },
  {
   "cell_type": "code",
   "execution_count": 10,
   "id": "a73fec0a-74bf-4313-a0d8-0779737e2477",
   "metadata": {},
   "outputs": [],
   "source": [
    "out, report = dask.compute(*tasks)"
   ]
  },
  {
   "cell_type": "code",
   "execution_count": 11,
   "id": "edd0e9f4-49a9-4537-a29a-ffbb1eabda3b",
   "metadata": {},
   "outputs": [
    {
     "data": {
      "text/plain": [
       "{'Hgg': None}"
      ]
     },
     "execution_count": 11,
     "metadata": {},
     "output_type": "execute_result"
    }
   ],
   "source": [
    "out"
   ]
  },
  {
   "cell_type": "code",
   "execution_count": 12,
   "id": "66192354-ebc3-41a5-91b4-5bcf6bd5f84f",
   "metadata": {},
   "outputs": [
    {
     "data": {
      "text/plain": [
       "{'Hgg': <Array [{call_time: None, duration: 1.46, ...}] type='1 * {call_time: ?unkn...'>}"
      ]
     },
     "execution_count": 12,
     "metadata": {},
     "output_type": "execute_result"
    }
   ],
   "source": [
    "report"
   ]
  },
  {
   "cell_type": "code",
   "execution_count": 13,
   "id": "41f5719d-1827-40ad-99b7-d82c90ac2efc",
   "metadata": {},
   "outputs": [],
   "source": [
    "with open('../../filelists/hgg_files.txt', 'r') as f:\n",
    "    hgg_files = [line.strip() for line in f]"
   ]
  },
  {
   "cell_type": "code",
   "execution_count": 59,
   "id": "50ebaeff-8ef1-428f-afa7-6b75f1398839",
   "metadata": {},
   "outputs": [],
   "source": [
    "lists = os.listdir('../../filelists')\n",
    "lists.remove('.ipynb_checkpoints')"
   ]
  },
  {
   "cell_type": "code",
   "execution_count": 73,
   "id": "68d5a786-66e0-42e9-ad76-a30fa082db5e",
   "metadata": {},
   "outputs": [],
   "source": [
    "dict = {}\n",
    "for i in lists:\n",
    "    with open('../../filelists/' + i, 'r') as f:\n",
    "        files = [line.strip() for line in f]\n",
    "    dict[str(i)[:-10]] = {}\n",
    "    dict[str(i)[:-10]]['files'] = {}\n",
    "    for j in files:\n",
    "        if 'hgg' or 'hbb' in i:\n",
    "            path = '/project01/ndcms/cmoore24/signal/'\n",
    "        else:\n",
    "            path = '/project01/ndcms/cmoore/qcd/'\n",
    "        dict[str(i)[:-10]]['files'][path+i[:-10]+'/'+j] = {'object_path': 'Events'}"
   ]
  },
  {
   "cell_type": "code",
   "execution_count": 74,
   "id": "02c49c35-8236-4c12-87ae-c1020966c70c",
   "metadata": {
    "scrolled": true
   },
   "outputs": [],
   "source": [
    "with open('output_datasets.json', 'w') as fin:\n",
    "    json.dump(dict, fin)"
   ]
  },
  {
   "cell_type": "code",
   "execution_count": 75,
   "id": "d7b40646-f507-43db-84f8-c205f70619f8",
   "metadata": {},
   "outputs": [],
   "source": [
    "with open('output_datasets.json', 'r') as f:\n",
    "    s2 = json.load(f)"
   ]
  },
  {
   "cell_type": "code",
   "execution_count": 76,
   "id": "1ff9b9a3-8928-4910-8c60-99fd6defc77a",
   "metadata": {},
   "outputs": [],
   "source": [
    "entry = '/project01/ndcms/cmoore24/signal/hgg/' + hgg_files[0]\n",
    "samples = {}\n",
    "samples['Hgg'] = {}\n",
    "samples['Hgg']['files'] = {}\n",
    "samples['Hgg']['files'][entry] = {'object_path': 'Events'}\n",
    "# test_ready, test = dataset_tools.preprocess(\n",
    "#     samples,\n",
    "#     step_size=50_000,\n",
    "#     skip_bad_files=True,\n",
    "#     recalculate_steps=True,\n",
    "#     save_form=False,\n",
    "# )"
   ]
  },
  {
   "cell_type": "code",
   "execution_count": 77,
   "id": "eede0771-3a8c-45b1-93dd-99a4f43553c7",
   "metadata": {
    "scrolled": true
   },
   "outputs": [
    {
     "data": {
      "text/plain": [
       "{'files': {'/project01/ndcms/cmoore24/signal/hbb/nano_mc2017_1-1.root': {'object_path': 'Events'},\n",
       "  '/project01/ndcms/cmoore24/signal/hbb/nano_mc2017_1-2.root': {'object_path': 'Events'},\n",
       "  '/project01/ndcms/cmoore24/signal/hbb/nano_mc2017_1.root': {'object_path': 'Events'},\n",
       "  '/project01/ndcms/cmoore24/signal/hbb/nano_mc2017_10.root': {'object_path': 'Events'},\n",
       "  '/project01/ndcms/cmoore24/signal/hbb/nano_mc2017_11.root': {'object_path': 'Events'},\n",
       "  '/project01/ndcms/cmoore24/signal/hbb/nano_mc2017_12.root': {'object_path': 'Events'},\n",
       "  '/project01/ndcms/cmoore24/signal/hbb/nano_mc2017_14.root': {'object_path': 'Events'},\n",
       "  '/project01/ndcms/cmoore24/signal/hbb/nano_mc2017_15.root': {'object_path': 'Events'},\n",
       "  '/project01/ndcms/cmoore24/signal/hbb/nano_mc2017_16.root': {'object_path': 'Events'},\n",
       "  '/project01/ndcms/cmoore24/signal/hbb/nano_mc2017_17.root': {'object_path': 'Events'},\n",
       "  '/project01/ndcms/cmoore24/signal/hbb/nano_mc2017_18.root': {'object_path': 'Events'},\n",
       "  '/project01/ndcms/cmoore24/signal/hbb/nano_mc2017_19.root': {'object_path': 'Events'},\n",
       "  '/project01/ndcms/cmoore24/signal/hbb/nano_mc2017_2.root': {'object_path': 'Events'},\n",
       "  '/project01/ndcms/cmoore24/signal/hbb/nano_mc2017_20.root': {'object_path': 'Events'},\n",
       "  '/project01/ndcms/cmoore24/signal/hbb/nano_mc2017_21.root': {'object_path': 'Events'},\n",
       "  '/project01/ndcms/cmoore24/signal/hbb/nano_mc2017_22.root': {'object_path': 'Events'},\n",
       "  '/project01/ndcms/cmoore24/signal/hbb/nano_mc2017_23.root': {'object_path': 'Events'},\n",
       "  '/project01/ndcms/cmoore24/signal/hbb/nano_mc2017_24.root': {'object_path': 'Events'},\n",
       "  '/project01/ndcms/cmoore24/signal/hbb/nano_mc2017_25.root': {'object_path': 'Events'},\n",
       "  '/project01/ndcms/cmoore24/signal/hbb/nano_mc2017_3.root': {'object_path': 'Events'},\n",
       "  '/project01/ndcms/cmoore24/signal/hbb/nano_mc2017_4.root': {'object_path': 'Events'},\n",
       "  '/project01/ndcms/cmoore24/signal/hbb/nano_mc2017_6.root': {'object_path': 'Events'},\n",
       "  '/project01/ndcms/cmoore24/signal/hbb/nano_mc2017_7.root': {'object_path': 'Events'},\n",
       "  '/project01/ndcms/cmoore24/signal/hbb/nano_mc2017_8.root': {'object_path': 'Events'},\n",
       "  '/project01/ndcms/cmoore24/signal/hbb/nano_mc2017_9.root': {'object_path': 'Events'}}}"
      ]
     },
     "execution_count": 77,
     "metadata": {},
     "output_type": "execute_result"
    }
   ],
   "source": [
    "s2['hbb']"
   ]
  },
  {
   "cell_type": "code",
   "execution_count": 83,
   "id": "ba9cf3d4-41c4-49e4-9c89-7400c04ba948",
   "metadata": {},
   "outputs": [],
   "source": [
    "test = {}\n",
    "test['hbb'] = s2['hbb']"
   ]
  },
  {
   "cell_type": "code",
   "execution_count": 79,
   "id": "8d0013f9-a366-4df0-8410-b42fc923c159",
   "metadata": {},
   "outputs": [
    {
     "data": {
      "text/plain": [
       "{'Hgg': {'files': {'/project01/ndcms/cmoore24/signal/hgg/HJ_MINLO_Pt-200ToInf_0.root': {'object_path': 'Events'}}}}"
      ]
     },
     "execution_count": 79,
     "metadata": {},
     "output_type": "execute_result"
    }
   ],
   "source": [
    "samples"
   ]
  },
  {
   "cell_type": "code",
   "execution_count": 84,
   "id": "93a165dd-183a-4b77-ab0f-ea1e552db2d0",
   "metadata": {},
   "outputs": [
    {
     "data": {
      "text/plain": [
       "{'hbb': {'files': {'/project01/ndcms/cmoore24/signal/hbb/nano_mc2017_1-1.root': {'object_path': 'Events'},\n",
       "   '/project01/ndcms/cmoore24/signal/hbb/nano_mc2017_1-2.root': {'object_path': 'Events'},\n",
       "   '/project01/ndcms/cmoore24/signal/hbb/nano_mc2017_1.root': {'object_path': 'Events'},\n",
       "   '/project01/ndcms/cmoore24/signal/hbb/nano_mc2017_10.root': {'object_path': 'Events'},\n",
       "   '/project01/ndcms/cmoore24/signal/hbb/nano_mc2017_11.root': {'object_path': 'Events'},\n",
       "   '/project01/ndcms/cmoore24/signal/hbb/nano_mc2017_12.root': {'object_path': 'Events'},\n",
       "   '/project01/ndcms/cmoore24/signal/hbb/nano_mc2017_14.root': {'object_path': 'Events'},\n",
       "   '/project01/ndcms/cmoore24/signal/hbb/nano_mc2017_15.root': {'object_path': 'Events'},\n",
       "   '/project01/ndcms/cmoore24/signal/hbb/nano_mc2017_16.root': {'object_path': 'Events'},\n",
       "   '/project01/ndcms/cmoore24/signal/hbb/nano_mc2017_17.root': {'object_path': 'Events'},\n",
       "   '/project01/ndcms/cmoore24/signal/hbb/nano_mc2017_18.root': {'object_path': 'Events'},\n",
       "   '/project01/ndcms/cmoore24/signal/hbb/nano_mc2017_19.root': {'object_path': 'Events'},\n",
       "   '/project01/ndcms/cmoore24/signal/hbb/nano_mc2017_2.root': {'object_path': 'Events'},\n",
       "   '/project01/ndcms/cmoore24/signal/hbb/nano_mc2017_20.root': {'object_path': 'Events'},\n",
       "   '/project01/ndcms/cmoore24/signal/hbb/nano_mc2017_21.root': {'object_path': 'Events'},\n",
       "   '/project01/ndcms/cmoore24/signal/hbb/nano_mc2017_22.root': {'object_path': 'Events'},\n",
       "   '/project01/ndcms/cmoore24/signal/hbb/nano_mc2017_23.root': {'object_path': 'Events'},\n",
       "   '/project01/ndcms/cmoore24/signal/hbb/nano_mc2017_24.root': {'object_path': 'Events'},\n",
       "   '/project01/ndcms/cmoore24/signal/hbb/nano_mc2017_25.root': {'object_path': 'Events'},\n",
       "   '/project01/ndcms/cmoore24/signal/hbb/nano_mc2017_3.root': {'object_path': 'Events'},\n",
       "   '/project01/ndcms/cmoore24/signal/hbb/nano_mc2017_4.root': {'object_path': 'Events'},\n",
       "   '/project01/ndcms/cmoore24/signal/hbb/nano_mc2017_6.root': {'object_path': 'Events'},\n",
       "   '/project01/ndcms/cmoore24/signal/hbb/nano_mc2017_7.root': {'object_path': 'Events'},\n",
       "   '/project01/ndcms/cmoore24/signal/hbb/nano_mc2017_8.root': {'object_path': 'Events'},\n",
       "   '/project01/ndcms/cmoore24/signal/hbb/nano_mc2017_9.root': {'object_path': 'Events'}}}}"
      ]
     },
     "execution_count": 84,
     "metadata": {},
     "output_type": "execute_result"
    }
   ],
   "source": [
    "test"
   ]
  },
  {
   "cell_type": "code",
   "execution_count": 81,
   "id": "088fe191-798c-4759-bd9c-ac02e5149dd3",
   "metadata": {},
   "outputs": [],
   "source": [
    "test_ready, test = dataset_tools.preprocess(\n",
    "    test,\n",
    "    step_size=50_000,\n",
    "    skip_bad_files=True,\n",
    "    recalculate_steps=True,\n",
    "    save_form=False,\n",
    ")"
   ]
  },
  {
   "cell_type": "code",
   "execution_count": 82,
   "id": "b61418ac-6d43-44a0-a121-08df52f9afae",
   "metadata": {},
   "outputs": [],
   "source": [
    "@dask.delayed\n",
    "def preprocess(set):\n",
    "    preproed = dataset_tools.preprocess(\n",
    "        set,\n",
    "        step_size=50_000,\n",
    "        skip_bad_files=True,\n",
    "        recalculate_steps=True,\n",
    "        save_form=False,\n",
    "    )\n",
    "    return preproed"
   ]
  },
  {
   "cell_type": "code",
   "execution_count": 85,
   "id": "203a8493-98f5-4d2f-a7af-1b74b78941d5",
   "metadata": {},
   "outputs": [
    {
     "ename": "TypeError",
     "evalue": "Delayed objects of unspecified length are not iterable",
     "output_type": "error",
     "traceback": [
      "\u001b[0;31m---------------------------------------------------------------------------\u001b[0m",
      "\u001b[0;31mTypeError\u001b[0m                                 Traceback (most recent call last)",
      "Cell \u001b[0;32mIn[85], line 1\u001b[0m\n\u001b[0;32m----> 1\u001b[0m test_ready, test \u001b[38;5;241m=\u001b[39m preprocess(test)\n",
      "File \u001b[0;32m~/miniconda3/envs/coffea2024/lib/python3.10/site-packages/dask/delayed.py:629\u001b[0m, in \u001b[0;36mDelayed.__iter__\u001b[0;34m(self)\u001b[0m\n\u001b[1;32m    627\u001b[0m \u001b[38;5;28;01mdef\u001b[39;00m \u001b[38;5;21m__iter__\u001b[39m(\u001b[38;5;28mself\u001b[39m):\n\u001b[1;32m    628\u001b[0m     \u001b[38;5;28;01mif\u001b[39;00m \u001b[38;5;28mself\u001b[39m\u001b[38;5;241m.\u001b[39m_length \u001b[38;5;129;01mis\u001b[39;00m \u001b[38;5;28;01mNone\u001b[39;00m:\n\u001b[0;32m--> 629\u001b[0m         \u001b[38;5;28;01mraise\u001b[39;00m \u001b[38;5;167;01mTypeError\u001b[39;00m(\u001b[38;5;124m\"\u001b[39m\u001b[38;5;124mDelayed objects of unspecified length are not iterable\u001b[39m\u001b[38;5;124m\"\u001b[39m)\n\u001b[1;32m    630\u001b[0m     \u001b[38;5;28;01mfor\u001b[39;00m i \u001b[38;5;129;01min\u001b[39;00m \u001b[38;5;28mrange\u001b[39m(\u001b[38;5;28mself\u001b[39m\u001b[38;5;241m.\u001b[39m_length):\n\u001b[1;32m    631\u001b[0m         \u001b[38;5;28;01myield\u001b[39;00m \u001b[38;5;28mself\u001b[39m[i]\n",
      "\u001b[0;31mTypeError\u001b[0m: Delayed objects of unspecified length are not iterable"
     ]
    }
   ],
   "source": [
    "test_ready, test = preprocess(test)"
   ]
  },
  {
   "cell_type": "code",
   "execution_count": null,
   "id": "defda922-211d-45d5-b34b-339370b33c33",
   "metadata": {},
   "outputs": [],
   "source": []
  }
 ],
 "metadata": {
  "kernelspec": {
   "display_name": "Python 3 (ipykernel)",
   "language": "python",
   "name": "python3"
  },
  "language_info": {
   "codemirror_mode": {
    "name": "ipython",
    "version": 3
   },
   "file_extension": ".py",
   "mimetype": "text/x-python",
   "name": "python",
   "nbconvert_exporter": "python",
   "pygments_lexer": "ipython3",
   "version": "3.10.13"
  }
 },
 "nbformat": 4,
 "nbformat_minor": 5
}
