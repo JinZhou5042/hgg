{
 "cells": [
  {
   "cell_type": "code",
   "execution_count": 1,
   "id": "b4a51aab-05b7-4e99-9de6-cf24f16815a2",
   "metadata": {},
   "outputs": [],
   "source": [
    "import json\n",
    "import dask\n",
    "import dask_awkward as dak\n",
    "import awkward as ak\n",
    "import matplotlib.pyplot\n",
    "from coffea import dataset_tools\n",
    "from coffea.nanoevents import NanoEventsFactory\n",
    "import pickle\n",
    "import pyarrow\n",
    "import os"
   ]
  },
  {
   "cell_type": "code",
   "execution_count": 2,
   "id": "8a95564e-4f81-40a5-aa6d-29ce79117ba8",
   "metadata": {},
   "outputs": [],
   "source": [
    "with open('../../filelists/hgg_files.txt', 'r') as f:\n",
    "    hgg_files = [line.strip() for line in f]"
   ]
  },
  {
   "cell_type": "code",
   "execution_count": 3,
   "id": "ad649d3a-bd73-4405-b33e-add455bf6b00",
   "metadata": {},
   "outputs": [
    {
     "data": {
      "text/plain": [
       "'/project01/ndcms/cmoore24/signal/hgg/HJ_MINLO_Pt-200ToInf_0.root'"
      ]
     },
     "execution_count": 3,
     "metadata": {},
     "output_type": "execute_result"
    }
   ],
   "source": [
    "hgg_files[0]\n",
    "entry = '/project01/ndcms/cmoore24/signal/hgg/' + hgg_files[0]\n",
    "entry"
   ]
  },
  {
   "cell_type": "code",
   "execution_count": 4,
   "id": "260ef06a-4195-421c-94d6-539a1f5ab429",
   "metadata": {},
   "outputs": [],
   "source": [
    "samples = {}\n",
    "samples['Hgg'] = {}\n",
    "samples['Hgg']['files'] = {}\n",
    "samples['Hgg']['files'][entry] = {'object_path': 'Events'}"
   ]
  },
  {
   "cell_type": "code",
   "execution_count": 5,
   "id": "3939084b-bbb7-4cca-9ff9-cb856c254124",
   "metadata": {},
   "outputs": [
    {
     "data": {
      "text/plain": [
       "{'Hgg': {'files': {'/project01/ndcms/cmoore24/signal/hgg/HJ_MINLO_Pt-200ToInf_0.root': {'object_path': 'Events'}}}}"
      ]
     },
     "execution_count": 5,
     "metadata": {},
     "output_type": "execute_result"
    }
   ],
   "source": [
    "samples"
   ]
  },
  {
   "cell_type": "code",
   "execution_count": 6,
   "id": "c07b04d5-17e2-4249-aa74-42987cfac300",
   "metadata": {},
   "outputs": [],
   "source": [
    "samples_ready, samples = dataset_tools.preprocess(\n",
    "    samples,\n",
    "    step_size=50_000,\n",
    "    skip_bad_files=True,\n",
    "    recalculate_steps=True,\n",
    "    save_form=False,\n",
    ")"
   ]
  },
  {
   "cell_type": "code",
   "execution_count": 7,
   "id": "ba554beb-7a45-4fab-b5a3-97793abfee5a",
   "metadata": {},
   "outputs": [],
   "source": [
    "def repartition(samples, factor):\n",
    "    # FIXME: not actually copying\n",
    "    out = {}\n",
    "    for name, sample in samples.items():\n",
    "        out[name] = dict(sample)\n",
    "        out[name][\"files\"] = dict(out[name][\"files\"])\n",
    "        for fname, file in out[name][\"files\"].items():\n",
    "            steps = file[\"steps\"]\n",
    "            if not steps:\n",
    "                continue\n",
    "            offsets = [start for start, _ in steps]\n",
    "            offsets = offsets[::factor] + steps[-1][1:]\n",
    "            file[\"steps\"] = [\n",
    "                [start, stop]\n",
    "                for start, stop in zip(offsets, offsets[1:])\n",
    "            ]\n",
    "    return out"
   ]
  },
  {
   "cell_type": "code",
   "execution_count": 8,
   "id": "380cf6df-7eb4-4bd0-b3cb-1fd5bc473cb6",
   "metadata": {},
   "outputs": [],
   "source": [
    "def analysis(events):\n",
    "    dataset = events.metadata[\"dataset\"]\n",
    "    photonSelect = (\n",
    "        (events.FatJet.pt > 18)\n",
    "        & (abs(events.FatJet.eta) < 1.5)\n",
    "        #& (events.Photon.isScEtaEE | events.Photon.isScEtaEB)\n",
    "        #& (events.Photon.cutBased >= 1)\n",
    "    )\n",
    "    events = events[\n",
    "        ak.any(photonSelect, axis=1)\n",
    "    ]\n",
    "    skim = ak.zip(\n",
    "        {\n",
    "            \"Jets\": events.Jet,\n",
    "            # \"MET\": events.MET,\n",
    "            # \"Photon\": events.Photon,\n",
    "        },\n",
    "        depth_limit=1,\n",
    "    )\n",
    "    \n",
    "    skim_task = dak.to_parquet(\n",
    "        skim,\n",
    "        f\"./{dataset}\",\n",
    "        compute=False,\n",
    "    )\n",
    "    return skim_task"
   ]
  },
  {
   "cell_type": "code",
   "execution_count": 9,
   "id": "4447bdae-3318-4e1e-acbf-0c9d5ab67955",
   "metadata": {},
   "outputs": [
    {
     "name": "stderr",
     "output_type": "stream",
     "text": [
      "/afs/crc.nd.edu/user/c/cmoore24/miniconda3/envs/coffea2024/lib/python3.10/site-packages/coffea/nanoevents/methods/candidate.py:11: FutureWarning: In version 2024.7.0 (target date: 2024-06-30 11:59:59-05:00), this will be an error.\n",
      "To raise these warnings as errors (and get stack traces to find out where they're called), run\n",
      "    import warnings\n",
      "    warnings.filterwarnings(\"error\", module=\"coffea.*\")\n",
      "after the first `import coffea` or use `@pytest.mark.filterwarnings(\"error:::coffea.*\")` in pytest.\n",
      "Issue: coffea.nanoevents.methods.vector will be removed and replaced with scikit-hep vector. Nanoevents schemas internal to coffea will be migrated. Otherwise please consider using that package!.\n",
      "  from coffea.nanoevents.methods import vector\n"
     ]
    }
   ],
   "source": [
    "tasks = dataset_tools.apply_to_fileset(\n",
    "    analysis,\n",
    "    dataset_tools.slice_files(samples_ready, slice(None, 5)),\n",
    "    uproot_options={\"allow_read_errors_with_report\": True},\n",
    ")"
   ]
  },
  {
   "cell_type": "code",
   "execution_count": 10,
   "id": "a73fec0a-74bf-4313-a0d8-0779737e2477",
   "metadata": {},
   "outputs": [],
   "source": [
    "out, report = dask.compute(*tasks)"
   ]
  },
  {
   "cell_type": "code",
   "execution_count": 11,
   "id": "edd0e9f4-49a9-4537-a29a-ffbb1eabda3b",
   "metadata": {},
   "outputs": [
    {
     "data": {
      "text/plain": [
       "{'Hgg': None}"
      ]
     },
     "execution_count": 11,
     "metadata": {},
     "output_type": "execute_result"
    }
   ],
   "source": [
    "out"
   ]
  },
  {
   "cell_type": "code",
   "execution_count": 12,
   "id": "66192354-ebc3-41a5-91b4-5bcf6bd5f84f",
   "metadata": {},
   "outputs": [
    {
     "data": {
      "text/plain": [
       "{'Hgg': <Array [{call_time: None, duration: 1.87, ...}] type='1 * {call_time: ?unkn...'>}"
      ]
     },
     "execution_count": 12,
     "metadata": {},
     "output_type": "execute_result"
    }
   ],
   "source": [
    "report"
   ]
  },
  {
   "cell_type": "code",
   "execution_count": 27,
   "id": "41f5719d-1827-40ad-99b7-d82c90ac2efc",
   "metadata": {},
   "outputs": [],
   "source": [
    "with open('../../filelists/hgg_files.txt', 'r') as f:\n",
    "    hgg_files = [line.strip() for line in f]"
   ]
  },
  {
   "cell_type": "code",
   "execution_count": 28,
   "id": "50ebaeff-8ef1-428f-afa7-6b75f1398839",
   "metadata": {},
   "outputs": [],
   "source": [
    "lists = os.listdir('../../filelists')\n",
    "lists.remove('.ipynb_checkpoints')"
   ]
  },
  {
   "cell_type": "code",
   "execution_count": 29,
   "id": "68d5a786-66e0-42e9-ad76-a30fa082db5e",
   "metadata": {
    "scrolled": true
   },
   "outputs": [
    {
     "name": "stdout",
     "output_type": "stream",
     "text": [
      "hgg_files.txt\n",
      "hbb_files.txt\n",
      "470to600_files.txt\n",
      "800to1000_files.txt\n",
      "1400to1800_files.txt\n",
      "2400to3200_files.txt\n",
      "3200toInf_files.txt\n",
      "1000to1400_files.txt\n",
      "1800to2400_files.txt\n",
      "300to470_files.txt\n",
      "600to800_files.txt\n"
     ]
    }
   ],
   "source": [
    "dict = {}\n",
    "for i in lists:\n",
    "    with open('../../filelists/' + i, 'r') as f:\n",
    "        files = [line.strip() for line in f]\n",
    "    dict[str(i)[:-10]] = {}\n",
    "    dict[str(i)[:-10]]['files'] = {}\n",
    "    for j in files:\n",
    "        if 'hgg' in i:\n",
    "            path = '/project01/ndcms/cmoore24/signal/'\n",
    "        elif 'hbb' in i:\n",
    "            path = '/project01/ndcms/cmoore24/signal/'\n",
    "        else:\n",
    "            path = '/project01/ndcms/cmoore24/qcd/'\n",
    "        dict[str(i)[:-10]]['files'][path+i[:-10]+'/'+j] = {'object_path': 'Events'}\n",
    "    print(i)"
   ]
  },
  {
   "cell_type": "code",
   "execution_count": 30,
   "id": "02c49c35-8236-4c12-87ae-c1020966c70c",
   "metadata": {
    "scrolled": true
   },
   "outputs": [],
   "source": [
    "with open('output_datasets.json', 'w') as fin:\n",
    "    json.dump(dict, fin)"
   ]
  },
  {
   "cell_type": "code",
   "execution_count": 31,
   "id": "d7b40646-f507-43db-84f8-c205f70619f8",
   "metadata": {},
   "outputs": [],
   "source": [
    "with open('output_datasets.json', 'r') as f:\n",
    "    s2 = json.load(f)"
   ]
  },
  {
   "cell_type": "code",
   "execution_count": 32,
   "id": "1ff9b9a3-8928-4910-8c60-99fd6defc77a",
   "metadata": {},
   "outputs": [],
   "source": [
    "entry = '/project01/ndcms/cmoore24/signal/hgg/' + hgg_files[0]\n",
    "samples = {}\n",
    "samples['Hgg'] = {}\n",
    "samples['Hgg']['files'] = {}\n",
    "samples['Hgg']['files'][entry] = {'object_path': 'Events'}\n",
    "# test_ready, test = dataset_tools.preprocess(\n",
    "#     samples,\n",
    "#     step_size=50_000,\n",
    "#     skip_bad_files=True,\n",
    "#     recalculate_steps=True,\n",
    "#     save_form=False,\n",
    "# )"
   ]
  },
  {
   "cell_type": "code",
   "execution_count": 33,
   "id": "eede0771-3a8c-45b1-93dd-99a4f43553c7",
   "metadata": {
    "scrolled": true
   },
   "outputs": [
    {
     "data": {
      "text/plain": [
       "{'files': {'/project01/ndcms/cmoore24/qcd/300to470/nano_mc2017_1-1.root': {'object_path': 'Events'},\n",
       "  '/project01/ndcms/cmoore24/qcd/300to470/nano_mc2017_1-10.root': {'object_path': 'Events'},\n",
       "  '/project01/ndcms/cmoore24/qcd/300to470/nano_mc2017_1-11.root': {'object_path': 'Events'},\n",
       "  '/project01/ndcms/cmoore24/qcd/300to470/nano_mc2017_1-12.root': {'object_path': 'Events'},\n",
       "  '/project01/ndcms/cmoore24/qcd/300to470/nano_mc2017_1-13.root': {'object_path': 'Events'},\n",
       "  '/project01/ndcms/cmoore24/qcd/300to470/nano_mc2017_1-14.root': {'object_path': 'Events'},\n",
       "  '/project01/ndcms/cmoore24/qcd/300to470/nano_mc2017_1-15.root': {'object_path': 'Events'},\n",
       "  '/project01/ndcms/cmoore24/qcd/300to470/nano_mc2017_1-16.root': {'object_path': 'Events'},\n",
       "  '/project01/ndcms/cmoore24/qcd/300to470/nano_mc2017_1-17.root': {'object_path': 'Events'},\n",
       "  '/project01/ndcms/cmoore24/qcd/300to470/nano_mc2017_1-18.root': {'object_path': 'Events'},\n",
       "  '/project01/ndcms/cmoore24/qcd/300to470/nano_mc2017_1-19.root': {'object_path': 'Events'},\n",
       "  '/project01/ndcms/cmoore24/qcd/300to470/nano_mc2017_1-2.root': {'object_path': 'Events'},\n",
       "  '/project01/ndcms/cmoore24/qcd/300to470/nano_mc2017_1-20.root': {'object_path': 'Events'},\n",
       "  '/project01/ndcms/cmoore24/qcd/300to470/nano_mc2017_1-21.root': {'object_path': 'Events'},\n",
       "  '/project01/ndcms/cmoore24/qcd/300to470/nano_mc2017_1-22.root': {'object_path': 'Events'},\n",
       "  '/project01/ndcms/cmoore24/qcd/300to470/nano_mc2017_1-23.root': {'object_path': 'Events'},\n",
       "  '/project01/ndcms/cmoore24/qcd/300to470/nano_mc2017_1-24.root': {'object_path': 'Events'},\n",
       "  '/project01/ndcms/cmoore24/qcd/300to470/nano_mc2017_1-25.root': {'object_path': 'Events'},\n",
       "  '/project01/ndcms/cmoore24/qcd/300to470/nano_mc2017_1-26.root': {'object_path': 'Events'},\n",
       "  '/project01/ndcms/cmoore24/qcd/300to470/nano_mc2017_1-27.root': {'object_path': 'Events'},\n",
       "  '/project01/ndcms/cmoore24/qcd/300to470/nano_mc2017_1-28.root': {'object_path': 'Events'},\n",
       "  '/project01/ndcms/cmoore24/qcd/300to470/nano_mc2017_1-29.root': {'object_path': 'Events'},\n",
       "  '/project01/ndcms/cmoore24/qcd/300to470/nano_mc2017_1-3.root': {'object_path': 'Events'},\n",
       "  '/project01/ndcms/cmoore24/qcd/300to470/nano_mc2017_1-30.root': {'object_path': 'Events'},\n",
       "  '/project01/ndcms/cmoore24/qcd/300to470/nano_mc2017_1-31.root': {'object_path': 'Events'},\n",
       "  '/project01/ndcms/cmoore24/qcd/300to470/nano_mc2017_1-32.root': {'object_path': 'Events'},\n",
       "  '/project01/ndcms/cmoore24/qcd/300to470/nano_mc2017_1-33.root': {'object_path': 'Events'},\n",
       "  '/project01/ndcms/cmoore24/qcd/300to470/nano_mc2017_1-34.root': {'object_path': 'Events'},\n",
       "  '/project01/ndcms/cmoore24/qcd/300to470/nano_mc2017_1-35.root': {'object_path': 'Events'},\n",
       "  '/project01/ndcms/cmoore24/qcd/300to470/nano_mc2017_1-36.root': {'object_path': 'Events'},\n",
       "  '/project01/ndcms/cmoore24/qcd/300to470/nano_mc2017_1-37.root': {'object_path': 'Events'},\n",
       "  '/project01/ndcms/cmoore24/qcd/300to470/nano_mc2017_1-38.root': {'object_path': 'Events'},\n",
       "  '/project01/ndcms/cmoore24/qcd/300to470/nano_mc2017_1-39.root': {'object_path': 'Events'},\n",
       "  '/project01/ndcms/cmoore24/qcd/300to470/nano_mc2017_1-4.root': {'object_path': 'Events'},\n",
       "  '/project01/ndcms/cmoore24/qcd/300to470/nano_mc2017_1-40.root': {'object_path': 'Events'},\n",
       "  '/project01/ndcms/cmoore24/qcd/300to470/nano_mc2017_1-41.root': {'object_path': 'Events'},\n",
       "  '/project01/ndcms/cmoore24/qcd/300to470/nano_mc2017_1-42.root': {'object_path': 'Events'},\n",
       "  '/project01/ndcms/cmoore24/qcd/300to470/nano_mc2017_1-43.root': {'object_path': 'Events'},\n",
       "  '/project01/ndcms/cmoore24/qcd/300to470/nano_mc2017_1-44.root': {'object_path': 'Events'},\n",
       "  '/project01/ndcms/cmoore24/qcd/300to470/nano_mc2017_1-45.root': {'object_path': 'Events'},\n",
       "  '/project01/ndcms/cmoore24/qcd/300to470/nano_mc2017_1-46.root': {'object_path': 'Events'},\n",
       "  '/project01/ndcms/cmoore24/qcd/300to470/nano_mc2017_1-47.root': {'object_path': 'Events'},\n",
       "  '/project01/ndcms/cmoore24/qcd/300to470/nano_mc2017_1-48.root': {'object_path': 'Events'},\n",
       "  '/project01/ndcms/cmoore24/qcd/300to470/nano_mc2017_1-49.root': {'object_path': 'Events'},\n",
       "  '/project01/ndcms/cmoore24/qcd/300to470/nano_mc2017_1-5.root': {'object_path': 'Events'},\n",
       "  '/project01/ndcms/cmoore24/qcd/300to470/nano_mc2017_1-50.root': {'object_path': 'Events'},\n",
       "  '/project01/ndcms/cmoore24/qcd/300to470/nano_mc2017_1-51.root': {'object_path': 'Events'},\n",
       "  '/project01/ndcms/cmoore24/qcd/300to470/nano_mc2017_1-52.root': {'object_path': 'Events'},\n",
       "  '/project01/ndcms/cmoore24/qcd/300to470/nano_mc2017_1-53.root': {'object_path': 'Events'},\n",
       "  '/project01/ndcms/cmoore24/qcd/300to470/nano_mc2017_1-54.root': {'object_path': 'Events'},\n",
       "  '/project01/ndcms/cmoore24/qcd/300to470/nano_mc2017_1-55.root': {'object_path': 'Events'},\n",
       "  '/project01/ndcms/cmoore24/qcd/300to470/nano_mc2017_1-56.root': {'object_path': 'Events'},\n",
       "  '/project01/ndcms/cmoore24/qcd/300to470/nano_mc2017_1-57.root': {'object_path': 'Events'},\n",
       "  '/project01/ndcms/cmoore24/qcd/300to470/nano_mc2017_1-58.root': {'object_path': 'Events'},\n",
       "  '/project01/ndcms/cmoore24/qcd/300to470/nano_mc2017_1-59.root': {'object_path': 'Events'},\n",
       "  '/project01/ndcms/cmoore24/qcd/300to470/nano_mc2017_1-6.root': {'object_path': 'Events'},\n",
       "  '/project01/ndcms/cmoore24/qcd/300to470/nano_mc2017_1-60.root': {'object_path': 'Events'},\n",
       "  '/project01/ndcms/cmoore24/qcd/300to470/nano_mc2017_1-61.root': {'object_path': 'Events'},\n",
       "  '/project01/ndcms/cmoore24/qcd/300to470/nano_mc2017_1-62.root': {'object_path': 'Events'},\n",
       "  '/project01/ndcms/cmoore24/qcd/300to470/nano_mc2017_1-63.root': {'object_path': 'Events'},\n",
       "  '/project01/ndcms/cmoore24/qcd/300to470/nano_mc2017_1-64.root': {'object_path': 'Events'},\n",
       "  '/project01/ndcms/cmoore24/qcd/300to470/nano_mc2017_1-65.root': {'object_path': 'Events'},\n",
       "  '/project01/ndcms/cmoore24/qcd/300to470/nano_mc2017_1-66.root': {'object_path': 'Events'},\n",
       "  '/project01/ndcms/cmoore24/qcd/300to470/nano_mc2017_1-67.root': {'object_path': 'Events'},\n",
       "  '/project01/ndcms/cmoore24/qcd/300to470/nano_mc2017_1-68.root': {'object_path': 'Events'},\n",
       "  '/project01/ndcms/cmoore24/qcd/300to470/nano_mc2017_1-69.root': {'object_path': 'Events'},\n",
       "  '/project01/ndcms/cmoore24/qcd/300to470/nano_mc2017_1-7.root': {'object_path': 'Events'},\n",
       "  '/project01/ndcms/cmoore24/qcd/300to470/nano_mc2017_1-70.root': {'object_path': 'Events'},\n",
       "  '/project01/ndcms/cmoore24/qcd/300to470/nano_mc2017_1-71.root': {'object_path': 'Events'},\n",
       "  '/project01/ndcms/cmoore24/qcd/300to470/nano_mc2017_1-72.root': {'object_path': 'Events'},\n",
       "  '/project01/ndcms/cmoore24/qcd/300to470/nano_mc2017_1-73.root': {'object_path': 'Events'},\n",
       "  '/project01/ndcms/cmoore24/qcd/300to470/nano_mc2017_1-74.root': {'object_path': 'Events'},\n",
       "  '/project01/ndcms/cmoore24/qcd/300to470/nano_mc2017_1-75.root': {'object_path': 'Events'},\n",
       "  '/project01/ndcms/cmoore24/qcd/300to470/nano_mc2017_1-76.root': {'object_path': 'Events'},\n",
       "  '/project01/ndcms/cmoore24/qcd/300to470/nano_mc2017_1-77.root': {'object_path': 'Events'},\n",
       "  '/project01/ndcms/cmoore24/qcd/300to470/nano_mc2017_1-78.root': {'object_path': 'Events'},\n",
       "  '/project01/ndcms/cmoore24/qcd/300to470/nano_mc2017_1-79.root': {'object_path': 'Events'},\n",
       "  '/project01/ndcms/cmoore24/qcd/300to470/nano_mc2017_1-8.root': {'object_path': 'Events'},\n",
       "  '/project01/ndcms/cmoore24/qcd/300to470/nano_mc2017_1-80.root': {'object_path': 'Events'},\n",
       "  '/project01/ndcms/cmoore24/qcd/300to470/nano_mc2017_1-81.root': {'object_path': 'Events'},\n",
       "  '/project01/ndcms/cmoore24/qcd/300to470/nano_mc2017_1-82.root': {'object_path': 'Events'},\n",
       "  '/project01/ndcms/cmoore24/qcd/300to470/nano_mc2017_1-83.root': {'object_path': 'Events'},\n",
       "  '/project01/ndcms/cmoore24/qcd/300to470/nano_mc2017_1-84.root': {'object_path': 'Events'},\n",
       "  '/project01/ndcms/cmoore24/qcd/300to470/nano_mc2017_1-85.root': {'object_path': 'Events'},\n",
       "  '/project01/ndcms/cmoore24/qcd/300to470/nano_mc2017_1-86.root': {'object_path': 'Events'},\n",
       "  '/project01/ndcms/cmoore24/qcd/300to470/nano_mc2017_1-87.root': {'object_path': 'Events'},\n",
       "  '/project01/ndcms/cmoore24/qcd/300to470/nano_mc2017_1-88.root': {'object_path': 'Events'},\n",
       "  '/project01/ndcms/cmoore24/qcd/300to470/nano_mc2017_1-89.root': {'object_path': 'Events'},\n",
       "  '/project01/ndcms/cmoore24/qcd/300to470/nano_mc2017_1-9.root': {'object_path': 'Events'},\n",
       "  '/project01/ndcms/cmoore24/qcd/300to470/nano_mc2017_1-90.root': {'object_path': 'Events'},\n",
       "  '/project01/ndcms/cmoore24/qcd/300to470/nano_mc2017_1-91.root': {'object_path': 'Events'},\n",
       "  '/project01/ndcms/cmoore24/qcd/300to470/nano_mc2017_1-92.root': {'object_path': 'Events'},\n",
       "  '/project01/ndcms/cmoore24/qcd/300to470/nano_mc2017_1-93.root': {'object_path': 'Events'},\n",
       "  '/project01/ndcms/cmoore24/qcd/300to470/nano_mc2017_1-94.root': {'object_path': 'Events'},\n",
       "  '/project01/ndcms/cmoore24/qcd/300to470/nano_mc2017_1-95.root': {'object_path': 'Events'},\n",
       "  '/project01/ndcms/cmoore24/qcd/300to470/nano_mc2017_1-96.root': {'object_path': 'Events'},\n",
       "  '/project01/ndcms/cmoore24/qcd/300to470/nano_mc2017_1.root': {'object_path': 'Events'},\n",
       "  '/project01/ndcms/cmoore24/qcd/300to470/nano_mc2017_10.root': {'object_path': 'Events'},\n",
       "  '/project01/ndcms/cmoore24/qcd/300to470/nano_mc2017_100.root': {'object_path': 'Events'},\n",
       "  '/project01/ndcms/cmoore24/qcd/300to470/nano_mc2017_101.root': {'object_path': 'Events'},\n",
       "  '/project01/ndcms/cmoore24/qcd/300to470/nano_mc2017_102.root': {'object_path': 'Events'},\n",
       "  '/project01/ndcms/cmoore24/qcd/300to470/nano_mc2017_103.root': {'object_path': 'Events'},\n",
       "  '/project01/ndcms/cmoore24/qcd/300to470/nano_mc2017_104.root': {'object_path': 'Events'},\n",
       "  '/project01/ndcms/cmoore24/qcd/300to470/nano_mc2017_106.root': {'object_path': 'Events'},\n",
       "  '/project01/ndcms/cmoore24/qcd/300to470/nano_mc2017_107.root': {'object_path': 'Events'},\n",
       "  '/project01/ndcms/cmoore24/qcd/300to470/nano_mc2017_108.root': {'object_path': 'Events'},\n",
       "  '/project01/ndcms/cmoore24/qcd/300to470/nano_mc2017_109.root': {'object_path': 'Events'},\n",
       "  '/project01/ndcms/cmoore24/qcd/300to470/nano_mc2017_11.root': {'object_path': 'Events'},\n",
       "  '/project01/ndcms/cmoore24/qcd/300to470/nano_mc2017_110.root': {'object_path': 'Events'},\n",
       "  '/project01/ndcms/cmoore24/qcd/300to470/nano_mc2017_111.root': {'object_path': 'Events'},\n",
       "  '/project01/ndcms/cmoore24/qcd/300to470/nano_mc2017_112.root': {'object_path': 'Events'},\n",
       "  '/project01/ndcms/cmoore24/qcd/300to470/nano_mc2017_113.root': {'object_path': 'Events'},\n",
       "  '/project01/ndcms/cmoore24/qcd/300to470/nano_mc2017_114.root': {'object_path': 'Events'},\n",
       "  '/project01/ndcms/cmoore24/qcd/300to470/nano_mc2017_115.root': {'object_path': 'Events'},\n",
       "  '/project01/ndcms/cmoore24/qcd/300to470/nano_mc2017_116.root': {'object_path': 'Events'},\n",
       "  '/project01/ndcms/cmoore24/qcd/300to470/nano_mc2017_117.root': {'object_path': 'Events'},\n",
       "  '/project01/ndcms/cmoore24/qcd/300to470/nano_mc2017_118.root': {'object_path': 'Events'},\n",
       "  '/project01/ndcms/cmoore24/qcd/300to470/nano_mc2017_119.root': {'object_path': 'Events'},\n",
       "  '/project01/ndcms/cmoore24/qcd/300to470/nano_mc2017_12.root': {'object_path': 'Events'},\n",
       "  '/project01/ndcms/cmoore24/qcd/300to470/nano_mc2017_120.root': {'object_path': 'Events'},\n",
       "  '/project01/ndcms/cmoore24/qcd/300to470/nano_mc2017_121.root': {'object_path': 'Events'},\n",
       "  '/project01/ndcms/cmoore24/qcd/300to470/nano_mc2017_122.root': {'object_path': 'Events'},\n",
       "  '/project01/ndcms/cmoore24/qcd/300to470/nano_mc2017_123.root': {'object_path': 'Events'},\n",
       "  '/project01/ndcms/cmoore24/qcd/300to470/nano_mc2017_124.root': {'object_path': 'Events'},\n",
       "  '/project01/ndcms/cmoore24/qcd/300to470/nano_mc2017_125.root': {'object_path': 'Events'},\n",
       "  '/project01/ndcms/cmoore24/qcd/300to470/nano_mc2017_126.root': {'object_path': 'Events'},\n",
       "  '/project01/ndcms/cmoore24/qcd/300to470/nano_mc2017_127.root': {'object_path': 'Events'},\n",
       "  '/project01/ndcms/cmoore24/qcd/300to470/nano_mc2017_128.root': {'object_path': 'Events'},\n",
       "  '/project01/ndcms/cmoore24/qcd/300to470/nano_mc2017_129.root': {'object_path': 'Events'},\n",
       "  '/project01/ndcms/cmoore24/qcd/300to470/nano_mc2017_13.root': {'object_path': 'Events'},\n",
       "  '/project01/ndcms/cmoore24/qcd/300to470/nano_mc2017_131.root': {'object_path': 'Events'},\n",
       "  '/project01/ndcms/cmoore24/qcd/300to470/nano_mc2017_132.root': {'object_path': 'Events'},\n",
       "  '/project01/ndcms/cmoore24/qcd/300to470/nano_mc2017_133.root': {'object_path': 'Events'},\n",
       "  '/project01/ndcms/cmoore24/qcd/300to470/nano_mc2017_134.root': {'object_path': 'Events'},\n",
       "  '/project01/ndcms/cmoore24/qcd/300to470/nano_mc2017_135.root': {'object_path': 'Events'},\n",
       "  '/project01/ndcms/cmoore24/qcd/300to470/nano_mc2017_136.root': {'object_path': 'Events'},\n",
       "  '/project01/ndcms/cmoore24/qcd/300to470/nano_mc2017_137.root': {'object_path': 'Events'},\n",
       "  '/project01/ndcms/cmoore24/qcd/300to470/nano_mc2017_138.root': {'object_path': 'Events'},\n",
       "  '/project01/ndcms/cmoore24/qcd/300to470/nano_mc2017_139.root': {'object_path': 'Events'},\n",
       "  '/project01/ndcms/cmoore24/qcd/300to470/nano_mc2017_14.root': {'object_path': 'Events'},\n",
       "  '/project01/ndcms/cmoore24/qcd/300to470/nano_mc2017_141.root': {'object_path': 'Events'},\n",
       "  '/project01/ndcms/cmoore24/qcd/300to470/nano_mc2017_142.root': {'object_path': 'Events'},\n",
       "  '/project01/ndcms/cmoore24/qcd/300to470/nano_mc2017_143.root': {'object_path': 'Events'},\n",
       "  '/project01/ndcms/cmoore24/qcd/300to470/nano_mc2017_144.root': {'object_path': 'Events'},\n",
       "  '/project01/ndcms/cmoore24/qcd/300to470/nano_mc2017_147.root': {'object_path': 'Events'},\n",
       "  '/project01/ndcms/cmoore24/qcd/300to470/nano_mc2017_148.root': {'object_path': 'Events'},\n",
       "  '/project01/ndcms/cmoore24/qcd/300to470/nano_mc2017_15.root': {'object_path': 'Events'},\n",
       "  '/project01/ndcms/cmoore24/qcd/300to470/nano_mc2017_16.root': {'object_path': 'Events'},\n",
       "  '/project01/ndcms/cmoore24/qcd/300to470/nano_mc2017_17.root': {'object_path': 'Events'},\n",
       "  '/project01/ndcms/cmoore24/qcd/300to470/nano_mc2017_18.root': {'object_path': 'Events'},\n",
       "  '/project01/ndcms/cmoore24/qcd/300to470/nano_mc2017_19.root': {'object_path': 'Events'},\n",
       "  '/project01/ndcms/cmoore24/qcd/300to470/nano_mc2017_2-1.root': {'object_path': 'Events'},\n",
       "  '/project01/ndcms/cmoore24/qcd/300to470/nano_mc2017_2-10.root': {'object_path': 'Events'},\n",
       "  '/project01/ndcms/cmoore24/qcd/300to470/nano_mc2017_2-11.root': {'object_path': 'Events'},\n",
       "  '/project01/ndcms/cmoore24/qcd/300to470/nano_mc2017_2-12.root': {'object_path': 'Events'},\n",
       "  '/project01/ndcms/cmoore24/qcd/300to470/nano_mc2017_2-13.root': {'object_path': 'Events'},\n",
       "  '/project01/ndcms/cmoore24/qcd/300to470/nano_mc2017_2-14.root': {'object_path': 'Events'},\n",
       "  '/project01/ndcms/cmoore24/qcd/300to470/nano_mc2017_2-15.root': {'object_path': 'Events'},\n",
       "  '/project01/ndcms/cmoore24/qcd/300to470/nano_mc2017_2-16.root': {'object_path': 'Events'},\n",
       "  '/project01/ndcms/cmoore24/qcd/300to470/nano_mc2017_2-17.root': {'object_path': 'Events'},\n",
       "  '/project01/ndcms/cmoore24/qcd/300to470/nano_mc2017_2-18.root': {'object_path': 'Events'},\n",
       "  '/project01/ndcms/cmoore24/qcd/300to470/nano_mc2017_2-19.root': {'object_path': 'Events'},\n",
       "  '/project01/ndcms/cmoore24/qcd/300to470/nano_mc2017_2-2.root': {'object_path': 'Events'},\n",
       "  '/project01/ndcms/cmoore24/qcd/300to470/nano_mc2017_2-20.root': {'object_path': 'Events'},\n",
       "  '/project01/ndcms/cmoore24/qcd/300to470/nano_mc2017_2-21.root': {'object_path': 'Events'},\n",
       "  '/project01/ndcms/cmoore24/qcd/300to470/nano_mc2017_2-22.root': {'object_path': 'Events'},\n",
       "  '/project01/ndcms/cmoore24/qcd/300to470/nano_mc2017_2-23.root': {'object_path': 'Events'},\n",
       "  '/project01/ndcms/cmoore24/qcd/300to470/nano_mc2017_2-24.root': {'object_path': 'Events'},\n",
       "  '/project01/ndcms/cmoore24/qcd/300to470/nano_mc2017_2-25.root': {'object_path': 'Events'},\n",
       "  '/project01/ndcms/cmoore24/qcd/300to470/nano_mc2017_2-26.root': {'object_path': 'Events'},\n",
       "  '/project01/ndcms/cmoore24/qcd/300to470/nano_mc2017_2-27.root': {'object_path': 'Events'},\n",
       "  '/project01/ndcms/cmoore24/qcd/300to470/nano_mc2017_2-28.root': {'object_path': 'Events'},\n",
       "  '/project01/ndcms/cmoore24/qcd/300to470/nano_mc2017_2-29.root': {'object_path': 'Events'},\n",
       "  '/project01/ndcms/cmoore24/qcd/300to470/nano_mc2017_2-3.root': {'object_path': 'Events'},\n",
       "  '/project01/ndcms/cmoore24/qcd/300to470/nano_mc2017_2-30.root': {'object_path': 'Events'},\n",
       "  '/project01/ndcms/cmoore24/qcd/300to470/nano_mc2017_2-31.root': {'object_path': 'Events'},\n",
       "  '/project01/ndcms/cmoore24/qcd/300to470/nano_mc2017_2-32.root': {'object_path': 'Events'},\n",
       "  '/project01/ndcms/cmoore24/qcd/300to470/nano_mc2017_2-33.root': {'object_path': 'Events'},\n",
       "  '/project01/ndcms/cmoore24/qcd/300to470/nano_mc2017_2-34.root': {'object_path': 'Events'},\n",
       "  '/project01/ndcms/cmoore24/qcd/300to470/nano_mc2017_2-35.root': {'object_path': 'Events'},\n",
       "  '/project01/ndcms/cmoore24/qcd/300to470/nano_mc2017_2-36.root': {'object_path': 'Events'},\n",
       "  '/project01/ndcms/cmoore24/qcd/300to470/nano_mc2017_2-37.root': {'object_path': 'Events'},\n",
       "  '/project01/ndcms/cmoore24/qcd/300to470/nano_mc2017_2-38.root': {'object_path': 'Events'},\n",
       "  '/project01/ndcms/cmoore24/qcd/300to470/nano_mc2017_2-39.root': {'object_path': 'Events'},\n",
       "  '/project01/ndcms/cmoore24/qcd/300to470/nano_mc2017_2-4.root': {'object_path': 'Events'},\n",
       "  '/project01/ndcms/cmoore24/qcd/300to470/nano_mc2017_2-40.root': {'object_path': 'Events'},\n",
       "  '/project01/ndcms/cmoore24/qcd/300to470/nano_mc2017_2-41.root': {'object_path': 'Events'},\n",
       "  '/project01/ndcms/cmoore24/qcd/300to470/nano_mc2017_2-42.root': {'object_path': 'Events'},\n",
       "  '/project01/ndcms/cmoore24/qcd/300to470/nano_mc2017_2-43.root': {'object_path': 'Events'},\n",
       "  '/project01/ndcms/cmoore24/qcd/300to470/nano_mc2017_2-44.root': {'object_path': 'Events'},\n",
       "  '/project01/ndcms/cmoore24/qcd/300to470/nano_mc2017_2-45.root': {'object_path': 'Events'},\n",
       "  '/project01/ndcms/cmoore24/qcd/300to470/nano_mc2017_2-46.root': {'object_path': 'Events'},\n",
       "  '/project01/ndcms/cmoore24/qcd/300to470/nano_mc2017_2-47.root': {'object_path': 'Events'},\n",
       "  '/project01/ndcms/cmoore24/qcd/300to470/nano_mc2017_2-48.root': {'object_path': 'Events'},\n",
       "  '/project01/ndcms/cmoore24/qcd/300to470/nano_mc2017_2-49.root': {'object_path': 'Events'},\n",
       "  '/project01/ndcms/cmoore24/qcd/300to470/nano_mc2017_2-5.root': {'object_path': 'Events'},\n",
       "  '/project01/ndcms/cmoore24/qcd/300to470/nano_mc2017_2-50.root': {'object_path': 'Events'},\n",
       "  '/project01/ndcms/cmoore24/qcd/300to470/nano_mc2017_2-51.root': {'object_path': 'Events'},\n",
       "  '/project01/ndcms/cmoore24/qcd/300to470/nano_mc2017_2-52.root': {'object_path': 'Events'},\n",
       "  '/project01/ndcms/cmoore24/qcd/300to470/nano_mc2017_2-53.root': {'object_path': 'Events'},\n",
       "  '/project01/ndcms/cmoore24/qcd/300to470/nano_mc2017_2-54.root': {'object_path': 'Events'},\n",
       "  '/project01/ndcms/cmoore24/qcd/300to470/nano_mc2017_2-55.root': {'object_path': 'Events'},\n",
       "  '/project01/ndcms/cmoore24/qcd/300to470/nano_mc2017_2-56.root': {'object_path': 'Events'},\n",
       "  '/project01/ndcms/cmoore24/qcd/300to470/nano_mc2017_2-57.root': {'object_path': 'Events'},\n",
       "  '/project01/ndcms/cmoore24/qcd/300to470/nano_mc2017_2-58.root': {'object_path': 'Events'},\n",
       "  '/project01/ndcms/cmoore24/qcd/300to470/nano_mc2017_2-59.root': {'object_path': 'Events'},\n",
       "  '/project01/ndcms/cmoore24/qcd/300to470/nano_mc2017_2-6.root': {'object_path': 'Events'},\n",
       "  '/project01/ndcms/cmoore24/qcd/300to470/nano_mc2017_2-60.root': {'object_path': 'Events'},\n",
       "  '/project01/ndcms/cmoore24/qcd/300to470/nano_mc2017_2-61.root': {'object_path': 'Events'},\n",
       "  '/project01/ndcms/cmoore24/qcd/300to470/nano_mc2017_2-62.root': {'object_path': 'Events'},\n",
       "  '/project01/ndcms/cmoore24/qcd/300to470/nano_mc2017_2-63.root': {'object_path': 'Events'},\n",
       "  '/project01/ndcms/cmoore24/qcd/300to470/nano_mc2017_2-64.root': {'object_path': 'Events'},\n",
       "  '/project01/ndcms/cmoore24/qcd/300to470/nano_mc2017_2-65.root': {'object_path': 'Events'},\n",
       "  '/project01/ndcms/cmoore24/qcd/300to470/nano_mc2017_2-66.root': {'object_path': 'Events'},\n",
       "  '/project01/ndcms/cmoore24/qcd/300to470/nano_mc2017_2-67.root': {'object_path': 'Events'},\n",
       "  '/project01/ndcms/cmoore24/qcd/300to470/nano_mc2017_2-68.root': {'object_path': 'Events'},\n",
       "  '/project01/ndcms/cmoore24/qcd/300to470/nano_mc2017_2-7.root': {'object_path': 'Events'},\n",
       "  '/project01/ndcms/cmoore24/qcd/300to470/nano_mc2017_2-8.root': {'object_path': 'Events'},\n",
       "  '/project01/ndcms/cmoore24/qcd/300to470/nano_mc2017_2-9.root': {'object_path': 'Events'},\n",
       "  '/project01/ndcms/cmoore24/qcd/300to470/nano_mc2017_2.root': {'object_path': 'Events'},\n",
       "  '/project01/ndcms/cmoore24/qcd/300to470/nano_mc2017_20.root': {'object_path': 'Events'},\n",
       "  '/project01/ndcms/cmoore24/qcd/300to470/nano_mc2017_21.root': {'object_path': 'Events'},\n",
       "  '/project01/ndcms/cmoore24/qcd/300to470/nano_mc2017_22.root': {'object_path': 'Events'},\n",
       "  '/project01/ndcms/cmoore24/qcd/300to470/nano_mc2017_23.root': {'object_path': 'Events'},\n",
       "  '/project01/ndcms/cmoore24/qcd/300to470/nano_mc2017_24.root': {'object_path': 'Events'},\n",
       "  '/project01/ndcms/cmoore24/qcd/300to470/nano_mc2017_25.root': {'object_path': 'Events'},\n",
       "  '/project01/ndcms/cmoore24/qcd/300to470/nano_mc2017_26.root': {'object_path': 'Events'},\n",
       "  '/project01/ndcms/cmoore24/qcd/300to470/nano_mc2017_27.root': {'object_path': 'Events'},\n",
       "  '/project01/ndcms/cmoore24/qcd/300to470/nano_mc2017_28.root': {'object_path': 'Events'},\n",
       "  '/project01/ndcms/cmoore24/qcd/300to470/nano_mc2017_29.root': {'object_path': 'Events'},\n",
       "  '/project01/ndcms/cmoore24/qcd/300to470/nano_mc2017_3-1.root': {'object_path': 'Events'},\n",
       "  '/project01/ndcms/cmoore24/qcd/300to470/nano_mc2017_3-10.root': {'object_path': 'Events'},\n",
       "  '/project01/ndcms/cmoore24/qcd/300to470/nano_mc2017_3-11.root': {'object_path': 'Events'},\n",
       "  '/project01/ndcms/cmoore24/qcd/300to470/nano_mc2017_3-12.root': {'object_path': 'Events'},\n",
       "  '/project01/ndcms/cmoore24/qcd/300to470/nano_mc2017_3-13.root': {'object_path': 'Events'},\n",
       "  '/project01/ndcms/cmoore24/qcd/300to470/nano_mc2017_3-14.root': {'object_path': 'Events'},\n",
       "  '/project01/ndcms/cmoore24/qcd/300to470/nano_mc2017_3-15.root': {'object_path': 'Events'},\n",
       "  '/project01/ndcms/cmoore24/qcd/300to470/nano_mc2017_3-16.root': {'object_path': 'Events'},\n",
       "  '/project01/ndcms/cmoore24/qcd/300to470/nano_mc2017_3-17.root': {'object_path': 'Events'},\n",
       "  '/project01/ndcms/cmoore24/qcd/300to470/nano_mc2017_3-18.root': {'object_path': 'Events'},\n",
       "  '/project01/ndcms/cmoore24/qcd/300to470/nano_mc2017_3-19.root': {'object_path': 'Events'},\n",
       "  '/project01/ndcms/cmoore24/qcd/300to470/nano_mc2017_3-2.root': {'object_path': 'Events'},\n",
       "  '/project01/ndcms/cmoore24/qcd/300to470/nano_mc2017_3-20.root': {'object_path': 'Events'},\n",
       "  '/project01/ndcms/cmoore24/qcd/300to470/nano_mc2017_3-21.root': {'object_path': 'Events'},\n",
       "  '/project01/ndcms/cmoore24/qcd/300to470/nano_mc2017_3-22.root': {'object_path': 'Events'},\n",
       "  '/project01/ndcms/cmoore24/qcd/300to470/nano_mc2017_3-23.root': {'object_path': 'Events'},\n",
       "  '/project01/ndcms/cmoore24/qcd/300to470/nano_mc2017_3-24.root': {'object_path': 'Events'},\n",
       "  '/project01/ndcms/cmoore24/qcd/300to470/nano_mc2017_3-25.root': {'object_path': 'Events'},\n",
       "  '/project01/ndcms/cmoore24/qcd/300to470/nano_mc2017_3-26.root': {'object_path': 'Events'},\n",
       "  '/project01/ndcms/cmoore24/qcd/300to470/nano_mc2017_3-27.root': {'object_path': 'Events'},\n",
       "  '/project01/ndcms/cmoore24/qcd/300to470/nano_mc2017_3-3.root': {'object_path': 'Events'},\n",
       "  '/project01/ndcms/cmoore24/qcd/300to470/nano_mc2017_3-4.root': {'object_path': 'Events'},\n",
       "  '/project01/ndcms/cmoore24/qcd/300to470/nano_mc2017_3-5.root': {'object_path': 'Events'},\n",
       "  '/project01/ndcms/cmoore24/qcd/300to470/nano_mc2017_3-6.root': {'object_path': 'Events'},\n",
       "  '/project01/ndcms/cmoore24/qcd/300to470/nano_mc2017_3-7.root': {'object_path': 'Events'},\n",
       "  '/project01/ndcms/cmoore24/qcd/300to470/nano_mc2017_3-8.root': {'object_path': 'Events'},\n",
       "  '/project01/ndcms/cmoore24/qcd/300to470/nano_mc2017_3-9.root': {'object_path': 'Events'},\n",
       "  '/project01/ndcms/cmoore24/qcd/300to470/nano_mc2017_3.root': {'object_path': 'Events'},\n",
       "  '/project01/ndcms/cmoore24/qcd/300to470/nano_mc2017_30.root': {'object_path': 'Events'},\n",
       "  '/project01/ndcms/cmoore24/qcd/300to470/nano_mc2017_31.root': {'object_path': 'Events'},\n",
       "  '/project01/ndcms/cmoore24/qcd/300to470/nano_mc2017_32.root': {'object_path': 'Events'},\n",
       "  '/project01/ndcms/cmoore24/qcd/300to470/nano_mc2017_33.root': {'object_path': 'Events'},\n",
       "  '/project01/ndcms/cmoore24/qcd/300to470/nano_mc2017_34.root': {'object_path': 'Events'},\n",
       "  '/project01/ndcms/cmoore24/qcd/300to470/nano_mc2017_35.root': {'object_path': 'Events'},\n",
       "  '/project01/ndcms/cmoore24/qcd/300to470/nano_mc2017_36.root': {'object_path': 'Events'},\n",
       "  '/project01/ndcms/cmoore24/qcd/300to470/nano_mc2017_37.root': {'object_path': 'Events'},\n",
       "  '/project01/ndcms/cmoore24/qcd/300to470/nano_mc2017_38.root': {'object_path': 'Events'},\n",
       "  '/project01/ndcms/cmoore24/qcd/300to470/nano_mc2017_39.root': {'object_path': 'Events'},\n",
       "  '/project01/ndcms/cmoore24/qcd/300to470/nano_mc2017_4.root': {'object_path': 'Events'},\n",
       "  '/project01/ndcms/cmoore24/qcd/300to470/nano_mc2017_40.root': {'object_path': 'Events'},\n",
       "  '/project01/ndcms/cmoore24/qcd/300to470/nano_mc2017_41.root': {'object_path': 'Events'},\n",
       "  '/project01/ndcms/cmoore24/qcd/300to470/nano_mc2017_42.root': {'object_path': 'Events'},\n",
       "  '/project01/ndcms/cmoore24/qcd/300to470/nano_mc2017_43.root': {'object_path': 'Events'},\n",
       "  '/project01/ndcms/cmoore24/qcd/300to470/nano_mc2017_44.root': {'object_path': 'Events'},\n",
       "  '/project01/ndcms/cmoore24/qcd/300to470/nano_mc2017_46.root': {'object_path': 'Events'},\n",
       "  '/project01/ndcms/cmoore24/qcd/300to470/nano_mc2017_47.root': {'object_path': 'Events'},\n",
       "  '/project01/ndcms/cmoore24/qcd/300to470/nano_mc2017_48.root': {'object_path': 'Events'},\n",
       "  '/project01/ndcms/cmoore24/qcd/300to470/nano_mc2017_49.root': {'object_path': 'Events'},\n",
       "  '/project01/ndcms/cmoore24/qcd/300to470/nano_mc2017_5.root': {'object_path': 'Events'},\n",
       "  '/project01/ndcms/cmoore24/qcd/300to470/nano_mc2017_50.root': {'object_path': 'Events'},\n",
       "  '/project01/ndcms/cmoore24/qcd/300to470/nano_mc2017_51.root': {'object_path': 'Events'},\n",
       "  '/project01/ndcms/cmoore24/qcd/300to470/nano_mc2017_52.root': {'object_path': 'Events'},\n",
       "  '/project01/ndcms/cmoore24/qcd/300to470/nano_mc2017_53.root': {'object_path': 'Events'},\n",
       "  '/project01/ndcms/cmoore24/qcd/300to470/nano_mc2017_54.root': {'object_path': 'Events'},\n",
       "  '/project01/ndcms/cmoore24/qcd/300to470/nano_mc2017_55.root': {'object_path': 'Events'},\n",
       "  '/project01/ndcms/cmoore24/qcd/300to470/nano_mc2017_57.root': {'object_path': 'Events'},\n",
       "  '/project01/ndcms/cmoore24/qcd/300to470/nano_mc2017_58.root': {'object_path': 'Events'},\n",
       "  '/project01/ndcms/cmoore24/qcd/300to470/nano_mc2017_59.root': {'object_path': 'Events'},\n",
       "  '/project01/ndcms/cmoore24/qcd/300to470/nano_mc2017_6.root': {'object_path': 'Events'},\n",
       "  '/project01/ndcms/cmoore24/qcd/300to470/nano_mc2017_60.root': {'object_path': 'Events'},\n",
       "  '/project01/ndcms/cmoore24/qcd/300to470/nano_mc2017_61.root': {'object_path': 'Events'},\n",
       "  '/project01/ndcms/cmoore24/qcd/300to470/nano_mc2017_62.root': {'object_path': 'Events'},\n",
       "  '/project01/ndcms/cmoore24/qcd/300to470/nano_mc2017_63.root': {'object_path': 'Events'},\n",
       "  '/project01/ndcms/cmoore24/qcd/300to470/nano_mc2017_64.root': {'object_path': 'Events'},\n",
       "  '/project01/ndcms/cmoore24/qcd/300to470/nano_mc2017_65.root': {'object_path': 'Events'},\n",
       "  '/project01/ndcms/cmoore24/qcd/300to470/nano_mc2017_66.root': {'object_path': 'Events'},\n",
       "  '/project01/ndcms/cmoore24/qcd/300to470/nano_mc2017_67.root': {'object_path': 'Events'},\n",
       "  '/project01/ndcms/cmoore24/qcd/300to470/nano_mc2017_68.root': {'object_path': 'Events'},\n",
       "  '/project01/ndcms/cmoore24/qcd/300to470/nano_mc2017_69.root': {'object_path': 'Events'},\n",
       "  '/project01/ndcms/cmoore24/qcd/300to470/nano_mc2017_7.root': {'object_path': 'Events'},\n",
       "  '/project01/ndcms/cmoore24/qcd/300to470/nano_mc2017_70.root': {'object_path': 'Events'},\n",
       "  '/project01/ndcms/cmoore24/qcd/300to470/nano_mc2017_71.root': {'object_path': 'Events'},\n",
       "  '/project01/ndcms/cmoore24/qcd/300to470/nano_mc2017_72.root': {'object_path': 'Events'},\n",
       "  '/project01/ndcms/cmoore24/qcd/300to470/nano_mc2017_73.root': {'object_path': 'Events'},\n",
       "  '/project01/ndcms/cmoore24/qcd/300to470/nano_mc2017_74.root': {'object_path': 'Events'},\n",
       "  '/project01/ndcms/cmoore24/qcd/300to470/nano_mc2017_75.root': {'object_path': 'Events'},\n",
       "  '/project01/ndcms/cmoore24/qcd/300to470/nano_mc2017_76.root': {'object_path': 'Events'},\n",
       "  '/project01/ndcms/cmoore24/qcd/300to470/nano_mc2017_77.root': {'object_path': 'Events'},\n",
       "  '/project01/ndcms/cmoore24/qcd/300to470/nano_mc2017_78.root': {'object_path': 'Events'},\n",
       "  '/project01/ndcms/cmoore24/qcd/300to470/nano_mc2017_79.root': {'object_path': 'Events'},\n",
       "  '/project01/ndcms/cmoore24/qcd/300to470/nano_mc2017_8.root': {'object_path': 'Events'},\n",
       "  '/project01/ndcms/cmoore24/qcd/300to470/nano_mc2017_82.root': {'object_path': 'Events'},\n",
       "  '/project01/ndcms/cmoore24/qcd/300to470/nano_mc2017_83.root': {'object_path': 'Events'},\n",
       "  '/project01/ndcms/cmoore24/qcd/300to470/nano_mc2017_84.root': {'object_path': 'Events'},\n",
       "  '/project01/ndcms/cmoore24/qcd/300to470/nano_mc2017_85.root': {'object_path': 'Events'},\n",
       "  '/project01/ndcms/cmoore24/qcd/300to470/nano_mc2017_87.root': {'object_path': 'Events'},\n",
       "  '/project01/ndcms/cmoore24/qcd/300to470/nano_mc2017_88.root': {'object_path': 'Events'},\n",
       "  '/project01/ndcms/cmoore24/qcd/300to470/nano_mc2017_89.root': {'object_path': 'Events'},\n",
       "  '/project01/ndcms/cmoore24/qcd/300to470/nano_mc2017_9.root': {'object_path': 'Events'},\n",
       "  '/project01/ndcms/cmoore24/qcd/300to470/nano_mc2017_90.root': {'object_path': 'Events'},\n",
       "  '/project01/ndcms/cmoore24/qcd/300to470/nano_mc2017_91.root': {'object_path': 'Events'},\n",
       "  '/project01/ndcms/cmoore24/qcd/300to470/nano_mc2017_92.root': {'object_path': 'Events'},\n",
       "  '/project01/ndcms/cmoore24/qcd/300to470/nano_mc2017_93.root': {'object_path': 'Events'},\n",
       "  '/project01/ndcms/cmoore24/qcd/300to470/nano_mc2017_94.root': {'object_path': 'Events'},\n",
       "  '/project01/ndcms/cmoore24/qcd/300to470/nano_mc2017_95.root': {'object_path': 'Events'},\n",
       "  '/project01/ndcms/cmoore24/qcd/300to470/nano_mc2017_96.root': {'object_path': 'Events'},\n",
       "  '/project01/ndcms/cmoore24/qcd/300to470/nano_mc2017_97.root': {'object_path': 'Events'},\n",
       "  '/project01/ndcms/cmoore24/qcd/300to470/nano_mc2017_98.root': {'object_path': 'Events'},\n",
       "  '/project01/ndcms/cmoore24/qcd/300to470/nano_mc2017_99.root': {'object_path': 'Events'}}}"
      ]
     },
     "execution_count": 33,
     "metadata": {},
     "output_type": "execute_result"
    }
   ],
   "source": [
    "s2['300to470']"
   ]
  },
  {
   "cell_type": "code",
   "execution_count": 83,
   "id": "ba9cf3d4-41c4-49e4-9c89-7400c04ba948",
   "metadata": {},
   "outputs": [],
   "source": [
    "test = {}\n",
    "test['hbb'] = s2['hbb']"
   ]
  },
  {
   "cell_type": "code",
   "execution_count": 79,
   "id": "8d0013f9-a366-4df0-8410-b42fc923c159",
   "metadata": {},
   "outputs": [
    {
     "data": {
      "text/plain": [
       "{'Hgg': {'files': {'/project01/ndcms/cmoore24/signal/hgg/HJ_MINLO_Pt-200ToInf_0.root': {'object_path': 'Events'}}}}"
      ]
     },
     "execution_count": 79,
     "metadata": {},
     "output_type": "execute_result"
    }
   ],
   "source": [
    "samples"
   ]
  },
  {
   "cell_type": "code",
   "execution_count": 84,
   "id": "93a165dd-183a-4b77-ab0f-ea1e552db2d0",
   "metadata": {},
   "outputs": [
    {
     "data": {
      "text/plain": [
       "{'hbb': {'files': {'/project01/ndcms/cmoore24/signal/hbb/nano_mc2017_1-1.root': {'object_path': 'Events'},\n",
       "   '/project01/ndcms/cmoore24/signal/hbb/nano_mc2017_1-2.root': {'object_path': 'Events'},\n",
       "   '/project01/ndcms/cmoore24/signal/hbb/nano_mc2017_1.root': {'object_path': 'Events'},\n",
       "   '/project01/ndcms/cmoore24/signal/hbb/nano_mc2017_10.root': {'object_path': 'Events'},\n",
       "   '/project01/ndcms/cmoore24/signal/hbb/nano_mc2017_11.root': {'object_path': 'Events'},\n",
       "   '/project01/ndcms/cmoore24/signal/hbb/nano_mc2017_12.root': {'object_path': 'Events'},\n",
       "   '/project01/ndcms/cmoore24/signal/hbb/nano_mc2017_14.root': {'object_path': 'Events'},\n",
       "   '/project01/ndcms/cmoore24/signal/hbb/nano_mc2017_15.root': {'object_path': 'Events'},\n",
       "   '/project01/ndcms/cmoore24/signal/hbb/nano_mc2017_16.root': {'object_path': 'Events'},\n",
       "   '/project01/ndcms/cmoore24/signal/hbb/nano_mc2017_17.root': {'object_path': 'Events'},\n",
       "   '/project01/ndcms/cmoore24/signal/hbb/nano_mc2017_18.root': {'object_path': 'Events'},\n",
       "   '/project01/ndcms/cmoore24/signal/hbb/nano_mc2017_19.root': {'object_path': 'Events'},\n",
       "   '/project01/ndcms/cmoore24/signal/hbb/nano_mc2017_2.root': {'object_path': 'Events'},\n",
       "   '/project01/ndcms/cmoore24/signal/hbb/nano_mc2017_20.root': {'object_path': 'Events'},\n",
       "   '/project01/ndcms/cmoore24/signal/hbb/nano_mc2017_21.root': {'object_path': 'Events'},\n",
       "   '/project01/ndcms/cmoore24/signal/hbb/nano_mc2017_22.root': {'object_path': 'Events'},\n",
       "   '/project01/ndcms/cmoore24/signal/hbb/nano_mc2017_23.root': {'object_path': 'Events'},\n",
       "   '/project01/ndcms/cmoore24/signal/hbb/nano_mc2017_24.root': {'object_path': 'Events'},\n",
       "   '/project01/ndcms/cmoore24/signal/hbb/nano_mc2017_25.root': {'object_path': 'Events'},\n",
       "   '/project01/ndcms/cmoore24/signal/hbb/nano_mc2017_3.root': {'object_path': 'Events'},\n",
       "   '/project01/ndcms/cmoore24/signal/hbb/nano_mc2017_4.root': {'object_path': 'Events'},\n",
       "   '/project01/ndcms/cmoore24/signal/hbb/nano_mc2017_6.root': {'object_path': 'Events'},\n",
       "   '/project01/ndcms/cmoore24/signal/hbb/nano_mc2017_7.root': {'object_path': 'Events'},\n",
       "   '/project01/ndcms/cmoore24/signal/hbb/nano_mc2017_8.root': {'object_path': 'Events'},\n",
       "   '/project01/ndcms/cmoore24/signal/hbb/nano_mc2017_9.root': {'object_path': 'Events'}}}}"
      ]
     },
     "execution_count": 84,
     "metadata": {},
     "output_type": "execute_result"
    }
   ],
   "source": [
    "test"
   ]
  },
  {
   "cell_type": "code",
   "execution_count": 81,
   "id": "088fe191-798c-4759-bd9c-ac02e5149dd3",
   "metadata": {},
   "outputs": [],
   "source": [
    "test_ready, test = dataset_tools.preprocess(\n",
    "    test,\n",
    "    step_size=50_000,\n",
    "    skip_bad_files=True,\n",
    "    recalculate_steps=True,\n",
    "    save_form=False,\n",
    ")"
   ]
  },
  {
   "cell_type": "code",
   "execution_count": 82,
   "id": "b61418ac-6d43-44a0-a121-08df52f9afae",
   "metadata": {},
   "outputs": [],
   "source": [
    "@dask.delayed\n",
    "def preprocess(set):\n",
    "    preproed = dataset_tools.preprocess(\n",
    "        set,\n",
    "        step_size=50_000,\n",
    "        skip_bad_files=True,\n",
    "        recalculate_steps=True,\n",
    "        save_form=False,\n",
    "    )\n",
    "    return preproed"
   ]
  },
  {
   "cell_type": "code",
   "execution_count": 85,
   "id": "203a8493-98f5-4d2f-a7af-1b74b78941d5",
   "metadata": {},
   "outputs": [
    {
     "ename": "TypeError",
     "evalue": "Delayed objects of unspecified length are not iterable",
     "output_type": "error",
     "traceback": [
      "\u001b[0;31m---------------------------------------------------------------------------\u001b[0m",
      "\u001b[0;31mTypeError\u001b[0m                                 Traceback (most recent call last)",
      "Cell \u001b[0;32mIn[85], line 1\u001b[0m\n\u001b[0;32m----> 1\u001b[0m test_ready, test \u001b[38;5;241m=\u001b[39m preprocess(test)\n",
      "File \u001b[0;32m~/miniconda3/envs/coffea2024/lib/python3.10/site-packages/dask/delayed.py:629\u001b[0m, in \u001b[0;36mDelayed.__iter__\u001b[0;34m(self)\u001b[0m\n\u001b[1;32m    627\u001b[0m \u001b[38;5;28;01mdef\u001b[39;00m \u001b[38;5;21m__iter__\u001b[39m(\u001b[38;5;28mself\u001b[39m):\n\u001b[1;32m    628\u001b[0m     \u001b[38;5;28;01mif\u001b[39;00m \u001b[38;5;28mself\u001b[39m\u001b[38;5;241m.\u001b[39m_length \u001b[38;5;129;01mis\u001b[39;00m \u001b[38;5;28;01mNone\u001b[39;00m:\n\u001b[0;32m--> 629\u001b[0m         \u001b[38;5;28;01mraise\u001b[39;00m \u001b[38;5;167;01mTypeError\u001b[39;00m(\u001b[38;5;124m\"\u001b[39m\u001b[38;5;124mDelayed objects of unspecified length are not iterable\u001b[39m\u001b[38;5;124m\"\u001b[39m)\n\u001b[1;32m    630\u001b[0m     \u001b[38;5;28;01mfor\u001b[39;00m i \u001b[38;5;129;01min\u001b[39;00m \u001b[38;5;28mrange\u001b[39m(\u001b[38;5;28mself\u001b[39m\u001b[38;5;241m.\u001b[39m_length):\n\u001b[1;32m    631\u001b[0m         \u001b[38;5;28;01myield\u001b[39;00m \u001b[38;5;28mself\u001b[39m[i]\n",
      "\u001b[0;31mTypeError\u001b[0m: Delayed objects of unspecified length are not iterable"
     ]
    }
   ],
   "source": [
    "test_ready, test = preprocess(test)"
   ]
  },
  {
   "cell_type": "code",
   "execution_count": null,
   "id": "defda922-211d-45d5-b34b-339370b33c33",
   "metadata": {},
   "outputs": [],
   "source": [
    "dataset_tools.apply_to_fileset("
   ]
  }
 ],
 "metadata": {
  "kernelspec": {
   "display_name": "Python 3 (ipykernel)",
   "language": "python",
   "name": "python3"
  },
  "language_info": {
   "codemirror_mode": {
    "name": "ipython",
    "version": 3
   },
   "file_extension": ".py",
   "mimetype": "text/x-python",
   "name": "python",
   "nbconvert_exporter": "python",
   "pygments_lexer": "ipython3",
   "version": "3.10.13"
  }
 },
 "nbformat": 4,
 "nbformat_minor": 5
}
