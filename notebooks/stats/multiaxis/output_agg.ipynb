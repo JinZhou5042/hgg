{
 "cells": [
  {
   "cell_type": "code",
   "execution_count": 1,
   "id": "d9eaf0ea-5976-4be9-9a7e-6cd5e2576c4c",
   "metadata": {},
   "outputs": [],
   "source": [
    "import pickle\n",
    "import os"
   ]
  },
  {
   "cell_type": "code",
   "execution_count": 32,
   "id": "6ecb6716-0614-4c70-8eb4-64025811f260",
   "metadata": {},
   "outputs": [],
   "source": [
    "filelist = os.listdir('./outputs/ca')\n",
    "filelist.remove('.ipynb_checkpoints')"
   ]
  },
  {
   "cell_type": "code",
   "execution_count": 33,
   "id": "5cafb32f-74b3-424f-b39f-31bec3f29541",
   "metadata": {},
   "outputs": [
    {
     "data": {
      "text/plain": [
       "['pt_window_cambridge04_argmax.pkl']"
      ]
     },
     "execution_count": 33,
     "metadata": {},
     "output_type": "execute_result"
    }
   ],
   "source": [
    "filelist"
   ]
  },
  {
   "cell_type": "code",
   "execution_count": 26,
   "id": "d6484feb-3a2a-4f20-a8da-d21ec278b726",
   "metadata": {},
   "outputs": [],
   "source": [
    "mass_files = []\n",
    "pt_files = []\n",
    "for i in filelist:\n",
    "    if 'mass_window' in i:\n",
    "        mass_files.append(i)\n",
    "    elif 'pt_window' in i:\n",
    "        pt_files.append(i)"
   ]
  },
  {
   "cell_type": "code",
   "execution_count": 27,
   "id": "f361ac17-9e27-4c85-aa74-184cd0dca5fb",
   "metadata": {},
   "outputs": [],
   "source": [
    "mass_dict = {}\n",
    "pt_dict = {}"
   ]
  },
  {
   "cell_type": "code",
   "execution_count": 35,
   "id": "4729ec5f-1972-4fd6-94d7-2d74363ffc92",
   "metadata": {},
   "outputs": [],
   "source": [
    "for i in mass_files:\n",
    "    file = './outputs/ca/' + i\n",
    "    with open(file, 'rb') as f:\n",
    "        mass_dict[i[:-4]] = pickle.load(f)"
   ]
  },
  {
   "cell_type": "code",
   "execution_count": 34,
   "id": "4d3091a9-8415-40ad-96b2-fdfa435867e0",
   "metadata": {},
   "outputs": [],
   "source": [
    "for i in pt_files:\n",
    "    file = './outputs/ca/' + i\n",
    "    with open(file, 'rb') as f:\n",
    "        pt_dict[i[:-4]] = pickle.load(f)"
   ]
  },
  {
   "cell_type": "code",
   "execution_count": 36,
   "id": "2f40ed0a-fcc2-4ee4-b640-e5cd003940d0",
   "metadata": {},
   "outputs": [],
   "source": [
    "hgg_mass = {}\n",
    "for i in mass_dict:\n",
    "    hgg_mass[i] = {}\n",
    "\n",
    "for i in mass_dict:\n",
    "    for j in mass_dict[i]:\n",
    "        if mass_dict[i][j] == None:\n",
    "            continue\n",
    "        else:\n",
    "            hgg_mass[i][j] = mass_dict[i][j]['Hgg']['Color_Ring']"
   ]
  },
  {
   "cell_type": "code",
   "execution_count": 37,
   "id": "e919c327-a5fb-417a-8808-7797d9aa6e9c",
   "metadata": {
    "scrolled": true
   },
   "outputs": [],
   "source": [
    "hgg_pt = {}\n",
    "for i in pt_dict:\n",
    "    hgg_pt[i] = {}\n",
    "\n",
    "for i in pt_dict:\n",
    "    for j in pt_dict[i]:\n",
    "        if pt_dict[i][j] == None:\n",
    "            continue\n",
    "        else:\n",
    "            hgg_pt[i][j] = pt_dict[i][j]['Hgg']['Color_Ring']"
   ]
  },
  {
   "cell_type": "code",
   "execution_count": 38,
   "id": "0d7d0dce-1b06-4604-8ae4-017e9b4da040",
   "metadata": {},
   "outputs": [],
   "source": [
    "path = \"../../../outputs/cr_investigations/multi_var_hists/cambridge04_argmax.pkl\"\n",
    "with open(path, 'rb') as f:\n",
    "    cring = pickle.load(f)"
   ]
  },
  {
   "cell_type": "code",
   "execution_count": 11,
   "id": "b3637bad-9688-4d09-bfe0-e84498d16c36",
   "metadata": {},
   "outputs": [],
   "source": [
    "mass_mins = {}\n",
    "for i in hgg_mass:\n",
    "    mass_mins[i] = {}\n",
    "for i in hgg_mass:\n",
    "    res = [(value, window) for window, value in hgg_mass[i].items() if value < 0.42] #and value > 0.40]\n",
    "    mass_mins[i] = res"
   ]
  },
  {
   "cell_type": "code",
   "execution_count": 12,
   "id": "42f5a221-9ed9-49c3-b68c-64983f5d1c75",
   "metadata": {},
   "outputs": [
    {
     "data": {
      "text/plain": [
       "1.0"
      ]
     },
     "execution_count": 12,
     "metadata": {},
     "output_type": "execute_result"
    }
   ],
   "source": [
    "cring[0]['Hgg']['Hgg']['Color_Ring'].project('Color_Ring').to_numpy()[1][5]"
   ]
  },
  {
   "cell_type": "code",
   "execution_count": 13,
   "id": "221aa2bf-90f7-419c-9ad9-42826dc80532",
   "metadata": {},
   "outputs": [
    {
     "ename": "KeyError",
     "evalue": "'mass_window_sdmass_akt03'",
     "output_type": "error",
     "traceback": [
      "\u001b[0;31m---------------------------------------------------------------------------\u001b[0m",
      "\u001b[0;31mKeyError\u001b[0m                                  Traceback (most recent call last)",
      "Cell \u001b[0;32mIn[13], line 1\u001b[0m\n\u001b[0;32m----> 1\u001b[0m \u001b[38;5;28mmin\u001b[39m(\u001b[43mmass_mins\u001b[49m\u001b[43m[\u001b[49m\u001b[38;5;124;43m'\u001b[39;49m\u001b[38;5;124;43mmass_window_sdmass_akt03\u001b[39;49m\u001b[38;5;124;43m'\u001b[39;49m\u001b[43m]\u001b[49m[:\u001b[38;5;241m865\u001b[39m])\n",
      "\u001b[0;31mKeyError\u001b[0m: 'mass_window_sdmass_akt03'"
     ]
    }
   ],
   "source": [
    "min(mass_mins['mass_window_sdmass_akt03'][:865])"
   ]
  },
  {
   "cell_type": "code",
   "execution_count": null,
   "id": "a084f625-8541-4b83-a59b-a794424f0c88",
   "metadata": {},
   "outputs": [],
   "source": [
    "mass_mins['mass_window_sdmass_akt03']"
   ]
  },
  {
   "cell_type": "code",
   "execution_count": 39,
   "id": "d957fe34-b734-470c-b007-f9372038e713",
   "metadata": {},
   "outputs": [],
   "source": [
    "pt_mins = {}\n",
    "for i in hgg_pt:\n",
    "    pt_mins[i] = {}\n",
    "for i in hgg_pt:\n",
    "    res = [(value, window) for window, value in hgg_pt[i].items() if value < 0.40] #and value > 0.36]\n",
    "    pt_mins[i] = res"
   ]
  },
  {
   "cell_type": "code",
   "execution_count": 40,
   "id": "08728641-a297-4360-ba9c-e235ee954065",
   "metadata": {},
   "outputs": [
    {
     "data": {
      "text/plain": [
       "479.00000000000006"
      ]
     },
     "execution_count": 40,
     "metadata": {},
     "output_type": "execute_result"
    }
   ],
   "source": [
    "cring[0]['Hgg']['Hgg']['Color_Ring'].project('PT').to_numpy()[1][7]"
   ]
  },
  {
   "cell_type": "code",
   "execution_count": 45,
   "id": "b8fe0c16-5182-4345-9138-948f5ba7d8b7",
   "metadata": {},
   "outputs": [
    {
     "data": {
      "text/plain": [
       "(0.38619277799975055, 'pt_window_3_5')"
      ]
     },
     "execution_count": 45,
     "metadata": {},
     "output_type": "execute_result"
    }
   ],
   "source": [
    "min(pt_mins['pt_window_cambridge04_argmax'])"
   ]
  },
  {
   "cell_type": "code",
   "execution_count": 44,
   "id": "a75420bc-ceb0-4ab1-900b-48647d3c2eb9",
   "metadata": {},
   "outputs": [
    {
     "data": {
      "text/plain": [
       "{'pt_window_cambridge04_argmax': [(0.38619277799975055, 'pt_window_3_5'),\n",
       "  (0.39108342501620114, 'pt_window_3_6'),\n",
       "  (0.39698245528475695, 'pt_window_3_7'),\n",
       "  (0.39191280029915687, 'pt_window_4_6')]}"
      ]
     },
     "execution_count": 44,
     "metadata": {},
     "output_type": "execute_result"
    }
   ],
   "source": [
    "pt_mins"
   ]
  },
  {
   "cell_type": "code",
   "execution_count": 49,
   "id": "2c345f76-38d4-4a89-8670-92e9450a64cb",
   "metadata": {},
   "outputs": [],
   "source": [
    "hbb_mass = {}\n",
    "for i in mass_dict:\n",
    "    hbb_mass[i] = {}\n",
    "\n",
    "for i in mass_dict:\n",
    "    for j in mass_dict[i]:\n",
    "        if mass_dict[i][j] == None:\n",
    "            continue\n",
    "        else:\n",
    "            hbb_mass[i][j] = mass_dict[i][j]['Hbb']['Color_Ring']"
   ]
  },
  {
   "cell_type": "code",
   "execution_count": 62,
   "id": "b53c9d98-a48d-4186-9012-12c66b942621",
   "metadata": {},
   "outputs": [],
   "source": [
    "hbb_pt = {}\n",
    "for i in pt_dict:\n",
    "    hbb_pt[i] = {}\n",
    "\n",
    "for i in pt_dict:\n",
    "    for j in pt_dict[i]:\n",
    "        if pt_dict[i][j] == None:\n",
    "            continue\n",
    "        else:\n",
    "            hbb_pt[i][j] = pt_dict[i][j]['Hbb']['Color_Ring']"
   ]
  },
  {
   "cell_type": "code",
   "execution_count": null,
   "id": "0b7a4f59-8b0d-44e6-bf21-006713e92772",
   "metadata": {},
   "outputs": [],
   "source": [
    "mass_mins = {}\n",
    "for i in hbb_mass:\n",
    "    mass_mins[i] = {}\n",
    "for i in hbb_mass:\n",
    "    res = [(value, window) for window, value in hbb_mass[i].items() if value < 0.34] #and value > 0.33]\n",
    "    mass_mins[i] = res"
   ]
  },
  {
   "cell_type": "code",
   "execution_count": null,
   "id": "530f767d-9d33-4099-b7e3-f37f8a01b68e",
   "metadata": {},
   "outputs": [],
   "source": [
    "cring[0]['Hbb']['Hbb']['Color_Ring'].project('Mass').to_numpy()[1][77]"
   ]
  },
  {
   "cell_type": "code",
   "execution_count": null,
   "id": "42e3f0f3-3c75-4732-9368-4d224943bf35",
   "metadata": {},
   "outputs": [],
   "source": [
    "min(mass_mins['mass_window_sdmass_akt04'])"
   ]
  },
  {
   "cell_type": "code",
   "execution_count": 63,
   "id": "59f930d1-5f72-475d-879f-449039dc5c9e",
   "metadata": {},
   "outputs": [],
   "source": [
    "pt_mins = {}\n",
    "for i in hbb_pt:\n",
    "    pt_mins[i] = {}\n",
    "for i in hbb_pt:\n",
    "    res = [(value, window) for window, value in hbb_pt[i].items() if value < 0.39] #and value > 0.33]\n",
    "    pt_mins[i] = res"
   ]
  },
  {
   "cell_type": "code",
   "execution_count": null,
   "id": "1911e976-96fc-4a77-9962-c5d0eac3244e",
   "metadata": {},
   "outputs": [],
   "source": [
    "cring[0]['Hbb']['Hbb']['Color_Ring'].project('PT').to_numpy()[1][37]"
   ]
  },
  {
   "cell_type": "code",
   "execution_count": 67,
   "id": "8dbe6e8a-8fb3-4368-bec4-7f2e3a986877",
   "metadata": {},
   "outputs": [
    {
     "data": {
      "text/plain": [
       "(0.36957500306626734, 'pt_window_3_5')"
      ]
     },
     "execution_count": 67,
     "metadata": {},
     "output_type": "execute_result"
    }
   ],
   "source": [
    "min(pt_mins['pt_window_cambridge_argmax'][:-3])"
   ]
  },
  {
   "cell_type": "code",
   "execution_count": 65,
   "id": "5c5a0556-67b5-4ad3-849a-d1236e8ba05a",
   "metadata": {},
   "outputs": [
    {
     "data": {
      "text/plain": [
       "[(0.3868722680174728, 'pt_window_2_5'),\n",
       " (0.36957500306626734, 'pt_window_3_5'),\n",
       " (0.3759027251278029, 'pt_window_3_6'),\n",
       " (0.38331091340141443, 'pt_window_3_7'),\n",
       " (0.37543941553453875, 'pt_window_4_6'),\n",
       " (0.3859441203801092, 'pt_window_4_7'),\n",
       " (0.32858364537943446, 'pt_window_22_24'),\n",
       " (0.32840214573718224, 'pt_window_22_25'),\n",
       " (0.38905143519252294, 'pt_window_23_25')]"
      ]
     },
     "execution_count": 65,
     "metadata": {},
     "output_type": "execute_result"
    }
   ],
   "source": [
    "pt_mins['pt_window_cambridge_argmax']"
   ]
  },
  {
   "cell_type": "code",
   "execution_count": null,
   "id": "04d14151-05d5-44b1-bbc6-704eed730736",
   "metadata": {},
   "outputs": [],
   "source": []
  }
 ],
 "metadata": {
  "kernelspec": {
   "display_name": "Python 3 (ipykernel)",
   "language": "python",
   "name": "python3"
  },
  "language_info": {
   "codemirror_mode": {
    "name": "ipython",
    "version": 3
   },
   "file_extension": ".py",
   "mimetype": "text/x-python",
   "name": "python",
   "nbconvert_exporter": "python",
   "pygments_lexer": "ipython3",
   "version": "3.10.13"
  }
 },
 "nbformat": 4,
 "nbformat_minor": 5
}
