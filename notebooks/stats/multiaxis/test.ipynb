{
 "cells": [
  {
   "cell_type": "code",
   "execution_count": 1,
   "id": "31a78a7e-4849-428c-9eca-ea3437637201",
   "metadata": {},
   "outputs": [],
   "source": [
    "import pickle\n",
    "import matplotlib.pyplot as plt"
   ]
  },
  {
   "cell_type": "code",
   "execution_count": 2,
   "id": "bda11167-3c9a-4d2c-acdf-db69610fda05",
   "metadata": {},
   "outputs": [
    {
     "ename": "FileNotFoundError",
     "evalue": "[Errno 2] No such file or directory: './outputs/pt_window_regmass_akt02.pkl'",
     "output_type": "error",
     "traceback": [
      "\u001b[0;31m---------------------------------------------------------------------------\u001b[0m",
      "\u001b[0;31mFileNotFoundError\u001b[0m                         Traceback (most recent call last)",
      "Cell \u001b[0;32mIn[2], line 1\u001b[0m\n\u001b[0;32m----> 1\u001b[0m \u001b[38;5;28;01mwith\u001b[39;00m \u001b[38;5;28;43mopen\u001b[39;49m\u001b[43m(\u001b[49m\u001b[38;5;124;43m'\u001b[39;49m\u001b[38;5;124;43m./outputs/pt_window_regmass_akt02.pkl\u001b[39;49m\u001b[38;5;124;43m'\u001b[39;49m\u001b[43m,\u001b[49m\u001b[43m \u001b[49m\u001b[38;5;124;43m'\u001b[39;49m\u001b[38;5;124;43mrb\u001b[39;49m\u001b[38;5;124;43m'\u001b[39;49m\u001b[43m)\u001b[49m \u001b[38;5;28;01mas\u001b[39;00m f:\n\u001b[1;32m      2\u001b[0m     master_dict \u001b[38;5;241m=\u001b[39m pickle\u001b[38;5;241m.\u001b[39mload(f)\n",
      "File \u001b[0;32m~/miniconda3/envs/coffea2024/lib/python3.10/site-packages/IPython/core/interactiveshell.py:324\u001b[0m, in \u001b[0;36m_modified_open\u001b[0;34m(file, *args, **kwargs)\u001b[0m\n\u001b[1;32m    317\u001b[0m \u001b[38;5;28;01mif\u001b[39;00m file \u001b[38;5;129;01min\u001b[39;00m {\u001b[38;5;241m0\u001b[39m, \u001b[38;5;241m1\u001b[39m, \u001b[38;5;241m2\u001b[39m}:\n\u001b[1;32m    318\u001b[0m     \u001b[38;5;28;01mraise\u001b[39;00m \u001b[38;5;167;01mValueError\u001b[39;00m(\n\u001b[1;32m    319\u001b[0m         \u001b[38;5;124mf\u001b[39m\u001b[38;5;124m\"\u001b[39m\u001b[38;5;124mIPython won\u001b[39m\u001b[38;5;124m'\u001b[39m\u001b[38;5;124mt let you open fd=\u001b[39m\u001b[38;5;132;01m{\u001b[39;00mfile\u001b[38;5;132;01m}\u001b[39;00m\u001b[38;5;124m by default \u001b[39m\u001b[38;5;124m\"\u001b[39m\n\u001b[1;32m    320\u001b[0m         \u001b[38;5;124m\"\u001b[39m\u001b[38;5;124mas it is likely to crash IPython. If you know what you are doing, \u001b[39m\u001b[38;5;124m\"\u001b[39m\n\u001b[1;32m    321\u001b[0m         \u001b[38;5;124m\"\u001b[39m\u001b[38;5;124myou can use builtins\u001b[39m\u001b[38;5;124m'\u001b[39m\u001b[38;5;124m open.\u001b[39m\u001b[38;5;124m\"\u001b[39m\n\u001b[1;32m    322\u001b[0m     )\n\u001b[0;32m--> 324\u001b[0m \u001b[38;5;28;01mreturn\u001b[39;00m \u001b[43mio_open\u001b[49m\u001b[43m(\u001b[49m\u001b[43mfile\u001b[49m\u001b[43m,\u001b[49m\u001b[43m \u001b[49m\u001b[38;5;241;43m*\u001b[39;49m\u001b[43margs\u001b[49m\u001b[43m,\u001b[49m\u001b[43m \u001b[49m\u001b[38;5;241;43m*\u001b[39;49m\u001b[38;5;241;43m*\u001b[39;49m\u001b[43mkwargs\u001b[49m\u001b[43m)\u001b[49m\n",
      "\u001b[0;31mFileNotFoundError\u001b[0m: [Errno 2] No such file or directory: './outputs/pt_window_regmass_akt02.pkl'"
     ]
    }
   ],
   "source": [
    "with open('./outputs/pt_window_regmass_akt02.pkl', 'rb') as f:\n",
    "    master_dict = pickle.load(f)"
   ]
  },
  {
   "cell_type": "code",
   "execution_count": null,
   "id": "33a85a86-b49a-47a4-b8f9-c6ff89b3c726",
   "metadata": {},
   "outputs": [],
   "source": [
    "path = \"../../../outputs/cr_investigations/multi_var_hists/regmass_ca02.pkl\"\n",
    "with open(path, 'rb') as f:\n",
    "    cring = pickle.load(f)"
   ]
  },
  {
   "cell_type": "code",
   "execution_count": null,
   "id": "fd5f4064-65c0-4e46-8f1b-ed61ccce8dd6",
   "metadata": {},
   "outputs": [],
   "source": [
    "cring[0]['Hgg']['Hgg']['Color_Ring'].project('Color_Ring').plot1d()"
   ]
  },
  {
   "cell_type": "code",
   "execution_count": null,
   "id": "43226bf6-80cb-4604-a659-13a4f9a4d494",
   "metadata": {},
   "outputs": [],
   "source": [
    "hgg_list = {}\n",
    "for i in master_dict:\n",
    "    if master_dict[i] == None:\n",
    "        continue\n",
    "    else:\n",
    "        hgg_list[i] = master_dict[i]['Hgg']['Color_Ring']"
   ]
  },
  {
   "cell_type": "code",
   "execution_count": null,
   "id": "1d7e12b7-bba0-4a13-bdb2-61989e26c52a",
   "metadata": {},
   "outputs": [],
   "source": [
    "min(hgg_list, key=hgg_list.get)"
   ]
  },
  {
   "cell_type": "code",
   "execution_count": null,
   "id": "21f1e506-ed82-49cf-bb48-030c37cbb52b",
   "metadata": {},
   "outputs": [],
   "source": [
    "hgg_list[min(hgg_list, key=hgg_list.get)]"
   ]
  },
  {
   "cell_type": "code",
   "execution_count": null,
   "id": "fd4d6366-5533-4986-af00-a8a69dc4b34b",
   "metadata": {},
   "outputs": [],
   "source": [
    "cring[0]['Hgg']['Hgg']['Color_Ring'].project('PT').to_numpy()[1][20]"
   ]
  },
  {
   "cell_type": "code",
   "execution_count": null,
   "id": "afaf62d7-99e8-4a28-a4c5-00f406e585ed",
   "metadata": {},
   "outputs": [],
   "source": [
    "hbb_list = {}\n",
    "for i in master_dict:\n",
    "    if master_dict[i] == None:\n",
    "        continue\n",
    "    else:\n",
    "        hbb_list[i] = master_dict[i]['Hbb']['Color_Ring']"
   ]
  },
  {
   "cell_type": "code",
   "execution_count": null,
   "id": "24392ac7-04f2-4756-8a90-e77395d9a683",
   "metadata": {},
   "outputs": [],
   "source": [
    "min(hbb_list, key=hbb_list.get)"
   ]
  },
  {
   "cell_type": "code",
   "execution_count": null,
   "id": "860ea0cd-f545-4d3b-9935-4b2e6684cd19",
   "metadata": {},
   "outputs": [],
   "source": [
    "hbb_list[min(hbb_list, key=hbb_list.get)]"
   ]
  },
  {
   "cell_type": "code",
   "execution_count": null,
   "id": "df720fc9-1c2a-4806-8855-2f10a8d90198",
   "metadata": {},
   "outputs": [],
   "source": [
    "cring[0]['Hgg']['Hgg']['Color_Ring'].project('PT').to_numpy()[1][11]"
   ]
  },
  {
   "cell_type": "code",
   "execution_count": null,
   "id": "ba0ba584-3dfc-4127-89cb-2e4c39f48d43",
   "metadata": {},
   "outputs": [],
   "source": [
    "hgg_list['pt_window_9_11']"
   ]
  },
  {
   "cell_type": "code",
   "execution_count": null,
   "id": "781a85db-1920-4f1a-bac3-3cd024d5f571",
   "metadata": {},
   "outputs": [],
   "source": [
    "res = [(window, value) for window, value in hgg_list.items() if value < 0.36 and value > 0.35]\n",
    "print(res)"
   ]
  },
  {
   "cell_type": "code",
   "execution_count": null,
   "id": "e00cfb42-31df-4ef3-bdb4-f28e992cd6f3",
   "metadata": {},
   "outputs": [],
   "source": [
    "min(res)"
   ]
  },
  {
   "cell_type": "code",
   "execution_count": null,
   "id": "f6c8398f-70dc-4cc4-bffc-43151db8f735",
   "metadata": {},
   "outputs": [],
   "source": []
  }
 ],
 "metadata": {
  "kernelspec": {
   "display_name": "Python 3 (ipykernel)",
   "language": "python",
   "name": "python3"
  },
  "language_info": {
   "codemirror_mode": {
    "name": "ipython",
    "version": 3
   },
   "file_extension": ".py",
   "mimetype": "text/x-python",
   "name": "python",
   "nbconvert_exporter": "python",
   "pygments_lexer": "ipython3",
   "version": "3.10.13"
  }
 },
 "nbformat": 4,
 "nbformat_minor": 5
}
