{
 "cells": [
  {
   "cell_type": "code",
   "execution_count": 1,
   "id": "77578eec-d587-476a-be0c-b4f6ea458525",
   "metadata": {},
   "outputs": [],
   "source": [
    "import numpy as np\n",
    "import matplotlib.pyplot as plt \n",
    "import pickle\n",
    "import sklearn.metrics as metrics"
   ]
  },
  {
   "cell_type": "code",
   "execution_count": 2,
   "id": "08d1b80b-e40b-4278-9923-331d74db4ba0",
   "metadata": {},
   "outputs": [
    {
     "name": "stderr",
     "output_type": "stream",
     "text": [
      "/afs/crc.nd.edu/user/c/cmoore24/miniconda3/envs/coffea2024/lib/python3.10/site-packages/coffea/nanoevents/methods/candidate.py:11: FutureWarning: In version 2024.7.0 (target date: 2024-06-30 11:59:59-05:00), this will be an error.\n",
      "To raise these warnings as errors (and get stack traces to find out where they're called), run\n",
      "    import warnings\n",
      "    warnings.filterwarnings(\"error\", module=\"coffea.*\")\n",
      "after the first `import coffea` or use `@pytest.mark.filterwarnings(\"error:::coffea.*\")` in pytest.\n",
      "Issue: coffea.nanoevents.methods.vector will be removed and replaced with scikit-hep vector. Nanoevents schemas internal to coffea will be migrated. Otherwise please consider using that package!.\n",
      "  from coffea.nanoevents.methods import vector\n"
     ]
    }
   ],
   "source": [
    "path = \"../../../outputs/cr_investigations/multi_var_hists/antikt_argmax_dense_cr.pkl\"\n",
    "with open(path, 'rb') as f:\n",
    "    cring = pickle.load(f)"
   ]
  },
  {
   "cell_type": "code",
   "execution_count": 3,
   "id": "1d4f544d-0e17-4e9e-a184-6123a1d04949",
   "metadata": {},
   "outputs": [],
   "source": [
    "hgg = cring[0]['Hgg']['Hgg']\n",
    "hbb = cring[0]['Hbb']['Hbb']"
   ]
  },
  {
   "cell_type": "code",
   "execution_count": 4,
   "id": "16d1a320-2ba6-42c6-9250-31c5fd3c95f1",
   "metadata": {},
   "outputs": [],
   "source": [
    "#signal scale factors\n",
    "scalesHJ = ((44.99*(0.471*1000)*0.0817)/(hgg['entries']))\n",
    "scalesHbb = ((44.99*(0.274*1000)*0.581)/(hbb['entries']))"
   ]
  },
  {
   "cell_type": "code",
   "execution_count": 5,
   "id": "1082074c-5e43-44ed-967c-81a86a7a27f3",
   "metadata": {},
   "outputs": [
    {
     "ename": "AttributeError",
     "evalue": "no field named 'view'",
     "output_type": "error",
     "traceback": [
      "\u001b[0;31m---------------------------------------------------------------------------\u001b[0m",
      "\u001b[0;31mAttributeError\u001b[0m                            Traceback (most recent call last)",
      "Cell \u001b[0;32mIn[5], line 4\u001b[0m\n\u001b[1;32m      2\u001b[0m hgg_entries \u001b[38;5;241m=\u001b[39m \u001b[38;5;28mlist\u001b[39m(hgg\u001b[38;5;241m.\u001b[39mkeys())\n\u001b[1;32m      3\u001b[0m \u001b[38;5;28;01mfor\u001b[39;00m i \u001b[38;5;129;01min\u001b[39;00m \u001b[38;5;28mrange\u001b[39m(\u001b[38;5;241m1\u001b[39m, \u001b[38;5;28mlen\u001b[39m(hgg_entries)):\n\u001b[0;32m----> 4\u001b[0m     \u001b[43mhgg\u001b[49m\u001b[43m[\u001b[49m\u001b[43mhgg_entries\u001b[49m\u001b[43m[\u001b[49m\u001b[43mi\u001b[49m\u001b[43m]\u001b[49m\u001b[43m]\u001b[49m\u001b[38;5;241;43m.\u001b[39;49m\u001b[43mview\u001b[49m(flow\u001b[38;5;241m=\u001b[39m\u001b[38;5;28;01mTrue\u001b[39;00m)[:] \u001b[38;5;241m*\u001b[39m\u001b[38;5;241m=\u001b[39m scalesHJ\n\u001b[1;32m      6\u001b[0m hbb_entries \u001b[38;5;241m=\u001b[39m \u001b[38;5;28mlist\u001b[39m(hgg\u001b[38;5;241m.\u001b[39mkeys())\n\u001b[1;32m      7\u001b[0m \u001b[38;5;28;01mfor\u001b[39;00m i \u001b[38;5;129;01min\u001b[39;00m \u001b[38;5;28mrange\u001b[39m(\u001b[38;5;241m1\u001b[39m, \u001b[38;5;28mlen\u001b[39m(hbb_entries)):\n",
      "File \u001b[0;32m~/miniconda3/envs/coffea2024/lib/python3.10/site-packages/awkward/highlevel.py:1236\u001b[0m, in \u001b[0;36mArray.__getattr__\u001b[0;34m(self, where)\u001b[0m\n\u001b[1;32m   1231\u001b[0m         \u001b[38;5;28;01mraise\u001b[39;00m \u001b[38;5;167;01mAttributeError\u001b[39;00m(\n\u001b[1;32m   1232\u001b[0m             \u001b[38;5;124mf\u001b[39m\u001b[38;5;124m\"\u001b[39m\u001b[38;5;124mwhile trying to get field \u001b[39m\u001b[38;5;132;01m{\u001b[39;00mwhere\u001b[38;5;132;01m!r}\u001b[39;00m\u001b[38;5;124m, an exception \u001b[39m\u001b[38;5;124m\"\u001b[39m\n\u001b[1;32m   1233\u001b[0m             \u001b[38;5;124mf\u001b[39m\u001b[38;5;124m\"\u001b[39m\u001b[38;5;124moccurred:\u001b[39m\u001b[38;5;130;01m\\n\u001b[39;00m\u001b[38;5;132;01m{\u001b[39;00m\u001b[38;5;28mtype\u001b[39m(err)\u001b[38;5;132;01m}\u001b[39;00m\u001b[38;5;124m: \u001b[39m\u001b[38;5;132;01m{\u001b[39;00merr\u001b[38;5;132;01m!s}\u001b[39;00m\u001b[38;5;124m\"\u001b[39m\n\u001b[1;32m   1234\u001b[0m         ) \u001b[38;5;28;01mfrom\u001b[39;00m \u001b[38;5;21;01merr\u001b[39;00m\n\u001b[1;32m   1235\u001b[0m \u001b[38;5;28;01melse\u001b[39;00m:\n\u001b[0;32m-> 1236\u001b[0m     \u001b[38;5;28;01mraise\u001b[39;00m \u001b[38;5;167;01mAttributeError\u001b[39;00m(\u001b[38;5;124mf\u001b[39m\u001b[38;5;124m\"\u001b[39m\u001b[38;5;124mno field named \u001b[39m\u001b[38;5;132;01m{\u001b[39;00mwhere\u001b[38;5;132;01m!r}\u001b[39;00m\u001b[38;5;124m\"\u001b[39m)\n",
      "\u001b[0;31mAttributeError\u001b[0m: no field named 'view'"
     ]
    }
   ],
   "source": [
    "#do the scaling \n",
    "hgg_entries = list(hgg.keys())\n",
    "for i in range(1, len(hgg_entries)):\n",
    "    hgg[hgg_entries[i]].view(flow=True)[:] *= scalesHJ\n",
    "\n",
    "hbb_entries = list(hgg.keys())\n",
    "for i in range(1, len(hbb_entries)):\n",
    "    hbb[hbb_entries[i]].view(flow=True)[:] *= scalesHbb"
   ]
  },
  {
   "cell_type": "code",
   "execution_count": null,
   "id": "b8e5c816-61dc-4030-bd95-a853b0cf1fdf",
   "metadata": {},
   "outputs": [],
   "source": [
    "l = 3\n",
    "m = 5\n",
    "hgg['Color_Ring'] = hgg['Color_Ring'][:,l:m,:,:]\n",
    "hbb['Color_Ring'] = hbb['Color_Ring'][:,l:m,:,:]"
   ]
  },
  {
   "cell_type": "code",
   "execution_count": null,
   "id": "7196104d-999f-49cb-984f-8213ec8134f7",
   "metadata": {},
   "outputs": [],
   "source": [
    "#get the totals for each histogram\n",
    "hgg_totals_dict = {}\n",
    "for i in range(1, len(hgg_entries)):\n",
    "    if len(hgg[hgg_entries[i]].axes) == 1:\n",
    "        hgg_totals_dict[hgg_entries[i]] = hgg[hgg_entries[i]][0:len(hgg[hgg_entries[i]].view()):sum]\n",
    "    else:\n",
    "        for j in hgg[hgg_entries[i]].axes.name:\n",
    "            hgg_totals_dict[j] = hgg[hgg_entries[i]].project(j)[0:len(hgg[hgg_entries[i]].project(j).view()):sum]   \n",
    "        \n",
    "hbb_totals_dict = {}\n",
    "for i in range(1, len(hbb_entries)):\n",
    "    if len(hbb[hbb_entries[i]].axes) == 1:\n",
    "        hbb_totals_dict[hbb_entries[i]] = hbb[hbb_entries[i]][0:len(hbb[hbb_entries[i]].view()):sum]\n",
    "    else:\n",
    "        for j in hbb[hbb_entries[i]].axes.name:\n",
    "            hbb_totals_dict[j] = hbb[hbb_entries[i]].project(j)[0:len(hbb[hbb_entries[i]].project(j).view()):sum]"
   ]
  },
  {
   "cell_type": "code",
   "execution_count": null,
   "id": "b80ee4e5-2a6a-42f4-a8f0-4397f02200e6",
   "metadata": {},
   "outputs": [],
   "source": [
    "#get the true positive fractions\n",
    "hgg_truth_dict = {}\n",
    "for i in range(1, len(hgg_entries)):\n",
    "    if len(hgg[hgg_entries[i]].axes) == 1:\n",
    "        temp_list = []\n",
    "        for j in range(1, len(hgg[hgg_entries[i]].view())+1):\n",
    "            temp_list.append(hgg[hgg_entries[i]][0:j:sum].value/hgg_totals_dict[hgg_entries[i]].value)\n",
    "        hgg_truth_dict[hgg_entries[i]] = temp_list\n",
    "    else:\n",
    "        for j in hgg[hgg_entries[i]].axes.name:\n",
    "            temp_list = []\n",
    "            for k in range(1, len(hgg[hgg_entries[i]].project(j).view())+1):\n",
    "                temp_list.append(hgg[hgg_entries[i]].project(j)[0:k:sum].value/hgg_totals_dict[hgg_entries[i]].value)\n",
    "            hgg_truth_dict[j] = temp_list\n",
    "                \n",
    "hbb_truth_dict = {}\n",
    "for i in range(1, len(hbb_entries)):\n",
    "    if len(hbb[hbb_entries[i]].axes) == 1:\n",
    "        temp_list = []\n",
    "        for j in range(1, len(hbb[hbb_entries[i]].view())+1):\n",
    "            temp_list.append(hbb[hbb_entries[i]][0:j:sum].value/hbb_totals_dict[hbb_entries[i]].value)\n",
    "        hbb_truth_dict[hbb_entries[i]] = temp_list\n",
    "    else:\n",
    "        for j in hbb[hbb_entries[i]].axes.name:\n",
    "            temp_list = []\n",
    "            for k in range(1, len(hbb[hbb_entries[i]].project(j).view())+1):\n",
    "                temp_list.append(hbb[hbb_entries[i]].project(j)[0:k:sum].value/hbb_totals_dict[hbb_entries[i]].value)\n",
    "            hbb_truth_dict[j] = temp_list"
   ]
  },
  {
   "cell_type": "code",
   "execution_count": null,
   "id": "c305e108-92fb-4ced-b276-92b23605bdf0",
   "metadata": {},
   "outputs": [],
   "source": [
    "#2017 integrated luminosity and QCD cross sections\n",
    "IL = 44.99\n",
    "xs_170to300 = 103700\n",
    "xs_300to470 = 6835\n",
    "xs_470to600 = 549.5\n",
    "xs_600to800 = 156.5\n",
    "xs_800to1000 = 26.22\n",
    "xs_1000to1400 = 7.475\n",
    "xs_1400to1800 = 0.6482\n",
    "xs_1800to2400 = 0.08742\n",
    "xs_2400to3200 = 0.005237\n",
    "xs_3200toInf = 0.0001353"
   ]
  },
  {
   "cell_type": "code",
   "execution_count": null,
   "id": "23491264-0652-44a6-a5ed-f63c9f01665a",
   "metadata": {},
   "outputs": [],
   "source": [
    "#combine the qcds into a dictionary\n",
    "qcd_dict = {}\n",
    "qcd_dict['q173'] = cring[0]['QCD_Pt_170to300_TuneCP5_13TeV_pythia8']['QCD_Pt_170to300']\n",
    "qcd_dict['q347'] = cring[0]['QCD_Pt_300to470_TuneCP5_13TeV_pythia8']['QCD_Pt_300to470']\n",
    "qcd_dict['q476'] = cring[0]['QCD_Pt_470to600_TuneCP5_13TeV_pythia8']['QCD_Pt_470to600']\n",
    "qcd_dict['q68'] = cring[0]['QCD_Pt_600to800_TuneCP5_13TeV_pythia8']['QCD_Pt_600to800']\n",
    "qcd_dict['q810'] = cring[0]['QCD_Pt_800to1000_TuneCP5_13TeV_pythia8']['QCD_Pt_800to1000']\n",
    "qcd_dict['q1014'] = cring[0]['QCD_Pt_1000to1400_TuneCP5_13TeV_pythia8']['QCD_Pt_1000to1400']\n",
    "qcd_dict['q1418'] = cring[0]['QCD_Pt_1400to1800_TuneCP5_13TeV_pythia8']['QCD_Pt_1400to1800']\n",
    "qcd_dict['q1824'] = cring[0]['QCD_Pt_1800to2400_TuneCP5_13TeV_pythia8']['QCD_Pt_1800to2400']\n",
    "qcd_dict['q2432'] = cring[0]['QCD_Pt_2400to3200_TuneCP5_13TeV_pythia8']['QCD_Pt_2400to3200']\n",
    "qcd_dict['q32inf'] = cring[0]['QCD_Pt_3200toInf_TuneCP5_13TeV_pythia8']['QCD_Pt_3200toInf']"
   ]
  },
  {
   "cell_type": "code",
   "execution_count": null,
   "id": "88c9547d-4d9f-4a87-83b9-84a86f87a407",
   "metadata": {},
   "outputs": [],
   "source": [
    "#QCD scale factors dictionary\n",
    "qcd_sf_dict = {}\n",
    "qcd_sf_dict['scales170to300'] = (((xs_170to300*1000)*IL)/(qcd_dict['q173']['entries']))\n",
    "qcd_sf_dict['scales300to470'] = (((xs_300to470*1000)*IL)/(qcd_dict['q347']['entries']))\n",
    "qcd_sf_dict['scales470to600'] = (((xs_470to600*1000)*IL)/(qcd_dict['q476']['entries']))\n",
    "qcd_sf_dict['scales600to800'] = (((xs_600to800*1000)*IL)/(qcd_dict['q68']['entries']))\n",
    "qcd_sf_dict['scales800to1000'] = (((xs_800to1000*1000)*IL)/(qcd_dict['q810']['entries']))\n",
    "qcd_sf_dict['scales1000to1400'] = (((xs_1000to1400*1000)*IL)/(qcd_dict['q1014']['entries']))\n",
    "qcd_sf_dict['scales1400to1800'] = (((xs_1400to1800*1000)*IL)/(qcd_dict['q1418']['entries']))\n",
    "qcd_sf_dict['scales1800to2400'] = (((xs_1800to2400*1000)*IL)/(qcd_dict['q1824']['entries']))\n",
    "qcd_sf_dict['scales2400to3200'] = (((xs_2400to3200*1000)*IL)/(qcd_dict['q2432']['entries']))\n",
    "qcd_sf_dict['scales3200toInf'] = (((xs_3200toInf*1000)*IL)/(qcd_dict['q32inf']['entries']))"
   ]
  },
  {
   "cell_type": "code",
   "execution_count": null,
   "id": "7e9f2a96-54c8-418d-b0a2-efa6bd50d341",
   "metadata": {},
   "outputs": [],
   "source": [
    "#scale all the qcd values\n",
    "entries = list(qcd_dict['q173'].keys())\n",
    "for i in range(0, len(qcd_dict)):\n",
    "    qcd_range = list(qcd_dict.keys())[i]\n",
    "    qcd_scales = list(qcd_sf_dict.keys())[i]\n",
    "    for j in range(1, len(entries)):\n",
    "        qcd_dict[qcd_range][entries[j]].view(flow=True)[:] *= qcd_sf_dict[qcd_scales]"
   ]
  },
  {
   "cell_type": "code",
   "execution_count": null,
   "id": "461b7c72-4302-46cd-8f90-c26f1550f2c8",
   "metadata": {},
   "outputs": [],
   "source": [
    "#combine the qcds into individual variable fields\n",
    "qcd_vars = {}\n",
    "for i in range(1, len(entries)):\n",
    "    temp_hist = qcd_dict['q173'][entries[i]]\n",
    "    for j in range(1, len(qcd_dict)):\n",
    "        temp_hist += qcd_dict[list(qcd_dict.keys())[j]][entries[i]]\n",
    "    qcd_vars[entries[i]] = temp_hist"
   ]
  },
  {
   "cell_type": "code",
   "execution_count": null,
   "id": "db7db875-e519-424c-a410-eca301c57d75",
   "metadata": {},
   "outputs": [],
   "source": [
    "qcd_vars['Color_Ring'] = qcd_vars['Color_Ring'][:,l:m,:,:]"
   ]
  },
  {
   "cell_type": "code",
   "execution_count": null,
   "id": "ad9323e9-9033-4d87-b244-a94a219babd9",
   "metadata": {},
   "outputs": [],
   "source": [
    "#totals for each qcd hist\n",
    "qcd_totals_dict = {}\n",
    "for i in range(1, len(entries)):\n",
    "    if len(qcd_vars[entries[i]].axes) == 1:\n",
    "        qcd_totals_dict[entries[i]] = qcd_vars[entries[i]][0:len(qcd_vars[entries[i]].view()):sum]\n",
    "    else:\n",
    "        for j in qcd_vars[entries[i]].axes.name:\n",
    "            qcd_totals_dict[j] = qcd_vars[entries[i]].project(j)[0:len(qcd_vars[entries[i]].project(j).view()):sum]"
   ]
  },
  {
   "cell_type": "code",
   "execution_count": null,
   "id": "3d466fbf-0a4e-4e4d-8122-6099944c5937",
   "metadata": {},
   "outputs": [],
   "source": [
    "#false positive fractions for each qcd variable\n",
    "qcd_false_positive_dict = {}\n",
    "for i in range(1, len(entries)):\n",
    "    if len(qcd_vars[entries[i]].axes) == 1:\n",
    "        temp_list = []\n",
    "        for j in range(1, len(qcd_vars[entries[i]].view())+1):\n",
    "            temp_list.append(qcd_vars[entries[i]][0:j:sum].value/qcd_totals_dict[entries[i]].value)\n",
    "        qcd_false_positive_dict[entries[i]] = temp_list\n",
    "    else:\n",
    "        for j in qcd_vars[entries[i]].axes.name:\n",
    "            temp_list = []\n",
    "            for k in range(1, len(qcd_vars[entries[i]].project(j).view())+1):\n",
    "                temp_list.append(qcd_vars[entries[i]].project(j)[0:k:sum].value/qcd_totals_dict[entries[i]].value)\n",
    "            qcd_false_positive_dict[j] = temp_list"
   ]
  },
  {
   "cell_type": "code",
   "execution_count": null,
   "id": "9155bdcb-c9b0-4d60-b923-e932c7fa14d8",
   "metadata": {},
   "outputs": [],
   "source": [
    "hgg_auc_dict = {}\n",
    "hgg_keys = list(hgg_truth_dict.keys())\n",
    "for i in range(0, len(hgg_keys)):\n",
    "    hgg_auc_dict[hgg_keys[i]] = metrics.auc(\n",
    "                                        hgg_truth_dict[hgg_keys[i]],\n",
    "                                        qcd_false_positive_dict[hgg_keys[i]]\n",
    "                                    )\n",
    "# for i in range(0, len(hgg_keys)):\n",
    "#     if hgg_auc_dict[hgg_keys[i]] >= 0.5:\n",
    "#         hgg_auc_dict[hgg_keys[i]] = 1 - hgg_auc_dict[hgg_keys[i]]\n",
    "\n",
    "hbb_auc_dict = {}\n",
    "hbb_keys = list(hbb_truth_dict.keys())\n",
    "for i in range(0, len(hbb_keys)):\n",
    "    hbb_auc_dict[hbb_keys[i]] = metrics.auc(\n",
    "                                        hbb_truth_dict[hbb_keys[i]],\n",
    "                                        qcd_false_positive_dict[hbb_keys[i]]\n",
    "                                    )\n",
    "# for i in range(0, len(hbb_keys)):\n",
    "#     if hbb_auc_dict[hbb_keys[i]] >= 0.5:\n",
    "#         hbb_auc_dict[hbb_keys[i]] = 1 - hbb_auc_dict[hbb_keys[i]]"
   ]
  },
  {
   "cell_type": "code",
   "execution_count": null,
   "id": "bd49b6fd-3661-44f0-bcfc-b10853c45f4d",
   "metadata": {},
   "outputs": [],
   "source": [
    "fig, ax = plt.subplots()\n",
    "\n",
    "ax.plot(hbb_truth_dict['Color_Ring'], qcd_false_positive_dict['Color_Ring'], linewidth=2.0, label='Hbb Color Ring')\n",
    "ax.plot(hgg_truth_dict['Color_Ring'], qcd_false_positive_dict['Color_Ring'], linewidth=2.0, label='Hgg Color Ring')\n",
    "\n",
    "plt.xlabel(\"True Positive\")\n",
    "plt.ylabel(\"False Positive\")\n",
    "lims = [\n",
    "    np.min([ax.get_xlim(), ax.get_ylim()]),  # min of both axes\n",
    "    np.max([ax.get_xlim(), ax.get_ylim()]),  # max of both axes\n",
    "]\n",
    "ax.plot(lims, lims, 'k-', alpha=0.75, zorder=0)\n",
    "plt.xlim(0, 1)\n",
    "plt.ylim(0, 1)\n",
    "plt.legend()"
   ]
  },
  {
   "cell_type": "code",
   "execution_count": null,
   "id": "ddc5d4d5-22ac-42d5-bed4-1c1d1ca6a6f5",
   "metadata": {},
   "outputs": [],
   "source": [
    "hgg_auc_dict"
   ]
  },
  {
   "cell_type": "code",
   "execution_count": null,
   "id": "407fa5a0-d734-47d7-a527-2a985d058e4f",
   "metadata": {},
   "outputs": [],
   "source": [
    "hbb_auc_dict"
   ]
  },
  {
   "cell_type": "code",
   "execution_count": 6,
   "id": "c230eeed-48e2-4bbd-8c94-852a7b087ee8",
   "metadata": {},
   "outputs": [
    {
     "data": {
      "text/plain": [
       "{'entries': 2392373,\n",
       " 'Color_Ring': Hist(\n",
       "   Regular(50, 0.975, 1.025, underflow=False, overflow=False, name='Color_Ring'),\n",
       "   Regular(50, 150, 2500, underflow=False, overflow=False, name='PT'),\n",
       "   Regular(50, 50, 150, underflow=False, overflow=False, name='Mass'),\n",
       "   Regular(50, 50, 150, underflow=False, overflow=False, name='SDMass'),\n",
       "   storage=Weight()) # Sum: WeightedSum(value=15.1475, variance=0.0109615),\n",
       " 'color_ring_vals': <Array [2.38, 1.53, 1.09, 2.5, ..., 3.15, 2.62, 2.18] type='995418 * float64'>}"
      ]
     },
     "execution_count": 6,
     "metadata": {},
     "output_type": "execute_result"
    }
   ],
   "source": [
    "hgg"
   ]
  },
  {
   "cell_type": "code",
   "execution_count": null,
   "id": "28fede1f-5141-43e3-a63f-f76dfe5f7139",
   "metadata": {},
   "outputs": [],
   "source": [
    "fig, ax = plt.subplots()\n",
    "hgg['Color_Ring'].project('Color_Ring').plot1d(density=True, label='Hgg')\n",
    "hbb['Color_Ring'].project('Color_Ring').plot1d(density=True, label='Hbb')\n",
    "qcd_vars['Color_Ring'].project('Color_Ring').plot1d(density=True, label='QCD')\n",
    "plt.legend()"
   ]
  },
  {
   "cell_type": "code",
   "execution_count": null,
   "id": "2c00c0ef-d871-4936-9a96-2f38f5e34e73",
   "metadata": {},
   "outputs": [],
   "source": [
    "hgg['Color_Ring'].project('PT').to_numpy()[1][5]"
   ]
  },
  {
   "cell_type": "code",
   "execution_count": 9,
   "id": "e6e31b81-0349-4a26-b5a7-e99708c63fbd",
   "metadata": {},
   "outputs": [
    {
     "data": {
      "text/plain": [
       "(<Array [37, 53, 181, 184, ..., 994914, 995019, 995025] type='11246 * int64'>,)"
      ]
     },
     "execution_count": 9,
     "metadata": {},
     "output_type": "execute_result"
    }
   ],
   "source": [
    "import awkward as ak\n",
    "ak.where(hgg['color_ring_vals'] == 1)"
   ]
  },
  {
   "cell_type": "code",
   "execution_count": null,
   "id": "a95e66b1-dd16-4d61-b7fb-2cadf7fe632a",
   "metadata": {},
   "outputs": [],
   "source": []
  }
 ],
 "metadata": {
  "kernelspec": {
   "display_name": "Python 3 (ipykernel)",
   "language": "python",
   "name": "python3"
  },
  "language_info": {
   "codemirror_mode": {
    "name": "ipython",
    "version": 3
   },
   "file_extension": ".py",
   "mimetype": "text/x-python",
   "name": "python",
   "nbconvert_exporter": "python",
   "pygments_lexer": "ipython3",
   "version": "3.10.13"
  }
 },
 "nbformat": 4,
 "nbformat_minor": 5
}
