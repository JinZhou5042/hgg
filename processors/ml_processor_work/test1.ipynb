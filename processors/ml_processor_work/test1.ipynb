{
 "cells": [
  {
   "cell_type": "code",
   "execution_count": 1,
   "id": "7ed8e92f-fd54-4804-8172-ecaa4bca456d",
   "metadata": {},
   "outputs": [
    {
     "name": "stderr",
     "output_type": "stream",
     "text": [
      "/tmp/ipykernel_1734044/18261434.py:8: FutureWarning: In version 2024.7.0 (target date: 2024-06-30 11:59:59-05:00), this will be an error.\n",
      "To raise these warnings as errors (and get stack traces to find out where they're called), run\n",
      "    import warnings\n",
      "    warnings.filterwarnings(\"error\", module=\"coffea.*\")\n",
      "after the first `import coffea` or use `@pytest.mark.filterwarnings(\"error:::coffea.*\")` in pytest.\n",
      "Issue: coffea.nanoevents.methods.vector will be removed and replaced with scikit-hep vector. Nanoevents schemas internal to coffea will be migrated. Otherwise please consider using that package!.\n",
      "  import coffea.nanoevents.methods.vector as vector\n"
     ]
    }
   ],
   "source": [
    "from coffea.nanoevents import NanoEventsFactory, BaseSchema, PFNanoAODSchema\n",
    "import json\n",
    "import fastjet\n",
    "import numpy as np\n",
    "import awkward as ak\n",
    "from coffea import processor\n",
    "import hist\n",
    "import coffea.nanoevents.methods.vector as vector\n",
    "import warnings\n",
    "import hist.dask as dhist\n",
    "import dask\n",
    "import pickle\n",
    "from coffea.ml_tools.torch_wrapper import torch_wrapper\n",
    "import pandas as pd"
   ]
  },
  {
   "cell_type": "code",
   "execution_count": 2,
   "id": "815de61d-184a-4a9a-8de6-ba303a52b7d1",
   "metadata": {},
   "outputs": [],
   "source": [
    "warnings.filterwarnings(\"ignore\", \"Found duplicate branch\")\n",
    "warnings.filterwarnings(\"ignore\", \"Missing cross-reference index for\")\n",
    "warnings.filterwarnings(\"ignore\", \"dcut\")\n",
    "warnings.filterwarnings(\"ignore\", \"Please ensure\")\n",
    "warnings.filterwarnings(\"ignore\", \"The necessary\")\n",
    "warnings.filterwarnings(\"ignore\",  module=\"coffea.*\")\n",
    "\n",
    "with open(\"../data_dv4.pkl\", \"rb\") as fr:\n",
    "    datasets = pickle.load(fr)"
   ]
  },
  {
   "cell_type": "code",
   "execution_count": 3,
   "id": "78c55a83-6483-455e-8edd-01d0e26aa8d8",
   "metadata": {
    "scrolled": true
   },
   "outputs": [],
   "source": [
    "temp = {}\n",
    "temp['hgg'] = datasets['hgg']\n",
    "temp['q476'] = datasets['q476']\n",
    "datasets = temp"
   ]
  },
  {
   "cell_type": "code",
   "execution_count": 4,
   "id": "e6a681df-806d-48cd-8ba0-75b17682ea74",
   "metadata": {},
   "outputs": [],
   "source": [
    "source = \"/project01/ndcms/cmoore24\"\n",
    "events = {}\n",
    "for name, info in datasets.items():\n",
    "    events[name] = NanoEventsFactory.from_root(\n",
    "        {f\"{source}/{info['path']}/{fn}\": \"/Events\" for fn in info[\"files\"]},\n",
    "        schemaclass=PFNanoAODSchema,\n",
    "        # uproot_options={\"chunks_per_file\":1},\n",
    "        metadata={\"dataset\": info[\"label\"]},\n",
    "    ).events()"
   ]
  },
  {
   "cell_type": "code",
   "execution_count": 5,
   "id": "f814b22f-5e2a-4257-af34-79793df8b8ef",
   "metadata": {},
   "outputs": [],
   "source": [
    "hgg = ak.from_parquet('/scratch365/cmoore24/training/data/hgg.parquet')\n",
    "hbb = ak.from_parquet('/scratch365/cmoore24/training/data/hbb.parquet')\n",
    "\n",
    "pick = hgg\n",
    "title = 'hgg'\n",
    "#pick = hbb\n",
    "#title = 'hbb'\n",
    "\n",
    "pick = pick[pick['FatJets.msoftdrop'] < 140]\n",
    "pick = pick[pick['FatJets.pt'] < 600]\n",
    "pick = pick[pick['FatJets.pt'] > 450]\n",
    "pick['FatJets.mratio'] = pick['FatJets.mass']/pick['FatJets.msoftdrop']"
   ]
  },
  {
   "cell_type": "code",
   "execution_count": 6,
   "id": "bab4e15b-8950-4898-a3e3-6ff8f57bf0f7",
   "metadata": {},
   "outputs": [],
   "source": [
    "background = ak.from_parquet('/scratch365/cmoore24/training/data/qcd.parquet')\n",
    "background = background[background['FatJets.msoftdrop'] < 140]\n",
    "background = background[background['FatJets.pt'] < 600]\n",
    "background = background[background['FatJets.pt'] > 450]\n",
    "background['FatJets.mratio'] = background['FatJets.mass']/background['FatJets.msoftdrop']"
   ]
  },
  {
   "cell_type": "code",
   "execution_count": 7,
   "id": "a2ca6d80-e8cf-403e-a059-3a83c6bc70c1",
   "metadata": {},
   "outputs": [
    {
     "name": "stderr",
     "output_type": "stream",
     "text": [
      "/afs/crc.nd.edu/user/c/cmoore24/miniconda3/envs/coffea2024/lib/python3.10/site-packages/sklearn/base.py:376: InconsistentVersionWarning: Trying to unpickle estimator StandardScaler from version 1.2.0 when using version 1.4.1.post1. This might lead to breaking code or invalid results. Use at your own risk. For more info please refer to:\n",
      "https://scikit-learn.org/stable/model_persistence.html#security-maintainability-limitations\n",
      "  warnings.warn(\n"
     ]
    }
   ],
   "source": [
    "with open('scaler.pkl', 'rb') as f:\n",
    "    scaler = pickle.load(f)"
   ]
  },
  {
   "cell_type": "code",
   "execution_count": 8,
   "id": "968b09e8-b758-48f5-b8e8-8eb2fb6cb7a0",
   "metadata": {},
   "outputs": [],
   "source": [
    "bkg_msd = background['FatJets.msoftdrop']"
   ]
  },
  {
   "cell_type": "code",
   "execution_count": 13,
   "id": "b1102327-04ec-4aab-84ec-1c19a18917a3",
   "metadata": {},
   "outputs": [],
   "source": [
    "class ParticleNetExample1(torch_wrapper):\n",
    "    def prepare_awkward(self, events, scaler):\n",
    "        fatjets = events\n",
    "\n",
    "        imap = {\n",
    "            'vars': {\n",
    "                'n2b1': fatjets['FatJets.n2b1'],\n",
    "                'n3b1': fatjets['FatJets.n3b1'],\n",
    "                'nConstituents': fatjets['FatJets.nConstituents'],\n",
    "                'color_ring': fatjets['FatJets.color_ring'],\n",
    "                'd2b1': fatjets['FatJets.d2b1'],\n",
    "                'u1': fatjets['FatJets.u1'],\n",
    "                'u2': fatjets['FatJets.u2'],\n",
    "                'u3': fatjets['FatJets.u3'],\n",
    "                'm2': fatjets['FatJets.m2'],\n",
    "                'm3': fatjets['FatJets.m3'],\n",
    "                'n4': fatjets['FatJets.n4'],\n",
    "                #'mratio': fatjets['FatJets.mratio'],\n",
    "            },\n",
    "        }\n",
    "\n",
    "        retmap = {\n",
    "            k: ak.concatenate([x[:, np.newaxis] for x in imap[k].values()], axis=1)\n",
    "            for k in imap.keys()\n",
    "        }\n",
    "        x = ak.values_astype(scaler.transform(retmap['vars']), \"float32\")\n",
    "        return (x,), {}"
   ]
  },
  {
   "cell_type": "code",
   "execution_count": 14,
   "id": "be890748-3325-4340-bbb4-2eced2655c72",
   "metadata": {},
   "outputs": [],
   "source": [
    "a = ParticleNetExample1('hgg_traced_model.pt')"
   ]
  },
  {
   "cell_type": "code",
   "execution_count": 15,
   "id": "80312875-ae85-4a80-bb2c-395c5142306d",
   "metadata": {},
   "outputs": [],
   "source": [
    "b = a(background, scaler)[:,0]"
   ]
  },
  {
   "cell_type": "code",
   "execution_count": 16,
   "id": "dc46801d-2fbe-4652-8372-9acad3a7d870",
   "metadata": {},
   "outputs": [
    {
     "data": {
      "text/html": [
       "<pre>[-4.45,\n",
       " -2.54,\n",
       " 4.62,\n",
       " -8.29,\n",
       " -0.441,\n",
       " -13.7,\n",
       " -10.8,\n",
       " -14.1,\n",
       " -13.5,\n",
       " -11.7,\n",
       " ...,\n",
       " -6.75,\n",
       " -9.25,\n",
       " -9.22,\n",
       " -14.8,\n",
       " -24.6,\n",
       " -17.6,\n",
       " -19.1,\n",
       " -5.27,\n",
       " -15.4]\n",
       "----------------------\n",
       "type: 459151 * float32</pre>"
      ],
      "text/plain": [
       "<Array [-4.45, -2.54, 4.62, ..., -19.1, -5.27, -15.4] type='459151 * float32'>"
      ]
     },
     "execution_count": 16,
     "metadata": {},
     "output_type": "execute_result"
    }
   ],
   "source": [
    "b"
   ]
  },
  {
   "cell_type": "code",
   "execution_count": 20,
   "id": "7e6cf2e8-a860-4f28-9870-d4c257f14311",
   "metadata": {},
   "outputs": [],
   "source": [
    "qcd_msd = bkg_msd[b > 0]"
   ]
  },
  {
   "cell_type": "code",
   "execution_count": 21,
   "id": "3c6ff17e-cf2d-4f13-bbdf-908ae13cb02e",
   "metadata": {},
   "outputs": [],
   "source": [
    "import matplotlib.pyplot as plt"
   ]
  },
  {
   "cell_type": "code",
   "execution_count": 23,
   "id": "8c3d1c9a-4187-46b5-a873-6d36e69c84e3",
   "metadata": {},
   "outputs": [
    {
     "data": {
      "image/png": "[encoded data removed]",
      "text/plain": [
       "<Figure size 640x480 with 1 Axes>"
      ]
     },
     "metadata": {},
     "output_type": "display_data"
    }
   ],
   "source": [
    "fig, ax = plt.subplots()\n",
    "plt.hist(qcd_msd, range=(90,140), bins=30, density=True, histtype='step', label='Cut QCD')\n",
    "plt.hist(bkg_msd, range=(90,140), bins=30, density=True, histtype='step', label='QCD')\n",
    "plt.show()"
   ]
  },
  {
   "cell_type": "code",
   "execution_count": null,
   "id": "c2403b52-5ef2-42a6-8284-221c9128ec2a",
   "metadata": {},
   "outputs": [],
   "source": []
  },
  {
   "cell_type": "code",
   "execution_count": null,
   "id": "6707f58f-378d-4c23-abd8-e1b3a2350cb4",
   "metadata": {},
   "outputs": [],
   "source": []
  }
 ],
 "metadata": {
  "kernelspec": {
   "display_name": "Python 3 (ipykernel)",
   "language": "python",
   "name": "python3"
  },
  "language_info": {
   "codemirror_mode": {
    "name": "ipython",
    "version": 3
   },
   "file_extension": ".py",
   "mimetype": "text/x-python",
   "name": "python",
   "nbconvert_exporter": "python",
   "pygments_lexer": "ipython3",
   "version": "3.10.13"
  }
 },
 "nbformat": 4,
 "nbformat_minor": 5
}
