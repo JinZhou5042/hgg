{
 "cells": [
  {
   "cell_type": "code",
   "execution_count": 1,
   "id": "7ed8e92f-fd54-4804-8172-ecaa4bca456d",
   "metadata": {},
   "outputs": [
    {
     "name": "stderr",
     "output_type": "stream",
     "text": [
      "/tmp/ipykernel_292810/18261434.py:8: FutureWarning: In version 2024.7.0 (target date: 2024-06-30 11:59:59-05:00), this will be an error.\n",
      "To raise these warnings as errors (and get stack traces to find out where they're called), run\n",
      "    import warnings\n",
      "    warnings.filterwarnings(\"error\", module=\"coffea.*\")\n",
      "after the first `import coffea` or use `@pytest.mark.filterwarnings(\"error:::coffea.*\")` in pytest.\n",
      "Issue: coffea.nanoevents.methods.vector will be removed and replaced with scikit-hep vector. Nanoevents schemas internal to coffea will be migrated. Otherwise please consider using that package!.\n",
      "  import coffea.nanoevents.methods.vector as vector\n"
     ]
    }
   ],
   "source": [
    "from coffea.nanoevents import NanoEventsFactory, BaseSchema, PFNanoAODSchema\n",
    "import json\n",
    "import fastjet\n",
    "import numpy as np\n",
    "import awkward as ak\n",
    "from coffea import processor\n",
    "import hist\n",
    "import coffea.nanoevents.methods.vector as vector\n",
    "import warnings\n",
    "import hist.dask as dhist\n",
    "import dask\n",
    "import pickle\n",
    "from coffea.ml_tools.torch_wrapper import torch_wrapper\n",
    "import pandas as pd"
   ]
  },
  {
   "cell_type": "code",
   "execution_count": 2,
   "id": "815de61d-184a-4a9a-8de6-ba303a52b7d1",
   "metadata": {},
   "outputs": [],
   "source": [
    "warnings.filterwarnings(\"ignore\", \"Found duplicate branch\")\n",
    "warnings.filterwarnings(\"ignore\", \"Missing cross-reference index for\")\n",
    "warnings.filterwarnings(\"ignore\", \"dcut\")\n",
    "warnings.filterwarnings(\"ignore\", \"Please ensure\")\n",
    "warnings.filterwarnings(\"ignore\", \"The necessary\")\n",
    "warnings.filterwarnings(\"ignore\",  module=\"coffea.*\")\n",
    "\n",
    "with open(\"../data_dv4.pkl\", \"rb\") as fr:\n",
    "    datasets = pickle.load(fr)"
   ]
  },
  {
   "cell_type": "code",
   "execution_count": 3,
   "id": "78c55a83-6483-455e-8edd-01d0e26aa8d8",
   "metadata": {
    "scrolled": true
   },
   "outputs": [],
   "source": [
    "temp = {}\n",
    "temp['hbb'] = datasets['hbb']\n",
    "temp['q476'] = datasets['q476']\n",
    "datasets = temp"
   ]
  },
  {
   "cell_type": "code",
   "execution_count": 4,
   "id": "63ca1b42-2c2c-44dd-b0f4-447aca713815",
   "metadata": {},
   "outputs": [],
   "source": [
    "datasets['hbb']['path'] = 'hbb'"
   ]
  },
  {
   "cell_type": "code",
   "execution_count": 32,
   "id": "e6a681df-806d-48cd-8ba0-75b17682ea74",
   "metadata": {},
   "outputs": [],
   "source": [
    "source = \"/project01/ndcms/cmoore24/samples\"\n",
    "events = {}\n",
    "for name, info in datasets.items():\n",
    "    events[name] = NanoEventsFactory.from_root(\n",
    "        {f\"{source}/{info['path']}/{fn}\": \"/Events\" for fn in info[\"files\"]},\n",
    "        schemaclass=PFNanoAODSchema,\n",
    "        # uproot_options={\"chunks_per_file\":1},\n",
    "        metadata={\"dataset\": info[\"label\"]},\n",
    "    ).events()"
   ]
  },
  {
   "cell_type": "code",
   "execution_count": 5,
   "id": "f814b22f-5e2a-4257-af34-79793df8b8ef",
   "metadata": {},
   "outputs": [],
   "source": [
    "hgg = ak.from_parquet('/scratch365/cmoore24/training/data/hgg.parquet')\n",
    "hbb = ak.from_parquet('/scratch365/cmoore24/training/data/hbb.parquet')\n",
    "\n",
    "pick = hgg\n",
    "title = 'hgg'\n",
    "#pick = hbb\n",
    "#title = 'hbb'\n",
    "\n",
    "pick = pick[pick['FatJets.msoftdrop'] < 140]\n",
    "pick = pick[pick['FatJets.pt'] < 600]\n",
    "pick = pick[pick['FatJets.pt'] > 450]\n",
    "pick['FatJets.mratio'] = pick['FatJets.mass']/pick['FatJets.msoftdrop']"
   ]
  },
  {
   "cell_type": "code",
   "execution_count": 6,
   "id": "bab4e15b-8950-4898-a3e3-6ff8f57bf0f7",
   "metadata": {},
   "outputs": [],
   "source": [
    "background = ak.from_parquet('/scratch365/cmoore24/training/data/qcd.parquet')\n",
    "background = background[background['FatJets.msoftdrop'] < 140]\n",
    "background = background[background['FatJets.pt'] < 600]\n",
    "background = background[background['FatJets.pt'] > 450]\n",
    "background['FatJets.mratio'] = background['FatJets.mass']/background['FatJets.msoftdrop']"
   ]
  },
  {
   "cell_type": "code",
   "execution_count": 7,
   "id": "a2ca6d80-e8cf-403e-a059-3a83c6bc70c1",
   "metadata": {},
   "outputs": [
    {
     "name": "stderr",
     "output_type": "stream",
     "text": [
      "/afs/crc.nd.edu/user/c/cmoore24/miniconda3/envs/coffea2024/lib/python3.10/site-packages/sklearn/base.py:376: InconsistentVersionWarning: Trying to unpickle estimator StandardScaler from version 1.2.0 when using version 1.4.1.post1. This might lead to breaking code or invalid results. Use at your own risk. For more info please refer to:\n",
      "https://scikit-learn.org/stable/model_persistence.html#security-maintainability-limitations\n",
      "  warnings.warn(\n"
     ]
    }
   ],
   "source": [
    "with open('scaler.pkl', 'rb') as f:\n",
    "    scaler = pickle.load(f)"
   ]
  },
  {
   "cell_type": "code",
   "execution_count": 8,
   "id": "968b09e8-b758-48f5-b8e8-8eb2fb6cb7a0",
   "metadata": {},
   "outputs": [],
   "source": [
    "bkg_msd = background['FatJets.msoftdrop']"
   ]
  },
  {
   "cell_type": "code",
   "execution_count": 9,
   "id": "b1102327-04ec-4aab-84ec-1c19a18917a3",
   "metadata": {},
   "outputs": [],
   "source": [
    "class ParticleNetExample1(torch_wrapper):\n",
    "    def prepare_awkward(self, events, scaler):\n",
    "        fatjets = events\n",
    "\n",
    "        imap = {\n",
    "            'vars': {\n",
    "                'n2b1': fatjets['FatJets.n2b1'],\n",
    "                'n3b1': fatjets['FatJets.n3b1'],\n",
    "                'nConstituents': fatjets['FatJets.nConstituents'],\n",
    "                'color_ring': fatjets['FatJets.color_ring'],\n",
    "                'd2b1': fatjets['FatJets.d2b1'],\n",
    "                'u1': fatjets['FatJets.u1'],\n",
    "                'u2': fatjets['FatJets.u2'],\n",
    "                'u3': fatjets['FatJets.u3'],\n",
    "                'm2': fatjets['FatJets.m2'],\n",
    "                'm3': fatjets['FatJets.m3'],\n",
    "                'n4': fatjets['FatJets.n4'],\n",
    "                #'mratio': fatjets['FatJets.mratio'],\n",
    "            },\n",
    "        }\n",
    "\n",
    "        retmap = {\n",
    "            k: ak.concatenate([x[:, np.newaxis] for x in imap[k].values()], axis=1)\n",
    "            for k in imap.keys()\n",
    "        }\n",
    "        x = ak.values_astype(scaler.transform(retmap['vars']), \"float32\")\n",
    "        return (x,), {}"
   ]
  },
  {
   "cell_type": "code",
   "execution_count": 10,
   "id": "be890748-3325-4340-bbb4-2eced2655c72",
   "metadata": {},
   "outputs": [],
   "source": [
    "a = ParticleNetExample1('hgg_traced_model.pt')"
   ]
  },
  {
   "cell_type": "code",
   "execution_count": 11,
   "id": "80312875-ae85-4a80-bb2c-395c5142306d",
   "metadata": {},
   "outputs": [],
   "source": [
    "b = a(pick, scaler)[:,0]"
   ]
  },
  {
   "cell_type": "code",
   "execution_count": 12,
   "id": "7e6cf2e8-a860-4f28-9870-d4c257f14311",
   "metadata": {},
   "outputs": [],
   "source": [
    "pick_msd = pick['FatJets.msoftdrop'][b > 0]"
   ]
  },
  {
   "cell_type": "code",
   "execution_count": 13,
   "id": "3c6ff17e-cf2d-4f13-bbdf-908ae13cb02e",
   "metadata": {},
   "outputs": [],
   "source": [
    "import matplotlib.pyplot as plt"
   ]
  },
  {
   "cell_type": "code",
   "execution_count": 16,
   "id": "8c3d1c9a-4187-46b5-a873-6d36e69c84e3",
   "metadata": {},
   "outputs": [
    {
     "data": {
      "image/png": "[encoded data removed]",
      "text/plain": [
       "<Figure size 640x480 with 1 Axes>"
      ]
     },
     "metadata": {},
     "output_type": "display_data"
    }
   ],
   "source": [
    "fig, ax = plt.subplots()\n",
    "plt.hist(pick_msd, range=(90,140), bins=30, density=True, histtype='step', label='Cut Sig')\n",
    "plt.hist(pick['FatJets.msoftdrop'], range=(90,140), bins=30, density=True, histtype='step', label='Sig')\n",
    "plt.legend()\n",
    "plt.show()"
   ]
  },
  {
   "cell_type": "code",
   "execution_count": 36,
   "id": "c2403b52-5ef2-42a6-8284-221c9128ec2a",
   "metadata": {},
   "outputs": [
    {
     "data": {
      "text/plain": [
       "['area',\n",
       " 'btagCSVV2',\n",
       " 'btagDDBvLV2',\n",
       " 'btagDDCvBV2',\n",
       " 'btagDDCvLV2',\n",
       " 'btagDeepB',\n",
       " 'btagHbb',\n",
       " 'deepTagMD_H4qvsQCD',\n",
       " 'deepTagMD_HbbvsQCD',\n",
       " 'deepTagMD_TvsQCD',\n",
       " 'deepTagMD_WvsQCD',\n",
       " 'deepTagMD_ZHbbvsQCD',\n",
       " 'deepTagMD_ZHccvsQCD',\n",
       " 'deepTagMD_ZbbvsQCD',\n",
       " 'deepTagMD_ZvsQCD',\n",
       " 'deepTagMD_bbvsLight',\n",
       " 'deepTagMD_ccvsLight',\n",
       " 'deepTag_H',\n",
       " 'deepTag_QCD',\n",
       " 'deepTag_QCDothers',\n",
       " 'deepTag_TvsQCD',\n",
       " 'deepTag_WvsQCD',\n",
       " 'deepTag_ZvsQCD',\n",
       " 'eta',\n",
       " 'mass',\n",
       " 'msoftdrop',\n",
       " 'n2b1',\n",
       " 'n3b1',\n",
       " 'particleNetMD_QCD',\n",
       " 'particleNetMD_Xbb',\n",
       " 'particleNetMD_Xcc',\n",
       " 'particleNetMD_Xqq',\n",
       " 'particleNet_H4qvsQCD',\n",
       " 'particleNet_HbbvsQCD',\n",
       " 'particleNet_HccvsQCD',\n",
       " 'particleNet_QCD',\n",
       " 'particleNet_TvsQCD',\n",
       " 'particleNet_WvsQCD',\n",
       " 'particleNet_ZvsQCD',\n",
       " 'particleNet_mass',\n",
       " 'phi',\n",
       " 'pt',\n",
       " 'rawFactor',\n",
       " 'tau1',\n",
       " 'tau2',\n",
       " 'tau3',\n",
       " 'tau4',\n",
       " 'lsf3',\n",
       " 'jetId',\n",
       " 'subJetIdx1',\n",
       " 'subJetIdx2',\n",
       " 'electronIdx3SJ',\n",
       " 'muonIdx3SJ',\n",
       " 'nConstituents',\n",
       " 'DDX_tau1_flightDistance2dSig',\n",
       " 'DDX_tau1_trackEtaRel_0',\n",
       " 'DDX_tau1_trackEtaRel_1',\n",
       " 'DDX_tau1_trackEtaRel_2',\n",
       " 'DDX_tau1_trackSip3dSig_0',\n",
       " 'DDX_tau1_trackSip3dSig_1',\n",
       " 'DDX_tau1_vertexDeltaR',\n",
       " 'DDX_tau1_vertexEnergyRatio',\n",
       " 'DDX_tau1_vertexMass',\n",
       " 'DDX_tau2_flightDistance2dSig',\n",
       " 'DDX_tau2_trackEtaRel_0',\n",
       " 'DDX_tau2_trackEtaRel_1',\n",
       " 'DDX_tau2_trackEtaRel_3',\n",
       " 'DDX_tau2_trackSip3dSig_0',\n",
       " 'DDX_tau2_trackSip3dSig_1',\n",
       " 'DDX_tau2_vertexEnergyRatio',\n",
       " 'DDX_tau2_vertexMass',\n",
       " 'DDX_trackSip2dSigAboveBottom_0',\n",
       " 'DDX_trackSip2dSigAboveBottom_1',\n",
       " 'DDX_trackSip2dSigAboveCharm',\n",
       " 'DDX_trackSip3dSig_0',\n",
       " 'DDX_trackSip3dSig_1',\n",
       " 'DDX_trackSip3dSig_2',\n",
       " 'DDX_trackSip3dSig_3',\n",
       " 'DDX_z_ratio',\n",
       " 'Proba',\n",
       " 'btagDeepB_b',\n",
       " 'btagDeepB_bb',\n",
       " 'btagDeepL',\n",
       " 'DDX_jetNSecondaryVertices',\n",
       " 'DDX_jetNTracks',\n",
       " 'nBHadrons',\n",
       " 'nCHadrons',\n",
       " 'genJetAK8Idx',\n",
       " 'hadronFlavour',\n",
       " 'genJetAK8IdxG',\n",
       " 'subJetIdx1G',\n",
       " 'subJetIdx2G',\n",
       " 'electronIdx3SJG',\n",
       " 'muonIdx3SJG',\n",
       " 'subJetIdxG',\n",
       " 'pFCandsIdxG']"
      ]
     },
     "execution_count": 36,
     "metadata": {},
     "output_type": "execute_result"
    }
   ],
   "source": [
    "events['hbb'].FatJet.fields"
   ]
  },
  {
   "cell_type": "code",
   "execution_count": 49,
   "id": "6707f58f-378d-4c23-abd8-e1b3a2350cb4",
   "metadata": {},
   "outputs": [
    {
     "data": {
      "text/html": [
       "<pre>[{&#x27;FatJets.area&#x27;: 1.98, &#x27;FatJets.eta&#x27;: -0.955, &#x27;FatJets.mass&#x27;: 127, ...},\n",
       " {&#x27;FatJets.area&#x27;: 1.96, &#x27;FatJets.eta&#x27;: 0.133, &#x27;FatJets.mass&#x27;: 135, ...},\n",
       " {&#x27;FatJets.area&#x27;: 1.96, &#x27;FatJets.eta&#x27;: 0.285, &#x27;FatJets.mass&#x27;: 134, ...},\n",
       " {&#x27;FatJets.area&#x27;: 2, &#x27;FatJets.eta&#x27;: 0.486, &#x27;FatJets.mass&#x27;: 142, ...},\n",
       " {&#x27;FatJets.area&#x27;: 2.01, &#x27;FatJets.eta&#x27;: -1.16, &#x27;FatJets.mass&#x27;: 145, ...},\n",
       " {&#x27;FatJets.area&#x27;: 2, &#x27;FatJets.eta&#x27;: 0.569, &#x27;FatJets.mass&#x27;: 132, ...},\n",
       " {&#x27;FatJets.area&#x27;: 2.06, &#x27;FatJets.eta&#x27;: -0.054, &#x27;FatJets.mass&#x27;: 134, ...},\n",
       " {&#x27;FatJets.area&#x27;: 2.03, &#x27;FatJets.eta&#x27;: -0.442, &#x27;FatJets.mass&#x27;: 132, ...},\n",
       " {&#x27;FatJets.area&#x27;: 2.04, &#x27;FatJets.eta&#x27;: -1.04, &#x27;FatJets.mass&#x27;: 103, ...},\n",
       " {&#x27;FatJets.area&#x27;: 2.01, &#x27;FatJets.eta&#x27;: 2.25, &#x27;FatJets.mass&#x27;: 135, ...},\n",
       " ...,\n",
       " {&#x27;FatJets.area&#x27;: 2.04, &#x27;FatJets.eta&#x27;: 0.205, &#x27;FatJets.mass&#x27;: 123, ...},\n",
       " {&#x27;FatJets.area&#x27;: 2.01, &#x27;FatJets.eta&#x27;: 2.27, &#x27;FatJets.mass&#x27;: 131, ...},\n",
       " {&#x27;FatJets.area&#x27;: 1.98, &#x27;FatJets.eta&#x27;: -0.139, &#x27;FatJets.mass&#x27;: 144, ...},\n",
       " {&#x27;FatJets.area&#x27;: 2.04, &#x27;FatJets.eta&#x27;: 0.846, &#x27;FatJets.mass&#x27;: 134, ...},\n",
       " {&#x27;FatJets.area&#x27;: 2.04, &#x27;FatJets.eta&#x27;: -0.972, &#x27;FatJets.mass&#x27;: 130, ...},\n",
       " {&#x27;FatJets.area&#x27;: 2, &#x27;FatJets.eta&#x27;: -0.332, &#x27;FatJets.mass&#x27;: 130, ...},\n",
       " {&#x27;FatJets.area&#x27;: 2, &#x27;FatJets.eta&#x27;: 0.605, &#x27;FatJets.mass&#x27;: 139, ...},\n",
       " {&#x27;FatJets.area&#x27;: 2, &#x27;FatJets.eta&#x27;: -1.38, &#x27;FatJets.mass&#x27;: 143, ...},\n",
       " {&#x27;FatJets.area&#x27;: 2.03, &#x27;FatJets.eta&#x27;: -1.51, &#x27;FatJets.mass&#x27;: 119, ...}]\n",
       "-------------------------------------------------------------------------\n",
       "type: 42584 * ?{\n",
       "    &quot;FatJets.area&quot;: ?float64,\n",
       "    &quot;FatJets.eta&quot;: ?float64,\n",
       "    &quot;FatJets.mass&quot;: ?float64,\n",
       "    &quot;FatJets.msoftdrop&quot;: ?float64,\n",
       "    &quot;FatJets.n2b1&quot;: ?float64,\n",
       "    &quot;FatJets.n3b1&quot;: ?float64,\n",
       "    &quot;FatJets.phi&quot;: ?float64,\n",
       "    &quot;FatJets.pt&quot;: ?float64,\n",
       "    &quot;FatJets.nConstituents&quot;: ?int64,\n",
       "    &quot;FatJets.color_ring&quot;: ?float64,\n",
       "    &quot;FatJets.d2b1&quot;: ?float64,\n",
       "    &quot;FatJets.u1&quot;: ?float64,\n",
       "    &quot;FatJets.u2&quot;: ?float64,\n",
       "    &quot;FatJets.u3&quot;: ?float64,\n",
       "    &quot;FatJets.d3&quot;: ?float64,\n",
       "    &quot;FatJets.m2&quot;: ?float64,\n",
       "    &quot;FatJets.m3&quot;: ?float64,\n",
       "    &quot;FatJets.n4&quot;: ?float64,\n",
       "    &quot;FatJets.mratio&quot;: float64\n",
       "}</pre>"
      ],
      "text/plain": [
       "<Array [{'FatJets.area': 1.98, ...}, ...] type='42584 * ?{\"FatJets.area\": ?...'>"
      ]
     },
     "execution_count": 49,
     "metadata": {},
     "output_type": "execute_result"
    }
   ],
   "source": [
    "pick"
   ]
  },
  {
   "cell_type": "code",
   "execution_count": null,
   "id": "7b623b23-c34e-4985-b99f-5274f3e906b1",
   "metadata": {},
   "outputs": [],
   "source": []
  }
 ],
 "metadata": {
  "kernelspec": {
   "display_name": "Python 3 (ipykernel)",
   "language": "python",
   "name": "python3"
  },
  "language_info": {
   "codemirror_mode": {
    "name": "ipython",
    "version": 3
   },
   "file_extension": ".py",
   "mimetype": "text/x-python",
   "name": "python",
   "nbconvert_exporter": "python",
   "pygments_lexer": "ipython3",
   "version": "3.10.13"
  }
 },
 "nbformat": 4,
 "nbformat_minor": 5
}
