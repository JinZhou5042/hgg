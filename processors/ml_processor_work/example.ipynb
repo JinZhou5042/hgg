{
 "cells": [
  {
   "cell_type": "code",
   "execution_count": 23,
   "id": "ccca9420-1346-41f1-8c7e-38e441b998c5",
   "metadata": {},
   "outputs": [],
   "source": [
    "from coffea.nanoevents import NanoEventsFactory\n",
    "from coffea.nanoevents.schemas import PFNanoAODSchema\n",
    "import dask\n",
    "\n",
    "def open_events():\n",
    "    factory = NanoEventsFactory.from_root(\n",
    "        {\"file:./pfnano.root\": \"Events\"},\n",
    "        schemaclass=PFNanoAODSchema,\n",
    "    )\n",
    "    return factory.events()"
   ]
  },
  {
   "cell_type": "code",
   "execution_count": 44,
   "id": "86c63738-3516-4237-bb60-e8d1521cc8e9",
   "metadata": {},
   "outputs": [
    {
     "data": {
      "text/plain": [
       "dask.awkward<from-uproot, npartitions=1>"
      ]
     },
     "execution_count": 44,
     "metadata": {},
     "output_type": "execute_result"
    }
   ],
   "source": [
    "open_events()"
   ]
  },
  {
   "cell_type": "code",
   "execution_count": 2,
   "id": "f59fa75c-7107-4289-90e5-b273b29f65ed",
   "metadata": {},
   "outputs": [
    {
     "name": "stderr",
     "output_type": "stream",
     "text": [
      "/afs/crc.nd.edu/user/c/cmoore24/miniconda3/envs/coffea2024/lib/python3.10/site-packages/coffea/nanoevents/methods/candidate.py:11: FutureWarning: In version 2024.7.0 (target date: 2024-06-30 11:59:59-05:00), this will be an error.\n",
      "To raise these warnings as errors (and get stack traces to find out where they're called), run\n",
      "    import warnings\n",
      "    warnings.filterwarnings(\"error\", module=\"coffea.*\")\n",
      "after the first `import coffea` or use `@pytest.mark.filterwarnings(\"error:::coffea.*\")` in pytest.\n",
      "Issue: coffea.nanoevents.methods.vector will be removed and replaced with scikit-hep vector. Nanoevents schemas internal to coffea will be migrated. Otherwise please consider using that package!.\n",
      "  from coffea.nanoevents.methods import vector\n",
      "/afs/crc.nd.edu/user/c/cmoore24/miniconda3/envs/coffea2024/lib/python3.10/site-packages/coffea/ml_tools/helper.py:175: UserWarning: No format checks were performed on input!\n",
      "  warnings.warn(\"No format checks were performed on input!\")\n"
     ]
    },
    {
     "name": "stdout",
     "output_type": "stream",
     "text": [
      "Dask awkward results: [[0.0693, -0.0448], [0.0678, -0.0451], ..., [0.0616, ...], [0.0587, -0.0172]]\n"
     ]
    },
    {
     "name": "stderr",
     "output_type": "stream",
     "text": [
      "/afs/crc.nd.edu/user/c/cmoore24/miniconda3/envs/coffea2024/lib/python3.10/site-packages/coffea/ml_tools/helper.py:175: UserWarning: No format checks were performed on input!\n",
      "  warnings.warn(\"No format checks were performed on input!\")\n"
     ]
    }
   ],
   "source": [
    "from coffea.ml_tools.torch_wrapper import torch_wrapper\n",
    "import awkward as ak\n",
    "import dask_awkward\n",
    "import numpy as np\n",
    "\n",
    "class ParticleNetExample1(torch_wrapper):\n",
    "    def prepare_awkward(self, events):\n",
    "        jets = ak.flatten(events.Jet)\n",
    "\n",
    "        def pad(arr):\n",
    "            return ak.fill_none(\n",
    "                ak.pad_none(arr, 100, axis=1, clip=True),\n",
    "                0.0,\n",
    "            )\n",
    "\n",
    "        # Human readable version of what the inputs are\n",
    "        # Each array is a N jets x 100 constituent array\n",
    "        imap = {\n",
    "            \"points\": {\n",
    "                \"deta\": pad(jets.eta - jets.constituents.pf.eta),\n",
    "                \"dphi\": pad(jets.delta_phi(jets.constituents.pf)),\n",
    "            },\n",
    "            \"features\": {\n",
    "                \"dr\": pad(jets.delta_r(jets.constituents.pf)),\n",
    "                \"lpt\": pad(np.log(jets.constituents.pf.pt)),\n",
    "                \"lptf\": pad(np.log(jets.constituents.pf.pt / jets.pt)),\n",
    "                \"f1\": pad(np.log(np.abs(jets.constituents.pf.d0) + 1)),\n",
    "                \"f2\": pad(np.log(np.abs(jets.constituents.pf.dz) + 1)),\n",
    "            },\n",
    "            \"mask\": {\n",
    "                \"mask\": pad(ak.ones_like(jets.constituents.pf.pt)),\n",
    "            },\n",
    "        }\n",
    "\n",
    "        # Compacting the array elements into the desired dimension using\n",
    "        # ak.concatenate\n",
    "        retmap = {\n",
    "            k: ak.concatenate([x[:, np.newaxis, :] for x in imap[k].values()], axis=1)\n",
    "            for k in imap.keys()\n",
    "        }\n",
    "\n",
    "        # Returning everything using a dictionary. Also perform type conversion!\n",
    "        # model(*a, **b)\n",
    "        # return a, b\n",
    "        return (), {\n",
    "            \"points\": ak.values_astype(retmap[\"points\"], \"float32\"),\n",
    "            \"features\": ak.values_astype(retmap[\"features\"], \"float32\"),\n",
    "            \"mask\": ak.values_astype(retmap[\"mask\"], \"float16\"),\n",
    "        }\n",
    "\n",
    "\n",
    "# Setting up the model container\n",
    "pn_example1 = ParticleNetExample1(\"model.pt\")\n",
    "\n",
    "# Running on dask_awkward array\n",
    "dask_events = open_events()\n",
    "dask_results = pn_example1(dask_events)\n",
    "print(\"Dask awkward results:\", dask_results.compute())  # Runs file!"
   ]
  },
  {
   "cell_type": "code",
   "execution_count": 14,
   "id": "07e35912-f20b-417a-8acd-0e81c1218895",
   "metadata": {},
   "outputs": [],
   "source": [
    "jets = ak.flatten(open_events().Jet)"
   ]
  },
  {
   "cell_type": "code",
   "execution_count": 15,
   "id": "743a1b16-8e23-4e33-916b-96df535a327a",
   "metadata": {},
   "outputs": [],
   "source": [
    "def pad(arr):\n",
    "    return ak.fill_none(\n",
    "        ak.pad_none(arr, 100, axis=1, clip=True),\n",
    "        0.0,\n",
    "    )"
   ]
  },
  {
   "cell_type": "code",
   "execution_count": 16,
   "id": "3f8d633d-a42c-4647-87da-815e8eb00c40",
   "metadata": {},
   "outputs": [],
   "source": [
    "imap = {\n",
    "    \"points\": {\n",
    "        \"deta\": pad(jets.eta - jets.constituents.pf.eta),\n",
    "        \"dphi\": pad(jets.delta_phi(jets.constituents.pf)),\n",
    "    },\n",
    "    \"features\": {\n",
    "        \"dr\": pad(jets.delta_r(jets.constituents.pf)),\n",
    "        \"lpt\": pad(np.log(jets.constituents.pf.pt)),\n",
    "        \"lptf\": pad(np.log(jets.constituents.pf.pt / jets.pt)),\n",
    "        \"f1\": pad(np.log(np.abs(jets.constituents.pf.d0) + 1)),\n",
    "        \"f2\": pad(np.log(np.abs(jets.constituents.pf.dz) + 1)),\n",
    "    },\n",
    "    \"mask\": {\n",
    "        \"mask\": pad(ak.ones_like(jets.constituents.pf.pt)),\n",
    "    },\n",
    "}"
   ]
  },
  {
   "cell_type": "code",
   "execution_count": 19,
   "id": "7fb90e5d-9d21-46f3-884c-d1a472d83926",
   "metadata": {},
   "outputs": [],
   "source": [
    "retmap = {\n",
    "    k: ak.concatenate([x[:, np.newaxis, :] for x in imap[k].values()], axis=1)\n",
    "    for k in imap.keys()\n",
    "}"
   ]
  },
  {
   "cell_type": "code",
   "execution_count": 28,
   "id": "3c224b99-5013-4d90-b456-9f44f0d707f7",
   "metadata": {},
   "outputs": [],
   "source": [
    "comp_ret = dask.compute(retmap)[0]\n",
    "comp_im = dask.compute(imap)[0]"
   ]
  },
  {
   "cell_type": "code",
   "execution_count": 35,
   "id": "a1ed3d8b-a991-4ca0-9eb0-3a244db449a4",
   "metadata": {},
   "outputs": [
    {
     "data": {
      "text/plain": [
       "{'points': dask.awkward<concatenate, npartitions=1>,\n",
       " 'features': dask.awkward<concatenate, npartitions=1>,\n",
       " 'mask': dask.awkward<concatenate, npartitions=1>}"
      ]
     },
     "execution_count": 35,
     "metadata": {},
     "output_type": "execute_result"
    }
   ],
   "source": [
    "retmap"
   ]
  },
  {
   "cell_type": "code",
   "execution_count": 39,
   "id": "e5543708-6ac7-48aa-b3de-c3f63757d39f",
   "metadata": {},
   "outputs": [
    {
     "data": {
      "text/plain": [
       "dict_values([dask.awkward<fill-none, npartitions=1>, dask.awkward<fill-none, npartitions=1>])"
      ]
     },
     "execution_count": 39,
     "metadata": {},
     "output_type": "execute_result"
    }
   ],
   "source": [
    "imap['points'].values()"
   ]
  },
  {
   "cell_type": "code",
   "execution_count": 41,
   "id": "3b295c40-24a8-40a2-b3b5-fa48b37be357",
   "metadata": {},
   "outputs": [
    {
     "data": {
      "text/html": [
       "<pre>[[[0.141, 0.00781, -0.0225, -0.0618, -0.0734, 0.101, ..., 0, 0, 0, 0, 0], ...],\n",
       " [[-0.28, 0.122, 0.134, 0.0627, -0.0366, -0.208, ..., 0, 0, 0, 0, 0, 0], ...],\n",
       " [[0.0427, -0.229, -0.0663, -0.0469, -0.0444, ..., 0, 0, 0, 0, 0], [...]],\n",
       " [[-0.317, 0.261, -0.192, -0.178, -0.142, -0.0852, ..., 0, 0, 0, 0, 0, 0], ...],\n",
       " [[-0.31, -0.311, -0.0635, -0.0415, -0.0166, 0.043, ..., 0, 0, 0, 0, 0], ...],\n",
       " [[-0.213, -0.206, -0.0532, -0.0156, 0.0527, 0.0829, ..., 0, 0, 0, 0, 0], ...],\n",
       " [[-0.327, -0.22, -0.105, 0.0551, 0.112, 0.151, ..., 0, 0, 0, 0, 0, 0], ...],\n",
       " [[0.00342, 0.348, -0.324, -0.0996, 0.488, -0.295, ..., 0, 0, 0, 0, 0, 0], ...],\n",
       " [[0.367, 0.339, 0.0457, 0.13, -0.0254, -0.00488, ..., 0, 0, 0, 0, 0, 0], ...],\n",
       " [[-0.00378, 0.0208, -0.0243, -0.079, -0.0069, ..., 0, 0, 0, 0, 0], [...]],\n",
       " ...,\n",
       " [[-0.13, -0.0047, -0.341, -0.296, -0.164, -0.138, ..., 0, 0, 0, 0, 0, 0], ...],\n",
       " [[0.362, -0.137, -0.022, -0.136, -0.104, -0.0911, ..., 0, 0, 0, 0, 0, 0], ...],\n",
       " [[0.015, 0.0401, -0.0209, -0.0601, -0.0438, 0.0348, ..., 0, 0, 0, 0, 0], ...],\n",
       " [[-0.0323, 0.195, -0.00891, 0.132, -0.0388, -0.113, ..., 0, 0, 0, 0, 0], ...],\n",
       " [[-0.177, 0.103, -0.141, -0.231, -0.0657, 0.0559, ..., 0, 0, 0, 0, 0, 0], ...],\n",
       " [[-0.245, 0.00684, -0.0244, 0.166, 0.00537, 0.254, ..., 0, 0, 0, 0, 0], ...],\n",
       " [[-0.0269, 0.00148, 0.0194, 0.107, 0.364, 0, 0, ..., 0, 0, 0, 0, 0, 0], ...],\n",
       " [[-0.276, -0.254, -0.254, -0.102, -0.0796, -0.0796, ..., 0, 0, 0, 0, 0], ...],\n",
       " [[0.0625, 0.141, 0.143, 0.0908, -0.144, 0.316, ..., 0, 0, 0, 0, 0, 0], ...]]\n",
       "--------------------------------------------------------------------------------\n",
       "type: 64 * 2 * 100 * float32</pre>"
      ],
      "text/plain": [
       "<Array [[[0.141, 0.00781, ..., 0, 0], ...], ...] type='64 * 2 * 100 * float32'>"
      ]
     },
     "execution_count": 41,
     "metadata": {},
     "output_type": "execute_result"
    }
   ],
   "source": [
    "ak.values_astype(retmap[\"points\"], \"float32\").compute()"
   ]
  },
  {
   "cell_type": "code",
   "execution_count": 43,
   "id": "261271a9-f153-4af7-86a2-c7948f178675",
   "metadata": {},
   "outputs": [
    {
     "data": {
      "text/html": [
       "<pre>[[[0.141, 0.00781, -0.0225, -0.0618, -0.0734, 0.101, ..., 0, 0, 0, 0, 0], ...],\n",
       " [[-0.28, 0.122, 0.134, 0.0627, -0.0366, -0.208, ..., 0, 0, 0, 0, 0, 0], ...],\n",
       " [[0.0427, -0.229, -0.0663, -0.0469, -0.0444, ..., 0, 0, 0, 0, 0], [...]],\n",
       " [[-0.317, 0.261, -0.192, -0.178, -0.142, -0.0852, ..., 0, 0, 0, 0, 0, 0], ...],\n",
       " [[-0.31, -0.311, -0.0635, -0.0415, -0.0166, 0.043, ..., 0, 0, 0, 0, 0], ...],\n",
       " [[-0.213, -0.206, -0.0532, -0.0156, 0.0527, 0.0829, ..., 0, 0, 0, 0, 0], ...],\n",
       " [[-0.327, -0.22, -0.105, 0.0551, 0.112, 0.151, ..., 0, 0, 0, 0, 0, 0], ...],\n",
       " [[0.00342, 0.348, -0.324, -0.0996, 0.488, -0.295, ..., 0, 0, 0, 0, 0, 0], ...],\n",
       " [[0.367, 0.339, 0.0457, 0.13, -0.0254, -0.00488, ..., 0, 0, 0, 0, 0, 0], ...],\n",
       " [[-0.00378, 0.0208, -0.0243, -0.079, -0.0069, ..., 0, 0, 0, 0, 0], [...]],\n",
       " ...,\n",
       " [[-0.13, -0.0047, -0.341, -0.296, -0.164, -0.138, ..., 0, 0, 0, 0, 0, 0], ...],\n",
       " [[0.362, -0.137, -0.022, -0.136, -0.104, -0.0911, ..., 0, 0, 0, 0, 0, 0], ...],\n",
       " [[0.015, 0.0401, -0.0209, -0.0601, -0.0438, 0.0348, ..., 0, 0, 0, 0, 0], ...],\n",
       " [[-0.0323, 0.195, -0.00891, 0.132, -0.0388, -0.113, ..., 0, 0, 0, 0, 0], ...],\n",
       " [[-0.177, 0.103, -0.141, -0.231, -0.0657, 0.0559, ..., 0, 0, 0, 0, 0, 0], ...],\n",
       " [[-0.245, 0.00684, -0.0244, 0.166, 0.00537, 0.254, ..., 0, 0, 0, 0, 0], ...],\n",
       " [[-0.0269, 0.00148, 0.0194, 0.107, 0.364, 0, 0, ..., 0, 0, 0, 0, 0, 0], ...],\n",
       " [[-0.276, -0.254, -0.254, -0.102, -0.0796, -0.0796, ..., 0, 0, 0, 0, 0], ...],\n",
       " [[0.0625, 0.141, 0.143, 0.0908, -0.144, 0.316, ..., 0, 0, 0, 0, 0, 0], ...]]\n",
       "--------------------------------------------------------------------------------\n",
       "type: 64 * 2 * 100 * float64</pre>"
      ],
      "text/plain": [
       "<Array [[[0.141, 0.00781, ..., 0, 0], ...], ...] type='64 * 2 * 100 * float64'>"
      ]
     },
     "execution_count": 43,
     "metadata": {},
     "output_type": "execute_result"
    }
   ],
   "source": [
    "retmap['points'].compute()"
   ]
  },
  {
   "cell_type": "code",
   "execution_count": 3,
   "id": "afabab0e-d4ea-465f-b6ee-a26d941bc0eb",
   "metadata": {},
   "outputs": [
    {
     "data": {
      "text/html": [
       "<pre>[[0.0693, -0.0448],\n",
       " [0.0678, -0.0451],\n",
       " [0.0643, -0.0335],\n",
       " [0.0607, -0.0294],\n",
       " [0.0596, -0.0241],\n",
       " [0.0596, -0.0195],\n",
       " [0.0589, -0.0189],\n",
       " [0.0581, -0.0196],\n",
       " [0.0679, -0.0474],\n",
       " [0.0686, -0.0446],\n",
       " ...,\n",
       " [0.0675, -0.0451],\n",
       " [0.0636, -0.0334],\n",
       " [0.063, -0.0291],\n",
       " [0.0615, -0.0307],\n",
       " [0.0609, -0.0229],\n",
       " [0.0599, -0.0214],\n",
       " [0.0627, -0.0199],\n",
       " [0.0616, -0.017],\n",
       " [0.0587, -0.0172]]\n",
       "----------------------\n",
       "type: 64 * 2 * float32</pre>"
      ],
      "text/plain": [
       "<Array [[0.0693, -0.0448], ..., [0.0587, -0.0172]] type='64 * 2 * float32'>"
      ]
     },
     "execution_count": 3,
     "metadata": {},
     "output_type": "execute_result"
    }
   ],
   "source": [
    "pn_example1(dask_events).compute()"
   ]
  },
  {
   "cell_type": "code",
   "execution_count": 4,
   "id": "f7dead3b-9f82-469c-a3e2-2f7bbe1dd988",
   "metadata": {},
   "outputs": [],
   "source": [
    "computed = dask_results.compute()"
   ]
  },
  {
   "cell_type": "code",
   "execution_count": 5,
   "id": "936d5f9c-5b04-4eec-a94d-a0965183f68d",
   "metadata": {},
   "outputs": [
    {
     "data": {
      "text/html": [
       "<pre>[[0.0693, -0.0448],\n",
       " [0.0678, -0.0451],\n",
       " [0.0643, -0.0335],\n",
       " [0.0607, -0.0294],\n",
       " [0.0596, -0.0241],\n",
       " [0.0596, -0.0195],\n",
       " [0.0589, -0.0189],\n",
       " [0.0581, -0.0196],\n",
       " [0.0679, -0.0474],\n",
       " [0.0686, -0.0446],\n",
       " ...,\n",
       " [0.0675, -0.0451],\n",
       " [0.0636, -0.0334],\n",
       " [0.063, -0.0291],\n",
       " [0.0615, -0.0307],\n",
       " [0.0609, -0.0229],\n",
       " [0.0599, -0.0214],\n",
       " [0.0627, -0.0199],\n",
       " [0.0616, -0.017],\n",
       " [0.0587, -0.0172]]\n",
       "----------------------\n",
       "type: 64 * 2 * float32</pre>"
      ],
      "text/plain": [
       "<Array [[0.0693, -0.0448], ..., [0.0587, -0.0172]] type='64 * 2 * float32'>"
      ]
     },
     "execution_count": 5,
     "metadata": {},
     "output_type": "execute_result"
    }
   ],
   "source": [
    "computed"
   ]
  },
  {
   "cell_type": "code",
   "execution_count": 6,
   "id": "1c9ebde9-b7ba-4898-abaa-295fdf020680",
   "metadata": {},
   "outputs": [
    {
     "name": "stderr",
     "output_type": "stream",
     "text": [
      "/afs/crc.nd.edu/user/c/cmoore24/miniconda3/envs/coffea2024/lib/python3.10/site-packages/dask_awkward/lib/structure.py:901: UserWarning: Please ensure that dask.awkward<count, npartitions=1>\n",
      "        is partitionwise-compatible with dask.awkward<divide, npartitions=1>\n",
      "        (e.g. counts comes from a dak.num(array, axis=1)),\n",
      "        otherwise this unflatten operation will fail when computed!\n",
      "  warnings.warn(\n"
     ]
    },
    {
     "name": "stdout",
     "output_type": "stream",
     "text": [
      "[[0.528, 0.528, 0.524, 0.523, 0.521, 0.52, 0.519, 0.519], ..., [0.528, ...]]\n"
     ]
    }
   ],
   "source": [
    "class ParticleNetExample2(ParticleNetExample1):\n",
    "    def postprocess_awkward(self, return_array, events):\n",
    "        softmax = np.exp(return_array)[:, 0] / ak.sum(np.exp(return_array), axis=-1)\n",
    "        njets = ak.count(events.Jet.pt, axis=-1)\n",
    "        return ak.unflatten(softmax, njets)\n",
    "\n",
    "\n",
    "pn_example2 = ParticleNetExample2(\"model.pt\")\n",
    "\n",
    "# Running on dask awkward\n",
    "dask_events = open_events()\n",
    "dask_jets = dask_events.Jet\n",
    "dask_jets[\"MLresults\"] = pn_example2(dask_events)\n",
    "dask_events[\"Jet\"] = dask_jets\n",
    "print(dask_events.Jet.MLresults.compute())"
   ]
  },
  {
   "cell_type": "code",
   "execution_count": 7,
   "id": "0d7af90e-3bf3-4c0a-80ff-cb08dffce033",
   "metadata": {},
   "outputs": [
    {
     "name": "stdout",
     "output_type": "stream",
     "text": [
      "[[0.528, 0.528, 0.524, 0.523, 0.521, 0.52, 0.519, 0.519], ..., [0.528, ...]]\n",
      "{'from-uproot-e8eda6e42b6c187a20c9d695353963b0': frozenset({'nJetPFCands', 'JetPFCands_pFCandsIdx', 'nJet', 'Jet_nConstituents', 'PFCands_phi', 'PFCands_dz', 'PFCands_d0', 'Jet_phi', 'Jet_eta', 'Jet_pt', 'nPFCands', 'PFCands_pt', 'PFCands_eta'})}\n"
     ]
    }
   ],
   "source": [
    "class ParticleNetExample(torch_wrapper):\n",
    "    def prepare_awkward(self, events):\n",
    "        jets = ak.flatten(events.Jet)\n",
    "\n",
    "        def pad(arr):\n",
    "            return ak.fill_none(\n",
    "                ak.pad_none(arr, 100, axis=1, clip=True),\n",
    "                0.0,\n",
    "            )\n",
    "\n",
    "        # Human readable version of what the inputs are\n",
    "        # Each array is a N jets x 100 constituent array\n",
    "        imap = {\n",
    "            \"points\": {\n",
    "                \"deta\": pad(jets.eta - jets.constituents.pf.eta),\n",
    "                \"dphi\": pad(jets.delta_phi(jets.constituents.pf)),\n",
    "            },\n",
    "            \"features\": {\n",
    "                \"dr\": pad(jets.delta_r(jets.constituents.pf)),\n",
    "                \"lpt\": pad(np.log(jets.constituents.pf.pt)),\n",
    "                \"lptf\": pad(np.log(jets.constituents.pf.pt / jets.pt)),\n",
    "                \"f1\": pad(np.log(np.abs(jets.constituents.pf.d0) + 1)),\n",
    "                \"f2\": pad(np.log(np.abs(jets.constituents.pf.dz) + 1)),\n",
    "            },\n",
    "            \"mask\": {\n",
    "                \"mask\": pad(ak.ones_like(jets.constituents.pf.pt)),\n",
    "            },\n",
    "        }\n",
    "\n",
    "        # Compacting the array elements into the desired dimension using\n",
    "        # ak.concatenate\n",
    "        retmap = {\n",
    "            k: ak.concatenate([x[:, np.newaxis, :] for x in imap[k].values()], axis=1)\n",
    "            for k in imap.keys()\n",
    "        }\n",
    "\n",
    "        # Returning everything using a dictionary. Also take care of type\n",
    "        # conversion here.\n",
    "        return (), {\n",
    "            \"points\": ak.values_astype(retmap[\"points\"], \"float32\"),\n",
    "            \"features\": ak.values_astype(retmap[\"features\"], \"float32\"),\n",
    "            \"mask\": ak.values_astype(retmap[\"mask\"], \"float16\"),\n",
    "        }\n",
    "\n",
    "    def postprocess_awkward(self, return_array, events):\n",
    "        softmax = np.exp(return_array)[:, 0] / ak.sum(np.exp(return_array), axis=-1)\n",
    "        njets = ak.count(events.Jet.pt, axis=-1)\n",
    "        return ak.unflatten(softmax, njets)\n",
    "\n",
    "\n",
    "pn_example = ParticleNetExample(\"model.pt\")\n",
    "\n",
    "# Running on dask awkward arrays\n",
    "dask_events = open_events()\n",
    "dask_jets = dask_events.Jet\n",
    "dask_jets[\"MLresults\"] = pn_example(dask_events)\n",
    "dask_events[\"Jet\"] = dask_jets\n",
    "print(dask_events.Jet.MLresults.compute())\n",
    "\n",
    "print(dask_awkward.necessary_columns(dask_events.Jet.MLresults))"
   ]
  },
  {
   "cell_type": "code",
   "execution_count": null,
   "id": "eebd36d1-97e8-45f6-affc-9fb285df5869",
   "metadata": {},
   "outputs": [],
   "source": []
  },
  {
   "cell_type": "code",
   "execution_count": null,
   "id": "d3a252ce-4d57-41d9-b08e-a3621c5e290d",
   "metadata": {},
   "outputs": [],
   "source": []
  }
 ],
 "metadata": {
  "kernelspec": {
   "display_name": "Python 3 (ipykernel)",
   "language": "python",
   "name": "python3"
  },
  "language_info": {
   "codemirror_mode": {
    "name": "ipython",
    "version": 3
   },
   "file_extension": ".py",
   "mimetype": "text/x-python",
   "name": "python",
   "nbconvert_exporter": "python",
   "pygments_lexer": "ipython3",
   "version": "3.10.13"
  }
 },
 "nbformat": 4,
 "nbformat_minor": 5
}
