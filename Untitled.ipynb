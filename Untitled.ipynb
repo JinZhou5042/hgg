{
 "cells": [
  {
   "cell_type": "code",
   "execution_count": 3,
   "id": "db301c4c-cc18-4e37-adc4-b72ef9495d1b",
   "metadata": {},
   "outputs": [
    {
     "name": "stderr",
     "output_type": "stream",
     "text": [
      "/tmp/ipykernel_428143/907239934.py:8: FutureWarning: In version 2024.7.0 (target date: 2024-06-30 11:59:59-05:00), this will be an error.\n",
      "To raise these warnings as errors (and get stack traces to find out where they're called), run\n",
      "    import warnings\n",
      "    warnings.filterwarnings(\"error\", module=\"coffea.*\")\n",
      "after the first `import coffea` or use `@pytest.mark.filterwarnings(\"error:::coffea.*\")` in pytest.\n",
      "Issue: coffea.nanoevents.methods.vector will be removed and replaced with scikit-hep vector. Nanoevents schemas internal to coffea will be migrated. Otherwise please consider using that package!.\n",
      "  import coffea.nanoevents.methods.vector as vector\n"
     ]
    }
   ],
   "source": [
    "from coffea.nanoevents import NanoEventsFactory, BaseSchema, PFNanoAODSchema, NanoAODSchema\n",
    "import json\n",
    "import fastjet\n",
    "import numpy as np\n",
    "import awkward as ak\n",
    "from coffea import processor\n",
    "import hist\n",
    "import coffea.nanoevents.methods.vector as vector\n",
    "import warnings\n",
    "import hist.dask as dhist\n",
    "import dask\n",
    "import pickle\n",
    "import os\n",
    "import dask_awkward as dak\n",
    "from coffea.lookup_tools.lookup_base import lookup_base"
   ]
  },
  {
   "cell_type": "code",
   "execution_count": 9,
   "id": "c584f051-a78f-4922-8c48-32455c293df4",
   "metadata": {},
   "outputs": [
    {
     "name": "stderr",
     "output_type": "stream",
     "text": [
      "/afs/crc.nd.edu/user/c/cmoore24/miniconda3/envs/coffea2024/lib/python3.10/site-packages/coffea/nanoevents/mapping/uproot.py:128: UserWarning: Found duplicate branch FatJetAK15SubJet_nBHadrons in <TTree 'Events' (1975 branches) at 0x7f5572641330>, taking first instance\n",
      "  warnings.warn(\n",
      "/afs/crc.nd.edu/user/c/cmoore24/miniconda3/envs/coffea2024/lib/python3.10/site-packages/coffea/nanoevents/mapping/uproot.py:128: UserWarning: Found duplicate branch FatJetAK15SubJet_nCHadrons in <TTree 'Events' (1975 branches) at 0x7f5572641330>, taking first instance\n",
      "  warnings.warn(\n",
      "/afs/crc.nd.edu/user/c/cmoore24/miniconda3/envs/coffea2024/lib/python3.10/site-packages/coffea/nanoevents/mapping/uproot.py:128: UserWarning: Found duplicate branch FatJetAK15_nBHadrons in <TTree 'Events' (1975 branches) at 0x7f5572641330>, taking first instance\n",
      "  warnings.warn(\n",
      "/afs/crc.nd.edu/user/c/cmoore24/miniconda3/envs/coffea2024/lib/python3.10/site-packages/coffea/nanoevents/mapping/uproot.py:128: UserWarning: Found duplicate branch FatJetAK15_nCHadrons in <TTree 'Events' (1975 branches) at 0x7f5572641330>, taking first instance\n",
      "  warnings.warn(\n",
      "/afs/crc.nd.edu/user/c/cmoore24/miniconda3/envs/coffea2024/lib/python3.10/site-packages/coffea/nanoevents/mapping/uproot.py:128: UserWarning: Found duplicate branch FatJet_btagDDBvLV2 in <TTree 'Events' (1975 branches) at 0x7f5572641330>, taking first instance\n",
      "  warnings.warn(\n",
      "/afs/crc.nd.edu/user/c/cmoore24/miniconda3/envs/coffea2024/lib/python3.10/site-packages/coffea/nanoevents/mapping/uproot.py:128: UserWarning: Found duplicate branch FatJet_btagDDCvBV2 in <TTree 'Events' (1975 branches) at 0x7f5572641330>, taking first instance\n",
      "  warnings.warn(\n",
      "/afs/crc.nd.edu/user/c/cmoore24/miniconda3/envs/coffea2024/lib/python3.10/site-packages/coffea/nanoevents/mapping/uproot.py:128: UserWarning: Found duplicate branch FatJet_btagDDCvLV2 in <TTree 'Events' (1975 branches) at 0x7f5572641330>, taking first instance\n",
      "  warnings.warn(\n",
      "/afs/crc.nd.edu/user/c/cmoore24/miniconda3/envs/coffea2024/lib/python3.10/site-packages/coffea/nanoevents/mapping/uproot.py:128: UserWarning: Found duplicate branch FatJet_nBHadrons in <TTree 'Events' (1975 branches) at 0x7f5572641330>, taking first instance\n",
      "  warnings.warn(\n",
      "/afs/crc.nd.edu/user/c/cmoore24/miniconda3/envs/coffea2024/lib/python3.10/site-packages/coffea/nanoevents/mapping/uproot.py:128: UserWarning: Found duplicate branch FatJet_nCHadrons in <TTree 'Events' (1975 branches) at 0x7f5572641330>, taking first instance\n",
      "  warnings.warn(\n",
      "/afs/crc.nd.edu/user/c/cmoore24/miniconda3/envs/coffea2024/lib/python3.10/site-packages/coffea/nanoevents/mapping/uproot.py:128: UserWarning: Found duplicate branch SubJet_nBHadrons in <TTree 'Events' (1975 branches) at 0x7f5572641330>, taking first instance\n",
      "  warnings.warn(\n",
      "/afs/crc.nd.edu/user/c/cmoore24/miniconda3/envs/coffea2024/lib/python3.10/site-packages/coffea/nanoevents/mapping/uproot.py:128: UserWarning: Found duplicate branch SubJet_nCHadrons in <TTree 'Events' (1975 branches) at 0x7f5572641330>, taking first instance\n",
      "  warnings.warn(\n",
      "/afs/crc.nd.edu/user/c/cmoore24/miniconda3/envs/coffea2024/lib/python3.10/site-packages/coffea/nanoevents/schemas/nanoaod.py:243: RuntimeWarning: Missing cross-reference index for GenFatJetCands_jetIdx => GenJetAK8\n",
      "  warnings.warn(\n",
      "/afs/crc.nd.edu/user/c/cmoore24/miniconda3/envs/coffea2024/lib/python3.10/site-packages/coffea/nanoevents/schemas/nanoaod.py:243: RuntimeWarning: Missing cross-reference index for GenFatJetCands_pFCandsIdx => GenCands\n",
      "  warnings.warn(\n",
      "/afs/crc.nd.edu/user/c/cmoore24/miniconda3/envs/coffea2024/lib/python3.10/site-packages/coffea/nanoevents/schemas/nanoaod.py:243: RuntimeWarning: Missing cross-reference index for GenFatJetSVs_jetIdx => GenJetAK8\n",
      "  warnings.warn(\n",
      "/afs/crc.nd.edu/user/c/cmoore24/miniconda3/envs/coffea2024/lib/python3.10/site-packages/coffea/nanoevents/schemas/nanoaod.py:243: RuntimeWarning: Missing cross-reference index for GenFatJetSVs_sVIdx => SV\n",
      "  warnings.warn(\n",
      "/afs/crc.nd.edu/user/c/cmoore24/miniconda3/envs/coffea2024/lib/python3.10/site-packages/coffea/nanoevents/schemas/nanoaod.py:243: RuntimeWarning: Missing cross-reference index for GenJetCands_jetIdx => GenJet\n",
      "  warnings.warn(\n",
      "/afs/crc.nd.edu/user/c/cmoore24/miniconda3/envs/coffea2024/lib/python3.10/site-packages/coffea/nanoevents/schemas/nanoaod.py:243: RuntimeWarning: Missing cross-reference index for GenJetCands_pFCandsIdx => GenCands\n",
      "  warnings.warn(\n",
      "/afs/crc.nd.edu/user/c/cmoore24/miniconda3/envs/coffea2024/lib/python3.10/site-packages/coffea/nanoevents/schemas/nanoaod.py:243: RuntimeWarning: Missing cross-reference index for GenJetSVs_jetIdx => GenJet\n",
      "  warnings.warn(\n",
      "/afs/crc.nd.edu/user/c/cmoore24/miniconda3/envs/coffea2024/lib/python3.10/site-packages/coffea/nanoevents/schemas/nanoaod.py:243: RuntimeWarning: Missing cross-reference index for GenJetSVs_sVIdx => SV\n",
      "  warnings.warn(\n",
      "/afs/crc.nd.edu/user/c/cmoore24/miniconda3/envs/coffea2024/lib/python3.10/site-packages/coffea/nanoevents/schemas/nanoaod.py:243: RuntimeWarning: Missing cross-reference index for JetPFCands_jetIdx => Jet\n",
      "  warnings.warn(\n",
      "/afs/crc.nd.edu/user/c/cmoore24/miniconda3/envs/coffea2024/lib/python3.10/site-packages/coffea/nanoevents/schemas/nanoaod.py:243: RuntimeWarning: Missing cross-reference index for JetPFCands_pFCandsIdx => PFCands\n",
      "  warnings.warn(\n",
      "/afs/crc.nd.edu/user/c/cmoore24/miniconda3/envs/coffea2024/lib/python3.10/site-packages/coffea/nanoevents/schemas/nanoaod.py:243: RuntimeWarning: Missing cross-reference index for JetSVs_jetIdx => Jet\n",
      "  warnings.warn(\n",
      "/afs/crc.nd.edu/user/c/cmoore24/miniconda3/envs/coffea2024/lib/python3.10/site-packages/coffea/nanoevents/schemas/nanoaod.py:243: RuntimeWarning: Missing cross-reference index for JetSVs_sVIdx => SV\n",
      "  warnings.warn(\n"
     ]
    }
   ],
   "source": [
    "files = os.listdir('/project01/ndcms/cmoore24/samples/wqq/800toInf')\n",
    "\n",
    "wqq = NanoEventsFactory.from_root(\n",
    "    {'/project01/ndcms/cmoore24/samples/wqq/800toInf/' + files[0]: \"/Events\"},\n",
    "    delayed=False,\n",
    "    schemaclass=PFNanoAODSchema,\n",
    "    metadata={\"dataset\": \"hbb\"},\n",
    ").events()"
   ]
  },
  {
   "cell_type": "code",
   "execution_count": 14,
   "id": "027b4db0-4d88-424e-a88d-3c10f6566e5c",
   "metadata": {},
   "outputs": [
    {
     "data": {
      "text/html": [
       "<pre>[[1.11, 1.09, 0.875, 0.757],\n",
       " [1.18, 0.451, 0.805, 2.51],\n",
       " [1.09, 0.75, 0.894, 1.09],\n",
       " [0.811, 0.2, 1.26, 7.32],\n",
       " [1.18, 0.744, 0.805, 1.13],\n",
       " [1.03, 0.887, 0.935, 0.925],\n",
       " [0.914, 0.732, 1.1, 1.12],\n",
       " [1.02, 1.73, 0.95, 0.264],\n",
       " [1.05, 0.822, 0.934, 1.1],\n",
       " [1.09, 1.31, 0.878, 0.421],\n",
       " ...,\n",
       " [0.983, 0.926, 1.01, 0.691],\n",
       " [0.936, 1.8, 1.06, 0.247],\n",
       " [1.3, 0.819, 0.701, 1.09],\n",
       " [0.961, 0.681, 1.03, 0.849],\n",
       " [1.13, 2.31, 0.838, 0.132],\n",
       " [0.918, 1.48, 1.1, 0.315],\n",
       " [0.94, 1.45, 1.07, 0.337],\n",
       " [1.26, 0.731, 0.729, 1.37],\n",
       " [0.855, 0.978, 1.2, 0.727]]\n",
       "-------------------------------------------------------------------------------------------------------------------------------------------------------------------------------------------------------------------------------------------------------\n",
       "type: 27083 * [var * float32[parameters={&quot;__doc__&quot;: &quot;PS weights (w_var / w_nominal);   [0] is ISR=2 FSR=1; [1] is ISR=1 FSR=2[2] is ISR=0.5 FSR=1; [3] is ISR=1 FSR=0.5;&quot;}], parameters={&quot;__array__&quot;: &quot;NanoCollection&quot;, &quot;collection_name&quot;: &quot;PSWeight&quot;}]</pre>"
      ],
      "text/plain": [
       "<Array [[1.11, 1.09, 0.875, 0.757], ..., [...]] type='27083 * [var * float3...'>"
      ]
     },
     "execution_count": 14,
     "metadata": {},
     "output_type": "execute_result"
    }
   ],
   "source": [
    "wqq.PSWeight"
   ]
  },
  {
   "cell_type": "code",
   "execution_count": null,
   "id": "fc6994b0-1dde-4684-9e74-4124fdaab06c",
   "metadata": {},
   "outputs": [],
   "source": []
  }
 ],
 "metadata": {
  "kernelspec": {
   "display_name": "Python 3 (ipykernel)",
   "language": "python",
   "name": "python3"
  },
  "language_info": {
   "codemirror_mode": {
    "name": "ipython",
    "version": 3
   },
   "file_extension": ".py",
   "mimetype": "text/x-python",
   "name": "python",
   "nbconvert_exporter": "python",
   "pygments_lexer": "ipython3",
   "version": "3.10.13"
  }
 },
 "nbformat": 4,
 "nbformat_minor": 5
}
